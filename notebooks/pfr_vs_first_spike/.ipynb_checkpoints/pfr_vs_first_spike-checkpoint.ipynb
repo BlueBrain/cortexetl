{
 "cells": [
  {
   "cell_type": "code",
   "execution_count": null,
   "metadata": {},
   "outputs": [],
   "source": [
    "import sys\n",
    "sys.path.append('../..')\n",
    "import cortex_etl as c_etl\n",
    "ma = c_etl.analysis_initial_processing(\"/gpfs/bbp.cscs.ch/project/proj83/home/isbister/physiology_2023/cortex_etl/configs/sscx_post_physiology/0-IC-IntialTest/0-IC-IntialTest-T1-etl3.yaml\")"
   ]
  },
  {
   "cell_type": "code",
   "execution_count": 2,
   "metadata": {},
   "outputs": [
    {
     "data": {
      "text/plain": [
       "<blueetl.analysis.Analyzer at 0x2aab80a50760>"
      ]
     },
     "execution_count": 2,
     "metadata": {},
     "output_type": "execute_result"
    }
   ],
   "source": [
    "a = ma.hex0_spikes\n",
    "a_name = \"hex0_spikes\"\n",
    "ma.analyzers[a_name]"
   ]
  },
  {
   "cell_type": "code",
   "execution_count": 3,
   "metadata": {},
   "outputs": [],
   "source": [
    "import matplotlib.pyplot as plt\n",
    "import pandas as pd\n",
    "\n",
    "# neuron_class = \"L5_INH\"\n",
    "window_features_by_gid_and_trial = a.features.by_gid_and_trial.df.reset_index().etl.q(window='evoked_SOZ_25ms', neuron_class=c_etl.LAYER_EI_NEURON_CLASSES[:-1])\n",
    "window_features_by_gid = a.features.by_gid.df.reset_index().etl.q(window='evoked_SOZ_25ms', neuron_class=c_etl.LAYER_EI_NEURON_CLASSES[:-1])\n",
    "\n",
    "window_features_by_gid_and_trial = pd.merge(window_features_by_gid_and_trial, a.repo.simulations.df, on='simulation_id')\n",
    "window_features_by_gid = pd.merge(window_features_by_gid, a.repo.simulations.df, on='simulation_id')"
   ]
  },
  {
   "cell_type": "code",
   "execution_count": 17,
   "metadata": {},
   "outputs": [
    {
     "name": "stdout",
     "output_type": "stream",
     "text": [
      "0\n",
      "0\n",
      "0\n",
      "0\n",
      "157\n",
      "157\n",
      "157\n",
      "157\n",
      "130\n",
      "130\n",
      "130\n",
      "130\n",
      "78\n",
      "78\n",
      "78\n",
      "78\n",
      "54\n",
      "54\n",
      "54\n",
      "54\n",
      "45\n",
      "45\n",
      "45\n",
      "45\n",
      "163\n",
      "163\n",
      "163\n",
      "163\n",
      "167\n",
      "167\n",
      "167\n",
      "167\n",
      "0\n",
      "0\n",
      "0\n",
      "0\n"
     ]
    },
    {
     "data": {
      "image/png": "[encoded data removed]",
      "text/plain": [
       "<Figure size 1500x300 with 10 Axes>"
      ]
     },
     "metadata": {},
     "output_type": "display_data"
    }
   ],
   "source": [
    "import numpy as np\n",
    "\n",
    "def plot_ordered_mean_fst(a):\n",
    "\n",
    "    fig, axes = plt.subplots(ncols=5, nrows=2, figsize=(15, 3), sharex=True) #  sharey=True, \n",
    "    for col_i, neuron_class_grouping in enumerate(c_etl.LAYER_EI_NEURON_CLASS_GROUPINGS[:-1]):\n",
    "        for row_i, neuron_class in enumerate(neuron_class_grouping):\n",
    "            if (neuron_class == \"L1_INH\"): \n",
    "                row_i = 1\n",
    "            ax = axes[row_i][col_i]\n",
    "            window_nc_features_by_gid = window_features_by_gid.etl.q(neuron_class=neuron_class)\n",
    "            for ind, simulation_row in a.repo.simulations.df.iterrows():  \n",
    "                test_df = window_nc_features_by_gid.etl.q({\"simulation_id\": simulation_row['simulation_id'], \"mean_spike_counts\": {\"ge\": 0.2}})\n",
    "                mean_FSTs = np.asarray(test_df['first_spike_time_means_cort_zeroed'])\n",
    "                ax.scatter(mean_FSTs[np.argsort(mean_FSTs)], test_df['neuron_class_index'], s=.1)\n",
    "            if (row_i == 1): ax.set_xlabel('Time (ms)')\n",
    "            ax.set_title(neuron_class)\n",
    "    plt.show()\n",
    "    \n",
    "\n",
    "    \n",
    "def plot_pfr_vs_mean_fst(a, pfrs):\n",
    "    fig, axes = plt.subplots(ncols=5, nrows=2, figsize=(15, 3), sharex=True, sharey=True) #   \n",
    "    for col_i, neuron_class_grouping in enumerate(c_etl.LAYER_EI_NEURON_CLASS_GROUPINGS[:-1]):\n",
    "        for row_i, neuron_class in enumerate(neuron_class_grouping):\n",
    "            if (neuron_class == \"L1_INH\"): \n",
    "                row_i = 1\n",
    "            ax = axes[row_i][col_i]\n",
    "            window_nc_features_by_gid = window_features_by_gid.etl.q(neuron_class=neuron_class)\n",
    "            \n",
    "            thresholded_window_nc_features_by_gid = window_nc_features_by_gid.etl.q({\"desired_connected_proportion_of_invivo_frs\": pfrs, \"mean_spike_counts\": {\"ge\": 0.2}})\n",
    "            \n",
    "            for neuron_class_index in thresholded_window_nc_features_by_gid.neuron_class_index.unique():\n",
    "                test_df = window_nc_features_by_gid.etl.q(desired_connected_proportion_of_invivo_frs=pfrs, neuron_class_index=neuron_class_index)\n",
    "                ax.plot(test_df['first_spike_time_means_cort_zeroed'], pfrs, lw=0.1)\n",
    "    \n",
    "            thresholded_pfr_means = thresholded_window_nc_features_by_gid.groupby(['desired_connected_proportion_of_invivo_frs']).mean(['first_spike_time_means_cort_zeroed'])['first_spike_time_means_cort_zeroed']\n",
    "            ax.plot(thresholded_pfr_means, thresholded_pfr_means.reset_index().desired_connected_proportion_of_invivo_frs.unique(), lw=1)\n",
    "\n",
    "            ax.set_xlabel('Time (ms)')\n",
    "            ax.set_ylabel('$P_{FR}$')\n",
    "    plt.show()\n",
    "    \n",
    "def scatter_2pfr_mean_fsts(a, pfrs, plot_type='scatter'):\n",
    "    \n",
    "    fig, axes = plt.subplots(ncols=5, nrows=2, figsize=(15, 3), sharex=True, sharey=True) #   \n",
    "    for col_i, neuron_class_grouping in enumerate(c_etl.LAYER_EI_NEURON_CLASS_GROUPINGS[:-1]):\n",
    "        for row_i, neuron_class in enumerate(neuron_class_grouping):\n",
    "            if (neuron_class == \"L1_INH\"): \n",
    "                row_i = 1\n",
    "            ax = axes[row_i][col_i]\n",
    "            window_nc_features_by_gid = window_features_by_gid.etl.q(neuron_class=neuron_class)\n",
    "            \n",
    "            thresholded_window_nc_features_by_gid = window_nc_features_by_gid.etl.q({\"desired_connected_proportion_of_invivo_frs\": pfrs, \"mean_spike_counts\": {\"ge\": 0.2}})\n",
    "    \n",
    "            df_lower = thresholded_window_nc_features_by_gid.etl.q(desired_connected_proportion_of_invivo_frs=pfrs[0])\n",
    "            df_higher = thresholded_window_nc_features_by_gid.etl.q(desired_connected_proportion_of_invivo_frs=pfrs[1])\n",
    "\n",
    "            intersecting_gids = np.intersect1d(df_lower.gid, df_higher.gid)\n",
    "            \n",
    "            \n",
    "            intersecting_mean_fs_lower = df_lower.etl.q(gid=intersecting_gids)['first_spike_time_means_cort_zeroed'].values\n",
    "            intersecting_mean_fs_higher = df_higher.etl.q(gid=intersecting_gids)['first_spike_time_means_cort_zeroed'].values\n",
    "            \n",
    "            if (plot_type == 'scatter'):\n",
    "                ax.scatter(intersecting_mean_fs_lower, intersecting_mean_fs_higher, s=0.1)\n",
    "\n",
    "                ax.plot([5.0, 25.0], [5.0, 25.0], c='k', ls='--', lw=.2)\n",
    "                if (row_i == 1): ax.set_xlabel('Time (ms)')\n",
    "                ax.set_ylabel('Time (ms)')\n",
    "                ax.set_title(neuron_class)\n",
    "\n",
    "            if plot_type == 'diff_hist':\n",
    "                ax.hist(intersecting_mean_fs_lower - intersecting_mean_fs_higher, bins=np.arange(-10, 10, 0.5))\n",
    "                ax.set_title(neuron_class)\n",
    "                if (row_i == 1): ax.set_xlabel(\"Time difference (ms)\")\n",
    "                ax.set_ylabel(\"Frequency\")\n",
    "                \n",
    "            if plot_type == 'spont_fr_diff_vs_fs_diff':\n",
    "                \n",
    "                simulation_id_lower = a.repo.simulations.df.etl.q(desired_connected_proportion_of_invivo_frs=pfrs[0]).iloc[0].simulation_id\n",
    "                simulation_id_higher = a.repo.simulations.df.etl.q(desired_connected_proportion_of_invivo_frs=pfrs[1]).iloc[0].simulation_id\n",
    "                \n",
    "                spont_frs_nc_lower_intersecting = a.features.by_gid.df.reset_index().etl.q(window='conn_spont', neuron_class=neuron_class, simulation_id=simulation_id_lower, gid=intersecting_gids)['mean_firing_rates_per_second'].values\n",
    "                spont_frs_nc_higher_intersecting = a.features.by_gid.df.reset_index().etl.q(window='conn_spont', neuron_class=neuron_class, simulation_id=simulation_id_higher, gid=intersecting_gids)['mean_firing_rates_per_second'].values\n",
    "                \n",
    "                ax.scatter(spont_frs_nc_lower_intersecting - spont_frs_nc_higher_intersecting, intersecting_mean_fs_lower - intersecting_mean_fs_higher, s=0.1)\n",
    "    \n",
    "\n",
    "    \n",
    "plot_ordered_mean_fst(a)\n",
    "plot_pfr_vs_mean_fst(a, [0.1, 0.3, 0.5])\n",
    "scatter_2pfr_mean_fsts(a, [0.1, 0.5], plot_type='scatter')\n",
    "scatter_2pfr_mean_fsts(a, [0.1, 0.5], plot_type='diff_hist')\n",
    "scatter_2pfr_mean_fsts(a, [0.1, 0.5], plot_type='spont_fr_diff_vs_fs_diff')\n",
    "  "
   ]
  },
  {
   "cell_type": "code",
   "execution_count": null,
   "metadata": {},
   "outputs": [],
   "source": [
    "soma_ma = c_etl.analysis_initial_processing(\"../configs/6-O1-MPScan/6-O1-MPScan-0-5x3x2-2sims.yaml\") #, loglevel=\"ERROR"
   ]
  },
  {
   "cell_type": "code",
   "execution_count": null,
   "metadata": {},
   "outputs": [],
   "source": [
    "# def MeanFSTOrdering2(simulations):\n",
    "#     plt.figure()\n",
    "#     initial_ordering = []\n",
    "#     for ind, simulation_row in simulations[::-1].iterrows():    \n",
    "#         test_df = window_nc_features_by_gid.etl.q({\"simulation_id\": simulation_row['simulation_id'], \"mean_spike_counts\": {\"ge\": 0.4}})\n",
    "# #         test_df = window_nc_features_by_gid.etl.q(simulation_id=simulation_row['simulation_id'])\n",
    "#         plt.gca().set_title(simulation_row['simulation_string'])\n",
    "#         mean_FSTs = np.asarray(test_df['first_spike_time_means_cort_zeroed'])\n",
    "#         if (len(initial_ordering) == 0):\n",
    "#             initial_ordering  = np.argsort(mean_FSTs)\n",
    "#         plt.scatter(mean_FSTs[initial_ordering], range(len(initial_ordering)), s=.1)\n",
    "#     plt.show()\n",
    "    \n",
    "# MeanFSTOrdering2(test_sims)\n",
    "#     test_df = window_nc_features_by_gid_and_trial.etl.q(simulation_id=simulation_row['simulation_id'])\n",
    "#     plt.figure()\n",
    "#     plt.gca().set_title(simulation_row['simulation_string'])\n",
    "#     plt.scatter(test_df['first'], test_df['neuron_class_index'], s=.1)\n",
    "#     plt.gca().set_xlim([10.0, 25.0])\n",
    "#     plt.show()\n",
    "    \n",
    "#     if (ind > 0):\n",
    "#         break"
   ]
  },
  {
   "cell_type": "code",
   "execution_count": null,
   "metadata": {},
   "outputs": [],
   "source": []
  },
  {
   "cell_type": "code",
   "execution_count": null,
   "metadata": {},
   "outputs": [],
   "source": []
  },
  {
   "cell_type": "code",
   "execution_count": null,
   "metadata": {},
   "outputs": [],
   "source": []
  },
  {
   "cell_type": "code",
   "execution_count": null,
   "metadata": {},
   "outputs": [],
   "source": []
  }
 ],
 "metadata": {
  "kernelspec": {
   "display_name": "cortex_etl_jupyter_04_01_23",
   "language": "python",
   "name": "cortex_etl_jupyter_04_01_23"
  },
  "language_info": {
   "codemirror_mode": {
    "name": "ipython",
    "version": 3
   },
   "file_extension": ".py",
   "mimetype": "text/x-python",
   "name": "python",
   "nbconvert_exporter": "python",
   "pygments_lexer": "ipython3",
   "version": "3.10.8"
  }
 },
 "nbformat": 4,
 "nbformat_minor": 4
}
