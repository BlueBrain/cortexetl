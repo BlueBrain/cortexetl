{
 "cells": [
  {
   "cell_type": "code",
   "execution_count": 9,
   "metadata": {},
   "outputs": [],
   "source": [
    "import h5py    \n",
    "import numpy as np"
   ]
  },
  {
   "cell_type": "code",
   "execution_count": 10,
   "metadata": {},
   "outputs": [
    {
     "name": "stdout",
     "output_type": "stream",
     "text": [
      "<KeysViewHDF5 ['@library', 'model_template', 'model_type', 's1_id', 'u', 'v', 'w', 'x', 'y', 'z']>\n"
     ]
    }
   ],
   "source": [
    "nrn_file = '/gpfs/bbp.cscs.ch/project/proj83/jira-tickets/NSETM-1948-extract-hex-O1/data/O1_data/POm/nodes.h5'\n",
    "nrns = h5py.File(nrn_file,'r+')\n",
    "print(nrns['nodes']['POm']['0'].keys())"
   ]
  },
  {
   "cell_type": "code",
   "execution_count": 11,
   "metadata": {},
   "outputs": [
    {
     "name": "stdout",
     "output_type": "stream",
     "text": [
      "<KeysViewHDF5 ['@library', 'model_template', 'model_type']>\n"
     ]
    }
   ],
   "source": [
    "nrn_file = '/gpfs/bbp.cscs.ch/project/proj83/jira-tickets/NSETM-2304-extract-hex-O1-042024/data/O1_data/POm/nodes.h5'\n",
    "nrns = h5py.File(nrn_file,'r+')\n",
    "print(nrns['nodes']['POm']['0'].keys())"
   ]
  },
  {
   "cell_type": "code",
   "execution_count": null,
   "metadata": {},
   "outputs": [],
   "source": []
  }
 ],
 "metadata": {
  "kernelspec": {
   "display_name": "cortexetl.jupyter_04_01_23",
   "language": "python",
   "name": "cortexetl.jupyter_04_01_23"
  },
  "language_info": {
   "codemirror_mode": {
    "name": "ipython",
    "version": 3
   },
   "file_extension": ".py",
   "mimetype": "text/x-python",
   "name": "python",
   "nbconvert_exporter": "python",
   "pygments_lexer": "ipython3",
   "version": "3.10.8"
  }
 },
 "nbformat": 4,
 "nbformat_minor": 4
}
