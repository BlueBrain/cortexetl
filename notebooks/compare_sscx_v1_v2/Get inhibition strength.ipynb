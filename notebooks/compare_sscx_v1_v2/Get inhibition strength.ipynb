{
 "cells": [
  {
   "cell_type": "code",
   "execution_count": null,
   "metadata": {},
   "outputs": [],
   "source": [
    "import conntility\n",
    "import numpy\n",
    "import pandas\n",
    "import morphio\n",
    "import os\n",
    "\n",
    "import bluepysnap as bluepy\n",
    "from conntility.subcellular import MorphologyPathDistanceCalculator\n",
    "\n",
    "# CONFIGURATION\n",
    "\n",
    "# Circuit config\n",
    "# fn_circ = \"/gpfs/bbp.cscs.ch/project/proj83/home/pokorny/InterneuronRewiringO1/circuits/SSCx-HexO1-Release__O1_Schneider_Mizell_v2/circuit_config_reparam_tc.json\"\n",
    "fn_circ = \"/gpfs/bbp.cscs.ch/project/proj83/jira-tickets/NSETM-1948-extract-hex-O1/data/O1_data_physiology/circuit_config.json\"\n",
    "\n",
    "# Name of the connectome to consider\n",
    "connectome = \"S1nonbarrel_neurons__S1nonbarrel_neurons__chemical\"\n",
    "# Name of the node population to consider\n",
    "population = 'S1nonbarrel_neurons'\n",
    "# Radius of the population to consider, i.e. we only analyze neurons within this distance of the center\n",
    "radius_to_use = 150\n",
    "# For calculation of the inhibitory (synapse) in-degree:\n",
    "## File to place results into\n",
    "fn_out_degree = \"Inhibition_synapse_counts.csv\"\n",
    "# For calculation of soma path distances of inhibitory synapses\n",
    "## File to place results into\n",
    "fn_out_pd = \"Inhibition_path_distances.csv\"\n",
    "## Number of neurons per class to sample\n",
    "neurons_per_class = 50\n",
    "\n",
    "# BASIC SETUP\n",
    "circ = bluepy.Circuit(fn_circ)\n",
    "\n",
    "morph_dir = None\n",
    "for _pop in circ.config[\"networks\"][\"nodes\"]:\n",
    "    if population in _pop[\"populations\"]:\n",
    "        morph_dir = _pop[\"populations\"][population][\"alternate_morphologies\"][\"neurolucida-asc\"]\n",
    "assert morph_dir is not None"
   ]
  },
  {
   "cell_type": "markdown",
   "metadata": {},
   "source": [
    "# Loading all neurons and finding circuit center"
   ]
  },
  {
   "cell_type": "code",
   "execution_count": null,
   "metadata": {},
   "outputs": [],
   "source": [
    "nrn = conntility.circuit_models.neuron_groups.load_neurons(circ, [\"x\", \"y\", \"z\", \"ss_flat_x\", \"ss_flat_y\", \"morphology\",\n",
    "                                                                 \"mtype\", \"layer\", \"synapse_class\"],\n",
    "                                                          node_population=population)\n",
    "population_center = nrn[[\"ss_flat_x\", \"ss_flat_y\"]].mean()"
   ]
  },
  {
   "cell_type": "markdown",
   "metadata": {},
   "source": [
    "# Loading connectivity and counting synapses of each connection\n",
    "Note that we load only the most central population as parameterized"
   ]
  },
  {
   "cell_type": "code",
   "execution_count": null,
   "metadata": {},
   "outputs": [],
   "source": [
    "load_cfg = {\n",
    "    \"loading\":{    \n",
    "        \"properties\": [\"x\", \"y\", \"z\", \"mtype\", \"layer\", \"synapse_class\", \"morphology\", \"ss_flat_x\", \"ss_flat_y\"],\n",
    "        \"base_target\": \"hex_O1\",\n",
    "    },\n",
    "    \"filtering\":[\n",
    "        {\n",
    "            \"column\": \"ss_flat_x\",\n",
    "            \"interval\": [population_center[\"ss_flat_x\"] - radius_to_use,\n",
    "                         population_center[\"ss_flat_x\"] + radius_to_use]\n",
    "        },\n",
    "        {\n",
    "            \"column\": \"ss_flat_y\",\n",
    "            \"interval\": [population_center[\"ss_flat_y\"] - radius_to_use,\n",
    "                         population_center[\"ss_flat_y\"] + radius_to_use]\n",
    "        }\n",
    "    ]\n",
    "}\n",
    "\n",
    "# Note: \"conductance\" does not mean anything here, since we use \"len\" as the aggregation function.\n",
    "# That is, we take the \"conductance\" values of all synapses in a connection, but then just take the length of that vector,\n",
    "# i.e. we simply calculate the synapse count.\n",
    "cmat = conntility.ConnectivityMatrix.from_bluepy(circ, load_config=load_cfg,\n",
    "                                                connectome=connectome,\n",
    "                                                edge_property=\"conductance\", agg_func=len)\n"
   ]
  },
  {
   "cell_type": "markdown",
   "metadata": {},
   "source": [
    "## Submatrix of only inhibitory connections\n",
    "We filter the connection matrix.\n",
    "The result still contains all neurons, but only inhibitory edges\n",
    "\n",
    "We also load a numpy array of all inhbitory gids"
   ]
  },
  {
   "cell_type": "code",
   "execution_count": null,
   "metadata": {},
   "outputs": [],
   "source": [
    "icmat = cmat.filter(\"synapse_class\", side=\"row\").eq(\"INH\")\n",
    "inh_gids = nrn.set_index(\"synapse_class\").loc[\"INH\"][\"node_ids\"].values"
   ]
  },
  {
   "cell_type": "markdown",
   "metadata": {},
   "source": [
    "## Calculate inhibitory in-degrees and save\n",
    "We use the filtered matrix to calculate total inhibitory in-degrees.\n",
    "We then group the results by layer/synapse class and save"
   ]
  },
  {
   "cell_type": "code",
   "execution_count": null,
   "metadata": {},
   "outputs": [],
   "source": [
    "i_indegree = numpy.array(icmat.matrix.sum(axis=0))[0]\n",
    "icmat.add_vertex_property(\"inh_indegree\", i_indegree)\n",
    "\n",
    "i_indeg_per_class = pandas.concat([\n",
    "    icmat.vertices.groupby([\"layer\", \"synapse_class\"])[\"inh_indegree\"].mean(),\n",
    "    icmat.vertices.groupby([\"layer\", \"synapse_class\"])[\"inh_indegree\"].std()\n",
    "], axis=1, keys=[\"mean\", \"std\"])\n",
    "\n",
    "i_indeg_per_class.reset_index().to_csv(fn_out_degree)"
   ]
  },
  {
   "cell_type": "markdown",
   "metadata": {},
   "source": [
    "# Inhibitory synapse path distances\n",
    "Path distances are a bit more expensive to calculate.\n",
    "So we calculate them for only a smaller number of randomly sampled neurons per class"
   ]
  },
  {
   "cell_type": "code",
   "execution_count": null,
   "metadata": {},
   "outputs": [],
   "source": [
    "neuron_samples = icmat.vertices.groupby([\"synapse_class\", \"layer\"])[\"node_ids\"].apply(lambda _x: numpy.random.choice(_x.values, neurons_per_class))\n",
    "neuron_samples.head()"
   ]
  },
  {
   "cell_type": "markdown",
   "metadata": {},
   "source": [
    "### Load synapses, calculate path distances...."
   ]
  },
  {
   "cell_type": "code",
   "execution_count": null,
   "metadata": {},
   "outputs": [],
   "source": [
    "path_distance_res = {}\n",
    "\n",
    "for nrn_class, lst_gids in neuron_samples.items():\n",
    "    print(nrn_class)\n",
    "    if numpy.any(numpy.isnan(lst_gids)):\n",
    "        continue\n",
    "    res = [] # where we put all samples for the indicated post-synaptic class\n",
    "    for gid in lst_gids:\n",
    "        # Load morphology\n",
    "        morph_fn = icmat.vertices.set_index(\"node_ids\").loc[gid][\"morphology\"]\n",
    "        morph_fn = os.path.join(morph_dir, morph_fn) + \".asc\"\n",
    "        m = morphio.Morphology(morph_fn)\n",
    "\n",
    "        # Load anatomical positions of synapses\n",
    "        edges = circ.edges[connectome]\n",
    "        syns = edges.afferent_edges(gid, properties=[bluepy.sonata_constants.Edge.SOURCE_NODE_ID,\n",
    "                                                                  \"afferent_section_id\", \"afferent_segment_id\", \"afferent_segment_offset\"])\n",
    "        # Only inhibitory synapses...\n",
    "        syn_is_inh = numpy.in1d(syns[bluepy.sonata_constants.Edge.SOURCE_NODE_ID], inh_gids)\n",
    "        syns = syns.loc[syn_is_inh]\n",
    "        # The anatomical soma location is section #0, segment #0\n",
    "        soma = pandas.DataFrame({\"afferent_section_id\": [0], \"afferent_segment_id\": [0], \"afferent_segment_offset\": [0]})\n",
    "\n",
    "        # Calculate path distances from all inhibitory synapses (syns) to the soma\n",
    "        M = MorphologyPathDistanceCalculator(m)\n",
    "        D = M.path_distances(syns, soma)\n",
    "\n",
    "        res.extend(D[:, 0])\n",
    "    path_distance_res[nrn_class] = (numpy.mean(res), numpy.std(res))\n",
    "\n"
   ]
  },
  {
   "cell_type": "markdown",
   "metadata": {},
   "source": [
    "Turn into DataFrame and save"
   ]
  },
  {
   "cell_type": "code",
   "execution_count": null,
   "metadata": {},
   "outputs": [],
   "source": [
    "path_distance_res = \\\n",
    "pandas.DataFrame(path_distance_res).transpose().reset_index().rename(columns={0: \"mean\", 1: \"std\",\n",
    "                                                                             \"level_0\": \"synapse_class\",\n",
    "                                                                             \"level_1\": \"layer\"})\n",
    "path_distance_res.to_csv(fn_out_pd)"
   ]
  },
  {
   "cell_type": "code",
   "execution_count": null,
   "metadata": {},
   "outputs": [],
   "source": []
  }
 ],
 "metadata": {
  "kernelspec": {
   "display_name": "cortex_etl_jupyter_04_01_23",
   "language": "python",
   "name": "cortex_etl_jupyter_04_01_23"
  },
  "language_info": {
   "codemirror_mode": {
    "name": "ipython",
    "version": 3
   },
   "file_extension": ".py",
   "mimetype": "text/x-python",
   "name": "python",
   "nbconvert_exporter": "python",
   "pygments_lexer": "ipython3",
   "version": "3.10.8"
  }
 },
 "nbformat": 4,
 "nbformat_minor": 5
}
