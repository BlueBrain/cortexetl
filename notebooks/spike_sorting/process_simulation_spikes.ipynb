{
 "cells": [
  {
   "cell_type": "code",
   "execution_count": 1,
   "metadata": {},
   "outputs": [],
   "source": [
    "import matplotlib.pyplot as plt\n",
    "import numpy as np\n",
    "import sys\n",
    "sys.path.append('../..')\n",
    "import cortexetl as c_etl\n",
    "import shared_functions as sf\n",
    "pickle_dir = \"/gpfs/bbp.cscs.ch/project/proj83/home/isbister/spike_sorting_bias_output_data/pickles/pickles_20-4-24/\"\n",
    "import os; os.makedirs(pickle_dir, exist_ok=True)"
   ]
  },
  {
   "cell_type": "code",
   "execution_count": null,
   "metadata": {},
   "outputs": [],
   "source": [
    "# ma = c_etl.analysis_initial_processing(\"/gpfs/bbp.cscs.ch/project/proj83/home/isbister/physiology_2023/cortexetl.configs/post_physiology_2023/campaigns/spikesorting_stimulus_tests/3_spikesorting_stimulus_test_21-12-23__8slc_80f_360r_50t_200ms_0.yaml\") # loglevel=\"ERROR\"\n",
    "ma = c_etl.analysis_initial_processing(\"/gpfs/bbp.cscs.ch/project/proj83/home/isbister/physiology_2023/cortexetl.configs/post_physiology_2023/campaigns/spikesorting_stimulus_tests/4_spikesorting_stimulus_test_neuropixels_8-1-24__8slc_80f_360r_50t_200ms_1_smallest_fiber_gids.yaml\") \n",
    "a_hex0 = ma.hex0_spikes"
   ]
  },
  {
   "cell_type": "code",
   "execution_count": null,
   "metadata": {},
   "outputs": [],
   "source": [
    "import numpy as np\n",
    "def collate_and_prepare_rotation_simulation_data(a, neuron_class):\n",
    "\n",
    "    # Simulations\n",
    "    a.repo.simulations.df['rotations_array'] = a.repo.simulations.df.apply(lambda row : np.fromstring(row[\"rotations\"], dtype=float, sep=','), axis=1)\n",
    "    a.repo.simulations.df['first_rotation'] = a.repo.simulations.df.apply(lambda row : row[\"rotations_array\"][0], axis=1)\n",
    "\n",
    "    # Windows\n",
    "    window_prefix = \"evoked_SOZ_25ms_\"\n",
    "    rotation_windows = [i for i in list(a.repo.windows.df.window.unique()) if window_prefix in i]\n",
    "    a.repo.windows.df[\"rotation\"] = a.repo.windows.df.apply(lambda row : float(row[\"window\"].split(\"_\")[-1]) + a.repo.simulations.df.etl.q(simulation_id=row['simulation_id']).iloc[0]['first_rotation'] if row[\"window\"] in rotation_windows else np.nan, axis=1)\n",
    "    a.repo.windows.df[\"rotation_radians\"] = sf.deg_to_rad(a.repo.windows.df[\"rotation\"])\n",
    "\n",
    "    data_with_rotation_info = sf.process_features_and_spikes(a, rotation_windows, neuron_class)\n",
    "    \n",
    "    return data_with_rotation_info\n",
    "\n",
    "data_with_rotation_info = collate_and_prepare_rotation_simulation_data(a_hex0, \"ALL\")    \n"
   ]
  },
  {
   "cell_type": "code",
   "execution_count": 4,
   "metadata": {},
   "outputs": [
    {
     "data": {
      "text/plain": [
       "dict_keys(['uniq_rotations', 'features_by_gid_rotation_windows', 'features_by_gid_and_trial_rotation_windows', 'features_by_spiking_gid_rotation_windows', 'histogram_gids', 'histograms_by_rotation_and_trial', 'trial_averaged_histograms'])"
      ]
     },
     "execution_count": 4,
     "metadata": {},
     "output_type": "execute_result"
    }
   ],
   "source": [
    "data_with_rotation_info.keys()"
   ]
  },
  {
   "cell_type": "code",
   "execution_count": 5,
   "metadata": {},
   "outputs": [],
   "source": [
    "import pickle\n",
    "with open(pickle_dir + 'data_with_rotation_info_simulation_spikes.pickle', 'wb') as handle:\n",
    "    pickle.dump(data_with_rotation_info, handle, protocol=pickle.HIGHEST_PROTOCOL)\n",
    "\n",
    "# import pickle\n",
    "# with open(pickle_dir + 'histograms_by_rotation_and_trial.pickle', 'wb') as handle:\n",
    "#     pickle.dump(data_with_rotation_info['histograms_by_rotation_and_trial'], handle, protocol=pickle.HIGHEST_PROTOCOL)\n",
    "\n",
    "# print(data_with_rotation_info['histograms_by_rotation_and_trial'][20.0])"
   ]
  },
  {
   "cell_type": "code",
   "execution_count": null,
   "metadata": {},
   "outputs": [],
   "source": [
    "import pickle\n",
    "with open(pickle_dir + 'data_with_rotation_info_simulation_spikes.pickle', 'rb') as handle:\n",
    "    data_with_rotation_info = pickle.load(handle)"
   ]
  },
  {
   "cell_type": "code",
   "execution_count": null,
   "metadata": {},
   "outputs": [],
   "source": [
    "# For each gid plot rotation vs first spike for each trial\n",
    "for gid in np.unique(features_by_gid_and_trial_rotation_windows.etl.q(neuron_class=\"L4_EXC\")['gid']):\n",
    "    \n",
    "    plt.figure()\n",
    "    n_features_by_gid_and_trial_rotation_windows = features_by_gid_and_trial_rotation_windows.etl.q(gid=gid)\n",
    "    plt.scatter(n_features_by_gid_and_trial_rotation_windows['rotation'], n_features_by_gid_and_trial_rotation_windows['first'])\n",
    "    plt.show()\n",
    "    plt.close()"
   ]
  },
  {
   "cell_type": "code",
   "execution_count": null,
   "metadata": {},
   "outputs": [],
   "source": [
    "# CODE FOR BLUEETL WINDOWS GENERATION\n",
    "\n",
    "rotation = 0.0\n",
    "initial_offset = 1500\n",
    "n_trials = 15\n",
    "trial_steps_value = 200\n",
    "window_type = \"evoked_stimulus_onset_zeroed\"\n",
    "\n",
    "windows = [\"evoked_SOZ_25ms\"]\n",
    "boundss = [[0, 25]]\n",
    "test_str = f\"\"\n",
    "for window, bounds in zip(windows, boundss):\n",
    "\n",
    "    window_name = window + \"_\" + str(rotation)\n",
    "    test_str += f\"        {window_name}:\\n          bounds: {bounds}\\n          initial_offset: {initial_offset}\\n          n_trials: {n_trials}\\n          trial_steps_value: {trial_steps_value}\\n          window_type: {window_type}\\n\"\n",
    "\n",
    "print(test_str)\n",
    "\n",
    "content = test_str\n",
    "text_file = open(\"sample.txt\", \"w\")\n",
    "n = text_file.write(content)\n",
    "text_file.close()"
   ]
  },
  {
   "cell_type": "code",
   "execution_count": null,
   "metadata": {},
   "outputs": [],
   "source": []
  }
 ],
 "metadata": {
  "kernelspec": {
   "display_name": "cortexetl.jupyter_04_01_23",
   "language": "python",
   "name": "cortexetl.jupyter_04_01_23"
  },
  "language_info": {
   "codemirror_mode": {
    "name": "ipython",
    "version": 3
   },
   "file_extension": ".py",
   "mimetype": "text/x-python",
   "name": "python",
   "nbconvert_exporter": "python",
   "pygments_lexer": "ipython3",
   "version": "3.10.8"
  }
 },
 "nbformat": 4,
 "nbformat_minor": 4
}
