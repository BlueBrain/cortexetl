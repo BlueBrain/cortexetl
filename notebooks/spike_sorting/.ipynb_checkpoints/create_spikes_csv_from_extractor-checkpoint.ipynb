{
 "cells": [
  {
   "cell_type": "code",
   "execution_count": 1,
   "metadata": {},
   "outputs": [],
   "source": [
    "# SORTING_PATH = \"/gpfs/bbp.cscs.ch/project/proj85/scratch/laquitai/4_preprint_2023/sorting/0_silico/4_spikesorting_stimulus_test_neuropixels_8-1-24__8slc_80f_360r_50t_200ms_1_smallest_fiber_gids/0fcb7709-b1e9-4d84-b056-5801f20d55af/SortingKS3/\"\n",
    "# sampling_frequency = 20000\n",
    "\n",
    "# SORTING_PATH = \"/gpfs/bbp.cscs.ch/project/proj147/scratch/isbister/jan_2024_1_hour_neuropixels_sorting_objects/SortingKS3\"\n",
    "# sampling_frequency = 20000\n",
    "# output_path = \"/gpfs/bbp.cscs.ch/project/proj83/scratch/home/isbister/\"\n",
    "\n",
    "SORTING_PATH = \"/gpfs/bbp.cscs.ch/project/proj85/scratch/laquitai/4_preprint_2023/sorting/0_silico/8_spikesorting_stimulus_test_neuropixels_13-4-24__8slc_100f_72r_250t_200ms_0/12c5ef9a-1f3b-4b18-b3f5-ec6a417f645c/SortingKS3/\"\n",
    "sampling_frequency = 40000\n",
    "output_path = \"/gpfs/bbp.cscs.ch/project/proj147/home/isbister/experimental_data/1_silico_spike_sorting/3_standardized/8_spikesorting_stimulus_test_neuropixels_13-4-24__8slc_100f_72r_250t_200ms_0/ss/\"\n",
    "\n",
    "# spikeinterface 0.96.1\n",
    "import spikeinterface as si\n",
    "import numpy as np\n",
    "Sorting = si.load_extractor(SORTING_PATH)"
   ]
  },
  {
   "cell_type": "code",
   "execution_count": 2,
   "metadata": {},
   "outputs": [
    {
     "name": "stdout",
     "output_type": "stream",
     "text": [
      "539313\n",
      "539313\n",
      "1428\n",
      "1428\n"
     ]
    }
   ],
   "source": [
    "SortingToUse = Sorting\n",
    "\n",
    "spike_trains_and_ids = SortingToUse.get_all_spike_trains()\n",
    "\n",
    "spike_train_times = spike_trains_and_ids[0][0]\n",
    "spike_train_ids = spike_trains_and_ids[0][1]\n",
    "unique_ids = SortingToUse.get_unit_ids()\n",
    "\n",
    "print(len(spike_train_times))\n",
    "print(len(spike_train_ids))\n",
    "print(len(unique_ids))\n",
    "print(len(np.unique(spike_train_ids)))"
   ]
  },
  {
   "cell_type": "code",
   "execution_count": 3,
   "metadata": {},
   "outputs": [
    {
     "name": "stdout",
     "output_type": "stream",
     "text": [
      "333\n"
     ]
    }
   ],
   "source": [
    "KSLabels = SortingToUse.__dict__[\"_properties\"][\"KSLabel\"]\n",
    "good_ids = np.argwhere(KSLabels=='good').flatten()\n",
    "print(len(good_ids))\n",
    "\n",
    "final_good_sts = []\n",
    "final_good_ids = []\n",
    "\n",
    "for i, idx in enumerate(good_ids):\n",
    "    idx_sts = spike_train_times[np.argwhere(spike_train_ids == idx).flatten()]\n",
    "    final_good_sts.extend(idx_sts)\n",
    "    final_good_ids.extend([i for s in idx_sts])\n",
    "\n",
    "final_good_sts = np.asarray(final_good_sts)\n",
    "final_good_ids = np.asarray(final_good_ids)\n",
    "unique_final_good_ids = np.unique(final_good_ids)\n",
    "    \n",
    "# print(final_good_sts)\n",
    "# print(final_good_ids)"
   ]
  },
  {
   "cell_type": "code",
   "execution_count": 5,
   "metadata": {},
   "outputs": [],
   "source": [
    "import pandas as pd\n",
    "import os; os.makedirs(output_path, exist_ok=True)"
   ]
  },
  {
   "cell_type": "code",
   "execution_count": 6,
   "metadata": {},
   "outputs": [],
   "source": [
    "timesteps_per_millisecond = sampling_frequency / 1000\n",
    "d = {\"ids\": final_good_ids, \"timestamps\": final_good_sts / timesteps_per_millisecond}\n",
    "df = pd.DataFrame.from_dict(d)\n",
    "df.to_csv(output_path + '/spikes.csv', index=False, sep=\" \")"
   ]
  },
  {
   "cell_type": "code",
   "execution_count": 7,
   "metadata": {},
   "outputs": [],
   "source": [
    "d = {\"unit_id\": unique_final_good_ids, \"array_ind\": [0 for i in unique_final_good_ids], \"array_label\": ['array0' for i in unique_final_good_ids]}\n",
    "df = pd.DataFrame.from_dict(d)\n",
    "df.to_csv(output_path + '/sorted_unit_info.csv', index=False, sep=\"\\t\")"
   ]
  },
  {
   "cell_type": "code",
   "execution_count": null,
   "metadata": {},
   "outputs": [],
   "source": [
    "d = {\"exp_code\": [], \"trial_freq\": [], \"cond_i\": [], \"trial_i\": [], \"trial_start_ms\": [], \"trial_end_ms\": []}\n",
    "for cond_ind in range(12):\n",
    "    for trial in range(250):\n",
    "        d[\"exp_code\"].append(\"8_spikesorting_stimulus_test_neuropixels_13-4-24__8slc_100f_72r_250t_200ms_0\")\n",
    "        d[\"trial_freq\"].append(0.2)\n",
    "        d[\"cond_i\"].append(cond_ind)\n",
    "        d[\"trial_i\"].append(trial)\n",
    "        \n",
    "        trial_start = cond_ind*50500 + 500 + trial*200\n",
    "        d[\"trial_start_ms\"].append(trial_start)\n",
    "        d[\"trial_end_ms\"].append(trial_start + 200)\n",
    "    \n",
    "\n",
    "df = pd.DataFrame.from_dict(d)\n",
    "df.to_csv(output_path + '/cond_trial_info.csv', index=False, sep=\"\\t\")"
   ]
  },
  {
   "cell_type": "code",
   "execution_count": null,
   "metadata": {},
   "outputs": [],
   "source": [
    "d = {\"array_ind\": [0], \"array_label\": \"array0\"}\n",
    "df = pd.DataFrame.from_dict(d)\n",
    "df.to_csv(output_path + '/array_info.csv', index=False, sep=\"\\t\")"
   ]
  },
  {
   "cell_type": "code",
   "execution_count": null,
   "metadata": {},
   "outputs": [],
   "source": []
  }
 ],
 "metadata": {
  "kernelspec": {
   "display_name": "cortexetl.jupyter_04_01_23",
   "language": "python",
   "name": "cortexetl.jupyter_04_01_23"
  },
  "language_info": {
   "codemirror_mode": {
    "name": "ipython",
    "version": 3
   },
   "file_extension": ".py",
   "mimetype": "text/x-python",
   "name": "python",
   "nbconvert_exporter": "python",
   "pygments_lexer": "ipython3",
   "version": "3.10.8"
  }
 },
 "nbformat": 4,
 "nbformat_minor": 4
}
