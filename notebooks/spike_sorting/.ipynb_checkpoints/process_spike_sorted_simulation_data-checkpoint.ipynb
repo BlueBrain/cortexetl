{
 "cells": [
  {
   "cell_type": "code",
   "execution_count": 16,
   "metadata": {},
   "outputs": [],
   "source": [
    "import matplotlib.pyplot as plt\n",
    "import numpy as np\n",
    "import sys\n",
    "sys.path.append('../..')\n",
    "import cortexetl as c_etl\n",
    "import shared_functions as sf\n",
    "pickle_dir = \"/gpfs/bbp.cscs.ch/project/proj83/home/isbister/spike_sorting_bias_output_data/pickles/pickles_20-4-24/\"\n",
    "import os; os.makedirs(pickle_dir, exist_ok=True)"
   ]
  },
  {
   "cell_type": "code",
   "execution_count": 2,
   "metadata": {},
   "outputs": [
    {
     "name": "stderr",
     "output_type": "stream",
     "text": [
      "2024-02-20 19:16:11,435 INFO blueetl.analysis: MultiAnalyzer configuration: /gpfs/bbp.cscs.ch/project/proj147/home/isbister/experimental_data/1_silico_spike_sorting/etl_configs/4_spikesorting_stimulus_test_neuropixels_8-1-24__8slc_80f_360r_50t_200ms_1_smallest_fiber_gids/SortingKS3/4_spikesorting_stimulus_test_neuropixels_8-1-24__8slc_80f_360r_50t_200ms_1_smallest_fiber_gids_SortingKS3.yaml\n",
      "2024-02-20 19:16:11,994 INFO blueetl.store.base: Using class ParquetStore with basedir /gpfs/bbp.cscs.ch/project/proj147/home/isbister/experimental_data/1_silico_spike_sorting/etl_output/4_spikesorting_stimulus_test_neuropixels_8-1-24__8slc_80f_360r_50t_200ms_1_smallest_fiber_gids/SortingKS3/spikes/repo\n",
      "2024-02-20 19:16:11,995 INFO blueetl.store.base: Using class ParquetStore with basedir /gpfs/bbp.cscs.ch/project/proj147/home/isbister/experimental_data/1_silico_spike_sorting/etl_output/4_spikesorting_stimulus_test_neuropixels_8-1-24__8slc_80f_360r_50t_200ms_1_smallest_fiber_gids/SortingKS3/spikes/features\n",
      "2024-02-20 19:16:12,376 INFO blueetl.cache: Loading cached checksums from /gpfs/bbp.cscs.ch/project/proj147/home/isbister/experimental_data/1_silico_spike_sorting/etl_output/4_spikesorting_stimulus_test_neuropixels_8-1-24__8slc_80f_360r_50t_200ms_1_smallest_fiber_gids/SortingKS3/spikes/config/checksums.cached.yaml\n",
      "2024-02-20 19:16:12,381 INFO blueetl.cache: Initialize cache\n",
      "2024-02-20 19:16:13,004 INFO blueetl.repository: Extracting simulations...\n",
      "2024-02-20 19:16:13,040 INFO bluepysnap.circuit: Loaded PARTIAL circuit config. Functionality may be limited. It is up to the user to be diligent when accessing properties.\n",
      "2024-02-20 19:16:13,049 INFO blueetl.extract.simulations: Simulations ignored because missing: 0\n",
      "2024-02-20 19:16:13,050 INFO blueetl.extract.simulations: Simulations ignored because incomplete: 0\n",
      "2024-02-20 19:16:13,050 INFO blueetl.extract.simulations: Simulations filtered out: 0, with query: {}\n",
      "2024-02-20 19:16:13,051 INFO blueetl.extract.simulations: Simulations extracted: 1/1, ids: [0]\n",
      "2024-02-20 19:16:13,053 INFO blueetl.repository: Extracting simulations: cached=True, filtered=False\n",
      "2024-02-20 19:16:13,054 INFO blueetl.repository: Extracting simulations [done in 0.05 seconds]\n",
      "2024-02-20 19:16:13,054 INFO blueetl.repository: Extracting neurons...\n",
      "2024-02-20 19:16:13,061 INFO blueetl.repository: Extracting neurons: cached=True, filtered=False\n",
      "2024-02-20 19:16:13,062 INFO blueetl.repository: Extracting neurons [done in 0.01 seconds]\n",
      "2024-02-20 19:16:13,062 INFO blueetl.repository: Extracting neuron_classes...\n",
      "2024-02-20 19:16:13,067 INFO blueetl.repository: Extracting neuron_classes: cached=True, filtered=False\n",
      "2024-02-20 19:16:13,068 INFO blueetl.repository: Extracting neuron_classes [done in 0.01 seconds]\n",
      "2024-02-20 19:16:13,068 INFO blueetl.repository: Extracting trial_steps...\n",
      "2024-02-20 19:16:13,072 INFO blueetl.repository: Extracting trial_steps: cached=True, filtered=False\n",
      "2024-02-20 19:16:13,073 INFO blueetl.repository: Extracting trial_steps [done in 0.00 seconds]\n",
      "2024-02-20 19:16:13,073 INFO blueetl.repository: Extracting windows...\n",
      "2024-02-20 19:16:13,101 INFO blueetl.repository: Extracting windows: cached=True, filtered=False\n",
      "2024-02-20 19:16:13,101 INFO blueetl.repository: Extracting windows [done in 0.03 seconds]\n",
      "2024-02-20 19:16:13,102 INFO blueetl.repository: Extracting report...\n",
      "2024-02-20 19:16:13,267 INFO blueetl.repository: Extracting report: cached=True, filtered=False\n",
      "2024-02-20 19:16:13,268 INFO blueetl.repository: Extracting report [done in 0.17 seconds]\n",
      "2024-02-20 19:16:13,269 INFO blueetl.features: Step 1: grouping features by attributes...\n",
      "2024-02-20 19:16:13,269 INFO blueetl.features: Preprocessing features 1/1 [id=0]\n",
      "2024-02-20 19:16:13,270 INFO blueetl.features: Step 1: grouping features by attributes [done in 0.00 seconds]\n",
      "2024-02-20 19:16:13,270 INFO blueetl.features: Step 2: processing cached features...\n",
      "2024-02-20 19:17:05,063 INFO blueetl.features: Calculated features 1/1 [id=0]\n",
      "- by_gid: cached=True, filtered=False\n",
      "- by_gid_and_trial: cached=True, filtered=False\n",
      "- by_neuron_class: cached=True, filtered=False\n",
      "- by_neuron_class_and_trial: cached=True, filtered=False\n",
      "- histograms: cached=True, filtered=False\n",
      "2024-02-20 19:17:05,064 INFO blueetl.features: Step 2: processing cached features [done in 51.79 seconds]\n",
      "2024-02-20 19:17:05,065 INFO blueetl.features: Step 3: processing new features...\n",
      "2024-02-20 19:17:05,065 INFO blueetl.features: Step 3: processing new features [done in 0.00 seconds]\n",
      "2024-02-20 19:17:05,066 INFO blueetl.features: Features calculation completed\n"
     ]
    }
   ],
   "source": [
    "ma = c_etl.analysis_initial_processing(\"/gpfs/bbp.cscs.ch/project/proj147/home/isbister/experimental_data/1_silico_spike_sorting/etl_configs/4_spikesorting_stimulus_test_neuropixels_8-1-24__8slc_80f_360r_50t_200ms_1_smallest_fiber_gids/SortingKS3/4_spikesorting_stimulus_test_neuropixels_8-1-24__8slc_80f_360r_50t_200ms_1_smallest_fiber_gids_SortingKS3.yaml\", create_figure_dirs=False)\n",
    "a = ma.spikes"
   ]
  },
  {
   "cell_type": "code",
   "execution_count": null,
   "metadata": {},
   "outputs": [],
   "source": [
    "def collate_and_prepare_rotation_spike_sorted_data(a):\n",
    "    \n",
    "    # Windows\n",
    "    window_prefix = \"evoked_SOZ_25ms_\"\n",
    "    rotation_windows = [i for i in list(a.repo.windows.df.window.unique()) if window_prefix in i]\n",
    "    a.repo.windows.df[\"rotation\"] = a.repo.windows.df.apply(lambda row : float(row[\"window\"].split(\"_\")[-1]) if row[\"window\"] in rotation_windows else np.nan, axis=1)\n",
    "    a.repo.windows.df[\"rotation_radians\"] = sf.deg_to_rad(a.repo.windows.df[\"rotation\"])\n",
    "    \n",
    "    # Features, spikes and histograms\n",
    "    neuron_classes = ['all']\n",
    "    data_with_rotation_info = sf.process_features_and_spikes(a, rotation_windows, neuron_classes)\n",
    "    \n",
    "    return data_with_rotation_info\n",
    "    \n",
    "data_with_rotation_info = collate_and_prepare_rotation_spike_sorted_data(a)"
   ]
  },
  {
   "cell_type": "code",
   "execution_count": 6,
   "metadata": {},
   "outputs": [
    {
     "data": {
      "text/plain": [
       "dict_keys(['uniq_rotations', 'features_by_gid_rotation_windows', 'features_by_gid_and_trial_rotation_windows', 'features_by_spiking_gid_rotation_windows', 'histograms_by_nc', 'trial_averaged_histograms_by_nc'])"
      ]
     },
     "execution_count": 6,
     "metadata": {},
     "output_type": "execute_result"
    }
   ],
   "source": [
    "data_with_rotation_info.keys()"
   ]
  },
  {
   "cell_type": "code",
   "execution_count": null,
   "metadata": {},
   "outputs": [],
   "source": [
    "import pickle\n",
    "with open(pickle_dir + 'data_with_rotation_info_spike_sorted.pickle', 'wb') as handle:\n",
    "    pickle.dump(data_with_rotation_info, handle, protocol=pickle.HIGHEST_PROTOCOL)"
   ]
  },
  {
   "cell_type": "code",
   "execution_count": null,
   "metadata": {},
   "outputs": [],
   "source": [
    "import pickle\n",
    "with open(pickle_dir + 'data_with_rotation_info_spike_sorted.pickle', 'rb') as handle:\n",
    "    data_with_rotation_info = pickle.load(handle)"
   ]
  },
  {
   "cell_type": "code",
   "execution_count": null,
   "metadata": {},
   "outputs": [],
   "source": [
    "import matplotlib.pyplot as plt\n",
    "import numpy as np\n",
    "\n",
    "def polar_tuning_curve_plots(features_by_spiking_gid_rotation_windows, neuron_classes, stat_key, mean_spike_count_threshold=-1):\n",
    "    for neuron_class in neuron_classes:\n",
    "        for i in np.unique(features_by_spiking_gid_rotation_windows.etl.q(neuron_class=neuron_class)['spiking_neuron_class_index']):\n",
    "            n_df = features_by_spiking_gid_rotation_windows.etl.q(spiking_neuron_class_index=i, neuron_class=neuron_class)\n",
    "\n",
    "#             n_df = n_df[n_df['mean_spike_counts'] > mean_spike_count_threshold] \n",
    "\n",
    "            n_df.sort_values(by=['rotation'], inplace=True)\n",
    "    \n",
    "            if len(n_df) == 40:\n",
    "\n",
    "                r = n_df[stat_key]\n",
    "                theta = n_df['rotation_radians']\n",
    "\n",
    "                fig, ax = plt.subplots(subplot_kw={'projection': 'polar'})\n",
    "#                 ax.plot(theta, r)\n",
    "                ax.scatter(theta, r)\n",
    "                ax.set_rmax(r.max())\n",
    "                # ax.set_rticks([0.5, 1, 1.5, 2])  # Less radial ticks\n",
    "                ax.set_rlabel_position(-22.5)  # Move radial labels away from plotted line\n",
    "                ax.grid(True)\n",
    "\n",
    "                ax.set_title(\"A line plot on a polar axis\", va='bottom')\n",
    "#                 plt.savefig(str(n_df['spiking_neuron_class_index'].iloc[0]))\n",
    "                plt.show()\n",
    "                plt.close()\n",
    "\n",
    "# polar_tuning_curve_plots(data_with_rotation_info['features_by_spiking_gid_rotation_windows'], ['all'], 'mean_spike_counts', mean_spike_count_threshold=-1)\n",
    "polar_tuning_curve_plots(data_with_rotation_info['features_by_spiking_gid_rotation_windows'], ['all'], 'first_spike_time_means_cort_zeroed', mean_spike_count_threshold=-1)"
   ]
  },
  {
   "cell_type": "code",
   "execution_count": null,
   "metadata": {},
   "outputs": [],
   "source": []
  },
  {
   "cell_type": "code",
   "execution_count": null,
   "metadata": {},
   "outputs": [],
   "source": []
  },
  {
   "cell_type": "code",
   "execution_count": null,
   "metadata": {},
   "outputs": [],
   "source": [
    "# For each gid plot rotation vs first spike for each trial\n",
    "for gid in np.unique(data_with_rotation_info['features_by_gid_and_trial_rotation_windows'].etl.q(neuron_class=\"all\")['gid']):\n",
    "    \n",
    "    plt.figure()\n",
    "    n_features_by_gid_and_trial_rotation_windows = data_with_rotation_info['features_by_gid_and_trial_rotation_windows'].etl.q(gid=gid)\n",
    "    plt.scatter(n_features_by_gid_and_trial_rotation_windows['rotation'], n_features_by_gid_and_trial_rotation_windows['first'])\n",
    "    plt.show()\n",
    "    plt.close()"
   ]
  },
  {
   "cell_type": "code",
   "execution_count": null,
   "metadata": {},
   "outputs": [],
   "source": []
  },
  {
   "cell_type": "code",
   "execution_count": null,
   "metadata": {},
   "outputs": [],
   "source": [
    "w1_spikes = a.repo.report.df.etl.q(window='w1')\n",
    "\n",
    "rotation = 20\n",
    "import math \n",
    "sim_id = math.floor(rotation / 10)\n",
    "\n",
    "print(sim_id)\n",
    "start_time = (sim_id + 1) * 500 + rotation * 10000\n",
    "end_time = start_time + 1000\n",
    "\n",
    "import matplotlib.pyplot as plt\n",
    "plt.figure(figsize=(20, 6))\n",
    "plt.scatter(w1_spikes['time'], w1_spikes['gid'], s=0.8)\n",
    "plt.gca().set_xlim([start_time, end_time])\n",
    "plt.show()\n",
    "plt.close()"
   ]
  },
  {
   "cell_type": "code",
   "execution_count": null,
   "metadata": {},
   "outputs": [],
   "source": [
    "rot_spikes = a.repo.report.df.etl.q(window='evoked_SOZ_25ms_0.0')"
   ]
  },
  {
   "cell_type": "code",
   "execution_count": null,
   "metadata": {},
   "outputs": [],
   "source": [
    "rot_features = a.features.by_gid_and_trial.df.etl.q(window=['evoked_SOZ_25ms_0.0', 'evoked_SOZ_25ms_1.0', 'evoked_SOZ_25ms_2.0', 'evoked_SOZ_25ms_3.0', 'evoked_SOZ_25ms_4.0', 'evoked_SOZ_25ms_5.0', 'evoked_SOZ_25ms_6.0', 'evoked_SOZ_25ms_7.0', 'evoked_SOZ_25ms_8.0']).reset_index() # window='evoked_SOZ_25ms_0.0'"
   ]
  },
  {
   "cell_type": "code",
   "execution_count": null,
   "metadata": {},
   "outputs": [],
   "source": [
    "import numpy as np\n",
    "\n",
    "\n",
    "rot_features['did_spike'] = rot_features['first'].notna()\n",
    "did_spike_counts = rot_features.groupby(['gid']).sum()['did_spike']\n",
    "\n",
    "for gid in did_spike_counts[did_spike_counts > 10].index:\n",
    "    print(gid)\n",
    "    gid_rot_features = rot_features.etl.q(gid=gid)\n",
    "    \n",
    "    plt.figure()\n",
    "    plt.scatter(gid_rot_features['trial'], gid_rot_features['first'])\n",
    "    plt.show()\n",
    "    plt.close()\n",
    "    \n",
    "    \n"
   ]
  },
  {
   "cell_type": "code",
   "execution_count": null,
   "metadata": {},
   "outputs": [],
   "source": [
    "import math\n",
    "\n",
    "rotations = np.arange(0.0, 360.0, 1.0)\n",
    "# rotations = np.arange(0.0, 6.0, 1.0)\n",
    "# print(rotations)\n",
    "\n",
    "# initial_offset = 500\n",
    "n_trials = 50\n",
    "\n",
    "trial_steps_value = 200\n",
    "window_type = \"evoked_stimulus_onset_zeroed\"\n",
    "windows = [\"evoked_SOZ_25ms\"]\n",
    "boundss = [[0, 25]]\n",
    "\n",
    "test_str = f\"\"\n",
    "for rotation_index, rotation in enumerate(rotations):\n",
    "    \n",
    "    sim_id = math.floor(rotation / 10)\n",
    "    \n",
    "    for window, bounds in zip(windows, boundss):\n",
    "        \n",
    "#         rotation_offset = initial_offset + (sim_id * 1000.0) + rotation_index * n_trials * trial_steps_value\n",
    "        rotation_offset = ((sim_id + 1) * 500) + rotation * float(10000)\n",
    "\n",
    "        window_name = window + \"_\" + str(rotation)\n",
    "        test_str += f\"        {window_name}:\\n          bounds: {bounds}\\n          initial_offset: {rotation_offset}\\n          n_trials: {n_trials}\\n          trial_steps_value: {trial_steps_value}\\n          window_type: {window_type}\\n\\n\"\n",
    "\n",
    "# print(test_str)\n",
    "\n",
    "content = test_str\n",
    "text_file = open(\"rotation_windows.txt\", \"w\")\n",
    "n = text_file.write(content)\n",
    "text_file.close()"
   ]
  },
  {
   "cell_type": "code",
   "execution_count": null,
   "metadata": {},
   "outputs": [],
   "source": []
  }
 ],
 "metadata": {
  "kernelspec": {
   "display_name": "cortexetl.jupyter_04_01_23",
   "language": "python",
   "name": "cortexetl.jupyter_04_01_23"
  },
  "language_info": {
   "codemirror_mode": {
    "name": "ipython",
    "version": 3
   },
   "file_extension": ".py",
   "mimetype": "text/x-python",
   "name": "python",
   "nbconvert_exporter": "python",
   "pygments_lexer": "ipython3",
   "version": "3.10.8"
  }
 },
 "nbformat": 4,
 "nbformat_minor": 4
}
