{
 "cells": [
  {
   "cell_type": "markdown",
   "metadata": {},
   "source": [
    "### Imports"
   ]
  },
  {
   "cell_type": "code",
   "execution_count": 1,
   "metadata": {},
   "outputs": [],
   "source": [
    "import matplotlib.pyplot as plt\n",
    "import numpy as np\n",
    "import sys\n",
    "sys.path.append('../..')\n",
    "import cortexetl as c_etl\n",
    "import shared_functions as sf\n",
    "\n",
    "outdir = \"/gpfs/bbp.cscs.ch/project/proj83/home/isbister/spike_sorting_bias_output_data/comparison/\"\n",
    "import os; os.makedirs(outdir, exist_ok=True)"
   ]
  },
  {
   "cell_type": "markdown",
   "metadata": {},
   "source": [
    "### Load ETL Analyzers (Ground truth & Spike sorters)"
   ]
  },
  {
   "cell_type": "code",
   "execution_count": null,
   "metadata": {},
   "outputs": [],
   "source": [
    "ground_ma = c_etl.analysis_initial_processing(\"/gpfs/bbp.cscs.ch/project/proj83/home/isbister/physiology_2023/cortexetl.configs/post_physiology_2023/campaigns/spikesorting_stimulus_tests/4_spikesorting_stimulus_test_neuropixels_8-1-24__8slc_80f_360r_50t_200ms_1_smallest_fiber_gids.yaml\") # , loglevel=\"ERROR\"\n",
    "ground_a = ground_ma.hex0_spikes\n",
    "\n",
    "sorted_ma = c_etl.analysis_initial_processing(\"/gpfs/bbp.cscs.ch/project/proj147/home/isbister/experimental_data/1_silico_spike_sorting/etl_configs/4_spikesorting_stimulus_test_neuropixels_8-1-24__8slc_80f_360r_50t_200ms_1_smallest_fiber_gids/SortingKS3/4_spikesorting_stimulus_test_neuropixels_8-1-24__8slc_80f_360r_50t_200ms_1_smallest_fiber_gids_SortingKS3.yaml\", create_figure_dirs=False) # loglevel=\"ERROR\", \n",
    "sorted_a = sorted_ma.spikes"
   ]
  },
  {
   "cell_type": "markdown",
   "metadata": {},
   "source": [
    "### Load processed custom dfs (stats with rotation info)"
   ]
  },
  {
   "cell_type": "code",
   "execution_count": null,
   "metadata": {},
   "outputs": [],
   "source": [
    "import pickle\n",
    "with open('/gpfs/bbp.cscs.ch/project/proj83/home/isbister/spike_sorting_bias_output_data/pickles/pickles_20-4-24/data_with_rotation_info_simulation_spikes.pickle', 'rb') as handle:\n",
    "    ground_data_with_rotation_info = pickle.load(handle)\n",
    "\n",
    "with open('/gpfs/bbp.cscs.ch/project/proj83/home/isbister/spike_sorting_bias_output_data/pickles/pickles_20-4-24/data_with_rotation_info_spike_sorted.pickle', 'rb') as handle:\n",
    "    sorted_data_with_rotation_info = pickle.load(handle)"
   ]
  },
  {
   "cell_type": "code",
   "execution_count": null,
   "metadata": {},
   "outputs": [],
   "source": [
    "print(sorted_data_with_rotation_info)"
   ]
  },
  {
   "cell_type": "markdown",
   "metadata": {},
   "source": [
    "### Load df with prob of each ground truth unit being one of the spike sorted units"
   ]
  },
  {
   "cell_type": "code",
   "execution_count": null,
   "metadata": {},
   "outputs": [],
   "source": [
    "import pandas as pd\n",
    "sorted_unit_prob_for_each_ground_truth_gid = pd.read_csv('/gpfs/bbp.cscs.ch/project/proj85/scratch/laquitai/for_James/unit_matching.csv').rename(columns={\"Unnamed: 0\": \"true_gid\"})\n",
    "postprocessed_ss_ids = [48, 51, 61, 106, 130, 132, 166, 181, 189, 236, 240, 248, 261, 274, 316, 321, 326, 382, 400, 406, 407, 408, 409, 417, 418, 419, 421, 422, 437, 439, 440, 442, 448, 449, 453, 454, 455, 456, 457, 458, 461, 462, 467, 468, 469, 479, 480, 482, 485, 486, 496, 497, 501, 504, 505, 508, 513, 531, 533, 536, 539, 542, 548, 549, 551, 558, 562, 563, 564, 567, 568, 569, 570, 574, 575, 576, 577, 578, 579, 580, 581, 582, 584, 595, 596, 598, 599, 606, 607, 611, 614, 619, 623, 636, 638, 639, 641, 642, 643, 644, 648, 649, 653, 657, 658, 659, 671, 672, 687, 688, 695, 707, 714, 716, 718, 719, 721, 725, 727, 732, 747, 758, 762, 771, 772, 794, 796, 800, 801, 811, 812, 821, 830, 831, 842, 846, 851, 853, 857, 864, 866, 868, 874, 877, 881, 882, 884, 889, 904, 905, 906, 907, 910, 911, 912, 913, 917, 929, 930, 931, 932, 941, 942, 943, 944, 945, 946, 950, 957, 961, 963, 965, 966, 967, 968, 969, 970, 977, 978, 979, 991, 998, 1011, 1021, 1023, 1024, 1030, 1034, 1051, 1060, 1061, 1065, 1066, 1067, 1073, 1077, 1078, 1110, 1117, 1127, 1137, 1139, 1141, 1144, 1151, 1154, 1155, 1157, 1165, 1178, 1179, 1182, 1184, 1186, 1199, 1200, 1201, 1204, 1206, 1208, 1209, 1213, 1223, 1224, 1241, 1246, 1249, 1256, 1257, 1259, 1270, 1271, 1280, 1282, 1290, 1293, 1295, 1296, 1298, 1299, 1301, 1303, 1308, 1309, 1310, 1316, 1320, 1322, 1328, 1329, 1342, 1346, 1347, 1348, 1356, 1358, 1361, 1363, 1368, 1370, 1376, 1377, 1378, 1380, 1381, 1391, 1394, 1395, 1403, 1407, 1413, 1418, 1419, 1420, 1426, 1428, 1431, 1433, 1434, 1436, 1439, 1442, 1444, 1448, 1453, 1459, 1479, 1480, 1485, 1498, 1500, 1504, 1512, 1515, 1528, 1532, 1533, 1535, 1536, 1538, 1539, 1543, 1544, 1546, 1552, 1561, 1566, 1570, 1577, 1579, 1580, 1597, 1601, 1605, 1608, 1609, 1615, 1620, 1632, 1637, 1644, 1646, 1652, 1654, 1659, 1660, 1663, 1664, 1668, 1671, 1678, 1679, 1681, 1682, 1683, 1685, 1690, 1691, 1722, 1723, 1725, 1737, 1738, 1740, 1751, 1762, 1763, 1764, 1765, 1768, 1771, 1776, 1777, 1780, 1791, 1796, 1801, 1817, 1820, 1831, 1846, 1854, 1855, 1856, 1858, 1863, 1868, 1874, 1875, 1890, 1891, 1897, 1905, 1913, 1915, 1947, 1954, 1958, 1978, 1992, 1997, 2001, 2003, 2012, 2013, 2015, 2026, 2028, 2049, 2053, 2072, 2073, 2080, 2081, 2096, 2100, 2115, 2116, 2122, 2123, 2148, 2154, 2156, 2160, 2161, 2170, 2179, 2203, 2208, 2237, 2253, 2256, 2293, 2300, 2310, 2342, 2374, 2384, 2386, 2401, 2411, 2414, 2426, 2442, 2445, 2473, 2479, 2510, 2571, 2585, 2604, 2616, 2622]\n",
    "postprocessed_ss_ids_str = ['true_gid'] + [str(gid) for gid in postprocessed_ss_ids]\n",
    "sorted_unit_prob_for_each_ground_truth_gid = sorted_unit_prob_for_each_ground_truth_gid.loc[:, postprocessed_ss_ids_str]\n",
    "ground_truth_gids = np.asarray(sorted_unit_prob_for_each_ground_truth_gid['true_gid'])"
   ]
  },
  {
   "cell_type": "markdown",
   "metadata": {},
   "source": [
    "### Figure Helper"
   ]
  },
  {
   "cell_type": "code",
   "execution_count": null,
   "metadata": {},
   "outputs": [],
   "source": [
    "def remove_intermediate_axis_labels(ax, y_or_x='x'):\n",
    "    \n",
    "    labels = [item.get_text() for item in ax.get_xticklabels()]\n",
    "    ticks = ax.get_xticks()\n",
    "    if y_or_x == 'y':\n",
    "        labels = [item.get_text() for item in ax.get_yticklabels()]\n",
    "        ticks = ax.get_yticks() \n",
    "    \n",
    "    num_labels = len(labels)\n",
    "    for i in range(1, num_labels-1):\n",
    "        labels[i] = ''\n",
    "        \n",
    "    if y_or_x == 'x': ax.set_xticks(ticks, labels)\n",
    "    if y_or_x == 'y': ax.set_yticks(ticks, labels)"
   ]
  },
  {
   "cell_type": "markdown",
   "metadata": {},
   "source": [
    "### Plot histogram of highest agreement scores "
   ]
  },
  {
   "cell_type": "code",
   "execution_count": 160,
   "metadata": {},
   "outputs": [
    {
     "data": {
      "image/png": "[encoded data removed]",
      "text/plain": [
       "<Figure size 200x170 with 1 Axes>"
      ]
     },
     "metadata": {},
     "output_type": "display_data"
    }
   ],
   "source": [
    "ss_probs = sorted_unit_prob_for_each_ground_truth_gid.iloc[:, 1:].to_numpy()\n",
    "highest_prob_for_each_sorted_unit = ss_probs.max(axis=1)\n",
    "\n",
    "plt.figure(figsize=(2.0, 1.7))\n",
    "plt.hist(highest_prob_for_each_sorted_unit, bins=np.arange(0.0, 1.0, 0.05), log=True, color='grey')\n",
    "plt.gca().set_xlim([0.0, 1.0])\n",
    "# plt.gca().set_title('Highest agreement scores')\n",
    "plt.gca().set_ylabel('Log frequency')\n",
    "plt.gca().set_xlabel('Highest agreement score', labelpad=-3)\n",
    "remove_intermediate_axis_labels(plt.gca(), y_or_x='x')\n",
    "plt.tight_layout()\n",
    "plt.savefig(outdir + 'agreement_score.pdf')\n",
    "plt.show()\n",
    "plt.close()"
   ]
  },
  {
   "cell_type": "markdown",
   "metadata": {},
   "source": [
    "### Tuning curve stats"
   ]
  },
  {
   "cell_type": "code",
   "execution_count": 60,
   "metadata": {},
   "outputs": [],
   "source": [
    "from sklearn.metrics import mean_squared_error\n",
    "import math\n",
    "def tuning_curve_analysis(features, stat_key, nspiking_rotations_threshold=20, mean_firing_rate_threshold=0.1):\n",
    "\n",
    "    dicts = []\n",
    "    for gid in np.unique(features['gid']):\n",
    "\n",
    "        gid_features_df = features.etl.q(gid=gid).copy()\n",
    "        gid_features_df.sort_values(by=['rotation'], inplace=True)\n",
    "        \n",
    "        r = np.asarray(gid_features_df[stat_key])\n",
    "        where_non_zero = np.argwhere(r > 0.1).flatten()\n",
    "        r_nonzero = r[where_non_zero]\n",
    "        nspiking_rotations = len(r_nonzero)\n",
    "        \n",
    "        snr = np.nan\n",
    "        theta = np.nan\n",
    "        mean_x_component = np.nan\n",
    "        mean_y_component = np.nan\n",
    "        mean_angle = np.nan\n",
    "        mean_r_nonzero = np.nan\n",
    "        std_r_nonzero = np.nan\n",
    "        if nspiking_rotations > nspiking_rotations_threshold:\n",
    "            theta = gid_features_df.iloc[where_non_zero]['rotation_radians']\n",
    "            x_components = r_nonzero * np.cos(theta)\n",
    "            y_components = r_nonzero * np.sin(theta)\n",
    "            mean_x_component = x_components.mean()\n",
    "            mean_y_component = y_components.mean()\n",
    "            mean_angle = np.arctan2(mean_y_component, mean_x_component)\n",
    "            mean_r_nonzero = math.sqrt(mean_x_component**2 + mean_y_component**2)\n",
    "            std_r_nonzero = np.std(r_nonzero)\n",
    "            snr = np.var(r_nonzero) / (np.mean(r_nonzero)**2)\n",
    "        \n",
    "        neighbour_rotation_error = np.nan\n",
    "        r0s = []; r1s = []\n",
    "        for i in range(len(r)):\n",
    "            if (i < len(r) - 1):\n",
    "                if (r[i] > 0.1) & (r[i + 1] > 0.1):\n",
    "                    r0s.append(r[i])\n",
    "                    r1s.append(r[i+1])\n",
    "        if len(r0s) > 5:\n",
    "            neighbour_rotation_error = mean_squared_error(r0s, r1s)\n",
    "    \n",
    "        dicts.append({'gid': gid, \n",
    "                      'nspiking_rotations': nspiking_rotations,\n",
    "                      'snr': snr, \n",
    "                      'mean_x_component': mean_x_component, \n",
    "                      'mean_y_component': mean_y_component, \n",
    "                      'mean_angle': mean_angle, \n",
    "                      'mean_r_nonzero': mean_r_nonzero, \n",
    "                      'std_r_nonzero': std_r_nonzero, \n",
    "                      'neighbour_rotation_error': neighbour_rotation_error}) \n",
    " \n",
    "    return pd.DataFrame.from_records(dicts)\n",
    "    \n",
    "    \n",
    "gt_features = ground_data_with_rotation_info[\"features_by_gid_rotation_windows\"].etl.q(gid=np.asarray(sorted_unit_prob_for_each_ground_truth_gid['true_gid']))  \n",
    "ss_features = sorted_data_with_rotation_info[\"features_by_gid_rotation_windows\"].etl.q(gid=postprocessed_ss_ids)    \n",
    "\n",
    "gt_tuning_df = tuning_curve_analysis(gt_features, \"mean_spike_counts\", nspiking_rotations_threshold=20, mean_firing_rate_threshold=0.1)   \n",
    "ss_tuning_df = tuning_curve_analysis(ss_features, \"mean_spike_counts\", nspiking_rotations_threshold=20, mean_firing_rate_threshold=0.1)\n",
    "\n",
    "gt_tuning_no_threshold_df = tuning_curve_analysis(gt_features, \"mean_spike_counts\", nspiking_rotations_threshold=2, mean_firing_rate_threshold=0.0) "
   ]
  },
  {
   "cell_type": "markdown",
   "metadata": {},
   "source": [
    "### Histogram of ground truth vs sorted histogram stats"
   ]
  },
  {
   "cell_type": "code",
   "execution_count": 203,
   "metadata": {},
   "outputs": [
    {
     "data": {
      "image/png": "[encoded data removed]",
      "text/plain": [
       "<Figure size 170x180 with 1 Axes>"
      ]
     },
     "metadata": {},
     "output_type": "display_data"
    },
    {
     "data": {
      "image/png": "[encoded data removed]",
      "text/plain": [
       "<Figure size 170x180 with 1 Axes>"
      ]
     },
     "metadata": {},
     "output_type": "display_data"
    },
    {
     "data": {
      "image/png": "[encoded data removed]",
      "text/plain": [
       "<Figure size 170x180 with 1 Axes>"
      ]
     },
     "metadata": {},
     "output_type": "display_data"
    }
   ],
   "source": [
    "import scipy.stats as stats\n",
    "\n",
    "xlabels_for_tuning_key = {\n",
    "#     \"mean_r_nonzero\": \"Single neuron mean (over rotations) of\\ntrial-averaged firing rates (>0.1Hz)\",\n",
    "    \"mean_r_nonzero\": \"Mean firing rates (Hz)\\n(over represented rotations)\",\n",
    "    \"snr\": \"SNR\\n(over represented rotations)\",\n",
    "    \"std_r_nonzero\": \"Std dev of firing rates (Hz)\\n(over represented rotations)\",\n",
    "    \"neighbour_rotation_error\": \"Neighbour rotation difference\"\n",
    "    \n",
    "}\n",
    "\n",
    "def plot_tuning_histograms(gt_tuning_df, ss_tuning_df, tuning_key, xmax):\n",
    "\n",
    "    plt.figure()\n",
    "\n",
    "    gt_density = stats.gaussian_kde(gt_tuning_df[tuning_key][np.logical_not(np.isnan(gt_tuning_df[tuning_key]))])\n",
    "    n, gt_x, _ = plt.hist(gt_tuning_df[tuning_key], bins=np.linspace(0, xmax, 1000), \n",
    "                       histtype=u'step', density=True)\n",
    "    ss_density = stats.gaussian_kde(ss_tuning_df[tuning_key][np.logical_not(np.isnan(ss_tuning_df[tuning_key]))])\n",
    "    n, ss_x, _ = plt.hist(ss_tuning_df[tuning_key], bins=np.linspace(0, xmax, 1000), \n",
    "                       histtype=u'step', density=True)\n",
    "#     plt.show()\n",
    "    plt.close()\n",
    "\n",
    "    plt.figure(figsize=(1.7, 1.8))\n",
    "    plt.plot(gt_x, gt_density(gt_x), c='g')\n",
    "    plt.plot(ss_x, ss_density(ss_x), c='grey')\n",
    "    plt.gca().set_xlim([0.0, xmax])\n",
    "    plt.gca().set_ylim([0.0, np.max([np.max(gt_density(gt_x)), np.max(ss_density(ss_x))])*1.05])\n",
    "    remove_intermediate_axis_labels(plt.gca(), y_or_x='x')\n",
    "    remove_intermediate_axis_labels(plt.gca(), y_or_x='y')\n",
    "    plt.gca().set_xlabel(xlabels_for_tuning_key[tuning_key], labelpad=-3)\n",
    "    plt.gca().set_ylabel(\"Normalized freq\", labelpad=-3)\n",
    "    plt.tight_layout()\n",
    "    plt.savefig(outdir + tuning_key + '.pdf')\n",
    "    plt.show()\n",
    "    plt.close()\n",
    "    \n",
    "plot_tuning_histograms(gt_tuning_df, ss_tuning_df, 'mean_r_nonzero', 1.0)\n",
    "plot_tuning_histograms(gt_tuning_df, ss_tuning_df, 'std_r_nonzero', 0.4)\n",
    "plot_tuning_histograms(gt_tuning_df, ss_tuning_df, 'snr', 0.5)\n",
    "\n",
    "# plot_tuning_histograms(gt_tuning_df, ss_tuning_df, 'neighbour_rotation_error', 0.015)"
   ]
  },
  {
   "cell_type": "markdown",
   "metadata": {},
   "source": [
    "### Polar tuning curve plots + stats scatters"
   ]
  },
  {
   "cell_type": "code",
   "execution_count": null,
   "metadata": {},
   "outputs": [],
   "source": [
    "# import matplotlib.pyplot as plt\n",
    "import numpy as np\n",
    "import math\n",
    "from numpy.linalg import norm\n",
    "import matplotlib.patches as mpatches\n",
    "from matplotlib.lines import Line2D\n",
    "from matplotlib import ticker as mticker\n",
    "\n",
    "def empty_label_formatter(x, pos):\n",
    "    return \"\"  # Return an empty string for no label\n",
    "\n",
    "def polar_tuning_curve_plots(gt_features, ss_features, gt_tuning_df, ss_tuning_df, stat_key, high_spike_count_threshold=0.2, ntrials_above_high_spike_count_threshold=20, similarity_prob_threshold=0.05, outdir=''):\n",
    "\n",
    "    figsize = (2., 3.)\n",
    "#     figsize = (4, 4)\n",
    "    s = .2\n",
    "    gt_c = 'g'\n",
    "    ss_c = 'grey'\n",
    "    os.makedirs(outdir, exist_ok=True)\n",
    "    filenames = []\n",
    "        \n",
    "    all_cosine_similarities = []\n",
    "    all_highest_probs = []\n",
    "    all_mean_r_props = []\n",
    "    all_positive_angle_differences = []\n",
    "        \n",
    "    for gid in np.unique(gt_features['gid']):\n",
    "\n",
    "        gt_gid_features_df = gt_features.etl.q(gid=gid).copy()\n",
    "        \n",
    "        high_spike_count_trials_gt_gid_features_df = gt_gid_features_df[gt_gid_features_df['mean_spike_counts'] > high_spike_count_threshold] \n",
    "        gt_gid_features_df.sort_values(by=['rotation'], inplace=True)\n",
    "\n",
    "        ss_probs = sorted_unit_prob_for_each_ground_truth_gid.etl.q(true_gid=gid).iloc[0, 1:]\n",
    "        highest_prob_ss_id = ss_probs.idxmax()\n",
    "        highest_prob = ss_probs.loc[highest_prob_ss_id]\n",
    "        ss_df = ss_features.etl.q(gid=int(highest_prob_ss_id))\n",
    "        \n",
    "        r = gt_gid_features_df[stat_key]\n",
    "        theta = gt_gid_features_df['rotation_radians']\n",
    "        gt_tuning_row = gt_tuning_df.etl.q(gid=gid).iloc[0]\n",
    "        \n",
    "\n",
    "        ss_tuning_single = ss_tuning_df.etl.q(gid=int(highest_prob_ss_id))\n",
    "    \n",
    "        if (len(high_spike_count_trials_gt_gid_features_df) > ntrials_above_high_spike_count_threshold) & (highest_prob > similarity_prob_threshold):\n",
    "#         if len(ss_tuning_single):\n",
    "            ss_tuning_row = ss_tuning_single.iloc[0]\n",
    "            A = [gt_tuning_row['mean_x_component'], gt_tuning_row['mean_y_component']]\n",
    "            B = [ss_tuning_row['mean_x_component'], ss_tuning_row['mean_y_component']]\n",
    "            cosine_similarity = np.dot(A,B)/(norm(A)*norm(B))\n",
    "            all_highest_probs.append(highest_prob)\n",
    "            all_cosine_similarities.append(cosine_similarity)\n",
    "            all_mean_r_props.append(ss_tuning_row['mean_r_nonzero'] / gt_tuning_row['mean_r_nonzero'])\n",
    "            all_positive_angle_differences.append(math.sqrt((np.rad2deg(ss_tuning_row['mean_angle'] - gt_tuning_row['mean_angle']))**2))\n",
    "\n",
    "        draw_individual = True\n",
    "        if draw_individual:\n",
    "            if (len(high_spike_count_trials_gt_gid_features_df) > ntrials_above_high_spike_count_threshold) & (highest_prob > similarity_prob_threshold):\n",
    "\n",
    "                ss_r = ss_df[stat_key]\n",
    "                ss_theta = ss_df['rotation_radians']\n",
    "                \n",
    "                fig, ax = plt.subplots(subplot_kw={'projection': 'polar'}, figsize=figsize)\n",
    "\n",
    "                # GROUND TRUTH POINTS\n",
    "                gt_p = ax.scatter(theta, r, s=s, c=gt_c, label='Silico')\n",
    "\n",
    "                # SPIKE SORTED POINTS\n",
    "                ss_p = ax.scatter(ss_theta, ss_r, s=s, c=ss_c, label='Kilsort 3', alpha=0.7)\n",
    "\n",
    "                # GROUNT TRUTH MEAN VECTOR\n",
    "#                 print(gt_tuning_row['mean_angle'])\n",
    "                ax.plot([0.0, gt_tuning_row['mean_angle']], [0.0, gt_tuning_row['mean_r_nonzero']], c=gt_c, lw=1.0)\n",
    "\n",
    "                # SPIKE SORTED MEAN VECTOR\n",
    "                if len(ss_tuning_single):\n",
    "                    ax.plot([0.0, ss_tuning_row['mean_angle']], [0.0, ss_tuning_row['mean_r_nonzero']], c=ss_c, alpha=0.7) #, lw=1.0\n",
    "\n",
    "                # PLOT OPTIONS\n",
    "                border_color = 'black'\n",
    "                ax.set_rticks([0.25, 0.5, 0.75, 1.0])\n",
    "                ax.set_rmax(1.0)\n",
    "                ax.tick_params(axis='x', pad=-2)\n",
    "                ax.grid(which='major', color='grey', linewidth = .5)\n",
    "#                 ax.grid(which='minor', color='yellow', linewidth = .5)\n",
    "                ax.spines['polar'].set_color(border_color)\n",
    "#                 ax.grid(linewidth = .5)\n",
    "                ax.set_yticklabels([])\n",
    "                ax.set_title(\"Agreemement: %.3f\" % highest_prob, va='bottom', y=-0.3)\n",
    "                \n",
    "                \n",
    "                line = Line2D([0], [0], color=border_color, label='1Hz', lw=.7)\n",
    "                plt.legend(handles=[gt_p, ss_p, line], frameon=False, bbox_to_anchor=(1.3, 1.4))\n",
    "                \n",
    "                plt.tight_layout()\n",
    "                filename = outdir + str(gid) + '.png'\n",
    "                filenames.append(filename)\n",
    "                plt.savefig(filename, dpi=300)\n",
    "\n",
    "                filename_pdf = outdir + str(gid) + '.pdf'\n",
    "                plt.savefig(filename_pdf)\n",
    "#                 plt.show()\n",
    "                plt.close()\n",
    "                \n",
    "#                 break\n",
    "    c_etl.video_from_image_files(filenames, outdir + stat_key + '.mp4', delete_images=True)\n",
    "\n",
    "    plt.figure(figsize=(2.0, 1.7))\n",
    "    plt.scatter(all_highest_probs, all_positive_angle_differences, s=0.2, c='gold')\n",
    "    plt.plot([0.0, 1.0], [1.0, 1.0], c='grey', lw=0.5, zorder=-3)\n",
    "    plt.gca().set_xlim([0.0, 1.0])\n",
    "    plt.gca().set_yscale('log')\n",
    "    plt.gca().set_xlabel(\"Similarity score\", labelpad=-3)\n",
    "    plt.gca().set_ylabel(\"Preference error (degrees)\", labelpad=0)\n",
    "    remove_intermediate_axis_labels(plt.gca(), y_or_x='x')\n",
    "    plt.tight_layout()\n",
    "    plt.savefig(outdir + 'preference_error.pdf')\n",
    "    plt.show()\n",
    "    plt.close()\n",
    "    \n",
    "    plt.figure(figsize=(2.0, 1.7))\n",
    "    plt.scatter(all_highest_probs, all_mean_r_props, s=0.2, c='gold')\n",
    "    plt.plot([0.0, 1.0], [1.0, 1.0], c='grey', lw=0.5, zorder=-3)\n",
    "    plt.gca().set_xlim([0.0, 1.0])\n",
    "    plt.gca().set_yscale('log')\n",
    "    plt.gca().set_xlabel(\"Similarity score\", labelpad=-3)\n",
    "    plt.gca().set_ylabel(\"Firing rate proportion\")\n",
    "    plt.gca().set_xlim([0.0, 1.0])\n",
    "    remove_intermediate_axis_labels(plt.gca(), y_or_x='x')\n",
    "    plt.tight_layout()\n",
    "    plt.savefig(outdir + 'firing_rate_proportion.pdf')\n",
    "    plt.show()\n",
    "    plt.close()\n",
    "    \n",
    "    \n",
    "    plt.figure(figsize=(2.0, 1.85))\n",
    "    plt.scatter(all_positive_angle_differences, all_mean_r_props, s=0.2, c='gold')\n",
    "    plt.gca().set_xscale('log')\n",
    "    plt.gca().set_yscale('log')\n",
    "    plt.gca().xaxis.set_major_locator(mticker.LogLocator(numticks=999))\n",
    "    plt.gca().xaxis.set_minor_locator(mticker.LogLocator(numticks=999, subs=\"auto\"))\n",
    "    plt.gca().set_ylabel(\"Firing rate proportion\")\n",
    "    plt.gca().set_xlabel(\"Preference error (degrees)\", labelpad=3)\n",
    "    plt.tight_layout()\n",
    "    plt.savefig(outdir + 'firing_rate_proportion_vs_preference_error.pdf')\n",
    "    plt.show()\n",
    "    plt.close()\n",
    "    \n",
    "    \n",
    "#     plt.figure(figsize=(2, 2))\n",
    "#     plt.scatter(all_highest_probs, all_cosine_similarities, s=0.2, c='gold')\n",
    "#     plt.gca().set_xlabel(\"Similarity score\")\n",
    "#     plt.gca().set_ylabel(\"Cosine similarity\")\n",
    "#     plt.gca().set_xlim([0.0, 1.0])\n",
    "#     plt.tight_layout()\n",
    "#     plt.show()\n",
    "#     plt.close()\n",
    "    \n",
    "#     plt.figure(figsize=(2, 2))\n",
    "#     plt.hist(all_cosine_similarities)\n",
    "#     plt.gca().set_xlabel(\"Cosine similarity\")\n",
    "#     plt.gca().set_ylabel(\"Frequency\")\n",
    "#     plt.tight_layout()\n",
    "#     plt.show()\n",
    "#     plt.close()\n",
    "    \n",
    "#     plt.figure(figsize=(2, 2))\n",
    "#     plt.hist(all_mean_r_props, bins=np.arange(0.0, 40.0, 0.5))\n",
    "#     plt.gca().set_xlabel(\"Firing rate proportion\")\n",
    "#     plt.gca().set_ylabel(\"Frequency\")\n",
    "#     plt.tight_layout()\n",
    "#     plt.show()\n",
    "#     plt.close()\n",
    "        \n",
    "gt_features = ground_data_with_rotation_info[\"features_by_spiking_gid_rotation_windows\"].etl.q(gid=np.asarray(sorted_unit_prob_for_each_ground_truth_gid['true_gid']))\n",
    "ss_features = sorted_data_with_rotation_info[\"features_by_spiking_gid_rotation_windows\"].etl.q(gid=postprocessed_ss_ids)    \n",
    "    \n",
    "# polar_tuning_curve_plots(gt_features, ss_features, gt_tuning_df, ss_tuning_df, \"first_spike_time_means_cort_zeroed\", mean_spike_count_threshold=0.3, outdir=outdir + \"/fs_tuning_curves/\")\n",
    "polar_tuning_curve_plots(gt_features, ss_features, gt_tuning_df, ss_tuning_df, \"mean_spike_counts\", high_spike_count_threshold=0.2, ntrials_above_high_spike_count_threshold=20, similarity_prob_threshold=-1.0, outdir=outdir + \"/fr_tuning_curves/\")\n",
    "\n"
   ]
  },
  {
   "cell_type": "markdown",
   "metadata": {},
   "source": [
    "### New flat tuning curve plot"
   ]
  },
  {
   "cell_type": "code",
   "execution_count": null,
   "metadata": {},
   "outputs": [],
   "source": [
    "gt_by_trial_features = ground_data_with_rotation_info[\"features_by_gid_and_trial_rotation_windows\"].etl.q(gid=np.asarray(sorted_unit_prob_for_each_ground_truth_gid['true_gid']))\n",
    "ss_by_trial_features = sorted_data_with_rotation_info[\"features_by_gid_and_trial_rotation_windows\"].etl.q(gid=postprocessed_ss_ids)\n",
    "\n",
    "for gid in gt_by_trial_features.gid.unique():\n",
    "    gid_gt_by_trial_features = gt_by_trial_features.etl.q(gid=gid)\n",
    "    #     print(gid_gt_by_trial_features)\n",
    "\n",
    "    plt.figure()\n",
    "    plt.scatter(gid_gt_by_trial_features.rotation, gid_gt_by_trial_features['count'])\n",
    "    plt.show()\n",
    "    plt.close()\n"
   ]
  },
  {
   "cell_type": "code",
   "execution_count": 33,
   "metadata": {},
   "outputs": [],
   "source": [
    "hist = ground_a.features.histograms.df.reset_index().etl.q(window=\"evoked_SOZ_100ms\", neuron_class=\"ALL\", bin_size=1.0, smoothing_type='Gaussian', kernel_sd=1.0)"
   ]
  },
  {
   "cell_type": "code",
   "execution_count": null,
   "metadata": {},
   "outputs": [],
   "source": [
    "ground_window_by_gid_and_trial = ground_a.features.by_gid_and_trial.df.etl.q(neuron_class='ALL', window=\"evoked_SOZ_100ms\")\n",
    "ss_window_by_gid_and_trial = ss_a.features.by_gid_and_trial.df.etl.q(neuron_class='ALL', window=\"evoked_SOZ_100ms\")"
   ]
  },
  {
   "cell_type": "code",
   "execution_count": null,
   "metadata": {},
   "outputs": [],
   "source": [
    "print(ground_window_by_gid_and_trial)"
   ]
  },
  {
   "cell_type": "code",
   "execution_count": 43,
   "metadata": {},
   "outputs": [
    {
     "data": {
      "image/png": "[encoded data removed]",
      "text/plain": [
       "<Figure size 640x480 with 1 Axes>"
      ]
     },
     "metadata": {},
     "output_type": "display_data"
    }
   ],
   "source": [
    "plt.figure()\n",
    "plt.hist(window_by_gid_and_trial['count'][window_by_gid_and_trial['count'] != 0], bins=[0, 1, 2, 3])\n",
    "plt.show()"
   ]
  },
  {
   "cell_type": "code",
   "execution_count": null,
   "metadata": {},
   "outputs": [],
   "source": [
    "ids = postprocessed_ss_ids\n",
    "analyzer = sorted_a\n",
    "neuron_class = 'all'\n",
    "\n",
    "ids = sorted_unit_prob_for_each_ground_truth_gid['true_gid']\n",
    "analyzer = ground_a\n",
    "neuron_class = 'ALL'\n",
    "\n",
    "\n",
    "for window in analyzer.repo.windows.df.window.unique():\n",
    "    if \"evoked\" in window:\n",
    "        by_gid_and_trial = analyzer.features.by_gid_and_trial.df.etl.q(simulation_id=0, neuron_class=neuron_class, window=window)\n",
    "\n",
    "        for gid in ids:\n",
    "            gid_firsts = by_gid_and_trial.etl.q(gid=gid)['first']\n",
    "            gid_firsts = gid_firsts[np.logical_not(np.isnan(gid_firsts))]\n",
    "#             print(gid_firsts)\n",
    "            if len(gid_firsts) > 10:\n",
    "                plt.figure()\n",
    "                plt.hist(gid_firsts.values, bins=np.arange(0.0, 25.0, 1.0))\n",
    "                plt.show()\n",
    "                plt.close()\n",
    "                \n",
    "                plt.figure()\n",
    "                plt.scatter([i for i in range(len(gid_firsts))], gid_firsts.values)\n",
    "                plt.show()\n",
    "                plt.close()\n",
    "            \n"
   ]
  },
  {
   "cell_type": "code",
   "execution_count": 62,
   "metadata": {},
   "outputs": [
    {
     "name": "stdout",
     "output_type": "stream",
     "text": [
      "1836\n",
      "1652\n"
     ]
    },
    {
     "data": {
      "image/png": "[encoded data removed]",
      "text/plain": [
       "<Figure size 640x480 with 2 Axes>"
      ]
     },
     "metadata": {},
     "output_type": "display_data"
    }
   ],
   "source": [
    "import matplotlib.pyplot as plt\n",
    "def plot_trial_averaged_histos_by_rotation(data_with_rotation_info, tuning_df, gids=[], outdir='', make_pdfs=False, delete_images=True, figsize=(2, 2)):    \n",
    "\n",
    "    os.makedirs(outdir, exist_ok=True)\n",
    "    \n",
    "    png_paths = []\n",
    "    for rotation in data_with_rotation_info['uniq_rotations']:\n",
    "        hist = data_with_rotation_info['trial_averaged_histograms'][rotation]\n",
    "        \n",
    "        sorted_ids = np.argsort(tuning_df['mean_angle'].to_numpy())\n",
    "        sorted_gids = tuning_df['gid'].to_numpy()[sorted_ids]\n",
    "#         sorted_angles = tuning_df['mean_angle'].to_numpy()[sorted_ids]\n",
    "        \n",
    "#         print(sorted_gids)\n",
    "        \n",
    "        if len(gids):\n",
    "            _, _, filtered_hist_indices = np.intersect1d(gids, data_with_rotation_info['histogram_gids'], return_indices=True)\n",
    "            filtered_gids = data_with_rotation_info['histogram_gids'][filtered_hist_indices]\n",
    "\n",
    "            sorted_filtered_hist_indices = np.ones(len(sorted_gids), dtype=int)\n",
    "            for hist_id, filtered_gid in enumerate(filtered_gids):\n",
    "                sorting_index = np.argwhere(sorted_gids == filtered_gid).flatten()\n",
    "                \n",
    "                if len(sorting_index):\n",
    "                    sorting_index = sorting_index[0]\n",
    "                    sorted_filtered_hist_indices[sorting_index] = hist_id\n",
    "                else:\n",
    "                    print(\"do something extra\")\n",
    "                    # Do something extra\n",
    "            print(len(sorted_filtered_hist_indices))\n",
    "#             for i in sorted_filtered_hist_indices:\n",
    "#                 print(i)\n",
    "            print(len(np.unique(sorted_filtered_hist_indices)))\n",
    "            hist = hist[filtered_hist_indices]\n",
    "\n",
    "        fig, ax = plt.subplots() # figsize=figsize\n",
    "        im = ax.imshow(hist, cmap='cividis', aspect='auto') # hot,  interpolation='nearest', \n",
    "        ax.set_title(\"Rotation: \" + str(rotation))\n",
    "        ax.set_xlabel('Time')\n",
    "        ax.set_ylabel('Neuron ID')\n",
    "        fig.colorbar(im, label='Number of Spikes')\n",
    "        plt.tight_layout()\n",
    "        \n",
    "        png_path = outdir + str(int(rotation)) + '.png'\n",
    "        png_paths.append(png_path)\n",
    "        plt.savefig(png_path)\n",
    "        \n",
    "        if make_pdfs:\n",
    "            pdf_path = outdir + str(int(rotation)) + '.pdf'\n",
    "            plt.savefig(pdf_path)\n",
    "            \n",
    "        plt.show()\n",
    "        plt.close()\n",
    "        \n",
    "        break\n",
    "    \n",
    "    c_etl.video_from_image_files(png_paths, outdir + 'all_rotations.mp4', delete_images=delete_images)\n",
    "    \n",
    "# plot_trial_averaged_histos_by_rotation(sorted_data_with_rotation_info, ss_tuning_df, gids=postprocessed_ss_ids, outdir=outdir + 'ss_hist/', make_pdfs=False, delete_images=True)\n",
    "plot_trial_averaged_histos_by_rotation(ground_data_with_rotation_info, gt_tuning_no_threshold_df, gids=ground_truth_gids, outdir=outdir + 'gt_hist/', make_pdfs=False, delete_images=True)"
   ]
  },
  {
   "cell_type": "code",
   "execution_count": null,
   "metadata": {},
   "outputs": [],
   "source": [
    "!sbatch batch_gpu_test.batch"
   ]
  },
  {
   "cell_type": "code",
   "execution_count": 208,
   "metadata": {},
   "outputs": [
    {
     "name": "stdout",
     "output_type": "stream",
     "text": [
      "Traceback (most recent call last):\n",
      "  File \"/gpfs/bbp.cscs.ch/project/proj83/home/isbister/physiology_2023/cortexetl.notebooks/spike_sorting/plot_nn_training_ouptut.py\", line 8, in <module>\n",
      "    pickle.load(file)\n",
      "EOFError: Ran out of input\n"
     ]
    }
   ],
   "source": [
    "!python plot_nn_training_ouptut.py"
   ]
  },
  {
   "cell_type": "code",
   "execution_count": null,
   "metadata": {},
   "outputs": [],
   "source": [
    "sorted_data_with_rotation_info['histograms_by_rotation_and_trial'][0.0].shape"
   ]
  },
  {
   "cell_type": "code",
   "execution_count": null,
   "metadata": {},
   "outputs": [],
   "source": [
    "ground_a.repo.neurons.df.etl.q(gid=np.asarray(sorted_unit_prob_for_each_ground_truth_gid['true_gid']))\n",
    "\n",
    "cells_collection = list(ground_a.repo.simulations.df.iloc[0].circuit.nodes.values())[0]\n",
    "cells_collection.available_properties\n",
    "ground_truth_cells = cells_collection.get(ground_truth_gids)\n",
    "simulated_cells = cells_collection.get(ground_a.repo.neurons.df.gid.unique())\n",
    "\n",
    "import matplotlib.pyplot as plit\n",
    "plt.figure()\n",
    "plt.scatter(simulated_cells['x'], simulated_cells['y'])\n",
    "plt.scatter(ground_truth_cells['x'], ground_truth_cells['y'])\n",
    "plt.show()\n",
    "plt.close()\n",
    "# print(ground_truth_cells['x'])\n",
    "\n",
    "# print(.get(\"x\"))"
   ]
  },
  {
   "cell_type": "code",
   "execution_count": null,
   "metadata": {},
   "outputs": [],
   "source": [
    "import conntility\n",
    "\n",
    "# base_target = 'hex0'\n",
    "print(\"Filtering circuit.\")\n",
    "load_cfg = {\n",
    "    \"loading\": {\n",
    "        \"properties\": [\"x\", \"y\", \"z\", \"ss_flat_x\", \"ss_flat_y\", \"mtype\", \"etype\", \"layer\", \"morphology\",\n",
    "                      \"synapse_class\"]\n",
    "    }\n",
    "}\n",
    "nrn = conntility.circuit_models.neuron_groups.load_filter(ground_a.repo.simulations.df.iloc[0].circuit, \n",
    "                                                          load_cfg)\n"
   ]
  },
  {
   "cell_type": "markdown",
   "metadata": {},
   "source": [
    "### Misc raster"
   ]
  },
  {
   "cell_type": "code",
   "execution_count": null,
   "metadata": {},
   "outputs": [],
   "source": [
    "sorted_spikes_full = sorted_a.repo.report.df.etl.q(window='w1', time={'le':2500}, gid=postprocessed_ss_ids)\n",
    "gt_spikes_full = ground_a.repo.report.df.etl.q(window='full_sim', time={'ge':1000, 'le':3500}, simulation_id=0, gid=ground_truth_gids)\n",
    "\n",
    "plt.figure(figsize=(20, 2))\n",
    "plt.scatter(sorted_spikes_full['time'], sorted_spikes_full['gid'], s=.1)\n",
    "plt.gca().set_ylabel('Neuron ID')\n",
    "plt.gca().set_xlabel('Time (ms)')\n",
    "\n",
    "plt.figure(figsize=(20, 2))\n",
    "plt.scatter(gt_spikes_full['time'] - 1000.0, gt_spikes_full['gid'], s=.1)\n",
    "plt.gca().set_ylabel('Neuron ID')\n",
    "plt.gca().set_xlabel('Time (ms)')"
   ]
  },
  {
   "cell_type": "markdown",
   "metadata": {},
   "source": [
    "### Misc"
   ]
  },
  {
   "cell_type": "code",
   "execution_count": null,
   "metadata": {},
   "outputs": [],
   "source": [
    "# mean_spike_counts_full = np.asarray(sorted_a.features.by_gid.df.etl.q(window='w1')['mean_spike_counts'])\n",
    "# plt.figure()\n",
    "# plt.hist(mean_spike_counts_full, bins=np.arange(0, np.max(mean_spike_counts_full), 100))\n",
    "\n",
    "# print(np.sum(mean_spike_counts_full < ))\n",
    "# plt.figure()\n",
    "# sorted_mfrs_full = np.asarray(sorted_a.features.by_gid.df.etl.q(window='w1')['mean_firing_rates_per_second'])\n",
    "# print(np.sum(sorted_mfrs_full < 0.01))\n",
    "# plt.hist(sorted_mfrs_full, bins=np.arange(0, np.max(sorted_mfrs_full), 0.1))\n",
    "\n",
    "#             ax.arrow( 0.0, 0.0, mean_angle, mean_r, fc=\"k\", ec=\"k\", head_width=0.05, head_length=0.1)\n",
    "#             prop = dict(arrowstyle=\"-|>,head_width=0.4,head_length=0.8\", shrinkA=0,shrinkB=0)\n",
    "#             prop = {}\n",
    "#             plt.annotate(\"\", xy=(mean_angle,mean_r), xytext=(0,0), arrowprops=prop)"
   ]
  }
 ],
 "metadata": {
  "kernelspec": {
   "display_name": "cortexetl.jupyter_04_01_23",
   "language": "python",
   "name": "cortexetl.jupyter_04_01_23"
  },
  "language_info": {
   "codemirror_mode": {
    "name": "ipython",
    "version": 3
   },
   "file_extension": ".py",
   "mimetype": "text/x-python",
   "name": "python",
   "nbconvert_exporter": "python",
   "pygments_lexer": "ipython3",
   "version": "3.10.8"
  }
 },
 "nbformat": 4,
 "nbformat_minor": 4
}
