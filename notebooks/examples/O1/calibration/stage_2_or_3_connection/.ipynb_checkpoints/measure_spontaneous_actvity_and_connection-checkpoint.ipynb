{
 "cells": [
  {
   "cell_type": "code",
   "execution_count": 1,
   "metadata": {},
   "outputs": [],
   "source": [
    "import sys\n",
    "sys.path.append('../../../../..')\n",
    "import cortex_etl as c_etl"
   ]
  },
  {
   "cell_type": "code",
   "execution_count": 2,
   "metadata": {},
   "outputs": [],
   "source": [
    "ma = c_etl.analysis_initial_processing(\"stage_2_or_3_connection_x.yaml\", loglevel=\"ERROR\") #\n",
    "a_hex0 = ma.hex0_spikes\n",
    "a_hexO1 = ma.hex_O1_spikes"
   ]
  },
  {
   "cell_type": "code",
   "execution_count": 4,
   "metadata": {},
   "outputs": [
    {
     "name": "stdout",
     "output_type": "stream",
     "text": [
      "\n",
      "----- Custom post analysis -----\n",
      "----- Custom post analysis complete: 17.74s -----\n"
     ]
    }
   ],
   "source": [
    "c_etl.post_analysis(a_hex0)"
   ]
  },
  {
   "cell_type": "code",
   "execution_count": 6,
   "metadata": {},
   "outputs": [
    {
     "name": "stdout",
     "output_type": "stream",
     "text": [
      "\n",
      "----- Plot firing rates, proportions and predictions -----\n",
      "['unconn_2nd_half', 'conn_spont']\n",
      "['desired_connected_fr', 'conn_spont']\n",
      "['desired_unconnected_fr', 'unconn_2nd_half']\n",
      "['connection_fr_increase', 'connection_fr_error']\n"
     ]
    },
    {
     "ename": "ValueError",
     "evalue": "zero-size array to reduction operation maximum which has no identity",
     "output_type": "error",
     "traceback": [
      "\u001b[0;31m---------------------------------------------------------------------------\u001b[0m",
      "\u001b[0;31mValueError\u001b[0m                                Traceback (most recent call last)",
      "Cell \u001b[0;32mIn[6], line 1\u001b[0m\n\u001b[0;32m----> 1\u001b[0m \u001b[43mc_etl\u001b[49m\u001b[38;5;241;43m.\u001b[39;49m\u001b[43mplot_multi_sim_analysis\u001b[49m\u001b[43m(\u001b[49m\u001b[43ma_hex0\u001b[49m\u001b[43m)\u001b[49m\n",
      "File \u001b[0;32m/gpfs/bbp.cscs.ch/project/proj83/home/isbister/physiology_2023/cortex_etl/notebooks/examples/O1/calibration/stage_2_or_3_connection/../../../../../cortex_etl/multisim.py:115\u001b[0m, in \u001b[0;36mplot_multi_sim_analysis\u001b[0;34m(a)\u001b[0m\n\u001b[1;32m    112\u001b[0m c_etl\u001b[38;5;241m.\u001b[39mcompare_firing_rates_for_condition_pairs_by_neuron_class(a, a\u001b[38;5;241m.\u001b[39mcustom[\u001b[38;5;124m'\u001b[39m\u001b[38;5;124mby_neuron_class\u001b[39m\u001b[38;5;124m'\u001b[39m], filter_dict, neuron_classes\u001b[38;5;241m=\u001b[39mc_etl\u001b[38;5;241m.\u001b[39m\u001b[38;5;18m__dict__\u001b[39m[a\u001b[38;5;241m.\u001b[39manalysis_config\u001b[38;5;241m.\u001b[39mcustom[\u001b[38;5;124m'\u001b[39m\u001b[38;5;124mfr_analysis_neuron_classes_constant\u001b[39m\u001b[38;5;124m'\u001b[39m]])\n\u001b[1;32m    114\u001b[0m neuron_class_groupings_cmaps \u001b[38;5;241m=\u001b[39m [\u001b[38;5;124m'\u001b[39m\u001b[38;5;124mBlues\u001b[39m\u001b[38;5;124m'\u001b[39m, \u001b[38;5;124m'\u001b[39m\u001b[38;5;124mBlues\u001b[39m\u001b[38;5;124m'\u001b[39m, \u001b[38;5;124m'\u001b[39m\u001b[38;5;124mBlues\u001b[39m\u001b[38;5;124m'\u001b[39m, \u001b[38;5;124m'\u001b[39m\u001b[38;5;124mReds\u001b[39m\u001b[38;5;124m'\u001b[39m]\n\u001b[0;32m--> 115\u001b[0m \u001b[43mc_etl\u001b[49m\u001b[38;5;241;43m.\u001b[39;49m\u001b[43mplot_sim_stat_lines_all_sims\u001b[49m\u001b[43m(\u001b[49m\u001b[43ma\u001b[49m\u001b[43m,\u001b[49m\u001b[43m \u001b[49m\u001b[43ma\u001b[49m\u001b[38;5;241;43m.\u001b[39;49m\u001b[43mcustom\u001b[49m\u001b[43m[\u001b[49m\u001b[38;5;124;43m'\u001b[39;49m\u001b[38;5;124;43mby_neuron_class\u001b[39;49m\u001b[38;5;124;43m'\u001b[39;49m\u001b[43m]\u001b[49m\u001b[43m,\u001b[49m\u001b[43m \u001b[49m\u001b[38;5;124;43m\"\u001b[39;49m\u001b[38;5;124;43mtrue_mean_conductance\u001b[39;49m\u001b[38;5;124;43m\"\u001b[39;49m\u001b[43m,\u001b[49m\u001b[43m \u001b[49m\u001b[43mfilter_dict\u001b[49m\u001b[43m,\u001b[49m\u001b[43m \u001b[49m\u001b[38;5;28;43mstr\u001b[39;49m\u001b[43m(\u001b[49m\u001b[43ma\u001b[49m\u001b[38;5;241;43m.\u001b[39;49m\u001b[43mfigpaths\u001b[49m\u001b[38;5;241;43m.\u001b[39;49m\u001b[43mroot\u001b[49m\u001b[43m)\u001b[49m\u001b[43m \u001b[49m\u001b[38;5;241;43m+\u001b[39;49m\u001b[43m \u001b[49m\u001b[38;5;124;43m\"\u001b[39;49m\u001b[38;5;124;43m/\u001b[39;49m\u001b[38;5;124;43m\"\u001b[39;49m\u001b[43m \u001b[49m\u001b[38;5;241;43m+\u001b[39;49m\u001b[43m \u001b[49m\u001b[38;5;124;43m\"\u001b[39;49m\u001b[38;5;124;43mMeanConductanceInjection_\u001b[39;49m\u001b[38;5;124;43m\"\u001b[39;49m\u001b[43m \u001b[49m\u001b[38;5;241;43m+\u001b[39;49m\u001b[43m \u001b[49m\u001b[43mfilter_label\u001b[49m\u001b[43m,\u001b[49m\u001b[43m \u001b[49m\u001b[43mc_etl\u001b[49m\u001b[38;5;241;43m.\u001b[39;49m\u001b[38;5;18;43m__dict__\u001b[39;49m\u001b[43m[\u001b[49m\u001b[43ma\u001b[49m\u001b[38;5;241;43m.\u001b[39;49m\u001b[43manalysis_config\u001b[49m\u001b[38;5;241;43m.\u001b[39;49m\u001b[43mcustom\u001b[49m\u001b[43m[\u001b[49m\u001b[38;5;124;43m'\u001b[39;49m\u001b[38;5;124;43mvertical_plot_seperate_groupings\u001b[39;49m\u001b[38;5;124;43m'\u001b[39;49m\u001b[43m]\u001b[49m\u001b[43m]\u001b[49m\u001b[43m,\u001b[49m\u001b[43m \u001b[49m\u001b[43mneuron_class_groupings_cmaps\u001b[49m\u001b[43m,\u001b[49m\u001b[43m \u001b[49m\u001b[43mshow_in_vivo_FRs\u001b[49m\u001b[38;5;241;43m=\u001b[39;49m\u001b[38;5;28;43;01mFalse\u001b[39;49;00m\u001b[43m,\u001b[49m\u001b[43m \u001b[49m\u001b[43mlabel_map\u001b[49m\u001b[38;5;241;43m=\u001b[39;49m\u001b[43mc_etl\u001b[49m\u001b[38;5;241;43m.\u001b[39;49m\u001b[43mbluepy_neuron_class_map\u001b[49m\u001b[43m,\u001b[49m\u001b[43m \u001b[49m\u001b[43mfigsize\u001b[49m\u001b[38;5;241;43m=\u001b[39;49m\u001b[43m(\u001b[49m\u001b[43msim_stat_line_width\u001b[49m\u001b[43m,\u001b[49m\u001b[38;5;241;43m3.5\u001b[39;49m\u001b[43m)\u001b[49m\u001b[43m)\u001b[49m\n\u001b[1;32m    116\u001b[0m c_etl\u001b[38;5;241m.\u001b[39mplot_sim_stat_lines_all_sims(a, a\u001b[38;5;241m.\u001b[39mcustom[\u001b[38;5;124m'\u001b[39m\u001b[38;5;124mby_neuron_class\u001b[39m\u001b[38;5;124m'\u001b[39m], \u001b[38;5;124m\"\u001b[39m\u001b[38;5;124mmean_of_mean_firing_rates_per_second\u001b[39m\u001b[38;5;124m\"\u001b[39m, filter_dict, \u001b[38;5;28mstr\u001b[39m(a\u001b[38;5;241m.\u001b[39mfigpaths\u001b[38;5;241m.\u001b[39mroot) \u001b[38;5;241m+\u001b[39m \u001b[38;5;124m\"\u001b[39m\u001b[38;5;124m/\u001b[39m\u001b[38;5;124m\"\u001b[39m \u001b[38;5;241m+\u001b[39m \u001b[38;5;124m\"\u001b[39m\u001b[38;5;124mFRs_\u001b[39m\u001b[38;5;124m\"\u001b[39m \u001b[38;5;241m+\u001b[39m filter_label, c_etl\u001b[38;5;241m.\u001b[39m\u001b[38;5;18m__dict__\u001b[39m[a\u001b[38;5;241m.\u001b[39manalysis_config\u001b[38;5;241m.\u001b[39mcustom[\u001b[38;5;124m'\u001b[39m\u001b[38;5;124mvertical_plot_seperate_groupings\u001b[39m\u001b[38;5;124m'\u001b[39m]], neuron_class_groupings_cmaps,  show_in_vivo_FRs\u001b[38;5;241m=\u001b[39m\u001b[38;5;28;01mTrue\u001b[39;00m, custom_x_lims\u001b[38;5;241m=\u001b[39m[\u001b[38;5;241m0.0\u001b[39m, \u001b[38;5;241m2.5\u001b[39m], label_map\u001b[38;5;241m=\u001b[39mc_etl\u001b[38;5;241m.\u001b[39mbluepy_neuron_class_map, figsize\u001b[38;5;241m=\u001b[39m(sim_stat_line_width,\u001b[38;5;241m3.5\u001b[39m), major_loc\u001b[38;5;241m=\u001b[39mplt\u001b[38;5;241m.\u001b[39mMultipleLocator(\u001b[38;5;241m2.5\u001b[39m), minor_loc\u001b[38;5;241m=\u001b[39mplt\u001b[38;5;241m.\u001b[39mMultipleLocator(\u001b[38;5;241m0.5\u001b[39m))\n\u001b[1;32m    117\u001b[0m c_etl\u001b[38;5;241m.\u001b[39mplot_sim_stat_lines_all_sims(a, a\u001b[38;5;241m.\u001b[39mcustom[\u001b[38;5;124m'\u001b[39m\u001b[38;5;124mby_neuron_class\u001b[39m\u001b[38;5;124m'\u001b[39m], \u001b[38;5;124m\"\u001b[39m\u001b[38;5;124mdepol_mean\u001b[39m\u001b[38;5;124m\"\u001b[39m, filter_dict, \u001b[38;5;28mstr\u001b[39m(a\u001b[38;5;241m.\u001b[39mfigpaths\u001b[38;5;241m.\u001b[39mroot) \u001b[38;5;241m+\u001b[39m \u001b[38;5;124m\"\u001b[39m\u001b[38;5;124m/\u001b[39m\u001b[38;5;124m\"\u001b[39m \u001b[38;5;241m+\u001b[39m \u001b[38;5;124m\"\u001b[39m\u001b[38;5;124mDepolM_\u001b[39m\u001b[38;5;124m\"\u001b[39m \u001b[38;5;241m+\u001b[39m filter_label, c_etl\u001b[38;5;241m.\u001b[39m\u001b[38;5;18m__dict__\u001b[39m[a\u001b[38;5;241m.\u001b[39manalysis_config\u001b[38;5;241m.\u001b[39mcustom[\u001b[38;5;124m'\u001b[39m\u001b[38;5;124mvertical_plot_seperate_groupings\u001b[39m\u001b[38;5;124m'\u001b[39m]], neuron_class_groupings_cmaps,  show_in_vivo_FRs\u001b[38;5;241m=\u001b[39m\u001b[38;5;28;01mFalse\u001b[39;00m, custom_x_lims\u001b[38;5;241m=\u001b[39m[\u001b[38;5;241m0.0\u001b[39m, \u001b[38;5;241m20.0\u001b[39m], label_map\u001b[38;5;241m=\u001b[39mc_etl\u001b[38;5;241m.\u001b[39mbluepy_neuron_class_map, figsize\u001b[38;5;241m=\u001b[39m(sim_stat_line_width,\u001b[38;5;241m3.5\u001b[39m))\n",
      "File \u001b[0;32m/gpfs/bbp.cscs.ch/project/proj83/home/isbister/physiology_2023/cortex_etl/notebooks/examples/O1/calibration/stage_2_or_3_connection/../../../../../cortex_etl/figures.py:808\u001b[0m, in \u001b[0;36mplot_sim_stat_lines_all_sims\u001b[0;34m(a, stats_df, stat_key, stat_filter, file_name, neuron_class_groupings, neuron_class_grouping_cmaps, show_in_vivo_FRs, label_map, custom_x_lims, show_colorbar, figsize, major_loc, minor_loc, file_types)\u001b[0m\n\u001b[1;32m    804\u001b[0m     neuron_class_labels \u001b[38;5;241m=\u001b[39m [label_map[nc] \u001b[38;5;28;01mfor\u001b[39;00m nc \u001b[38;5;129;01min\u001b[39;00m neuron_classes]\n\u001b[1;32m    806\u001b[0m \u001b[38;5;28;01mif\u001b[39;00m (\u001b[38;5;28mlen\u001b[39m(stats) \u001b[38;5;241m>\u001b[39m \u001b[38;5;241m0\u001b[39m):\n\u001b[0;32m--> 808\u001b[0m     max_s \u001b[38;5;241m=\u001b[39m \u001b[43mnp\u001b[49m\u001b[38;5;241;43m.\u001b[39;49m\u001b[43mnanmax\u001b[49m\u001b[43m(\u001b[49m\u001b[43m[\u001b[49m\u001b[43mv\u001b[49m\u001b[43m \u001b[49m\u001b[38;5;28;43;01mfor\u001b[39;49;00m\u001b[43m \u001b[49m\u001b[43mv\u001b[49m\u001b[43m \u001b[49m\u001b[38;5;129;43;01min\u001b[39;49;00m\u001b[43m \u001b[49m\u001b[43mstats\u001b[49m\u001b[43m \u001b[49m\u001b[38;5;28;43;01mif\u001b[39;49;00m\u001b[43m \u001b[49m\u001b[38;5;129;43;01mnot\u001b[39;49;00m\u001b[43m \u001b[49m\u001b[43m(\u001b[49m\u001b[43mmath\u001b[49m\u001b[38;5;241;43m.\u001b[39;49m\u001b[43misinf\u001b[49m\u001b[43m(\u001b[49m\u001b[43mv\u001b[49m\u001b[43m)\u001b[49m\u001b[43m \u001b[49m\u001b[38;5;129;43;01mor\u001b[39;49;00m\u001b[43m \u001b[49m\u001b[43mmath\u001b[49m\u001b[38;5;241;43m.\u001b[39;49m\u001b[43misnan\u001b[49m\u001b[43m(\u001b[49m\u001b[43mv\u001b[49m\u001b[43m)\u001b[49m\u001b[43m)\u001b[49m\u001b[43m]\u001b[49m\u001b[43m)\u001b[49m\n\u001b[1;32m    809\u001b[0m     max_stats_used\u001b[38;5;241m.\u001b[39mappend(max_s)\n\u001b[1;32m    811\u001b[0m     ordered_stats \u001b[38;5;241m=\u001b[39m [filtered_stats\u001b[38;5;241m.\u001b[39metl\u001b[38;5;241m.\u001b[39mq(neuron_class\u001b[38;5;241m=\u001b[39mnc)[stat_key]\u001b[38;5;241m.\u001b[39miloc[\u001b[38;5;241m0\u001b[39m] \u001b[38;5;28;01mfor\u001b[39;00m nc \u001b[38;5;129;01min\u001b[39;00m neuron_classes]\n",
      "File \u001b[0;32m<__array_function__ internals>:200\u001b[0m, in \u001b[0;36mnanmax\u001b[0;34m(*args, **kwargs)\u001b[0m\n",
      "File \u001b[0;32m~/cortex_etl_jupyter_04_01_23/lib/python3.10/site-packages/numpy/lib/nanfunctions.py:483\u001b[0m, in \u001b[0;36mnanmax\u001b[0;34m(a, axis, out, keepdims, initial, where)\u001b[0m\n\u001b[1;32m    480\u001b[0m \u001b[38;5;28;01melse\u001b[39;00m:\n\u001b[1;32m    481\u001b[0m     \u001b[38;5;66;03m# Slow, but safe for subclasses of ndarray\u001b[39;00m\n\u001b[1;32m    482\u001b[0m     a, mask \u001b[38;5;241m=\u001b[39m _replace_nan(a, \u001b[38;5;241m-\u001b[39mnp\u001b[38;5;241m.\u001b[39minf)\n\u001b[0;32m--> 483\u001b[0m     res \u001b[38;5;241m=\u001b[39m \u001b[43mnp\u001b[49m\u001b[38;5;241;43m.\u001b[39;49m\u001b[43mamax\u001b[49m\u001b[43m(\u001b[49m\u001b[43ma\u001b[49m\u001b[43m,\u001b[49m\u001b[43m \u001b[49m\u001b[43maxis\u001b[49m\u001b[38;5;241;43m=\u001b[39;49m\u001b[43maxis\u001b[49m\u001b[43m,\u001b[49m\u001b[43m \u001b[49m\u001b[43mout\u001b[49m\u001b[38;5;241;43m=\u001b[39;49m\u001b[43mout\u001b[49m\u001b[43m,\u001b[49m\u001b[43m \u001b[49m\u001b[38;5;241;43m*\u001b[39;49m\u001b[38;5;241;43m*\u001b[39;49m\u001b[43mkwargs\u001b[49m\u001b[43m)\u001b[49m\n\u001b[1;32m    484\u001b[0m     \u001b[38;5;28;01mif\u001b[39;00m mask \u001b[38;5;129;01mis\u001b[39;00m \u001b[38;5;28;01mNone\u001b[39;00m:\n\u001b[1;32m    485\u001b[0m         \u001b[38;5;28;01mreturn\u001b[39;00m res\n",
      "File \u001b[0;32m<__array_function__ internals>:200\u001b[0m, in \u001b[0;36mamax\u001b[0;34m(*args, **kwargs)\u001b[0m\n",
      "File \u001b[0;32m~/cortex_etl_jupyter_04_01_23/lib/python3.10/site-packages/numpy/core/fromnumeric.py:2820\u001b[0m, in \u001b[0;36mamax\u001b[0;34m(a, axis, out, keepdims, initial, where)\u001b[0m\n\u001b[1;32m   2703\u001b[0m \u001b[38;5;129m@array_function_dispatch\u001b[39m(_amax_dispatcher)\n\u001b[1;32m   2704\u001b[0m \u001b[38;5;28;01mdef\u001b[39;00m \u001b[38;5;21mamax\u001b[39m(a, axis\u001b[38;5;241m=\u001b[39m\u001b[38;5;28;01mNone\u001b[39;00m, out\u001b[38;5;241m=\u001b[39m\u001b[38;5;28;01mNone\u001b[39;00m, keepdims\u001b[38;5;241m=\u001b[39mnp\u001b[38;5;241m.\u001b[39m_NoValue, initial\u001b[38;5;241m=\u001b[39mnp\u001b[38;5;241m.\u001b[39m_NoValue,\n\u001b[1;32m   2705\u001b[0m          where\u001b[38;5;241m=\u001b[39mnp\u001b[38;5;241m.\u001b[39m_NoValue):\n\u001b[1;32m   2706\u001b[0m \u001b[38;5;250m    \u001b[39m\u001b[38;5;124;03m\"\"\"\u001b[39;00m\n\u001b[1;32m   2707\u001b[0m \u001b[38;5;124;03m    Return the maximum of an array or maximum along an axis.\u001b[39;00m\n\u001b[1;32m   2708\u001b[0m \n\u001b[0;32m   (...)\u001b[0m\n\u001b[1;32m   2818\u001b[0m \u001b[38;5;124;03m    5\u001b[39;00m\n\u001b[1;32m   2819\u001b[0m \u001b[38;5;124;03m    \"\"\"\u001b[39;00m\n\u001b[0;32m-> 2820\u001b[0m     \u001b[38;5;28;01mreturn\u001b[39;00m \u001b[43m_wrapreduction\u001b[49m\u001b[43m(\u001b[49m\u001b[43ma\u001b[49m\u001b[43m,\u001b[49m\u001b[43m \u001b[49m\u001b[43mnp\u001b[49m\u001b[38;5;241;43m.\u001b[39;49m\u001b[43mmaximum\u001b[49m\u001b[43m,\u001b[49m\u001b[43m \u001b[49m\u001b[38;5;124;43m'\u001b[39;49m\u001b[38;5;124;43mmax\u001b[39;49m\u001b[38;5;124;43m'\u001b[39;49m\u001b[43m,\u001b[49m\u001b[43m \u001b[49m\u001b[43maxis\u001b[49m\u001b[43m,\u001b[49m\u001b[43m \u001b[49m\u001b[38;5;28;43;01mNone\u001b[39;49;00m\u001b[43m,\u001b[49m\u001b[43m \u001b[49m\u001b[43mout\u001b[49m\u001b[43m,\u001b[49m\n\u001b[1;32m   2821\u001b[0m \u001b[43m                          \u001b[49m\u001b[43mkeepdims\u001b[49m\u001b[38;5;241;43m=\u001b[39;49m\u001b[43mkeepdims\u001b[49m\u001b[43m,\u001b[49m\u001b[43m \u001b[49m\u001b[43minitial\u001b[49m\u001b[38;5;241;43m=\u001b[39;49m\u001b[43minitial\u001b[49m\u001b[43m,\u001b[49m\u001b[43m \u001b[49m\u001b[43mwhere\u001b[49m\u001b[38;5;241;43m=\u001b[39;49m\u001b[43mwhere\u001b[49m\u001b[43m)\u001b[49m\n",
      "File \u001b[0;32m~/cortex_etl_jupyter_04_01_23/lib/python3.10/site-packages/numpy/core/fromnumeric.py:86\u001b[0m, in \u001b[0;36m_wrapreduction\u001b[0;34m(obj, ufunc, method, axis, dtype, out, **kwargs)\u001b[0m\n\u001b[1;32m     83\u001b[0m         \u001b[38;5;28;01melse\u001b[39;00m:\n\u001b[1;32m     84\u001b[0m             \u001b[38;5;28;01mreturn\u001b[39;00m reduction(axis\u001b[38;5;241m=\u001b[39maxis, out\u001b[38;5;241m=\u001b[39mout, \u001b[38;5;241m*\u001b[39m\u001b[38;5;241m*\u001b[39mpasskwargs)\n\u001b[0;32m---> 86\u001b[0m \u001b[38;5;28;01mreturn\u001b[39;00m \u001b[43mufunc\u001b[49m\u001b[38;5;241;43m.\u001b[39;49m\u001b[43mreduce\u001b[49m\u001b[43m(\u001b[49m\u001b[43mobj\u001b[49m\u001b[43m,\u001b[49m\u001b[43m \u001b[49m\u001b[43maxis\u001b[49m\u001b[43m,\u001b[49m\u001b[43m \u001b[49m\u001b[43mdtype\u001b[49m\u001b[43m,\u001b[49m\u001b[43m \u001b[49m\u001b[43mout\u001b[49m\u001b[43m,\u001b[49m\u001b[43m \u001b[49m\u001b[38;5;241;43m*\u001b[39;49m\u001b[38;5;241;43m*\u001b[39;49m\u001b[43mpasskwargs\u001b[49m\u001b[43m)\u001b[49m\n",
      "\u001b[0;31mValueError\u001b[0m: zero-size array to reduction operation maximum which has no identity"
     ]
    },
    {
     "data": {
      "image/png": "[encoded data removed]",
      "text/plain": [
       "<Figure size 125x350 with 1 Axes>"
      ]
     },
     "metadata": {},
     "output_type": "display_data"
    },
    {
     "name": "stdout",
     "output_type": "stream",
     "text": [
      "Custom post analysis:  12\n",
      "Custom post analysis:  40\n",
      "Custom post analysis:  54\n",
      "Custom post analysis:  3\n",
      "Custom post analysis:  39\n",
      "Custom post analysis:  53\n",
      "Custom post analysis:  33\n",
      "Custom post analysis:  32\n",
      "Custom post analysis:  35\n",
      "Custom post analysis:  34\n",
      "Custom post analysis:  17\n",
      "Custom post analysis:  18\n",
      "Custom post analysis:  56\n",
      "Custom post analysis:  6\n",
      "Custom post analysis:  44\n",
      "Custom post analysis:  58\n",
      "Custom post analysis:  21\n",
      "Custom post analysis:  57\n",
      "Custom post analysis:  31\n",
      "Custom post analysis:  8\n",
      "Custom post analysis:  41\n",
      "Custom post analysis:  59\n",
      "Custom post analysis:  2\n",
      "Custom post analysis:  36\n",
      "Custom post analysis:  42\n",
      "Custom post analysis:  25\n",
      "Custom post analysis:  11\n",
      "Custom post analysis:  43\n",
      "Custom post analysis:  26\n",
      "Custom post analysis:  1\n",
      "Custom post analysis:  24\n",
      "Custom post analysis:  10\n",
      "Custom post analysis:  45\n",
      "Custom post analysis:  16\n",
      "Custom post analysis:  46\n",
      "Custom post analysis:  4\n",
      "Custom post analysis:  37\n",
      "Custom post analysis:  48\n",
      "Custom post analysis:  23\n",
      "Custom post analysis:  13\n",
      "Custom post analysis:  22\n",
      "Custom post analysis:  0\n",
      "Custom post analysis:  47\n",
      "Custom post analysis:  28\n",
      "Custom post analysis:  14\n",
      "Custom post analysis:  49\n",
      "Custom post analysis:  27\n",
      "Custom post analysis:  5\n",
      "Custom post analysis:  38\n",
      "Custom post analysis:  50\n",
      "Custom post analysis:  19\n",
      "Custom post analysis:  20\n",
      "Custom post analysis:  7\n",
      "Custom post analysis:  51\n",
      "Custom post analysis:  15\n",
      "Custom post analysis:  52\n",
      "Custom post analysis:  30\n",
      "Custom post analysis:  29\n",
      "Custom post analysis:  9\n",
      "Custom post analysis:  55\n"
     ]
    }
   ],
   "source": [
    "c_etl.plot_multi_sim_analysis(a_hex0)"
   ]
  },
  {
   "cell_type": "code",
   "execution_count": null,
   "metadata": {},
   "outputs": [],
   "source": [
    "c_etl.plot_rasters(a_hex0)"
   ]
  },
  {
   "cell_type": "code",
   "execution_count": null,
   "metadata": {},
   "outputs": [],
   "source": [
    "c_etl.extract_fr_df(a_hex0)"
   ]
  },
  {
   "cell_type": "code",
   "execution_count": null,
   "metadata": {},
   "outputs": [],
   "source": [
    "c_etl.missing_synapses_analysis(a_hex0)"
   ]
  },
  {
   "cell_type": "code",
   "execution_count": null,
   "metadata": {},
   "outputs": [],
   "source": [
    "c_etl.flatspace_videos(a_hexO1)"
   ]
  }
 ],
 "metadata": {
  "kernelspec": {
   "display_name": "cortex_etl_jupyter_04_01_23",
   "language": "python",
   "name": "cortex_etl_jupyter_04_01_23"
  },
  "language_info": {
   "codemirror_mode": {
    "name": "ipython",
    "version": 3
   },
   "file_extension": ".py",
   "mimetype": "text/x-python",
   "name": "python",
   "nbconvert_exporter": "python",
   "pygments_lexer": "ipython3",
   "version": "3.10.8"
  }
 },
 "nbformat": 4,
 "nbformat_minor": 4
}
