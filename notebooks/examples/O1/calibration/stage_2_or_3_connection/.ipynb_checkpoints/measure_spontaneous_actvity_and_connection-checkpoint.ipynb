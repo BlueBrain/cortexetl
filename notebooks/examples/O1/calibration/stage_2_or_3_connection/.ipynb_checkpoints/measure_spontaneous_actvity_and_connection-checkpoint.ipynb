{
 "cells": [
  {
   "cell_type": "code",
   "execution_count": 1,
   "metadata": {},
   "outputs": [],
   "source": [
    "import sys\n",
    "sys.path.append('../../../../..')\n",
    "import cortex_etl as c_etl"
   ]
  },
  {
   "cell_type": "code",
   "execution_count": 2,
   "metadata": {},
   "outputs": [
    {
     "name": "stderr",
     "output_type": "stream",
     "text": [
      "2023-11-29 12:16:07,939 INFO blueetl.analysis: MultiAnalyzer configuration: ngv_test_0_29_11_23.yaml\n",
      "2023-11-29 12:16:08,035 INFO blueetl.config.simulations: Detected xarray configuration format\n",
      "2023-11-29 12:16:08,043 INFO blueetl.store.base: Using class ParquetStore with basedir /gpfs/bbp.cscs.ch/project/proj83/home/isbister/post_physiology_2023/cortex_etl_output/campaigns/ngv_dummy/ngv_test_0_29_11-23/testNGVSSCX_spikes/repo\n",
      "2023-11-29 12:16:08,044 INFO blueetl.store.base: Using class ParquetStore with basedir /gpfs/bbp.cscs.ch/project/proj83/home/isbister/post_physiology_2023/cortex_etl_output/campaigns/ngv_dummy/ngv_test_0_29_11-23/testNGVSSCX_spikes/features\n",
      "2023-11-29 12:16:08,076 INFO blueetl.config.simulations: Detected blueetl configuration format\n",
      "2023-11-29 12:16:08,078 INFO blueetl.cache: Loading cached checksums from /gpfs/bbp.cscs.ch/project/proj83/home/isbister/post_physiology_2023/cortex_etl_output/campaigns/ngv_dummy/ngv_test_0_29_11-23/testNGVSSCX_spikes/config/checksums.cached.yaml\n",
      "2023-11-29 12:16:08,083 INFO blueetl.cache: Initialize cache\n",
      "2023-11-29 12:16:08,134 INFO blueetl.repository: Extracting simulations...\n",
      "2023-11-29 12:16:08,189 INFO blueetl.extract.simulations: Simulations ignored because missing: 0\n",
      "2023-11-29 12:16:08,190 INFO blueetl.extract.simulations: Simulations ignored because incomplete: 0\n",
      "2023-11-29 12:16:08,191 INFO blueetl.extract.simulations: Simulations filtered out: 0, with query: {}\n",
      "2023-11-29 12:16:08,191 INFO blueetl.extract.simulations: Simulations extracted: 1/1, ids: [0]\n",
      "2023-11-29 12:16:08,195 INFO blueetl.repository: Extracting simulations: cached=True, filtered=False\n",
      "2023-11-29 12:16:08,195 INFO blueetl.repository: Extracting simulations [done in 0.06 seconds]\n",
      "2023-11-29 12:16:08,196 INFO blueetl.repository: Extracting neurons...\n",
      "2023-11-29 12:16:08,314 INFO blueetl.repository: Extracting neurons: cached=True, filtered=False\n",
      "2023-11-29 12:16:08,315 INFO blueetl.repository: Extracting neurons [done in 0.12 seconds]\n",
      "2023-11-29 12:16:08,316 INFO blueetl.repository: Extracting neuron_classes...\n",
      "2023-11-29 12:16:08,323 INFO blueetl.repository: Extracting neuron_classes: cached=True, filtered=False\n",
      "2023-11-29 12:16:08,323 INFO blueetl.repository: Extracting neuron_classes [done in 0.01 seconds]\n",
      "2023-11-29 12:16:08,324 INFO blueetl.repository: Extracting trial_steps...\n",
      "2023-11-29 12:16:08,330 INFO blueetl.repository: Extracting trial_steps: cached=True, filtered=False\n",
      "2023-11-29 12:16:08,330 INFO blueetl.repository: Extracting trial_steps [done in 0.01 seconds]\n",
      "2023-11-29 12:16:08,331 INFO blueetl.repository: Extracting windows...\n",
      "2023-11-29 12:16:08,346 INFO blueetl.repository: Extracting windows: cached=True, filtered=False\n",
      "2023-11-29 12:16:08,347 INFO blueetl.repository: Extracting windows [done in 0.02 seconds]\n",
      "2023-11-29 12:16:08,347 INFO blueetl.repository: Extracting report...\n",
      "2023-11-29 12:16:08,370 INFO blueetl.repository: Extracting report: cached=True, filtered=False\n",
      "2023-11-29 12:16:08,370 INFO blueetl.repository: Extracting report [done in 0.02 seconds]\n",
      "2023-11-29 12:16:08,371 INFO blueetl.features: Step 1: grouping features by attributes...\n",
      "2023-11-29 12:16:08,372 INFO blueetl.features: Preprocessing features 1/1 [id=0]\n",
      "2023-11-29 12:16:08,372 INFO blueetl.features: Step 1: grouping features by attributes [done in 0.00 seconds]\n",
      "2023-11-29 12:16:08,373 INFO blueetl.features: Step 2: processing cached features...\n",
      "2023-11-29 12:16:08,947 INFO blueetl.features: Calculated features 1/1 [id=0]\n",
      "- by_gid: cached=True, filtered=False\n",
      "- by_gid_and_trial: cached=True, filtered=False\n",
      "- by_neuron_class: cached=True, filtered=False\n",
      "- by_neuron_class_and_trial: cached=True, filtered=False\n",
      "- histograms: cached=True, filtered=False\n",
      "2023-11-29 12:16:08,948 INFO blueetl.features: Step 2: processing cached features [done in 0.57 seconds]\n",
      "2023-11-29 12:16:08,949 INFO blueetl.features: Step 3: processing new features...\n",
      "2023-11-29 12:16:08,950 INFO blueetl.features: Step 3: processing new features [done in 0.00 seconds]\n",
      "2023-11-29 12:16:08,950 INFO blueetl.features: Features calculation completed\n"
     ]
    }
   ],
   "source": [
    "# ma = c_etl.analysis_initial_processing(\"stage_2_or_3_connection_x.yaml\", loglevel=\"ERROR\") #\n",
    "# ma = c_etl.analysis_initial_processing(\"connectome_rewiring_calibration_example.yaml\") # loglevel=\"ERROR\"\n",
    "ma = c_etl.analysis_initial_processing(\"ngv_test_0_29_11_23.yaml\") # loglevel=\"ERROR\"\n",
    "a_hex0 = ma.testNGVSSCX_spikes\n",
    "# a_hexO1 = ma.hex_O1_spikes"
   ]
  },
  {
   "cell_type": "code",
   "execution_count": null,
   "metadata": {},
   "outputs": [],
   "source": [
    "c_etl.post_analysis(a_hex0)"
   ]
  },
  {
   "cell_type": "code",
   "execution_count": null,
   "metadata": {},
   "outputs": [],
   "source": [
    "c_etl.plot_multi_sim_analysis(a_hex0)"
   ]
  },
  {
   "cell_type": "code",
   "execution_count": null,
   "metadata": {},
   "outputs": [],
   "source": [
    "c_etl.plot_rasters(a_hex0)"
   ]
  },
  {
   "cell_type": "code",
   "execution_count": null,
   "metadata": {},
   "outputs": [],
   "source": [
    "c_etl.extract_fr_df(a_hex0)"
   ]
  },
  {
   "cell_type": "code",
   "execution_count": null,
   "metadata": {},
   "outputs": [],
   "source": [
    "c_etl.missing_synapses_analysis(a_hex0)"
   ]
  },
  {
   "cell_type": "code",
   "execution_count": null,
   "metadata": {},
   "outputs": [],
   "source": [
    "c_etl.flatspace_videos(a_hexO1)"
   ]
  }
 ],
 "metadata": {
  "kernelspec": {
   "display_name": "cortex_etl_jupyter_04_01_23",
   "language": "python",
   "name": "cortex_etl_jupyter_04_01_23"
  },
  "language_info": {
   "codemirror_mode": {
    "name": "ipython",
    "version": 3
   },
   "file_extension": ".py",
   "mimetype": "text/x-python",
   "name": "python",
   "nbconvert_exporter": "python",
   "pygments_lexer": "ipython3",
   "version": "3.10.8"
  }
 },
 "nbformat": 4,
 "nbformat_minor": 4
}
