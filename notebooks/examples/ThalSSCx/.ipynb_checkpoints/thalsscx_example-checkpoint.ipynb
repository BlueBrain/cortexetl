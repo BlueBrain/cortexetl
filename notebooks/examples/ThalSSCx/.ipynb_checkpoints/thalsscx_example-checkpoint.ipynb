{
 "cells": [
  {
   "cell_type": "code",
   "execution_count": null,
   "metadata": {},
   "outputs": [],
   "source": [
    "import sys\n",
    "sys.path.append('../../../..')\n",
    "import cortexetl as c_etl"
   ]
  },
  {
   "cell_type": "code",
   "execution_count": null,
   "metadata": {},
   "outputs": [],
   "source": [
    "from blueetl.analysis import run_from_file\n",
    "\n",
    "loglevel = \"INFO\"\n",
    "ma = run_from_file(\"connectome_rewiring_calibration_ThalSSCx.yaml\", loglevel=loglevel)\n"
   ]
  },
  {
   "cell_type": "code",
   "execution_count": null,
   "metadata": {},
   "outputs": [],
   "source": [
    "a = ma.hex47_spikes\n",
    "print(a)\n",
    "print(a.repo)\n",
    "\n",
    "# a.repo.neurons.df.etl.q(neuron_class=\"L5_EXC\")\n",
    "\n",
    "\n",
    "\n",
    "# sim_wind_nc_spikes_df = a.repo.report.df.etl.q(simulation_id=0, window=\"unconn_2nd_half\", neuron_class=\"L5_EXC\")\n",
    "# print(sim_wind_nc_spikes_df)\n",
    "# sim_wind_nc_spikes_df.times\n",
    "# sim_wind_nc_spikes_df.gid\n",
    "\n",
    "print(a.repo.simulations.df.columns)\n",
    "\n",
    "# a.repo.circuit.df = "
   ]
  },
  {
   "cell_type": "code",
   "execution_count": null,
   "metadata": {},
   "outputs": [],
   "source": [
    "a.analysis_config.custom['plot_multi_sim_analysis'] = \n",
    "\n",
    "ma"
   ]
  }
 ],
 "metadata": {
  "kernelspec": {
   "display_name": "cortexetl.jupyter_04_01_23",
   "language": "python",
   "name": "cortexetl.jupyter_04_01_23"
  },
  "language_info": {
   "codemirror_mode": {
    "name": "ipython",
    "version": 3
   },
   "file_extension": ".py",
   "mimetype": "text/x-python",
   "name": "python",
   "nbconvert_exporter": "python",
   "pygments_lexer": "ipython3",
   "version": "3.10.8"
  }
 },
 "nbformat": 4,
 "nbformat_minor": 4
}
