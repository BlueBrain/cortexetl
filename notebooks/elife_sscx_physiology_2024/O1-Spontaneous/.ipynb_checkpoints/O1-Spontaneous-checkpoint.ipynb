{
 "cells": [
  {
   "cell_type": "code",
   "execution_count": null,
   "metadata": {},
   "outputs": [],
   "source": [
    "import sys\n",
    "sys.path.append('../../..')\n",
    "import cortexetl as c_etl\n",
    "\n",
    "ma = c_etl.analysis_initial_processing(\"/gpfs/bbp.cscs.ch/project/proj83/home/isbister/physiology_2023/cortexetl/configs/elife_sscx_physiology_2024/2-PfrTransfer/2-PfrTransfer-6-3rdConnectionRemaining-etl3.yaml\", loglevel=\"ERROR\")\n",
    "# ma = c_etl.analysis_initial_processing(\"../../configs/elife_sscx_physiology_2024/2-PfrTransfer/2-PfrTransfer-6-3rdConnectionRemaining-etl3.yaml\", loglevel=\"ERROR\")\n",
    "a_hex0 = ma.hex0_spikes\n",
    "a_hexO1 = ma.hex_O1_spikes\n",
    "c_etl.post_analysis(a_hex0)"
   ]
  },
  {
   "cell_type": "code",
   "execution_count": 33,
   "metadata": {},
   "outputs": [],
   "source": [
    "figure_output_path = \"/gpfs/bbp.cscs.ch/project/proj83/home/isbister/physiology_2023/elife_sscx_physiology_2024_figures/elife_sscx_physiology_2024_1st_revision/\"\n",
    "import os\n",
    "os.makedirs(figure_output_path, exist_ok=True)"
   ]
  },
  {
   "cell_type": "markdown",
   "metadata": {},
   "source": [
    "# Fig 4G1"
   ]
  },
  {
   "cell_type": "code",
   "execution_count": null,
   "metadata": {},
   "outputs": [],
   "source": [
    "sim_1_dir = figure_output_path + 'Fig4/Fig7A-Sim1'\n",
    "sim_2_dir = figure_output_path + 'Fig4/Fig7A-Sim2'\n",
    "os.makedirs(sim_1_dir, exist_ok=True)\n",
    "os.makedirs(sim_2_dir, exist_ok=True)\n",
    "\n",
    "\n",
    "a_hex0.analysis_config.custom['plot_rasters'] = True\n",
    "c_etl.plot_rasters(a_hex0, custom_file_path=sim_1_dir, simulation_filter={\"ca\":1.05, \"depol_stdev_mean_ratio\": 0.4, \"desired_connected_proportion_of_invivo_frs\": 0.1})\n",
    "c_etl.plot_rasters(a_hex0, custom_file_path=sim_2_dir, simulation_filter={\"ca\":1.1, \"depol_stdev_mean_ratio\": 0.2, \"desired_connected_proportion_of_invivo_frs\": 0.9})"
   ]
  },
  {
   "cell_type": "markdown",
   "metadata": {},
   "source": [
    "# Video"
   ]
  },
  {
   "cell_type": "code",
   "execution_count": null,
   "metadata": {},
   "outputs": [],
   "source": [
    "c_etl.plot_rasters(a_hex0)"
   ]
  },
  {
   "cell_type": "markdown",
   "metadata": {},
   "source": [
    "# Fig 4G2"
   ]
  },
  {
   "cell_type": "code",
   "execution_count": null,
   "metadata": {},
   "outputs": [],
   "source": [
    "hm_dims = (a_hex0.analysis_config.custom['heatmap_dims']['hor_key'], \n",
    "           a_hex0.analysis_config.custom['heatmap_dims']['ver_key'], \n",
    "           a_hex0.analysis_config.custom['heatmap_dims']['x_key'], \n",
    "           a_hex0.analysis_config.custom['heatmap_dims']['y_key'])\n",
    "\n",
    "c_etl.heatmap(a_hex0.custom['custom_simulations_post_analysis'], \n",
    "              \"ei_corr_rval\", \n",
    "              \"figures/Fig7B-ei_corr_rval.pdf\", \n",
    "              *hm_dims, \n",
    "              mask_key=\"bursting\", \n",
    "              figsize=(8, 6))"
   ]
  },
  {
   "cell_type": "markdown",
   "metadata": {},
   "source": [
    "# Fig 4I Left"
   ]
  },
  {
   "cell_type": "code",
   "execution_count": null,
   "metadata": {},
   "outputs": [],
   "source": [
    "c_etl.plot_sim_stat_lines_all_sims(a_hex0, \n",
    "                                   a_hex0.custom['layer_wise_features'], \n",
    "                                   \"ei_corr_rval\", \n",
    "                                   {\"bursting\": False}, \n",
    "                                   \"figures/Fig4Ileft-LayerWiseEI_NonBursting\", \n",
    "                                   [c_etl.silico_layer_strings[:0:-1]], \n",
    "                                   ['Greys'], \n",
    "                                   show_in_vivo_FRs=False, \n",
    "                                   custom_x_lims=[-0.2, 1.0], \n",
    "                                   show_colorbar=True,\n",
    "                                  file_types=[\".pdf\"],\n",
    "                                  figsize=(1.6,2.25))"
   ]
  },
  {
   "cell_type": "markdown",
   "metadata": {},
   "source": [
    "# Fig 4H"
   ]
  },
  {
   "cell_type": "code",
   "execution_count": null,
   "metadata": {},
   "outputs": [],
   "source": [
    "# c_etl.flatspace_videos(a_hexO1)\n",
    "\n",
    "a = a_hexO1\n",
    "\n",
    "\n",
    "import os\n",
    "from blueetl.parallel import call_by_simulation\n",
    "from functools import partial\n",
    "\n",
    "for flatspace_video_key in a.analysis_config.custom['flatspace_videos']:\n",
    "    flatspace_video_opt = a.analysis_config.custom['flatspace_videos'][flatspace_video_key]\n",
    "    flatspace_video_opt['vid_str'] = flatspace_video_opt['window'] + \"_\" + str(flatspace_video_opt['t_step']) + \"_\" + str(flatspace_video_opt['n_spatial_bins']) + \"_\" + str(flatspace_video_opt['temporal_smoothing_sigma'])\n",
    "    flatspace_video_opt['video_output_root'] = str(a.figpaths.flatspace_videos) + \"/\" + flatspace_video_opt['vid_str'] + \"/\"\n",
    "    os.makedirs(flatspace_video_opt['video_output_root'], exist_ok=True)\n",
    "\n",
    "    dataframes={\n",
    "        \"circuits\": a.repo.simulations.df.loc[:, ['circuit', 'circuit_id', 'simulation_id']],\n",
    "        \"spikes\": a.repo.report.df.etl.q(neuron_class=\"ALL\", window=flatspace_video_opt['window']),\n",
    "        \"windows\": a.repo.windows.df.etl.q(window=flatspace_video_opt['window']), \n",
    "        \"neurons\": a.repo.neurons.df.etl.q(neuron_class=\"ALL\")}\n",
    "\n",
    "    gids = a.repo.neurons.df.etl.q(circuit_id=0)['gid']\n",
    "    locations = a.repo.simulations.df.loc[:, ['circuit', 'circuit_id', 'simulation_id']].iloc[0]['circuit'].cells.get(gids, [\"x\", \"y\", \"z\"])\n",
    "    flat_locations = flatten_locations(locations, a.analysis_config.custom[\"flatmap\"])\n",
    "\n",
    "    results = call_by_simulation(a.repo.simulations.df.etl.q(ca=1.1, depol_stdev_mean_ratio=0.2, desired_connected_proportion_of_invivo_frs=0.9), \n",
    "                                    dataframes, \n",
    "                                    func=partial(single_flatspace_video, \n",
    "                                                flat_locations=flat_locations, \n",
    "                                                flatspace_video_opt=flatspace_video_opt, \n",
    "                                                analysis_config=a.analysis_config.custom,\n",
    "                                                flatspace_path_pre='figures/Fig7D-correlated_flatspace.mp3', \n",
    "                                                images_dir='figures/Fig7D-correlated_flatspace/'),\n",
    "                                    how='series')"
   ]
  },
  {
   "cell_type": "markdown",
   "metadata": {},
   "source": [
    "# Fig 4G3"
   ]
  },
  {
   "cell_type": "code",
   "execution_count": null,
   "metadata": {},
   "outputs": [],
   "source": [
    "import pandas as pd\n",
    "\n",
    "hor_key=\"ca\"; ver_key=\"depol_stdev_mean_ratio\"; x_key=\"freq\"; y_key=\"desired_connected_proportion_of_invivo_frs\"\n",
    "hm_dims = (hor_key, ver_key, x_key, y_key)\n",
    "\n",
    "all_fft_dfs = pd.merge(a_hex0.custom['fft'].reset_index(), a_hex0.custom['custom_simulations_post_analysis'].reset_index()[['simulation_id', 'bursting']])\n",
    "c_etl.heatmap(all_fft_dfs, \"power\",  \"figures/Fig7E-FFT\", *hm_dims, mask_key=\"bursting\", figsize=(3.7, 2.1), show_colorbar=True, override_cmap='Greys')"
   ]
  },
  {
   "cell_type": "code",
   "execution_count": null,
   "metadata": {},
   "outputs": [],
   "source": [
    "a_hex0.custom['custom_features_by_neuron_class'].columns\n",
    "min_depol_mean_by_sim = a_hex0.custom['custom_features_by_neuron_class'].groupby(['simulation_id']).min()['depol_mean']\n",
    "max_depol_mean_by_sim = a_hex0.custom['custom_features_by_neuron_class'].groupby(['simulation_id']).max()['depol_mean']\n",
    "import numpy as np\n",
    "a = np.mean(max_depol_mean_by_sim - min_depol_mean_by_sim)\n",
    "\n",
    "min_depol_mean_by_neuron_class = a_hex0.custom['custom_features_by_neuron_class'].groupby(['neuron_class']).min()['depol_mean']\n",
    "max_depol_mean_by_neuron_class = a_hex0.custom['custom_features_by_neuron_class'].groupby(['neuron_class']).max()['depol_mean']\n",
    "b = np.mean(max_depol_mean_by_neuron_class - min_depol_mean_by_neuron_class)\n",
    "\n",
    "a/b\n"
   ]
  },
  {
   "cell_type": "markdown",
   "metadata": {},
   "source": [
    "# Fig 6F"
   ]
  },
  {
   "cell_type": "code",
   "execution_count": 1,
   "metadata": {},
   "outputs": [
    {
     "name": "stdout",
     "output_type": "stream",
     "text": [
      "\n",
      "----- Custom post analysis -----\n",
      "Custom post analysis:  2\n",
      "Custom post analysis:  1\n",
      "Custom post analysis:  13\n",
      "Custom post analysis:  3\n",
      "Custom post analysis:  18\n",
      "Custom post analysis:  16\n",
      "Custom post analysis:  8\n",
      "Custom post analysis:  11\n",
      "Custom post analysis:  6\n",
      "----- Custom post analysis complete: 21.99s -----\n"
     ]
    }
   ],
   "source": [
    "import sys\n",
    "sys.path.append('../../..')\n",
    "import cortexetl as c_etl\n",
    "\n",
    "ma2 = c_etl.analysis_initial_processing(\"../../../configs/elife_sscx_physiology_2024/8-FRDistributionTest/8-FRDistributionTest-0-Test-etl3.yaml\", loglevel=\"ERROR\")\n",
    "# ma2 = c_etl.analysis_initial_processing(\"../../../configs/elife_sscx_physiology_2024/8-FRDistributionTest/neuropixels_lfp_10m_384ch_hex0_40Khz_2023_10_18.yaml\", loglevel=\"ERROR\")\n",
    "a2_hex0 = ma2.hex0_spikes\n",
    "c_etl.post_analysis(a2_hex0)\n",
    "a = a2_hex0"
   ]
  },
  {
   "cell_type": "code",
   "execution_count": 159,
   "metadata": {},
   "outputs": [
    {
     "name": "stdout",
     "output_type": "stream",
     "text": [
      "0.3\n"
     ]
    },
    {
     "name": "stderr",
     "output_type": "stream",
     "text": [
      "/nvme/isbister/2650814/ipykernel_145414/1631139300.py:144: UserWarning: Tight layout not applied. The bottom and top margins cannot be made large enough to accommodate all axes decorations.\n",
      "  plt.tight_layout()\n"
     ]
    },
    {
     "data": {
      "image/png": "[encoded data removed]",
      "text/plain": [
       "<Figure size 434x259 with 16 Axes>"
      ]
     },
     "metadata": {},
     "output_type": "display_data"
    },
    {
     "name": "stdout",
     "output_type": "stream",
     "text": [
      "0.7\n"
     ]
    },
    {
     "name": "stderr",
     "output_type": "stream",
     "text": [
      "/nvme/isbister/2650814/ipykernel_145414/1631139300.py:36: SettingWithCopyWarning: \n",
      "A value is trying to be set on a copy of a slice from a DataFrame.\n",
      "Try using .loc[row_indexer,col_indexer] = value instead\n",
      "\n",
      "See the caveats in the documentation: https://pandas.pydata.org/pandas-docs/stable/user_guide/indexing.html#returning-a-view-versus-a-copy\n",
      "  filtered_df.loc[:, 'layer'] = filtered_df.apply(lambda row: row['neuron_class'].split('_')[0], axis = 1)\n",
      "/nvme/isbister/2650814/ipykernel_145414/1631139300.py:37: SettingWithCopyWarning: \n",
      "A value is trying to be set on a copy of a slice from a DataFrame.\n",
      "Try using .loc[row_indexer,col_indexer] = value instead\n",
      "\n",
      "See the caveats in the documentation: https://pandas.pydata.org/pandas-docs/stable/user_guide/indexing.html#returning-a-view-versus-a-copy\n",
      "  filtered_df.loc[:, 'neuron_type'] = filtered_df.apply(lambda row: row['neuron_class'].split('_')[1], axis = 1)\n",
      "/nvme/isbister/2650814/ipykernel_145414/1631139300.py:144: UserWarning: Tight layout not applied. The bottom and top margins cannot be made large enough to accommodate all axes decorations.\n",
      "  plt.tight_layout()\n"
     ]
    },
    {
     "data": {
      "image/png": "[encoded data removed]",
      "text/plain": [
       "<Figure size 434x259 with 16 Axes>"
      ]
     },
     "metadata": {},
     "output_type": "display_data"
    }
   ],
   "source": [
    "import matplotlib\n",
    "import matplotlib.pyplot as plt\n",
    "import seaborn as sns\n",
    "import numpy as np\n",
    "import pandas as pd\n",
    "\n",
    "# figsize=(3.5, .5)\n",
    "ylims = [0.0, 10.0]\n",
    "\n",
    "\n",
    "import math\n",
    "def set_ylabel_hist_to_nearest_10(ax, counts):\n",
    "    \n",
    "    y_max = max(counts)\n",
    "    rounded_y_max = math.ceil(y_max / 10) * 10\n",
    "    ax.set_ylim(0, rounded_y_max)\n",
    "    ax.set_yticks([0, rounded_y_max])\n",
    "    \n",
    "mtypes = a2_hex0.repo.simulations.df.loc[:, 'circuit'].iloc[0].nodes[None].get(a2_hex0.repo.neurons.df.gid, \"mtype\")#.cat.remove_unused_categories()\n",
    "mtypes = mtypes.to_frame(name=\"mtype\").rename_axis(\"gid\")\n",
    "mtypes['mtype_wo_layer'] = mtypes.apply(lambda row: row['mtype'].split('_')[1], axis = 1).astype('category')\n",
    "shuffled_mtype_wo_layer_categories = np.random.permutation(mtypes.mtype_wo_layer.unique())\n",
    "\n",
    "\n",
    "\n",
    "\n",
    "# for p_fr in [0.3, 0.7]:\n",
    "for p_fr in [0.3, 0.7]:\n",
    "    \n",
    "    print(p_fr)\n",
    "\n",
    "    neuron_classes = ['L1_INH', 'L23_EXC', 'L23_INH', 'L23_PV', 'L23_SST', 'L23_5HT3aR', 'L4_EXC', 'L4_INH', 'L4_PV', 'L4_SST', 'L4_5HT3aR', 'L5_EXC', 'L5_INH', 'L5_PV', 'L5_SST', 'L5_5HT3aR', 'L6_EXC', 'L6_INH', 'L6_PV', 'L6_SST', 'L6_5HT3aR']\n",
    "    sim = a2_hex0.repo.simulations.df.etl.q(ca=1.05, desired_connected_proportion_of_invivo_frs=p_fr, depol_stdev_mean_ratio=0.4).iloc[0]\n",
    "    filtered_df = a2_hex0.features.by_gid.df.reset_index().etl.q(neuron_class=neuron_classes, simulation_id=sim['simulation_id'])\n",
    "    \n",
    "    filtered_df.loc[:, 'layer'] = filtered_df.apply(lambda row: row['neuron_class'].split('_')[0], axis = 1)\n",
    "    filtered_df.loc[:, 'neuron_type'] = filtered_df.apply(lambda row: row['neuron_class'].split('_')[1], axis = 1)\n",
    "    \n",
    "    \n",
    "#     filtered_df = filtered_df.groupby(['simulation_id', 'gid', 'neuron_class', 'layer', 'neuron_type']).mean().reset_index()\n",
    "\n",
    "#     ncs_by_layer = {\n",
    "#         'L1': ['', 'L1_INH', '', '', ''],\n",
    "#         'L23': ['L23_EXC', 'L23_INH', 'L23_PV', 'L23_SST', 'L23_5HT3aR'],\n",
    "#         'L4': ['L4_EXC', 'L4_INH', 'L4_PV', 'L4_SST', 'L4_5HT3aR'],\n",
    "#         'L5': ['L5_EXC', 'L5_INH', 'L5_PV', 'L5_SST', 'L5_5HT3aR'],\n",
    "#         'L6': ['L6_EXC', 'L6_INH', 'L6_PV', 'L6_SST', 'L6_5HT3aR']\n",
    "#     }\n",
    "    ncs_by_layer = {\n",
    "#         'L1': ['', 'L1_INH', '', '', ''],\n",
    "        'L23': ['L23_EXC', 'L23_PV', 'L23_SST', 'L23_5HT3aR'],\n",
    "        'L4': ['L4_EXC', 'L4_PV', 'L4_SST', 'L4_5HT3aR'],\n",
    "        'L5': ['L5_EXC', 'L5_PV', 'L5_SST', 'L5_5HT3aR'],\n",
    "        'L6': ['L6_EXC', 'L6_PV', 'L6_SST', 'L6_5HT3aR']\n",
    "    }\n",
    "\n",
    "    layers = ['L23', 'L4', 'L5', 'L6']\n",
    "    nlayers = len(layers)\n",
    "#     nc_types = [\"EXC\", \"INH\", \"PV\", \"SST\", \"5HT3aR\"]\n",
    "#     n_nc_types = 5\n",
    "    nc_types = [\"EXC\", \"PV\", \"SST\", \"5HT3aR\"]\n",
    "    n_nc_types = 4\n",
    "    figure_scaling_factor = 1.75\n",
    "\n",
    "    _, axes = plt.subplots(nlayers, n_nc_types, figsize=(n_nc_types*0.62*figure_scaling_factor, nlayers*.37*figure_scaling_factor))\n",
    "    for row_i, layer in enumerate(layers):\n",
    "\n",
    "        layer_nc_types = ncs_by_layer[layer]\n",
    "            \n",
    "        for col_i in range(n_nc_types):\n",
    "            \n",
    "            ax = axes[row_i][col_i]\n",
    "            nc = layer_nc_types[col_i]\n",
    "            \n",
    "            if row_i == 0: ax.set_title(nc_types[col_i])\n",
    "#             if row_i == 0 & col_i == n_nc_types - 1: \n",
    "\n",
    "            if nc == '':\n",
    "                ax.axis('off')\n",
    "                ax.title.set_visible(True)\n",
    "                \n",
    "            else:\n",
    "                \n",
    "                nc_filtered_df = filtered_df.etl.q(neuron_class=nc)\n",
    "                nc_gids = nc_filtered_df.gid\n",
    "                \n",
    "                gid_mtypes = mtypes.etl.q(gid=nc_gids)\n",
    "                nc_filtered_df = pd.merge(gid_mtypes, nc_filtered_df, on='gid')\n",
    "                \n",
    "                \n",
    "\n",
    "#                 counts, _, _ = ax.hist(nc_filtered_df['mean_firing_rates_per_second'], bins=np.logspace(-2, 2, 20))\n",
    "                \n",
    "                legend=False\n",
    "                if (row_i==0) & (col_i==0):\n",
    "                    legend=True\n",
    "\n",
    "                sns.histplot(nc_filtered_df, x='mean_firing_rates_per_second', hue='mtype_wo_layer', bins=np.logspace(-2, 1.1, 20), ax=ax, legend=legend, hue_order=shuffled_mtype_wo_layer_categories)\n",
    "    \n",
    "#                 if (row_i==0) & (col_i==0):\n",
    "#                     subset_categories = gid_mtypes.mtype_wo_layer.unique()\n",
    "#                     handles, labels = ax.get_legend_handles_labels()\n",
    "                    \n",
    "\n",
    "#                     filtered_handles_labels = [\n",
    "#                         (handle, label) for handle, label in zip(handles, labels) if label in subset_categories\n",
    "#                     ]\n",
    "\n",
    "#                     filtered_handles, filtered_labels = zip(*filtered_handles_labels)\n",
    "#                     ax.legend(filtered_handles, filtered_labels, title=\"Filtered Categories\")\n",
    "                    \n",
    "#                     ax.legend(\n",
    "#                         title=\"Categories\",            # Legend title\n",
    "#                         loc='upper center',            # Position the legend\n",
    "#                         bbox_to_anchor=(0.5, 1.15),    # Place it above the plot\n",
    "#                         ncol=3                         # Number of columns in the legend\n",
    "#                     )\n",
    "    \n",
    "    \n",
    "    \n",
    "                ax.set_xscale('log')\n",
    "                ax.set_xlabel('')\n",
    "\n",
    "                custom_ticks = [10**-2, 10**-1, 10**0, 10**1]\n",
    "                ax.xaxis.set_major_locator(matplotlib.ticker.FixedLocator(custom_ticks))\n",
    "                ax.xaxis.set_minor_locator(matplotlib.ticker.LogLocator(base=10.0, subs=None, numticks=10))\n",
    "                \n",
    "                if row_i != nlayers - 1: ax.set_xticklabels([])  \n",
    "                else: \n",
    "                    ax.tick_params(axis='x', which='major', pad=1, labelsize=5)\n",
    "                    ax.set_xlabel('FR (Hz)')\n",
    "                    \n",
    "                counts = [patch.get_height() for patch in ax.patches]\n",
    "                set_ylabel_hist_to_nearest_10(ax, counts)\n",
    "\n",
    "            ax.set_ylabel('')\n",
    "#             if col_i == 0:\n",
    "#                 ax.set_ylabel('Freq')\n",
    "\n",
    "    # max_upper = np.max(axes_ylim_uppers)\n",
    "    # for row_i, silico_dict_key in enumerate(silico_dict_keys):\n",
    "    #     ax = axes[row_i][col_i].set_ylim([0, max_upper])\n",
    "\n",
    "    plt.tight_layout()\n",
    "    plt.subplots_adjust(wspace=.45, hspace=.3)\n",
    "    plt.savefig(figure_output_path + str(p_fr) + \"AllFRDistributions.pdf\")\n",
    "    plt.show(); plt.close()\n"
   ]
  },
  {
   "cell_type": "code",
   "execution_count": null,
   "metadata": {},
   "outputs": [],
   "source": []
  },
  {
   "cell_type": "code",
   "execution_count": 59,
   "metadata": {},
   "outputs": [
    {
     "data": {
      "text/plain": [
       "1          L1_DAC\n",
       "2          L1_DAC\n",
       "3          L1_DAC\n",
       "4          L1_DAC\n",
       "5          L1_DAC\n",
       "            ...  \n",
       "4234925     L5_BP\n",
       "4234926     L5_BP\n",
       "4234927     L5_BP\n",
       "4234928     L5_BP\n",
       "4234929     L5_BP\n",
       "Name: mtype, Length: 4234929, dtype: category\n",
       "Categories (60, object): ['L1_DAC', 'L1_HAC', 'L1_LAC', 'L1_NGC-DA', ..., 'L6_SBC', 'L6_TPC:A', 'L6_TPC:C', 'L6_UPC']"
      ]
     },
     "execution_count": 59,
     "metadata": {},
     "output_type": "execute_result"
    }
   ],
   "source": [
    "a.repo.simulations.df.loc[:, 'circuit'].iloc[0].nodes[None].get(None, \"mtype\")"
   ]
  },
  {
   "cell_type": "code",
   "execution_count": null,
   "metadata": {},
   "outputs": [],
   "source": [
    "    \n",
    "#     break\n",
    "    \n",
    "#     spiking_filtered_df = filtered_df.drop(filtered_df[filtered_df.mean_firing_rates_per_second == 0.0].index)\n",
    "    \n",
    "    \n",
    "#     for nc in neuron_classes:\n",
    "#         nc_spiking_filtered_df = spiking_filtered_df.etl.q(neuron_class=nc)\n",
    "#         plt.figure(figsize=(1.5, 1.5))\n",
    "#         plt.hist(nc_spiking_filtered_df['mean_firing_rates_per_second'], bins=np.logspace(-2, 2, 20))\n",
    "#         plt.xscale('log')\n",
    "#         plt.show()\n",
    "#         plt.close()\n",
    "    \n",
    "    \n",
    "# #     print(filtered_df.mean_firing_rates_per_second)\n",
    "\n",
    "#     import matplotlib.pyplot as plt\n",
    "#     import seaborn as sns\n",
    "#     bw = .1\n",
    "#     hue_order= [\"EXC\", \"INH\", \"PV\", \"SST\", \"5HT3aR\"]\n",
    "#     palette = {\"EXC\":c_etl.NEURON_CLASS_LAYERS_AND_SYNAPSE_CLASSES[\"L5_EXC\"]['color'], \n",
    "#                \"INH\":c_etl.NEURON_CLASS_LAYERS_AND_SYNAPSE_CLASSES[\"L5_INH\"]['color'], \n",
    "#                \"PV\":c_etl.NEURON_CLASS_LAYERS_AND_SYNAPSE_CLASSES[\"L5_PV\"]['color'], \n",
    "#                \"SST\": c_etl.NEURON_CLASS_LAYERS_AND_SYNAPSE_CLASSES[\"L5_SST\"]['color'], \n",
    "#                \"5HT3aR\":c_etl.NEURON_CLASS_LAYERS_AND_SYNAPSE_CLASSES[\"L5_5HT3aR\"]['color']}\n",
    "#     # hue_order= [\"EXC\", \"INH\"]\n",
    "#     # palette = {\"EXC\":c_etl.NEURON_CLASS_LAYERS_AND_SYNAPSE_CLASSES[\"L5_EXC\"]['color'], \n",
    "#     #            \"INH\":c_etl.NEURON_CLASS_LAYERS_AND_SYNAPSE_CLASSES[\"L5_INH\"]['color']}\n",
    "#     ylabel = 'FR (Hz)'\n",
    "\n",
    "#     ylims = [0.0, 3.0]\n",
    "#     plt.figure(figsize=figsize)\n",
    "# #     sns.violinplot(data=filtered_df, x=\"layer\", y=\"mean_firing_rates_per_second\", hue=\"neuron_type\", hue_order=hue_order, palette=palette, scale='width', bw=bw, linewidth=0.01)\n",
    "#     sns.boxplot(data=filtered_df, x=\"layer\", y=\"mean_firing_rates_per_second\", hue=\"neuron_type\", hue_order=hue_order, palette=palette, fliersize=0, flierprops={\"marker\": \"x\"})\n",
    "#     # plt.gca().set_ylim([0.0, 8.0])\n",
    "#     plt.gca().set_ylim(ylims)\n",
    "#     plt.gca().set_ylabel(ylabel)\n",
    "#     plt.gca().set_xlabel('')\n",
    "#     plt.gca().set_xlim([0.01, 10])\n",
    "#     plt.tight_layout()\n",
    "#     plt.legend().remove()\n",
    "#     plt.savefig(figure_output_path + \"Fig7F-MFR-Violin\" + str(p_fr) + \".pdf\", bbox_inches='tight')\n",
    "#     plt.show()\n",
    "\n",
    "    \n",
    "    \n",
    "#     ylims = [0.0, 10.0]\n",
    "#     plt.figure(figsize=figsize)\n",
    "#     # sns.violinplot(data=spiking_filtered_df, x=\"layer\", y=\"mean_firing_rates_per_second\", hue=\"neuron_type\", hue_order=hue_order, palette=palette, scale='width', bw=bw, linewidth=0.01)\n",
    "#     sns.boxplot(data=spiking_filtered_df, x=\"layer\", y=\"mean_firing_rates_per_second\", hue=\"neuron_type\", hue_order=hue_order, palette=palette, fliersize=.3, flierprops={\"marker\": \"x\"}, linewidth=.3)\n",
    "    \n",
    "#     ax = plt.gca()\n",
    "#     ax.set_ylim(ylims)\n",
    "#     ax.set_ylabel(ylabel, fontsize=3, labelpad=-5)\n",
    "#     ax.set_xlabel('')\n",
    "#     ax.tick_params(axis='x', which='major', pad=1, labelsize=3)\n",
    "#     ax.tick_params(axis='y', which='major', pad=2, labelsize=3)\n",
    "    \n",
    "#     ax.yaxis.set_major_locator(matplotlib.ticker.FixedLocator(ylims))\n",
    "#     ax.yaxis.set_minor_locator(matplotlib.ticker.MultipleLocator(1))\n",
    "    \n",
    "#     for spine in ax.spines.values():\n",
    "#         spine.set_linewidth(0.3)\n",
    "    \n",
    "#     plt.legend().remove()\n",
    "#     plt.savefig(figure_output_path + \"Fig7F-MFR-SpikingOnly-Violin\" + str(p_fr) + \".pdf\", bbox_inches='tight')\n",
    "#     plt.show()\n"
   ]
  },
  {
   "cell_type": "code",
   "execution_count": null,
   "metadata": {},
   "outputs": [],
   "source": [
    "# neuron_classes = ['L1_INH', 'L23_EXC', 'L23_INH', 'L23_PV', 'L23_SST', 'L23_Htr3a', 'L4_EXC', 'L4_INH', 'L4_PV', 'L4_SST', 'L4_Htr3a', 'L5_EXC', 'L5_INH', 'L5_PV', 'L5_SST', 'L5_Htr3a', 'L6_EXC', 'L6_INH', 'L6_PV', 'L6_SST', 'L6_Htr3a']\n",
    "neuron_classes = ['ALL_INH'] #, 'ALL_EXC'\n",
    "# print(a2_hex0.repo.simulations.df)\n",
    "sim = a2_hex0.repo.simulations.df.etl.q(ca=1.05, desired_connected_proportion_of_invivo_frs=0.3, depol_stdev_mean_ratio=0.4).iloc[0]\n",
    "filtered_df = a2_hex0.features.by_gid.df.reset_index().etl.q(neuron_class=neuron_classes, simulation_id=sim['simulation_id'])\n",
    "filtered_df.loc[:, 'layer'] = filtered_df.apply(lambda row: row['neuron_class'].split('_')[0], axis = 1)\n",
    "filtered_df.loc[:, 'neuron_type'] = filtered_df.apply(lambda row: row['neuron_class'].split('_')[1], axis = 1)\n",
    "spiking_filtered_df = filtered_df.drop(filtered_df[filtered_df.mean_firing_rates_per_second == 0.0].index)\n",
    "\n",
    "import matplotlib.pyplot as plt\n",
    "import seaborn as sns\n",
    "bw = .1\n",
    "hue_order= [\"EXC\", \"INH\"]\n",
    "palette = {\"EXC\":c_etl.NEURON_CLASS_LAYERS_AND_SYNAPSE_CLASSES[\"L5_EXC\"]['color'], \n",
    "           \"INH\":c_etl.NEURON_CLASS_LAYERS_AND_SYNAPSE_CLASSES[\"L5_INH\"]['color']}\n",
    "ylabel = 'MFR (spikes/s)'\n",
    "\n",
    "# sns.histplot(filtered_df, x=\"neuron_class\", hue=\"mean_firing_rates_per_second\")\n",
    "\n",
    "# sns.histplot(data=filtered_df, x=\"neuron_class\", kde=True)\n",
    "\n",
    "# sns.histplot(spiking_filtered_df, x=\"mean_firing_rates_per_second\", hue=\"neuron_class\", element=\"step\", stat=\"density\", common_norm=False)\n",
    "# sns.histplot(filtered_df, x=\"mean_firing_rates_per_second\", hue=\"species\", element=\"poly\")\n",
    "\n",
    "sns.histplot(data=spiking_filtered_df, x=\"mean_firing_rates_per_second\", hue='neuron_class', kde=True)\n",
    "plt.gca().set_xlim([0.0, 5.0])"
   ]
  },
  {
   "cell_type": "code",
   "execution_count": null,
   "metadata": {},
   "outputs": [],
   "source": [
    "ncs_by_layer = {\n",
    "        'L1': ['L1_INH'],\n",
    "        'L23': ['L23_EXC', 'L23_INH', 'L23_PV', 'L23_SST', 'L23_5HT3aR'],\n",
    "        'L4': ['L4_EXC', 'L4_INH', 'L4_PV', 'L4_SST', 'L4_5HT3aR'],\n",
    "        'L5': ['L5_EXC', 'L5_INH', 'L5_PV', 'L5_SST', 'L5_5HT3aR'],\n",
    "        'L6': ['L6_EXC', 'L6_INH', 'L6_PV', 'L6_SST', 'L6_5HT3aR']\n",
    "}\n",
    "layers = ['L1', 'L23', 'L4', 'L5', 'L6']\n",
    "nlayers = len(layers)\n",
    "n_nc_types = 5\n",
    "figure_scaling_factor = 2.0\n",
    "_, axes = plt.subplots(nlayers, n_nc_types, figsize=(n_nc_types*0.62*figure_scaling_factor, nlayers*.37*figure_scaling_factor))\n",
    "for row_i, layer in enumerate(layers):\n",
    "    for col_i, stat_key in enumerate(ncs_by_layer[layer]):\n",
    "        ax = axes[row_i][col_i]\n",
    "        \n",
    "# max_upper = np.max(axes_ylim_uppers)\n",
    "# for row_i, silico_dict_key in enumerate(silico_dict_keys):\n",
    "#     ax = axes[row_i][col_i].set_ylim([0, max_upper])\n",
    "\n",
    "plt.tight_layout()\n",
    "plt.subplots_adjust(wspace=.45, hspace=.3)\n",
    "# plt.savefig(\"multi_stat.pdf\")\n",
    "plt.show(); plt.close()"
   ]
  }
 ],
 "metadata": {
  "kernelspec": {
   "display_name": "cortex_etl_jupyter_04_01_23",
   "language": "python",
   "name": "cortex_etl_jupyter_04_01_23"
  },
  "language_info": {
   "codemirror_mode": {
    "name": "ipython",
    "version": 3
   },
   "file_extension": ".py",
   "mimetype": "text/x-python",
   "name": "python",
   "nbconvert_exporter": "python",
   "pygments_lexer": "ipython3",
   "version": "3.10.8"
  }
 },
 "nbformat": 4,
 "nbformat_minor": 4
}
