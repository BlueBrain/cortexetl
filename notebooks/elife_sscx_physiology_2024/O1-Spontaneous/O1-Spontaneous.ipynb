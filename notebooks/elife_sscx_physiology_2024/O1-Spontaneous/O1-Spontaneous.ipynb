{
 "cells": [
  {
   "cell_type": "code",
   "execution_count": 1,
   "metadata": {},
   "outputs": [
    {
     "name": "stdout",
     "output_type": "stream",
     "text": [
      "\n",
      "----- Custom post analysis -----\n",
      "----- Custom post analysis complete: 12.98s -----\n"
     ]
    }
   ],
   "source": [
    "import sys\n",
    "sys.path.append('../..')\n",
    "import cortex_etl as c_etl\n",
    "\n",
    "ma = c_etl.analysis_initial_processing(\"../../configs/2-PfrTransfer/2-PfrTransfer-6-3rdConnectionRemaining.yaml\", loglevel=\"ERROR\")\n",
    "a_hex0 = ma.hex0_spikes\n",
    "a_hexO1 = ma.hex_O1_spikes\n",
    "c_etl.post_analysis(a_hex0)"
   ]
  },
  {
   "cell_type": "markdown",
   "metadata": {},
   "source": [
    "# Fig 4G1"
   ]
  },
  {
   "cell_type": "code",
   "execution_count": null,
   "metadata": {},
   "outputs": [],
   "source": [
    "a_hex0.analysis_config.custom['plot_rasters'] = True\n",
    "c_etl.plot_rasters(a_hex0, custom_file_path='figures/Fig7A-Sim1', simulation_filter={\"ca\":1.05, \"depol_stdev_mean_ratio\": 0.4, \"desired_connected_proportion_of_invivo_frs\": 0.9})\n",
    "c_etl.plot_rasters(a_hex0, custom_file_path='figures/Fig7A-Sim2', simulation_filter={\"ca\":1.1, \"depol_stdev_mean_ratio\": 0.2, \"desired_connected_proportion_of_invivo_frs\": 0.9})"
   ]
  },
  {
   "cell_type": "markdown",
   "metadata": {},
   "source": [
    "# Video"
   ]
  },
  {
   "cell_type": "code",
   "execution_count": 2,
   "metadata": {},
   "outputs": [
    {
     "name": "stdout",
     "output_type": "stream",
     "text": [
      "\n",
      "----- Plot rasters, window: conn_spont -----\n",
      "\n",
      "----- Create raster videos, window: conn_spont -----\n"
     ]
    }
   ],
   "source": [
    "c_etl.plot_rasters(a_hex0)"
   ]
  },
  {
   "cell_type": "markdown",
   "metadata": {},
   "source": [
    "# Fig 4G2"
   ]
  },
  {
   "cell_type": "code",
   "execution_count": null,
   "metadata": {},
   "outputs": [],
   "source": [
    "hm_dims = (a_hex0.analysis_config.custom['heatmap_dims']['hor_key'], \n",
    "           a_hex0.analysis_config.custom['heatmap_dims']['ver_key'], \n",
    "           a_hex0.analysis_config.custom['heatmap_dims']['x_key'], \n",
    "           a_hex0.analysis_config.custom['heatmap_dims']['y_key'])\n",
    "\n",
    "c_etl.heatmap(a_hex0.custom['custom_simulations_post_analysis'], \n",
    "              \"ei_corr_rval\", \n",
    "              \"figures/Fig7B-ei_corr_rval.pdf\", \n",
    "              *hm_dims, \n",
    "              mask_key=\"bursting\", \n",
    "              figsize=(8, 6))"
   ]
  },
  {
   "cell_type": "markdown",
   "metadata": {},
   "source": [
    "# Fig 4I Left"
   ]
  },
  {
   "cell_type": "code",
   "execution_count": null,
   "metadata": {},
   "outputs": [],
   "source": [
    "c_etl.plot_sim_stat_lines_all_sims(a_hex0, \n",
    "                                   a_hex0.custom['layer_wise_features'], \n",
    "                                   \"ei_corr_rval\", \n",
    "                                   {\"bursting\": False}, \n",
    "                                   \"figures/Fig4Ileft-LayerWiseEI_NonBursting\", \n",
    "                                   [c_etl.silico_layer_strings[:0:-1]], \n",
    "                                   ['Greys'], \n",
    "                                   show_in_vivo_FRs=False, \n",
    "                                   custom_x_lims=[-0.2, 1.0], \n",
    "                                   show_colorbar=True,\n",
    "                                  file_types=[\".pdf\"],\n",
    "                                  figsize=(1.6,2.25))"
   ]
  },
  {
   "cell_type": "markdown",
   "metadata": {},
   "source": [
    "# Fig 4H"
   ]
  },
  {
   "cell_type": "code",
   "execution_count": null,
   "metadata": {},
   "outputs": [],
   "source": [
    "# c_etl.flatspace_videos(a_hexO1)\n",
    "\n",
    "a = a_hexO1\n",
    "\n",
    "\n",
    "import os\n",
    "from blueetl.parallel import call_by_simulation\n",
    "from functools import partial\n",
    "\n",
    "for flatspace_video_key in a.analysis_config.custom['flatspace_videos']:\n",
    "    flatspace_video_opt = a.analysis_config.custom['flatspace_videos'][flatspace_video_key]\n",
    "    flatspace_video_opt['vid_str'] = flatspace_video_opt['window'] + \"_\" + str(flatspace_video_opt['t_step']) + \"_\" + str(flatspace_video_opt['n_spatial_bins']) + \"_\" + str(flatspace_video_opt['temporal_smoothing_sigma'])\n",
    "    flatspace_video_opt['video_output_root'] = str(a.figpaths.flatspace_videos) + \"/\" + flatspace_video_opt['vid_str'] + \"/\"\n",
    "    os.makedirs(flatspace_video_opt['video_output_root'], exist_ok=True)\n",
    "\n",
    "    dataframes={\n",
    "        \"circuits\": a.repo.simulations.df.loc[:, ['circuit', 'circuit_id', 'simulation_id']],\n",
    "        \"spikes\": a.repo.report.df.etl.q(neuron_class=\"ALL\", window=flatspace_video_opt['window']),\n",
    "        \"windows\": a.repo.windows.df.etl.q(window=flatspace_video_opt['window']), \n",
    "        \"neurons\": a.repo.neurons.df.etl.q(neuron_class=\"ALL\")}\n",
    "\n",
    "    gids = a.repo.neurons.df.etl.q(circuit_id=0)['gid']\n",
    "    locations = a.repo.simulations.df.loc[:, ['circuit', 'circuit_id', 'simulation_id']].iloc[0]['circuit'].cells.get(gids, [\"x\", \"y\", \"z\"])\n",
    "    flat_locations = flatten_locations(locations, a.analysis_config.custom[\"flatmap\"])\n",
    "\n",
    "    results = call_by_simulation(a.repo.simulations.df.etl.q(ca=1.1, depol_stdev_mean_ratio=0.2, desired_connected_proportion_of_invivo_frs=0.9), \n",
    "                                    dataframes, \n",
    "                                    func=partial(single_flatspace_video, \n",
    "                                                flat_locations=flat_locations, \n",
    "                                                flatspace_video_opt=flatspace_video_opt, \n",
    "                                                analysis_config=a.analysis_config.custom,\n",
    "                                                flatspace_path_pre='figures/Fig7D-correlated_flatspace.mp3', \n",
    "                                                images_dir='figures/Fig7D-correlated_flatspace/'),\n",
    "                                    how='series')"
   ]
  },
  {
   "cell_type": "markdown",
   "metadata": {},
   "source": [
    "# Fig 4G3"
   ]
  },
  {
   "cell_type": "code",
   "execution_count": null,
   "metadata": {},
   "outputs": [],
   "source": [
    "import pandas as pd\n",
    "\n",
    "hor_key=\"ca\"; ver_key=\"depol_stdev_mean_ratio\"; x_key=\"freq\"; y_key=\"desired_connected_proportion_of_invivo_frs\"\n",
    "hm_dims = (hor_key, ver_key, x_key, y_key)\n",
    "\n",
    "all_fft_dfs = pd.merge(a_hex0.custom['fft'].reset_index(), a_hex0.custom['custom_simulations_post_analysis'].reset_index()[['simulation_id', 'bursting']])\n",
    "c_etl.heatmap(all_fft_dfs, \"power\",  \"figures/Fig7E-FFT\", *hm_dims, mask_key=\"bursting\", figsize=(3.7, 2.1), show_colorbar=True, override_cmap='Greys')"
   ]
  },
  {
   "cell_type": "code",
   "execution_count": null,
   "metadata": {},
   "outputs": [],
   "source": [
    "a_hex0.custom['custom_features_by_neuron_class'].columns\n",
    "min_depol_mean_by_sim = a_hex0.custom['custom_features_by_neuron_class'].groupby(['simulation_id']).min()['depol_mean']\n",
    "max_depol_mean_by_sim = a_hex0.custom['custom_features_by_neuron_class'].groupby(['simulation_id']).max()['depol_mean']\n",
    "import numpy as np\n",
    "a = np.mean(max_depol_mean_by_sim - min_depol_mean_by_sim)\n",
    "\n",
    "min_depol_mean_by_neuron_class = a_hex0.custom['custom_features_by_neuron_class'].groupby(['neuron_class']).min()['depol_mean']\n",
    "max_depol_mean_by_neuron_class = a_hex0.custom['custom_features_by_neuron_class'].groupby(['neuron_class']).max()['depol_mean']\n",
    "b = np.mean(max_depol_mean_by_neuron_class - min_depol_mean_by_neuron_class)\n",
    "\n",
    "a/b\n"
   ]
  },
  {
   "cell_type": "markdown",
   "metadata": {},
   "source": [
    "# Fig 6F"
   ]
  },
  {
   "cell_type": "code",
   "execution_count": null,
   "metadata": {},
   "outputs": [],
   "source": [
    "import sys\n",
    "sys.path.append('../..')\n",
    "import cortex_etl as c_etl\n",
    "\n",
    "ma2 = c_etl.analysis_initial_processing(\"../../configs/8-FRDistributionTest/8-FRDistributionTest-0-Test.yaml\", loglevel=\"ERROR\")\n",
    "a2_hex0 = ma2.hex0_spikes\n",
    "c_etl.post_analysis(a2_hex0)\n",
    "a = a2_hex0"
   ]
  },
  {
   "cell_type": "code",
   "execution_count": null,
   "metadata": {},
   "outputs": [],
   "source": [
    "# neuron_classes = ['L1_INH', 'L23_EXC', 'L23_INH', 'L23_PV', 'L23_SST', 'L23_Htr3a', 'L4_EXC', 'L4_INH', 'L4_PV', 'L4_SST', 'L4_Htr3a', 'L5_EXC', 'L5_INH', 'L5_PV', 'L5_SST', 'L5_Htr3a', 'L6_EXC', 'L6_INH', 'L6_PV', 'L6_SST', 'L6_Htr3a']\n",
    "neuron_classes = ['L1_INH', 'L23_EXC', 'L23_INH', 'L4_EXC', 'L4_INH', 'L5_EXC', 'L5_INH', 'L6_EXC', 'L6_INH']\n",
    "sim = a_hex0.repo.simulations.df.etl.q(ca=1.05, desired_connected_proportion_of_invivo_frs=0.9, depol_stdev_mean_ratio=0.4).iloc[0]\n",
    "filtered_df = a_hex0.features.by_gid.df.reset_index().etl.q(neuron_class=neuron_classes, simulation_id=sim['simulation_id'])\n",
    "filtered_df.loc[:, 'layer'] = filtered_df.apply(lambda row: row['neuron_class'].split('_')[0], axis = 1)\n",
    "filtered_df.loc[:, 'neuron_type'] = filtered_df.apply(lambda row: row['neuron_class'].split('_')[1], axis = 1)\n",
    "spiking_filtered_df = filtered_df.drop(filtered_df[filtered_df.mean_firing_rates_per_second == 0.0].index)\n",
    "\n",
    "import matplotlib.pyplot as plt\n",
    "import seaborn as sns\n",
    "bw = .1\n",
    "# hue_order= [\"EXC\", \"INH\", \"PV\", \"SST\", \"Htr3a\"]\n",
    "# palette = {\"EXC\":c_etl.NEURON_CLASS_LAYERS_AND_SYNAPSE_CLASSES[\"L5_EXC\"]['color'], \n",
    "#            \"INH\":c_etl.NEURON_CLASS_LAYERS_AND_SYNAPSE_CLASSES[\"L5_INH\"]['color'], \n",
    "#            \"PV\":c_etl.NEURON_CLASS_LAYERS_AND_SYNAPSE_CLASSES[\"L5_PV\"]['color'], \n",
    "#            \"SST\": c_etl.NEURON_CLASS_LAYERS_AND_SYNAPSE_CLASSES[\"L5_SST\"]['color'], \n",
    "#            \"Htr3a\":c_etl.NEURON_CLASS_LAYERS_AND_SYNAPSE_CLASSES[\"L5_Htr3a\"]['color']}\n",
    "hue_order= [\"EXC\", \"INH\"]\n",
    "palette = {\"EXC\":c_etl.NEURON_CLASS_LAYERS_AND_SYNAPSE_CLASSES[\"L5_EXC\"]['color'], \n",
    "           \"INH\":c_etl.NEURON_CLASS_LAYERS_AND_SYNAPSE_CLASSES[\"L5_INH\"]['color']}\n",
    "ylabel = 'MFR (spikes/s)'\n",
    "\n",
    "plt.figure(figsize=(2, 2.5))\n",
    "# sns.violinplot(data=filtered_df, x=\"layer\", y=\"mean_firing_rates_per_second\", hue=\"neuron_type\", hue_order=hue_order, palette=palette, scale='width', bw=bw, linewidth=0.01)\n",
    "# sns.boxplot(data=filtered_df, x=\"layer\", y=\"mean_firing_rates_per_second\", hue=\"neuron_type\", hue_order=hue_order, palette=palette)\n",
    "sns.boxplot(data=filtered_df, y=\"layer\", x=\"mean_firing_rates_per_second\", width=0.25, hue=\"neuron_type\", hue_order=hue_order, palette=palette, fliersize=0)\n",
    "# plt.gca().set_ylim([0.0, 8.0])\n",
    "plt.gca().set_xlim([0.0, 3.0])\n",
    "plt.gca().set_ylabel(ylabel)\n",
    "plt.savefig(\"figures/Fig7F-MFR-Violin.pdf\")\n",
    "plt.show()\n",
    "\n",
    "plt.figure(figsize=(2, 2.5))\n",
    "# sns.violinplot(data=spiking_filtered_df, x=\"layer\", y=\"mean_firing_rates_per_second\", hue=\"neuron_type\", hue_order=hue_order, palette=palette, scale='width', bw=bw, linewidth=0.01)\n",
    "sns.boxplot(data=spiking_filtered_df, y=\"layer\", x=\"mean_firing_rates_per_second\", width=0.25, hue=\"neuron_type\", hue_order=hue_order, palette=palette)\n",
    "# plt.gca().set_ylim([0.0, 10.0])\n",
    "plt.gca().set_xlim([0.0, 3.0])\n",
    "plt.gca().set_xlabel(ylabel)\n",
    "plt.savefig(\"figures/Fig7F-MFR-SpikingOnly-Violin.pdf\")\n",
    "plt.show()\n"
   ]
  },
  {
   "cell_type": "code",
   "execution_count": null,
   "metadata": {},
   "outputs": [],
   "source": [
    "# neuron_classes = ['L1_INH', 'L23_EXC', 'L23_INH', 'L23_PV', 'L23_SST', 'L23_Htr3a', 'L4_EXC', 'L4_INH', 'L4_PV', 'L4_SST', 'L4_Htr3a', 'L5_EXC', 'L5_INH', 'L5_PV', 'L5_SST', 'L5_Htr3a', 'L6_EXC', 'L6_INH', 'L6_PV', 'L6_SST', 'L6_Htr3a']\n",
    "neuron_classes = ['ALL_INH'] #, 'ALL_EXC'\n",
    "# print(a2_hex0.repo.simulations.df)\n",
    "sim = a2_hex0.repo.simulations.df.etl.q(ca=1.05, desired_connected_proportion_of_invivo_frs=0.3, depol_stdev_mean_ratio=0.4).iloc[0]\n",
    "filtered_df = a2_hex0.features.by_gid.df.reset_index().etl.q(neuron_class=neuron_classes, simulation_id=sim['simulation_id'])\n",
    "filtered_df.loc[:, 'layer'] = filtered_df.apply(lambda row: row['neuron_class'].split('_')[0], axis = 1)\n",
    "filtered_df.loc[:, 'neuron_type'] = filtered_df.apply(lambda row: row['neuron_class'].split('_')[1], axis = 1)\n",
    "spiking_filtered_df = filtered_df.drop(filtered_df[filtered_df.mean_firing_rates_per_second == 0.0].index)\n",
    "\n",
    "import matplotlib.pyplot as plt\n",
    "import seaborn as sns\n",
    "bw = .1\n",
    "hue_order= [\"EXC\", \"INH\"]\n",
    "palette = {\"EXC\":c_etl.NEURON_CLASS_LAYERS_AND_SYNAPSE_CLASSES[\"L5_EXC\"]['color'], \n",
    "           \"INH\":c_etl.NEURON_CLASS_LAYERS_AND_SYNAPSE_CLASSES[\"L5_INH\"]['color']}\n",
    "ylabel = 'MFR (spikes/s)'\n",
    "\n",
    "# sns.histplot(filtered_df, x=\"neuron_class\", hue=\"mean_firing_rates_per_second\")\n",
    "\n",
    "# sns.histplot(data=filtered_df, x=\"neuron_class\", kde=True)\n",
    "\n",
    "# sns.histplot(spiking_filtered_df, x=\"mean_firing_rates_per_second\", hue=\"neuron_class\", element=\"step\", stat=\"density\", common_norm=False)\n",
    "# sns.histplot(filtered_df, x=\"mean_firing_rates_per_second\", hue=\"species\", element=\"poly\")\n",
    "\n",
    "sns.histplot(data=spiking_filtered_df, x=\"mean_firing_rates_per_second\", hue='neuron_class', kde=True)\n",
    "plt.gca().set_xlim([0.0, 5.0])"
   ]
  },
  {
   "cell_type": "code",
   "execution_count": null,
   "metadata": {},
   "outputs": [],
   "source": []
  }
 ],
 "metadata": {
  "kernelspec": {
   "display_name": "cortex_etl_jupyter_04_01_23",
   "language": "python",
   "name": "cortex_etl_jupyter_04_01_23"
  },
  "language_info": {
   "codemirror_mode": {
    "name": "ipython",
    "version": 3
   },
   "file_extension": ".py",
   "mimetype": "text/x-python",
   "name": "python",
   "nbconvert_exporter": "python",
   "pygments_lexer": "ipython3",
   "version": "3.10.8"
  }
 },
 "nbformat": 4,
 "nbformat_minor": 4
}
