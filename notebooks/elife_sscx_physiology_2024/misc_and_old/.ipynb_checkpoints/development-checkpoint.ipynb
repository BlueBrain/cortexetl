{
 "cells": [
  {
   "cell_type": "code",
   "execution_count": null,
   "metadata": {},
   "outputs": [],
   "source": [
    "import sys\n",
    "sys.path.append('..')\n",
    "import cortex_etl as c_etl\n",
    "\n",
    "ma = c_etl.analysis_initial_processing(\"../configs/3-ThalamicStimuli/3-ThalamicStimuli-MegaScan2Scalings.yaml\") #, loglevel=\"ERROR\""
   ]
  },
  {
   "cell_type": "code",
   "execution_count": 2,
   "metadata": {},
   "outputs": [
    {
     "data": {
      "text/plain": [
       "<blueetl.analysis.Analyzer at 0x2aabb94562f0>"
      ]
     },
     "execution_count": 2,
     "metadata": {},
     "output_type": "execute_result"
    }
   ],
   "source": [
    "a = ma.hex0_spikes\n",
    "a_name = \"hex0_spikes\"\n",
    "ma.analyzers[a_name]"
   ]
  },
  {
   "cell_type": "code",
   "execution_count": 3,
   "metadata": {},
   "outputs": [
    {
     "name": "stdout",
     "output_type": "stream",
     "text": [
      "\n",
      "----- Custom post analysis -----\n"
     ]
    },
    {
     "name": "stderr",
     "output_type": "stream",
     "text": [
      "[Parallel(n_jobs=36)]: Using backend LokyBackend with 36 concurrent workers.\n",
      "2023-04-25 14:21:04,045 INFO blueetl.parallel: Considering 54 rows for columns ['simulation_id', 'circuit_id']\n",
      "2023-04-25 14:21:04,048 INFO blueetl.parallel: Tasks to be executed: 54\n",
      "[Parallel(n_jobs=36)]: Done   7 out of  54 | elapsed:    5.6s remaining:   37.3s\n",
      "[Parallel(n_jobs=36)]: Done  13 out of  54 | elapsed:    5.8s remaining:   18.3s\n",
      "[Parallel(n_jobs=36)]: Done  19 out of  54 | elapsed:    5.9s remaining:   10.9s\n",
      "[Parallel(n_jobs=36)]: Done  25 out of  54 | elapsed:    6.0s remaining:    7.0s\n",
      "[Parallel(n_jobs=36)]: Done  31 out of  54 | elapsed:    6.1s remaining:    4.5s\n",
      "[Parallel(n_jobs=36)]: Done  37 out of  54 | elapsed:    6.2s remaining:    2.8s\n",
      "[Parallel(n_jobs=36)]: Done  43 out of  54 | elapsed:    6.3s remaining:    1.6s\n",
      "[Parallel(n_jobs=36)]: Done  49 out of  54 | elapsed:    6.3s remaining:    0.6s\n",
      "[Parallel(n_jobs=36)]: Done  54 out of  54 | elapsed:    6.6s finished\n",
      "[Parallel(n_jobs=36)]: Using backend LokyBackend with 36 concurrent workers.\n",
      "2023-04-25 14:21:25,043 INFO blueetl.parallel: Considering 54 rows for columns ['simulation_id', 'circuit_id']\n",
      "2023-04-25 14:21:25,046 INFO blueetl.parallel: Tasks to be executed: 54\n",
      "[Parallel(n_jobs=36)]: Batch computation too fast (0.0355s.) Setting batch_size=2.\n",
      "[Parallel(n_jobs=36)]: Batch computation too fast (0.0355s.) Setting batch_size=4.\n",
      "[Parallel(n_jobs=36)]: Done   7 out of  54 | elapsed:    0.4s remaining:    3.0s\n",
      "[Parallel(n_jobs=36)]: Done  13 out of  54 | elapsed:    0.5s remaining:    1.4s\n",
      "[Parallel(n_jobs=36)]: Done  19 out of  54 | elapsed:    0.5s remaining:    0.8s\n",
      "[Parallel(n_jobs=36)]: Done  25 out of  54 | elapsed:    0.5s remaining:    0.5s\n",
      "[Parallel(n_jobs=36)]: Done  31 out of  54 | elapsed:    0.5s remaining:    0.4s\n",
      "[Parallel(n_jobs=36)]: Done  37 out of  54 | elapsed:    0.5s remaining:    0.2s\n",
      "[Parallel(n_jobs=36)]: Done  43 out of  54 | elapsed:    0.5s remaining:    0.1s\n",
      "[Parallel(n_jobs=36)]: Done  49 out of  54 | elapsed:    0.6s remaining:    0.1s\n",
      "[Parallel(n_jobs=36)]: Done  54 out of  54 | elapsed:    0.6s finished\n"
     ]
    },
    {
     "name": "stdout",
     "output_type": "stream",
     "text": [
      "----- Custom post analysis complete: 32.02s -----\n",
      "Custom post analysis:  265\n",
      "Custom post analysis:  865\n",
      "Custom post analysis:  425\n",
      "Custom post analysis:  185\n",
      "Custom post analysis:  869\n",
      "Custom post analysis:  509\n",
      "Custom post analysis:  341\n",
      "Custom post analysis:  29\n",
      "Custom post analysis:  905\n",
      "Custom post analysis:  229\n",
      "Custom post analysis:  901\n",
      "Custom post analysis:  261\n",
      "Custom post analysis:  189\n",
      "Custom post analysis:  673\n",
      "Custom post analysis:  909\n",
      "Custom post analysis:  665\n",
      "Custom post analysis:  661\n",
      "Custom post analysis:  421\n",
      "Custom post analysis:  505\n",
      "Custom post analysis:  269\n",
      "Custom post analysis:  353\n",
      "Custom post analysis:  233\n",
      "Custom post analysis:  349\n",
      "Custom post analysis:  65\n",
      "Custom post analysis:  669\n",
      "Custom post analysis:  385\n",
      "Custom post analysis:  61\n",
      "Custom post analysis:  705\n",
      "Custom post analysis:  73\n",
      "Custom post analysis:  701\n",
      "Custom post analysis:  181\n",
      "Custom post analysis:  709\n",
      "Custom post analysis:  193\n",
      "Custom post analysis:  741\n",
      "Custom post analysis:  381\n",
      "Custom post analysis:  393\n",
      "Custom post analysis:  33\n",
      "Custom post analysis:  745\n",
      "Custom post analysis:  69\n",
      "Custom post analysis:  821\n",
      "Custom post analysis:  429\n",
      "Custom post analysis:  25\n",
      "Custom post analysis:  749\n",
      "Custom post analysis:  501\n",
      "Custom post analysis:  221\n",
      "Custom post analysis:  861\n",
      "Custom post analysis:  21\n",
      "Custom post analysis:  825\n",
      "Custom post analysis:  225\n",
      "Custom post analysis:  829\n",
      "Custom post analysis:  389\n",
      "Custom post analysis:  345\n",
      "Custom post analysis:  833\n",
      "Custom post analysis:  513\n"
     ]
    }
   ],
   "source": [
    "# c_etl.post_analysis(a)\n",
    "c_etl.plot_rasters(a)"
   ]
  }
 ],
 "metadata": {
  "kernelspec": {
   "display_name": "cortex_etl_jupyter_04_01_23",
   "language": "python",
   "name": "cortex_etl_jupyter_04_01_23"
  },
  "language_info": {
   "codemirror_mode": {
    "name": "ipython",
    "version": 3
   },
   "file_extension": ".py",
   "mimetype": "text/x-python",
   "name": "python",
   "nbconvert_exporter": "python",
   "pygments_lexer": "ipython3",
   "version": "3.10.8"
  }
 },
 "nbformat": 4,
 "nbformat_minor": 4
}
