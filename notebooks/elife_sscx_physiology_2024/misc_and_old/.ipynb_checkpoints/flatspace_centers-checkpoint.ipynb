{
 "cells": [
  {
   "cell_type": "code",
   "execution_count": 1,
   "metadata": {},
   "outputs": [],
   "source": [
    "import sys\n",
    "sys.path.append('..')\n",
    "import cortex_etl as c_etl\n",
    "\n",
    "ma = c_etl.analysis_initial_processing(\"../configs/5-FullCircuit/5-FullCircuit-2-BetterMinis-Fpr15-StimScan-10x.yaml\", loglevel=\"ERROR\")"
   ]
  },
  {
   "cell_type": "code",
   "execution_count": 2,
   "metadata": {},
   "outputs": [
    {
     "data": {
      "text/plain": [
       "<blueetl.analysis.Analyzer at 0x2aab80b343d0>"
      ]
     },
     "execution_count": 2,
     "metadata": {},
     "output_type": "execute_result"
    }
   ],
   "source": [
    "a = ma.hexes_spikes\n",
    "a_name = \"hexes_spikes\"\n",
    "ma.analyzers[a_name]"
   ]
  },
  {
   "cell_type": "code",
   "execution_count": null,
   "metadata": {},
   "outputs": [
    {
     "name": "stdout",
     "output_type": "stream",
     "text": [
      "30190\n",
      "41.2836038423319 72.57363365352766\n",
      "29738\n",
      "47.9217835765687 83.98278297128253\n",
      "31338\n",
      "34.62773629459442 83.95213478843577\n",
      "29892\n",
      "28.08145992238726 72.48069717650208\n",
      "30249\n",
      "34.69813878144732 60.91566663360772\n",
      "29861\n",
      "47.98379156759653 60.8790395499146\n",
      "30444\n"
     ]
    }
   ],
   "source": [
    "import numpy as np\n",
    "\n",
    "def get_flatspace_centre_of_hex(a, hex_ind):\n",
    "\n",
    "    gids = a.repo.neurons.df.etl.q(circuit_id=0, neuron_class=[\"ALL_EXC_\" + str(hex_ind), \"ALL_INH_\" + str(hex_ind)])['gid']\n",
    "#     print(len(gids))\n",
    "    locations = a.repo.simulations.df.iloc[0]['circuit'].cells.get(gids, [\"x\", \"y\", \"z\"])\n",
    "    flat_locations = c_etl.flatten_locations(locations, \"/gpfs/bbp.cscs.ch/project/proj83/home/bolanos/BB_Rat_SSCX_flatmap_v2.nrrd\")\n",
    "\n",
    "    x_mean = np.mean(flat_locations[0])\n",
    "    y_mean = np.mean(flat_locations[1])\n",
    "\n",
    "    print(x_mean, y_mean)\n",
    "\n",
    "\n",
    "hex_inds = list(range(0, 77))\n",
    "\n",
    "xs = []; ys = []; \n",
    "for hex_ind in hex_inds:\n",
    "    get_flatspace_centre_of_hex(a, hex_ind)\n"
   ]
  },
  {
   "cell_type": "code",
   "execution_count": null,
   "metadata": {},
   "outputs": [],
   "source": []
  }
 ],
 "metadata": {
  "kernelspec": {
   "display_name": "cortex_etl_jupyter_04_01_23",
   "language": "python",
   "name": "cortex_etl_jupyter_04_01_23"
  },
  "language_info": {
   "codemirror_mode": {
    "name": "ipython",
    "version": 3
   },
   "file_extension": ".py",
   "mimetype": "text/x-python",
   "name": "python",
   "nbconvert_exporter": "python",
   "pygments_lexer": "ipython3",
   "version": "3.10.8"
  }
 },
 "nbformat": 4,
 "nbformat_minor": 4
}
