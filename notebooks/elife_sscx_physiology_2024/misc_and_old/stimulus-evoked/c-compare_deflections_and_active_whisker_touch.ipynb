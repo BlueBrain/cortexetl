{
 "cells": [
  {
   "cell_type": "code",
   "execution_count": 1,
   "metadata": {},
   "outputs": [],
   "source": [
    "import sys\n",
    "sys.path.append('..')\n",
    "import cortex_etl as c_etl\n",
    "\n",
    "deflections_ma = c_etl.analysis_initial_processing(\"../configs/3-ThalamicStimuli/3-ThalamicStimuli-MegaScan2Scalings.yaml\", loglevel=\"ERROR\")\n",
    "touch_ma = c_etl.analysis_initial_processing(\"../configs/7-ActiveWhiskerTouch/7-ActiveWhiskerTouch-Test0.yaml\", loglevel=\"ERROR\")"
   ]
  },
  {
   "cell_type": "code",
   "execution_count": 2,
   "metadata": {},
   "outputs": [
    {
     "name": "stdout",
     "output_type": "stream",
     "text": [
      "\n",
      "----- Custom post analysis -----\n",
      "----- Custom post analysis complete: 33.04s -----\n",
      "\n",
      "----- Custom post analysis -----\n",
      "----- Custom post analysis complete: 17.56s -----\n"
     ]
    },
    {
     "name": "stderr",
     "output_type": "stream",
     "text": [
      "/gpfs/bbp.cscs.ch/project/proj83/home/isbister/physiology_2023/cortex_etl/notebooks/../cortex_etl/evoked.py:328: FutureWarning: The default value of numeric_only in DataFrameGroupBy.median is deprecated. In a future version, numeric_only will default to False. Either specify numeric_only or select only columns which should be valid for the function.\n",
      "  silico_mean_ratios_across_sims = silico_evoked_ratios.groupby(['neuron_class']).median()['ratio']\n",
      "/gpfs/bbp.cscs.ch/project/proj83/home/isbister/physiology_2023/cortex_etl/notebooks/../cortex_etl/evoked.py:329: FutureWarning: The default value of numeric_only in DataFrameGroupBy.std is deprecated. In a future version, numeric_only will default to False. Either specify numeric_only or select only columns which should be valid for the function.\n",
      "  silico_ratio_std_across_sims = silico_evoked_ratios.groupby(['neuron_class']).std()['ratio']\n",
      "/gpfs/bbp.cscs.ch/project/proj83/home/isbister/physiology_2023/cortex_etl/notebooks/../cortex_etl/evoked.py:402: SettingWithCopyWarning: \n",
      "A value is trying to be set on a copy of a slice from a DataFrame.\n",
      "Try using .loc[row_indexer,col_indexer] = value instead\n",
      "\n",
      "See the caveats in the documentation: https://pandas.pydata.org/pandas-docs/stable/user_guide/indexing.html#returning-a-view-versus-a-copy\n",
      "  a.custom['all_window_stat_and_mask_df'].loc[a.custom['all_window_stat_and_mask_df'].etl.q(simulation_id=silico_evoked_ratios.simulation_id.unique()).index, \"mean_ratio_difference\"] = silico_mean_ratio_differences\n"
     ]
    },
    {
     "name": "stdout",
     "output_type": "stream",
     "text": [
      "Create heatmap: SimBad25pDecay\n",
      "Create heatmap: SimBad50pDecay\n",
      "Create heatmap: SimBad100pDecay\n",
      "Create heatmap: SimBad50p25pDecay\n",
      "Create heatmap: SimBad100p50p25pDecay\n",
      "Create heatmap: SimBad100p50p25pDecayOverlySustained\n",
      "Create heatmap: SimBad25pDecay\n",
      "Create heatmap: SimBad50p25pDecay\n",
      "Create heatmap: SimBad100p50p25pDecay\n",
      "Create heatmap: mean_ratio_difference\n"
     ]
    },
    {
     "name": "stderr",
     "output_type": "stream",
     "text": [
      "/gpfs/bbp.cscs.ch/project/proj83/home/isbister/physiology_2023/cortex_etl/notebooks/../cortex_etl/evoked.py:278: SettingWithCopyWarning: \n",
      "A value is trying to be set on a copy of a slice from a DataFrame.\n",
      "Try using .loc[row_indexer,col_indexer] = value instead\n",
      "\n",
      "See the caveats in the documentation: https://pandas.pydata.org/pandas-docs/stable/user_guide/indexing.html#returning-a-view-versus-a-copy\n",
      "  group_1_df.loc[:, 'layer_colour'] = group_1_df.apply(lambda row: layer_colours[row['layer']], axis = 1)\n",
      "/gpfs/bbp.cscs.ch/project/proj83/home/isbister/physiology_2023/cortex_etl/notebooks/../cortex_etl/evoked.py:278: SettingWithCopyWarning: \n",
      "A value is trying to be set on a copy of a slice from a DataFrame.\n",
      "Try using .loc[row_indexer,col_indexer] = value instead\n",
      "\n",
      "See the caveats in the documentation: https://pandas.pydata.org/pandas-docs/stable/user_guide/indexing.html#returning-a-view-versus-a-copy\n",
      "  group_1_df.loc[:, 'layer_colour'] = group_1_df.apply(lambda row: layer_colours[row['layer']], axis = 1)\n",
      "/gpfs/bbp.cscs.ch/project/proj83/home/isbister/physiology_2023/cortex_etl/notebooks/../cortex_etl/evoked.py:278: SettingWithCopyWarning: \n",
      "A value is trying to be set on a copy of a slice from a DataFrame.\n",
      "Try using .loc[row_indexer,col_indexer] = value instead\n",
      "\n",
      "See the caveats in the documentation: https://pandas.pydata.org/pandas-docs/stable/user_guide/indexing.html#returning-a-view-versus-a-copy\n",
      "  group_1_df.loc[:, 'layer_colour'] = group_1_df.apply(lambda row: layer_colours[row['layer']], axis = 1)\n",
      "/gpfs/bbp.cscs.ch/project/proj83/home/isbister/physiology_2023/cortex_etl/notebooks/../cortex_etl/evoked.py:328: FutureWarning: The default value of numeric_only in DataFrameGroupBy.median is deprecated. In a future version, numeric_only will default to False. Either specify numeric_only or select only columns which should be valid for the function.\n",
      "  silico_mean_ratios_across_sims = silico_evoked_ratios.groupby(['neuron_class']).median()['ratio']\n",
      "/gpfs/bbp.cscs.ch/project/proj83/home/isbister/physiology_2023/cortex_etl/notebooks/../cortex_etl/evoked.py:329: FutureWarning: The default value of numeric_only in DataFrameGroupBy.std is deprecated. In a future version, numeric_only will default to False. Either specify numeric_only or select only columns which should be valid for the function.\n",
      "  silico_ratio_std_across_sims = silico_evoked_ratios.groupby(['neuron_class']).std()['ratio']\n",
      "/gpfs/bbp.cscs.ch/project/proj83/home/isbister/physiology_2023/cortex_etl/notebooks/../cortex_etl/evoked.py:402: SettingWithCopyWarning: \n",
      "A value is trying to be set on a copy of a slice from a DataFrame.\n",
      "Try using .loc[row_indexer,col_indexer] = value instead\n",
      "\n",
      "See the caveats in the documentation: https://pandas.pydata.org/pandas-docs/stable/user_guide/indexing.html#returning-a-view-versus-a-copy\n",
      "  a.custom['all_window_stat_and_mask_df'].loc[a.custom['all_window_stat_and_mask_df'].etl.q(simulation_id=silico_evoked_ratios.simulation_id.unique()).index, \"mean_ratio_difference\"] = silico_mean_ratio_differences\n"
     ]
    },
    {
     "name": "stdout",
     "output_type": "stream",
     "text": [
      "Create heatmap: SimBad25pDecay\n",
      "Create heatmap: SimBad50pDecay\n",
      "Create heatmap: SimBad100pDecay\n",
      "Create heatmap: SimBad50p25pDecay\n",
      "Create heatmap: SimBad100p50p25pDecay\n",
      "Create heatmap: SimBad100p50p25pDecayOverlySustained\n",
      "Create heatmap: SimBad25pDecay\n",
      "Create heatmap: SimBad50p25pDecay\n",
      "Create heatmap: SimBad100p50p25pDecay\n",
      "Create heatmap: mean_ratio_difference\n"
     ]
    },
    {
     "name": "stderr",
     "output_type": "stream",
     "text": [
      "/gpfs/bbp.cscs.ch/project/proj83/home/isbister/physiology_2023/cortex_etl/notebooks/../cortex_etl/evoked.py:278: SettingWithCopyWarning: \n",
      "A value is trying to be set on a copy of a slice from a DataFrame.\n",
      "Try using .loc[row_indexer,col_indexer] = value instead\n",
      "\n",
      "See the caveats in the documentation: https://pandas.pydata.org/pandas-docs/stable/user_guide/indexing.html#returning-a-view-versus-a-copy\n",
      "  group_1_df.loc[:, 'layer_colour'] = group_1_df.apply(lambda row: layer_colours[row['layer']], axis = 1)\n",
      "/gpfs/bbp.cscs.ch/project/proj83/home/isbister/physiology_2023/cortex_etl/notebooks/../cortex_etl/evoked.py:278: SettingWithCopyWarning: \n",
      "A value is trying to be set on a copy of a slice from a DataFrame.\n",
      "Try using .loc[row_indexer,col_indexer] = value instead\n",
      "\n",
      "See the caveats in the documentation: https://pandas.pydata.org/pandas-docs/stable/user_guide/indexing.html#returning-a-view-versus-a-copy\n",
      "  group_1_df.loc[:, 'layer_colour'] = group_1_df.apply(lambda row: layer_colours[row['layer']], axis = 1)\n",
      "/gpfs/bbp.cscs.ch/project/proj83/home/isbister/physiology_2023/cortex_etl/notebooks/../cortex_etl/evoked.py:278: SettingWithCopyWarning: \n",
      "A value is trying to be set on a copy of a slice from a DataFrame.\n",
      "Try using .loc[row_indexer,col_indexer] = value instead\n",
      "\n",
      "See the caveats in the documentation: https://pandas.pydata.org/pandas-docs/stable/user_guide/indexing.html#returning-a-view-versus-a-copy\n",
      "  group_1_df.loc[:, 'layer_colour'] = group_1_df.apply(lambda row: layer_colours[row['layer']], axis = 1)\n"
     ]
    },
    {
     "name": "stdout",
     "output_type": "stream",
     "text": [
      "Custom post analysis:  225\n",
      "Custom post analysis:  825\n",
      "Custom post analysis:  26\n",
      "Custom post analysis:  261\n",
      "Custom post analysis:  705\n",
      "Custom post analysis:  2\n",
      "Custom post analysis:  193\n",
      "Custom post analysis:  701\n",
      "Custom post analysis:  3\n",
      "Custom post analysis:  381\n",
      "Custom post analysis:  821\n",
      "Custom post analysis:  8\n",
      "Custom post analysis:  509\n",
      "Custom post analysis:  829\n",
      "Custom post analysis:  24\n",
      "Custom post analysis:  189\n",
      "Custom post analysis:  749\n",
      "Custom post analysis:  7\n",
      "Custom post analysis:  29\n",
      "Custom post analysis:  745\n",
      "Custom post analysis:  5\n",
      "Custom post analysis:  233\n",
      "Custom post analysis:  741\n",
      "Custom post analysis:  4\n",
      "Custom post analysis:  353\n",
      "Custom post analysis:  833\n",
      "Custom post analysis:  25\n",
      "Custom post analysis:  505\n",
      "Custom post analysis:  861\n",
      "Custom post analysis:  27\n",
      "Custom post analysis:  25\n",
      "Custom post analysis:  869\n",
      "Custom post analysis:  29\n",
      "Custom post analysis:  429\n",
      "Custom post analysis:  673\n",
      "Custom post analysis:  1\n",
      "Custom post analysis:  501\n",
      "Custom post analysis:  905\n",
      "Custom post analysis:  30\n",
      "Custom post analysis:  389\n",
      "Custom post analysis:  709\n",
      "Custom post analysis:  6\n",
      "Custom post analysis:  221\n",
      "Custom post analysis:  865\n",
      "Custom post analysis:  28\n",
      "Custom post analysis:  661\n",
      "Custom post analysis:  909\n",
      "Custom post analysis:  32\n",
      "Custom post analysis:  69\n",
      "Custom post analysis:  33\n",
      "Custom post analysis:  345\n",
      "Custom post analysis:  35\n",
      "Custom post analysis:  269\n",
      "Custom post analysis:  669\n",
      "Custom post analysis:  0\n",
      "Custom post analysis:  61\n",
      "Custom post analysis:  34\n",
      "Custom post analysis:  21\n",
      "Custom post analysis:  901\n",
      "Custom post analysis:  31\n",
      "Custom post analysis:  349\n",
      "Custom post analysis:  36\n",
      "Custom post analysis:  421\n",
      "Custom post analysis:  38\n",
      "Custom post analysis:  665\n",
      "Custom post analysis:  48\n",
      "Custom post analysis:  265\n",
      "Custom post analysis:  37\n",
      "Custom post analysis:  393\n",
      "Custom post analysis:  50\n",
      "Custom post analysis:  513\n",
      "Custom post analysis:  49\n",
      "Custom post analysis:  65\n",
      "Custom post analysis:  51\n",
      "Custom post analysis:  181\n",
      "Custom post analysis:  52\n",
      "Custom post analysis:  185\n",
      "Custom post analysis:  53\n",
      "Custom post analysis:  425\n",
      "Custom post analysis:  73\n",
      "Custom post analysis:  341\n",
      "Custom post analysis:  72\n",
      "Custom post analysis:  385\n",
      "Custom post analysis:  74\n",
      "Custom post analysis:  33\n",
      "Custom post analysis:  75\n",
      "Custom post analysis:  73\n",
      "Custom post analysis:  76\n",
      "Custom post analysis:  229\n",
      "Custom post analysis:  77\n"
     ]
    }
   ],
   "source": [
    "deflections_a = deflections_ma.hex0_spikes\n",
    "touch_a = touch_ma.hex0_spikes\n",
    "\n",
    "c_etl.post_analysis(deflections_a)\n",
    "c_etl.post_analysis(touch_a)\n",
    "\n",
    "c_etl.evoked_analysis(deflections_a)\n",
    "c_etl.evoked_analysis(touch_a)"
   ]
  },
  {
   "cell_type": "code",
   "execution_count": 39,
   "metadata": {},
   "outputs": [
    {
     "data": {
      "image/png": "[encoded data removed]",
      "text/plain": [
       "<Figure size 200x200 with 1 Axes>"
      ]
     },
     "metadata": {},
     "output_type": "display_data"
    },
    {
     "data": {
      "image/png": "[encoded data removed]",
      "text/plain": [
       "<Figure size 200x200 with 1 Axes>"
      ]
     },
     "metadata": {},
     "output_type": "display_data"
    }
   ],
   "source": [
    "from matplotlib import pyplot as plt\n",
    "import pandas as pd\n",
    "\n",
    "deflections_comp_df = deflections_a.custom['all_window_stat_and_mask_df']\n",
    "touch_comp_df = touch_a.custom['all_window_stat_and_mask_df']\n",
    "\n",
    "mask_dict = {\"SimBad100p50p25pDecayOverlySustained\":False}\n",
    "masked_deflections_comp_df = deflections_comp_df.etl.q(mask_dict)\n",
    "masked_touch_comp_df = touch_comp_df.etl.q(mask_dict)\n",
    "\n",
    "differences = pd.merge(masked_deflections_comp_df, masked_touch_comp_df, on=['ca', 'depol_stdev_mean_ratio', 'desired_connected_proportion_of_invivo_frs', 'vpm_pct']).loc[:, ['mean_ratio_difference_x', 'mean_ratio_difference_y', 'ca', 'depol_stdev_mean_ratio', 'desired_connected_proportion_of_invivo_frs', 'vpm_pct']]\n",
    "differences_and_ei = pd.merge(differences, deflections_a.custom['custom_simulations_post_analysis'], on=['ca', 'depol_stdev_mean_ratio', 'desired_connected_proportion_of_invivo_frs', 'vpm_pct']).loc[:, ['mean_ratio_difference_x', 'mean_ratio_difference_y', 'ei_corr_rval']]\n",
    "\n",
    "plt.figure(figsize=(2, 2))\n",
    "plt.scatter(differences_and_ei.mean_ratio_difference_x, differences_and_ei.mean_ratio_difference_y, s=1, c='k')\n",
    "min_val = differences_and_ei.mean_ratio_difference_x.min()\n",
    "max_val = differences_and_ei.mean_ratio_difference_x.max()\n",
    "plt.plot([min_val, max_val], [min_val, max_val], c='k', lw=.5)\n",
    "plt.plot([min_val, max_val], [0.0, 0.0], c='k', lw=.5, ls='--')\n",
    "plt.plot([0.0, 0.0], [min_val, max_val], c='k', lw=.5, ls='--')\n",
    "plt.gca().set_xlabel('Ratio difference to in vivo\\n(single whisker deflections)')\n",
    "plt.gca().set_ylabel('Ratio difference to in vivo\\n(active whisker touch)')\n",
    "plt.savefig('figures/swd_vs_awt_ratio_diff_to_vivo.pdf')\n",
    "\n",
    "\n",
    "\n",
    "\n",
    "plt.figure(figsize=(2, 2))\n",
    "plt.scatter(differences_and_ei.ei_corr_rval, differences_and_ei.mean_ratio_difference_x, c='b')\n",
    "plt.scatter(differences_and_ei.ei_corr_rval, differences_and_ei.mean_ratio_difference_y, c='r')\n",
    "plt.gca().set_xlabel('Spont E/I corr.')\n",
    "plt.gca().set_ylabel('Ratio difference to in vivo')\n",
    "\n",
    "plt.savefig('figures/ei_corr_vs_ratio_diff_to_vivo_swd_and_awt.pdf')\n",
    "\n",
    "\n",
    "\n",
    "\n",
    "\n"
   ]
  },
  {
   "cell_type": "code",
   "execution_count": null,
   "metadata": {},
   "outputs": [],
   "source": []
  }
 ],
 "metadata": {
  "kernelspec": {
   "display_name": "cortex_etl_jupyter_04_01_23",
   "language": "python",
   "name": "cortex_etl_jupyter_04_01_23"
  },
  "language_info": {
   "codemirror_mode": {
    "name": "ipython",
    "version": 3
   },
   "file_extension": ".py",
   "mimetype": "text/x-python",
   "name": "python",
   "nbconvert_exporter": "python",
   "pygments_lexer": "ipython3",
   "version": "3.10.8"
  }
 },
 "nbformat": 4,
 "nbformat_minor": 4
}
