{
 "cells": [
  {
   "cell_type": "code",
   "execution_count": 1,
   "metadata": {},
   "outputs": [
    {
     "ename": "FileNotFoundError",
     "evalue": "[Errno 2] No such file or directory: '../../configs/2-PfrTransfer/2-PfrTransfer-6-3rdConnectionRemaining.yaml'",
     "output_type": "error",
     "traceback": [
      "\u001b[0;31m---------------------------------------------------------------------------\u001b[0m",
      "\u001b[0;31mFileNotFoundError\u001b[0m                         Traceback (most recent call last)",
      "Cell \u001b[0;32mIn[1], line 5\u001b[0m\n\u001b[1;32m      2\u001b[0m sys\u001b[38;5;241m.\u001b[39mpath\u001b[38;5;241m.\u001b[39mappend(\u001b[38;5;124m'\u001b[39m\u001b[38;5;124m..\u001b[39m\u001b[38;5;124m'\u001b[39m)\n\u001b[1;32m      3\u001b[0m \u001b[38;5;28;01mimport\u001b[39;00m \u001b[38;5;21;01mcortex_etl\u001b[39;00m \u001b[38;5;28;01mas\u001b[39;00m \u001b[38;5;21;01mc_etl\u001b[39;00m\n\u001b[0;32m----> 5\u001b[0m ma \u001b[38;5;241m=\u001b[39m \u001b[43mc_etl\u001b[49m\u001b[38;5;241;43m.\u001b[39;49m\u001b[43manalysis_initial_processing\u001b[49m\u001b[43m(\u001b[49m\u001b[38;5;124;43m\"\u001b[39;49m\u001b[38;5;124;43m../../configs/2-PfrTransfer/2-PfrTransfer-6-3rdConnectionRemaining.yaml\u001b[39;49m\u001b[38;5;124;43m\"\u001b[39;49m\u001b[43m)\u001b[49m \u001b[38;5;66;03m#, loglevel=\"ERROR\"\u001b[39;00m\n",
      "File \u001b[0;32m/gpfs/bbp.cscs.ch/project/proj83/home/isbister/physiology_2023/cortex_etl/notebooks/../cortex_etl/manager.py:24\u001b[0m, in \u001b[0;36manalysis_initial_processing\u001b[0;34m(analysis_config_file, loglevel)\u001b[0m\n\u001b[1;32m     16\u001b[0m \u001b[38;5;28;01mdef\u001b[39;00m \u001b[38;5;21manalysis_initial_processing\u001b[39m(analysis_config_file, loglevel\u001b[38;5;241m=\u001b[39m\u001b[38;5;124m\"\u001b[39m\u001b[38;5;124mINFO\u001b[39m\u001b[38;5;124m\"\u001b[39m):\n\u001b[1;32m     18\u001b[0m \tsns\u001b[38;5;241m.\u001b[39mset(style\u001b[38;5;241m=\u001b[39m\u001b[38;5;124m\"\u001b[39m\u001b[38;5;124mticks\u001b[39m\u001b[38;5;124m\"\u001b[39m, context\u001b[38;5;241m=\u001b[39m\u001b[38;5;124m\"\u001b[39m\u001b[38;5;124mpaper\u001b[39m\u001b[38;5;124m\"\u001b[39m, font\u001b[38;5;241m=\u001b[39m\u001b[38;5;124m\"\u001b[39m\u001b[38;5;124mHelvetica Neue\u001b[39m\u001b[38;5;124m\"\u001b[39m,\n\u001b[1;32m     19\u001b[0m         rc\u001b[38;5;241m=\u001b[39m{\u001b[38;5;124m\"\u001b[39m\u001b[38;5;124maxes.labelsize\u001b[39m\u001b[38;5;124m\"\u001b[39m: \u001b[38;5;241m7\u001b[39m, \u001b[38;5;124m\"\u001b[39m\u001b[38;5;124mlegend.fontsize\u001b[39m\u001b[38;5;124m\"\u001b[39m: \u001b[38;5;241m6\u001b[39m, \u001b[38;5;124m\"\u001b[39m\u001b[38;5;124maxes.linewidth\u001b[39m\u001b[38;5;124m\"\u001b[39m: \u001b[38;5;241m0.6\u001b[39m, \u001b[38;5;124m\"\u001b[39m\u001b[38;5;124mxtick.labelsize\u001b[39m\u001b[38;5;124m\"\u001b[39m: \u001b[38;5;241m6\u001b[39m, \u001b[38;5;124m\"\u001b[39m\u001b[38;5;124mytick.labelsize\u001b[39m\u001b[38;5;124m\"\u001b[39m: \u001b[38;5;241m6\u001b[39m,\n\u001b[1;32m     20\u001b[0m             \u001b[38;5;124m\"\u001b[39m\u001b[38;5;124mxtick.major.size\u001b[39m\u001b[38;5;124m\"\u001b[39m: \u001b[38;5;241m2\u001b[39m, \u001b[38;5;124m\"\u001b[39m\u001b[38;5;124mxtick.major.width\u001b[39m\u001b[38;5;124m\"\u001b[39m: \u001b[38;5;241m0.5\u001b[39m, \u001b[38;5;124m\"\u001b[39m\u001b[38;5;124mxtick.minor.size\u001b[39m\u001b[38;5;124m\"\u001b[39m: \u001b[38;5;241m1.5\u001b[39m, \u001b[38;5;124m\"\u001b[39m\u001b[38;5;124mxtick.minor.width\u001b[39m\u001b[38;5;124m\"\u001b[39m: \u001b[38;5;241m0.3\u001b[39m,\n\u001b[1;32m     21\u001b[0m             \u001b[38;5;124m\"\u001b[39m\u001b[38;5;124mytick.major.size\u001b[39m\u001b[38;5;124m\"\u001b[39m: \u001b[38;5;241m2\u001b[39m, \u001b[38;5;124m\"\u001b[39m\u001b[38;5;124mytick.major.width\u001b[39m\u001b[38;5;124m\"\u001b[39m: \u001b[38;5;241m0.5\u001b[39m, \u001b[38;5;124m\"\u001b[39m\u001b[38;5;124mytick.minor.size\u001b[39m\u001b[38;5;124m\"\u001b[39m: \u001b[38;5;241m1.5\u001b[39m, \u001b[38;5;124m\"\u001b[39m\u001b[38;5;124mytick.minor.width\u001b[39m\u001b[38;5;124m\"\u001b[39m: \u001b[38;5;241m0.3\u001b[39m,\n\u001b[1;32m     22\u001b[0m             \u001b[38;5;124m\"\u001b[39m\u001b[38;5;124maxes.titlesize\u001b[39m\u001b[38;5;124m\"\u001b[39m: \u001b[38;5;241m7\u001b[39m, \u001b[38;5;124m\"\u001b[39m\u001b[38;5;124maxes.spines.right\u001b[39m\u001b[38;5;124m\"\u001b[39m: \u001b[38;5;28;01mFalse\u001b[39;00m, \u001b[38;5;124m\"\u001b[39m\u001b[38;5;124maxes.spines.top\u001b[39m\u001b[38;5;124m\"\u001b[39m: \u001b[38;5;28;01mFalse\u001b[39;00m})\n\u001b[0;32m---> 24\u001b[0m \tma \u001b[38;5;241m=\u001b[39m \u001b[43mrun_from_file\u001b[49m\u001b[43m(\u001b[49m\u001b[43manalysis_config_file\u001b[49m\u001b[43m,\u001b[49m\u001b[43m \u001b[49m\u001b[43mloglevel\u001b[49m\u001b[38;5;241;43m=\u001b[39;49m\u001b[43mloglevel\u001b[49m\u001b[43m)\u001b[49m\n\u001b[1;32m     25\u001b[0m \tma \u001b[38;5;241m=\u001b[39m ma\u001b[38;5;241m.\u001b[39mapply_filter()\n\u001b[1;32m     27\u001b[0m \t\u001b[38;5;28;01mfor\u001b[39;00m a \u001b[38;5;129;01min\u001b[39;00m ma\u001b[38;5;241m.\u001b[39manalyzers\u001b[38;5;241m.\u001b[39mvalues():\n",
      "File \u001b[0;32m~/cortex_etl_jupyter_04_01_23/lib/python3.10/site-packages/blueetl/analysis.py:337\u001b[0m, in \u001b[0;36mrun_from_file\u001b[0;34m(analysis_config_file, seed, extract, calculate, show, clear_cache, loglevel)\u001b[0m\n\u001b[1;32m    335\u001b[0m \u001b[38;5;28;01mif\u001b[39;00m seed \u001b[38;5;129;01mis\u001b[39;00m \u001b[38;5;129;01mnot\u001b[39;00m \u001b[38;5;28;01mNone\u001b[39;00m:\n\u001b[1;32m    336\u001b[0m     np\u001b[38;5;241m.\u001b[39mrandom\u001b[38;5;241m.\u001b[39mseed(seed)\n\u001b[0;32m--> 337\u001b[0m ma \u001b[38;5;241m=\u001b[39m \u001b[43mMultiAnalyzer\u001b[49m\u001b[38;5;241;43m.\u001b[39;49m\u001b[43mfrom_file\u001b[49m\u001b[43m(\u001b[49m\u001b[43manalysis_config_file\u001b[49m\u001b[43m,\u001b[49m\u001b[43m \u001b[49m\u001b[43mclear_cache\u001b[49m\u001b[38;5;241;43m=\u001b[39;49m\u001b[43mclear_cache\u001b[49m\u001b[43m)\u001b[49m\n\u001b[1;32m    338\u001b[0m \u001b[38;5;28;01mif\u001b[39;00m extract:\n\u001b[1;32m    339\u001b[0m     ma\u001b[38;5;241m.\u001b[39mextract_repo()\n",
      "File \u001b[0;32m~/cortex_etl_jupyter_04_01_23/lib/python3.10/site-packages/blueetl/analysis.py:209\u001b[0m, in \u001b[0;36mMultiAnalyzer.from_file\u001b[0;34m(cls, path, clear_cache)\u001b[0m\n\u001b[1;32m    205\u001b[0m \u001b[38;5;129m@classmethod\u001b[39m\n\u001b[1;32m    206\u001b[0m \u001b[38;5;28;01mdef\u001b[39;00m \u001b[38;5;21mfrom_file\u001b[39m(\u001b[38;5;28mcls\u001b[39m, path: StrOrPath, clear_cache: Optional[\u001b[38;5;28mbool\u001b[39m] \u001b[38;5;241m=\u001b[39m \u001b[38;5;28;01mNone\u001b[39;00m) \u001b[38;5;241m-\u001b[39m\u001b[38;5;241m>\u001b[39m \u001b[38;5;124m\"\u001b[39m\u001b[38;5;124mMultiAnalyzer\u001b[39m\u001b[38;5;124m\"\u001b[39m:\n\u001b[1;32m    207\u001b[0m \u001b[38;5;250m    \u001b[39m\u001b[38;5;124;03m\"\"\"Return a new instance loaded using the given configuration file.\"\"\"\u001b[39;00m\n\u001b[1;32m    208\u001b[0m     \u001b[38;5;28;01mreturn\u001b[39;00m \u001b[38;5;28mcls\u001b[39m(\n\u001b[0;32m--> 209\u001b[0m         global_config\u001b[38;5;241m=\u001b[39m\u001b[43mload_yaml\u001b[49m\u001b[43m(\u001b[49m\u001b[43mpath\u001b[49m\u001b[43m)\u001b[49m,\n\u001b[1;32m    210\u001b[0m         base_path\u001b[38;5;241m=\u001b[39mPath(path)\u001b[38;5;241m.\u001b[39mparent,\n\u001b[1;32m    211\u001b[0m         clear_cache\u001b[38;5;241m=\u001b[39mclear_cache,\n\u001b[1;32m    212\u001b[0m     )\n",
      "File \u001b[0;32m~/cortex_etl_jupyter_04_01_23/lib/python3.10/site-packages/blueetl/utils.py:45\u001b[0m, in \u001b[0;36mload_yaml\u001b[0;34m(filepath)\u001b[0m\n\u001b[1;32m     43\u001b[0m \u001b[38;5;28;01mdef\u001b[39;00m \u001b[38;5;21mload_yaml\u001b[39m(filepath: StrOrPath) \u001b[38;5;241m-\u001b[39m\u001b[38;5;241m>\u001b[39m Any:\n\u001b[1;32m     44\u001b[0m \u001b[38;5;250m    \u001b[39m\u001b[38;5;124;03m\"\"\"Load from YAML file.\"\"\"\u001b[39;00m\n\u001b[0;32m---> 45\u001b[0m     \u001b[38;5;28;01mwith\u001b[39;00m \u001b[38;5;28;43mopen\u001b[39;49m\u001b[43m(\u001b[49m\u001b[43mfilepath\u001b[49m\u001b[43m,\u001b[49m\u001b[43m \u001b[49m\u001b[43mencoding\u001b[49m\u001b[38;5;241;43m=\u001b[39;49m\u001b[38;5;124;43m\"\u001b[39;49m\u001b[38;5;124;43mutf-8\u001b[39;49m\u001b[38;5;124;43m\"\u001b[39;49m\u001b[43m)\u001b[49m \u001b[38;5;28;01mas\u001b[39;00m f:\n\u001b[1;32m     46\u001b[0m         \u001b[38;5;66;03m# Any conversion when loading back the values can be done later,\u001b[39;00m\n\u001b[1;32m     47\u001b[0m         \u001b[38;5;66;03m# so that the loaded object can be validated using jsonschema.\u001b[39;00m\n\u001b[1;32m     48\u001b[0m         \u001b[38;5;28;01mreturn\u001b[39;00m yaml\u001b[38;5;241m.\u001b[39mload(f, Loader\u001b[38;5;241m=\u001b[39myaml\u001b[38;5;241m.\u001b[39mSafeLoader)\n",
      "\u001b[0;31mFileNotFoundError\u001b[0m: [Errno 2] No such file or directory: '../../configs/2-PfrTransfer/2-PfrTransfer-6-3rdConnectionRemaining.yaml'"
     ]
    }
   ],
   "source": [
    "import sys\n",
    "sys.path.append('..')\n",
    "import cortex_etl as c_etl\n",
    "\n",
    "ma = c_etl.analysis_initial_processing(\"../configs/6-O1-MPScan/6-O1-MPScan-0-5x3x2.yaml\") #, loglevel=\"ERROR\""
   ]
  },
  {
   "cell_type": "code",
   "execution_count": 3,
   "metadata": {},
   "outputs": [],
   "source": [
    "a_soma = ma.soma\n",
    "a_spikes = ma.hex0_spikes"
   ]
  },
  {
   "cell_type": "code",
   "execution_count": 4,
   "metadata": {},
   "outputs": [
    {
     "name": "stdout",
     "output_type": "stream",
     "text": [
      "Create lineplot: mean\n",
      "['layer_string', 'synapse_class', 'desired_connected_proportion_of_invivo_frs', 'depol_stdev_mean_ratio', 'ca', 'mean']\n",
      "Create lineplot: std\n",
      "['layer_string', 'synapse_class', 'desired_connected_proportion_of_invivo_frs', 'depol_stdev_mean_ratio', 'ca', 'std']\n"
     ]
    }
   ],
   "source": [
    "import matplotlib.pyplot as plt\n",
    "import pandas as pd\n",
    "\n",
    "soma_stats_with_sim_info = pd.merge(a_soma.features.by_neuron_class_v2.df.reset_index(), a_soma.repo.simulations.df, on='simulation_id')\n",
    "soma_stats_with_sim_info = soma_stats_with_sim_info.etl.q(neuron_class=c_etl.LAYER_EI_NEURON_CLASSES)\n",
    "\n",
    "soma_stats_with_sim_info.loc[:, 'layer_string'] = soma_stats_with_sim_info.apply(lambda row: c_etl.NEURON_CLASS_LAYERS_AND_SYNAPSE_CLASSES[row['neuron_class']]['layer_string'], axis = 1)\n",
    "soma_stats_with_sim_info.loc[:, 'synapse_class'] = soma_stats_with_sim_info.apply(lambda row: c_etl.NEURON_CLASS_LAYERS_AND_SYNAPSE_CLASSES[row['neuron_class']]['synapse_class'], axis = 1)\n",
    "\n",
    "c_etl.lineplot(soma_stats_with_sim_info, \"mean\", \"figures/soma/soma_mean\", hor_key=\"layer_string\", ver_key=\"synapse_class\", x_key=\"desired_connected_proportion_of_invivo_frs\", colour_var_key=\"depol_stdev_mean_ratio\", linestyle_key=\"ca\", mask_key=\"\", highlight_false_key=\"\", marker='x', custom_ylim=[], remove_intermediate_labels=False, autosize_scaling_factor=3)\n",
    "c_etl.lineplot(soma_stats_with_sim_info, \"std\", \"figures/soma/soma_std\", hor_key=\"layer_string\", ver_key=\"synapse_class\", x_key=\"desired_connected_proportion_of_invivo_frs\", colour_var_key=\"depol_stdev_mean_ratio\", linestyle_key=\"ca\", mask_key=\"\", highlight_false_key=\"\", marker='x', custom_ylim=[], remove_intermediate_labels=False, autosize_scaling_factor=3)"
   ]
  },
  {
   "cell_type": "code",
   "execution_count": 19,
   "metadata": {},
   "outputs": [],
   "source": [
    "soma_df_copy = a_soma.repo.report.df.etl.q(neuron_class=c_etl.LAYER_EI_NEURON_CLASSES, window='w1').copy()\n",
    "soma_df_copy = soma_df_copy.etl.q(simulation_id=9)"
   ]
  },
  {
   "cell_type": "code",
   "execution_count": null,
   "metadata": {},
   "outputs": [],
   "source": [
    "for gid in soma_df_copy.etl.q(neuron_class='L6_EXC').gid.unique():\n",
    "    neuron_soma = soma_df_copy.etl.q(gid=gid)\n",
    "    \n",
    "    plt.figure()\n",
    "    for simulation_id in neuron_soma.simulation_id.unique():\n",
    "        sim_neuron_soma = neuron_soma.etl.q(simulation_id=simulation_id)\n",
    "\n",
    "        plt.plot(sim_neuron_soma['time'], sim_neuron_soma['value'])\n",
    "        \n",
    "    plt.gca().set_ylim([-75.0, -55.0])"
   ]
  },
  {
   "cell_type": "code",
   "execution_count": null,
   "metadata": {},
   "outputs": [],
   "source": []
  },
  {
   "cell_type": "code",
   "execution_count": 20,
   "metadata": {},
   "outputs": [
    {
     "name": "stdout",
     "output_type": "stream",
     "text": [
      "4127264\n",
      "3616452\n",
      "3798706\n",
      "3694822\n",
      "3992779\n",
      "3983886\n",
      "4025661\n",
      "4142580\n",
      "4048463\n",
      "4191777\n",
      "3550774\n",
      "3446254\n",
      "4095992\n",
      "3682718\n",
      "3810132\n",
      "4076434\n",
      "4102386\n",
      "3528696\n",
      "3634113\n",
      "3868502\n",
      "3816757\n",
      "3967866\n",
      "3713336\n",
      "4015929\n",
      "3761614\n",
      "3655171\n",
      "4105127\n",
      "3447096\n",
      "3941847\n",
      "3993908\n",
      "3530238\n",
      "3666861\n",
      "3694252\n",
      "3671259\n",
      "3824515\n",
      "3592147\n",
      "3591440\n",
      "3591737\n",
      "3493057\n",
      "3480757\n",
      "3576551\n",
      "3586925\n",
      "4210991\n",
      "3481506\n",
      "3510960\n",
      "3603025\n",
      "4218390\n",
      "3591191\n",
      "3595584\n",
      "3595934\n",
      "3508122\n",
      "3584842\n",
      "3512847\n",
      "3573429\n",
      "3591067\n",
      "4229218\n",
      "3509716\n",
      "4217493\n",
      "3577632\n",
      "4220700\n",
      "3507656\n",
      "3599926\n",
      "3562680\n",
      "3597652\n",
      "3503852\n",
      "3575179\n",
      "3483203\n",
      "3583129\n",
      "3490342\n",
      "3488311\n",
      "3593958\n",
      "3493315\n",
      "3486099\n",
      "3472959\n",
      "3563975\n",
      "3567581\n",
      "3499737\n",
      "3568183\n",
      "3496008\n",
      "3488763\n",
      "1872946\n",
      "1766988\n",
      "1469510\n",
      "2023238\n",
      "1854373\n",
      "2145865\n",
      "1981889\n",
      "1559629\n",
      "1818442\n",
      "2096657\n",
      "1640163\n",
      "1424826\n",
      "807624\n",
      "2048567\n",
      "2103593\n",
      "2018812\n",
      "1723875\n",
      "1113396\n",
      "1724717\n",
      "1997610\n",
      "1108989\n",
      "1121407\n",
      "1721410\n",
      "1107579\n",
      "1132127\n",
      "1364215\n",
      "1407814\n",
      "1723595\n",
      "1113305\n",
      "1385542\n",
      "1372563\n",
      "1402352\n",
      "1366394\n",
      "2192396\n",
      "1398233\n",
      "963642\n",
      "2199685\n",
      "1392886\n",
      "2197114\n",
      "2185525\n",
      "2190870\n",
      "1377362\n",
      "2196191\n",
      "1995797\n",
      "1384641\n",
      "1123240\n",
      "1125141\n",
      "1403936\n",
      "2191079\n"
     ]
    }
   ],
   "source": [
    "import numpy as np\n",
    "\n",
    "soma_df_copy = soma_df_copy.etl.q(neuron_class=['L5_EXC', 'L5_INH', 'L6_EXC', 'L6_INH'])\n",
    "\n",
    "gid_spikes = a_spikes.repo.report.df.etl.q(window='w1', simulation_id=9, neuron_class=['L5_EXC', 'L5_INH', 'L6_EXC', 'L6_INH'])\n",
    "soma_gids = soma_df_copy.etl.q(neuron_class=['L5_EXC', 'L5_INH', 'L6_EXC', 'L6_INH']).gid.unique()\n",
    "\n",
    "for gid in gid_spikes.gid.unique():\n",
    "    if gid in soma_gids:\n",
    "        print(gid)\n",
    "        gid_soma = soma_df_copy.etl.q(gid=gid)\n",
    "\n",
    "        for _, spike in gid_spikes.iterrows():\n",
    "            where_spike = gid_soma.etl.q({\"time\": {\"ge\": spike['time'] - 25.0, \"le\": spike['time'] + 25.0}}).index\n",
    "            if len(where_spike):\n",
    "                soma_df_copy.loc[where_spike, 'value'] = np.nan\n",
    "\n",
    "#     plt.figure()\n",
    "#     plt.plot(gid_soma['time'], gid_soma['value'])\n",
    "\n",
    "\n"
   ]
  },
  {
   "cell_type": "code",
   "execution_count": 21,
   "metadata": {},
   "outputs": [
    {
     "name": "stderr",
     "output_type": "stream",
     "text": [
      "/nvme/isbister/1462278/ipykernel_294663/3398179233.py:1: FutureWarning: The default value of numeric_only in DataFrameGroupBy.mean is deprecated. In a future version, numeric_only will default to False. Either specify numeric_only or select only columns which should be valid for the function.\n",
      "  mean_potentials = soma_df_copy.etl.q(neuron_class=['L6_EXC', 'L6_INH']).groupby(['time']).mean().reset_index()\n"
     ]
    },
    {
     "data": {
      "text/plain": [
       "[<matplotlib.lines.Line2D at 0x2aac77a270d0>]"
      ]
     },
     "execution_count": 21,
     "metadata": {},
     "output_type": "execute_result"
    },
    {
     "data": {
      "image/png": "[encoded data removed]",
      "text/plain": [
       "<Figure size 640x480 with 1 Axes>"
      ]
     },
     "metadata": {},
     "output_type": "display_data"
    }
   ],
   "source": [
    "mean_potentials = soma_df_copy.etl.q(neuron_class=['L5_EXC', 'L5_INH', 'L6_EXC', 'L6_INH']).groupby(['time']).mean().reset_index()\n",
    "\n",
    "plt.figure()\n",
    "plt.plot(mean_potentials['time'], mean_potentials['value'])"
   ]
  },
  {
   "cell_type": "code",
   "execution_count": null,
   "metadata": {},
   "outputs": [],
   "source": []
  }
 ],
 "metadata": {
  "kernelspec": {
   "display_name": "cortex_etl_jupyter_04_01_23",
   "language": "python",
   "name": "cortex_etl_jupyter_04_01_23"
  },
  "language_info": {
   "codemirror_mode": {
    "name": "ipython",
    "version": 3
   },
   "file_extension": ".py",
   "mimetype": "text/x-python",
   "name": "python",
   "nbconvert_exporter": "python",
   "pygments_lexer": "ipython3",
   "version": "3.10.8"
  }
 },
 "nbformat": 4,
 "nbformat_minor": 4
}
