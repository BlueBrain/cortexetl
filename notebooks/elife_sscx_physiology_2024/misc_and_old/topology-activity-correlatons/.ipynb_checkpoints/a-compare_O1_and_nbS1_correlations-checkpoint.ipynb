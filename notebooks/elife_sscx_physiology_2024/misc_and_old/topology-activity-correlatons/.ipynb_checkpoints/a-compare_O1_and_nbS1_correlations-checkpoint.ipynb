{
 "cells": [
  {
   "cell_type": "code",
   "execution_count": null,
   "metadata": {},
   "outputs": [],
   "source": [
    "import sys\n",
    "sys.path.append('..')\n",
    "import cortex_etl as c_etl\n",
    "\n",
    "ma = c_etl.analysis_initial_processing(\"../configs/2-PfrTransfer/2-PfrTransfer-6-3rdConnectionRemaining.yaml\", loglevel=\"ERROR\")\n",
    "ma_nbS1 = c_etl.analysis_initial_processing(\"../configs/5-FullCircuit/5-FullCircuit-2-BetterMinis-FprScan.yaml\") #, loglevel=\"ERROR\""
   ]
  },
  {
   "cell_type": "code",
   "execution_count": 3,
   "metadata": {},
   "outputs": [],
   "source": [
    "a = ma.hex0_spikes\n",
    "a_name = \"hex0_spikes\"\n",
    "\n",
    "a_nbS1 = ma_nbS1.hexes_spikes\n",
    "a_nbS1_name = \"hexes_spikes\""
   ]
  },
  {
   "cell_type": "code",
   "execution_count": 4,
   "metadata": {},
   "outputs": [
    {
     "name": "stdout",
     "output_type": "stream",
     "text": [
      "\n",
      "----- Custom post analysis -----\n"
     ]
    },
    {
     "name": "stderr",
     "output_type": "stream",
     "text": [
      "[Parallel(n_jobs=36)]: Using backend LokyBackend with 36 concurrent workers.\n",
      "2023-04-13 13:03:05,914 INFO blueetl.parallel: Considering 60 rows for columns ['simulation_id', 'circuit_id']\n",
      "2023-04-13 13:03:05,916 INFO blueetl.parallel: Tasks to be executed: 60\n",
      "[Parallel(n_jobs=36)]: Done   3 out of  60 | elapsed:    1.5s remaining:   28.1s\n",
      "[Parallel(n_jobs=36)]: Done  10 out of  60 | elapsed:    1.5s remaining:    7.5s\n",
      "[Parallel(n_jobs=36)]: Done  17 out of  60 | elapsed:    1.5s remaining:    3.8s\n",
      "[Parallel(n_jobs=36)]: Done  24 out of  60 | elapsed:    1.5s remaining:    2.3s\n",
      "[Parallel(n_jobs=36)]: Done  31 out of  60 | elapsed:    1.7s remaining:    1.6s\n",
      "[Parallel(n_jobs=36)]: Done  38 out of  60 | elapsed:    1.9s remaining:    1.1s\n",
      "[Parallel(n_jobs=36)]: Done  45 out of  60 | elapsed:    2.1s remaining:    0.7s\n",
      "[Parallel(n_jobs=36)]: Done  52 out of  60 | elapsed:    2.3s remaining:    0.4s\n",
      "[Parallel(n_jobs=36)]: Done  60 out of  60 | elapsed:    2.5s finished\n",
      "[Parallel(n_jobs=36)]: Using backend LokyBackend with 36 concurrent workers.\n",
      "2023-04-13 13:03:13,119 INFO blueetl.parallel: Considering 60 rows for columns ['simulation_id', 'circuit_id']\n",
      "2023-04-13 13:03:13,121 INFO blueetl.parallel: Tasks to be executed: 60\n",
      "[Parallel(n_jobs=36)]: Batch computation too fast (0.1621s.) Setting batch_size=2.\n",
      "[Parallel(n_jobs=36)]: Batch computation too fast (0.1621s.) Setting batch_size=4.\n",
      "[Parallel(n_jobs=36)]: Done   3 tasks      | elapsed:    2.0s\n",
      "[Parallel(n_jobs=36)]: Done  10 out of  60 | elapsed:    2.0s remaining:    9.8s\n",
      "[Parallel(n_jobs=36)]: Done  17 out of  60 | elapsed:    2.0s remaining:    5.0s\n",
      "[Parallel(n_jobs=36)]: Done  24 out of  60 | elapsed:    2.0s remaining:    3.0s\n",
      "[Parallel(n_jobs=36)]: Done  31 out of  60 | elapsed:    2.0s remaining:    1.9s\n",
      "[Parallel(n_jobs=36)]: Done  38 out of  60 | elapsed:    2.1s remaining:    1.2s\n",
      "[Parallel(n_jobs=36)]: Done  45 out of  60 | elapsed:    2.5s remaining:    0.8s\n",
      "[Parallel(n_jobs=36)]: Done  52 out of  60 | elapsed:    2.8s remaining:    0.4s\n"
     ]
    },
    {
     "name": "stdout",
     "output_type": "stream",
     "text": [
      "----- Custom post analysis complete: 12.98s -----\n"
     ]
    },
    {
     "name": "stderr",
     "output_type": "stream",
     "text": [
      "[Parallel(n_jobs=36)]: Done  60 out of  60 | elapsed:    3.2s finished\n"
     ]
    }
   ],
   "source": [
    "c_etl.post_analysis(a)\n",
    "# c_etl.post_analysis(a_nbS1)"
   ]
  },
  {
   "cell_type": "code",
   "execution_count": 27,
   "metadata": {},
   "outputs": [
    {
     "data": {
      "image/png": "[encoded data removed]",
      "text/plain": [
       "<Figure size 200x200 with 1 Axes>"
      ]
     },
     "metadata": {},
     "output_type": "display_data"
    }
   ],
   "source": [
    "from matplotlib import pyplot as plt\n",
    "import numpy as np\n",
    "from scipy.stats import linregress\n",
    "\n",
    "isolated_data = a.custom['custom_simulations_post_analysis'].etl.q(desired_connected_proportion_of_invivo_frs=0.2, depol_stdev_mean_ratio=0.4, ca=1.05)\n",
    "        \n",
    "plt.figure(figsize=(2,2))\n",
    "spont_hists = a_nbS1.features.histograms.df.etl.q(simulation_id=4, window=\"conn_spont\", bin_size=3.0, smoothing_type='Gaussian', kernel_sd=1.0).reset_index()\n",
    "for prefix_ind, prefix in enumerate([\"L23\", \"L4\", \"L5\", \"L6\", \"ALL\"]):\n",
    "    layer_rvals_by_column = []\n",
    "    for hex_ind in list(range(0, 77)):\n",
    "        spont_hist_EXC = spont_hists.etl.q(neuron_class=prefix + \"_EXC_\" + str(hex_ind))['hist']\n",
    "        spont_hist_INH = spont_hists.etl.q(neuron_class=prefix + \"_INH_\" + str(hex_ind))['hist']\n",
    "\n",
    "        if (not np.all(spont_hist_EXC == spont_hist_EXC.iloc[0])):\n",
    "            rval = linregress(spont_hist_EXC, spont_hist_INH).rvalue\n",
    "            layer_rvals_by_column.append(rval)\n",
    "\n",
    "            plt.scatter([prefix_ind], [rval], c='k', s=0.2)\n",
    "            \n",
    "    plt.scatter([prefix_ind], [np.mean(layer_rvals_by_column)], c='grey', zorder=-2)\n",
    "    \n",
    "plt.gca().set_xticks([0, 1, 2, 3, 4], labels=[\"L23\", \"L4\", \"L5\", \"L6\", \"ALL\"])       \n",
    "plt.gca().set_ylim([-0.2, 1.0])\n",
    "\n",
    "isolated_data_layers = a.custom['layer_wise_features'].etl.q(desired_connected_proportion_of_invivo_frs=0.2, depol_stdev_mean_ratio=0.4, ca=1.05, window='conn_spont')\n",
    "\n",
    "for _, row in isolated_data.iterrows():\n",
    "    plt.scatter([4], [row['ei_corr_rval']], c='g', zorder=-2)\n",
    "    \n",
    "count = 0\n",
    "for ind, row in isolated_data_layers.iterrows():\n",
    "    plt.scatter([count], [row['ei_corr_rval']], c='g', zorder=-2)\n",
    "    count += 1\n",
    "    \n",
    "plt.gca().set_ylabel('Internal correlation')\n",
    "\n",
    "plt.savefig('figures/O1hex0_vs_nbS1_layerwise_correlations.pdf', bbox_inches='tight')"
   ]
  },
  {
   "cell_type": "code",
   "execution_count": null,
   "metadata": {},
   "outputs": [],
   "source": [
    "for hex_ind in list(range(0, 77)):\n",
    "\n",
    "#     print('ALL_%(hex_ind)s: { $limit: null, $target: hex%(hex_ind)s }' % {\"hex_ind\": hex_ind})\n",
    "    \n",
    "#     print('ALL_INH_%(hex_ind)s: { synapse_class: [ INH ], $limit: null, $target: hex%(hex_ind)s }' % {\"hex_ind\": hex_ind})\n",
    "    print('L1_INH_%(hex_ind)s: { layer: [1], synapse_class: [ INH ], $limit: null, $target: hex%(hex_ind)s }' % {\"hex_ind\": hex_ind})\n",
    "    print('L23_INH_%(hex_ind)s: { layer: [2, 3], synapse_class: [ INH ], $limit: null, $target: hex%(hex_ind)s }' % {\"hex_ind\": hex_ind})\n",
    "    print('L4_INH_%(hex_ind)s: { layer: [4], synapse_class: [ INH ], $limit: null, $target: hex%(hex_ind)s }' % {\"hex_ind\": hex_ind})\n",
    "    print('L5_INH_%(hex_ind)s: { layer: [5], synapse_class: [ INH ], $limit: null, $target: hex%(hex_ind)s }' % {\"hex_ind\": hex_ind})\n",
    "    print('L6_INH_%(hex_ind)s: { layer: [6], synapse_class: [ INH ], $limit: null, $target: hex%(hex_ind)s }' % {\"hex_ind\": hex_ind})\n",
    "    \n",
    "#     print('ALL_EXC_%(hex_ind)s: { synapse_class: [ EXC ], $limit: null, $target: hex%(hex_ind)s }' % {\"hex_ind\": hex_ind})\n",
    "#     print('L1_EXC_%(hex_ind)s: { layer: [1], synapse_class: [ EXC ], $limit: null, $target: hex%(hex_ind)s }' % {\"hex_ind\": hex_ind})\n",
    "    print('L23_EXC_%(hex_ind)s: { layer: [2, 3], synapse_class: [ EXC ], $limit: null, $target: hex%(hex_ind)s }' % {\"hex_ind\": hex_ind})\n",
    "    print('L4_EXC_%(hex_ind)s: { layer: [4], synapse_class: [ EXC ], $limit: null, $target: hex%(hex_ind)s }' % {\"hex_ind\": hex_ind})\n",
    "    print('L5_EXC_%(hex_ind)s: { layer: [5], synapse_class: [ EXC ], $limit: null, $target: hex%(hex_ind)s }' % {\"hex_ind\": hex_ind})\n",
    "    print('L6_EXC_%(hex_ind)s: { layer: [6], synapse_class: [ EXC ], $limit: null, $target: hex%(hex_ind)s }' % {\"hex_ind\": hex_ind})\n",
    "    \n",
    "    print('\\n')\n",
    "    \n",
    "    \n",
    "#     print(\"ALL_INH_0: { synapse_class: [ INH ], $limit: null, $target: hex0}\")\n",
    "#     print(\"ALL_EXC_0: { synapse_class: [ EXC ], $limit: null, $target: hex0}\")"
   ]
  },
  {
   "cell_type": "code",
   "execution_count": null,
   "metadata": {},
   "outputs": [],
   "source": []
  }
 ],
 "metadata": {
  "kernelspec": {
   "display_name": "cortex_etl_jupyter_04_01_23",
   "language": "python",
   "name": "cortex_etl_jupyter_04_01_23"
  },
  "language_info": {
   "codemirror_mode": {
    "name": "ipython",
    "version": 3
   },
   "file_extension": ".py",
   "mimetype": "text/x-python",
   "name": "python",
   "nbconvert_exporter": "python",
   "pygments_lexer": "ipython3",
   "version": "3.10.8"
  }
 },
 "nbformat": 4,
 "nbformat_minor": 4
}
