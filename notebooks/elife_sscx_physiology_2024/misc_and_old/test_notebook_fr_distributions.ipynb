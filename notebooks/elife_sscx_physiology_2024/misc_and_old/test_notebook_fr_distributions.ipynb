{
 "cells": [
  {
   "cell_type": "code",
   "execution_count": 1,
   "metadata": {},
   "outputs": [],
   "source": [
    "import logging\n",
    "import sys\n",
    "import shutil\n",
    "import numpy as np\n",
    "import pandas as pd\n",
    "import seaborn as sns\n",
    "\n",
    "from blueetl.analysis import Analyzer\n",
    "from blueetl.constants import *\n",
    "from blueetl.utils import load_yaml\n",
    "\n",
    "import sys\n",
    "sys.path.append('..')\n",
    "import cortex_etl as c_etl"
   ]
  },
  {
   "cell_type": "code",
   "execution_count": 2,
   "metadata": {},
   "outputs": [],
   "source": [
    "sns.set(style=\"ticks\", context=\"paper\", font=\"Helvetica Neue\",\n",
    "        rc={\"axes.labelsize\": 7, \"legend.fontsize\": 6, \"axes.linewidth\": 0.6, \"xtick.labelsize\": 6, \"ytick.labelsize\": 6,\n",
    "            \"xtick.major.size\": 2, \"xtick.major.width\": 0.5, \"xtick.minor.size\": 1.5, \"xtick.minor.width\": 0.3,\n",
    "            \"ytick.major.size\": 2, \"ytick.major.width\": 0.5, \"ytick.minor.size\": 1.5, \"ytick.minor.width\": 0.3,\n",
    "            \"axes.titlesize\": 7, \"axes.spines.right\": False, \"axes.spines.top\": False})"
   ]
  },
  {
   "cell_type": "code",
   "execution_count": 3,
   "metadata": {},
   "outputs": [
    {
     "name": "stderr",
     "output_type": "stream",
     "text": [
      "Have keys ({'desired_connected_fr_L1I', 'desired_unconnected_fr_L23I', 'desired_connected_fr_L5I', 'desired_unconnected_fr_L5I', 'desired_unconnected_fr_L4I', 'desired_connected_fr_L23E', 'desired_connected_fr_L4I', 'desired_unconnected_fr_L4E', 'desired_connected_proportion_of_invivo_frs', 'desired_connected_fr_L6I', 'desired_connected_fr_L6E', 'desired_unconnected_fr_L23E', 'desired_unconnected_fr_L1I', 'desired_connected_fr_L5E', 'desired_connected_fr_L23I', 'desired_connected_fr_L4E', 'desired_unconnected_fr_L6I', 'desired_unconnected_fr_L5E', 'desired_unconnected_fr_L6E', 'depol_stdev_mean_ratio'}) that are not defined for section: Run\n",
      "Have keys ({'desired_connected_fr_L1I', 'desired_unconnected_fr_L23I', 'desired_connected_fr_L5I', 'desired_unconnected_fr_L5I', 'desired_unconnected_fr_L4I', 'desired_connected_fr_L23E', 'desired_connected_fr_L4I', 'desired_unconnected_fr_L4E', 'desired_connected_proportion_of_invivo_frs', 'desired_connected_fr_L6I', 'desired_connected_fr_L6E', 'desired_unconnected_fr_L23E', 'desired_unconnected_fr_L1I', 'desired_connected_fr_L5E', 'desired_connected_fr_L23I', 'desired_connected_fr_L4E', 'desired_unconnected_fr_L6I', 'desired_unconnected_fr_L5E', 'desired_unconnected_fr_L6E', 'depol_stdev_mean_ratio'}) that are not defined for section: Run\n",
      "Have keys ({'desired_connected_fr_L1I', 'desired_unconnected_fr_L23I', 'desired_connected_fr_L5I', 'desired_unconnected_fr_L5I', 'desired_unconnected_fr_L4I', 'desired_connected_fr_L23E', 'desired_connected_fr_L4I', 'desired_unconnected_fr_L4E', 'desired_connected_proportion_of_invivo_frs', 'desired_connected_fr_L6I', 'desired_connected_fr_L6E', 'desired_unconnected_fr_L23E', 'desired_unconnected_fr_L1I', 'desired_connected_fr_L5E', 'desired_connected_fr_L23I', 'desired_connected_fr_L4E', 'desired_unconnected_fr_L6I', 'desired_unconnected_fr_L5E', 'desired_unconnected_fr_L6E', 'depol_stdev_mean_ratio'}) that are not defined for section: Run\n",
      "Have keys ({'desired_connected_fr_L1I', 'desired_unconnected_fr_L23I', 'desired_connected_fr_L5I', 'desired_unconnected_fr_L5I', 'desired_unconnected_fr_L4I', 'desired_connected_fr_L23E', 'desired_connected_fr_L4I', 'desired_unconnected_fr_L4E', 'desired_connected_proportion_of_invivo_frs', 'desired_connected_fr_L6I', 'desired_connected_fr_L6E', 'desired_unconnected_fr_L23E', 'desired_unconnected_fr_L1I', 'desired_connected_fr_L5E', 'desired_connected_fr_L23I', 'desired_connected_fr_L4E', 'desired_unconnected_fr_L6I', 'desired_unconnected_fr_L5E', 'desired_unconnected_fr_L6E', 'depol_stdev_mean_ratio'}) that are not defined for section: Run\n",
      "Have keys ({'desired_connected_fr_L1I', 'desired_unconnected_fr_L23I', 'desired_connected_fr_L5I', 'desired_unconnected_fr_L5I', 'desired_unconnected_fr_L4I', 'desired_connected_fr_L23E', 'desired_connected_fr_L4I', 'desired_unconnected_fr_L4E', 'desired_connected_proportion_of_invivo_frs', 'desired_connected_fr_L6I', 'desired_connected_fr_L6E', 'desired_unconnected_fr_L23E', 'desired_unconnected_fr_L1I', 'desired_connected_fr_L5E', 'desired_connected_fr_L23I', 'desired_connected_fr_L4E', 'desired_unconnected_fr_L6I', 'desired_unconnected_fr_L5E', 'desired_unconnected_fr_L6E', 'depol_stdev_mean_ratio'}) that are not defined for section: Run\n",
      "Have keys ({'desired_connected_fr_L1I', 'desired_unconnected_fr_L23I', 'desired_connected_fr_L5I', 'desired_unconnected_fr_L5I', 'desired_unconnected_fr_L4I', 'desired_connected_fr_L23E', 'desired_connected_fr_L4I', 'desired_unconnected_fr_L4E', 'desired_connected_proportion_of_invivo_frs', 'desired_connected_fr_L6I', 'desired_connected_fr_L6E', 'desired_unconnected_fr_L23E', 'desired_unconnected_fr_L1I', 'desired_connected_fr_L5E', 'desired_connected_fr_L23I', 'desired_connected_fr_L4E', 'desired_unconnected_fr_L6I', 'desired_unconnected_fr_L5E', 'desired_unconnected_fr_L6E', 'depol_stdev_mean_ratio'}) that are not defined for section: Run\n",
      "Have keys ({'desired_connected_fr_L1I', 'desired_unconnected_fr_L23I', 'desired_connected_fr_L5I', 'desired_unconnected_fr_L5I', 'desired_unconnected_fr_L4I', 'desired_connected_fr_L23E', 'desired_connected_fr_L4I', 'desired_unconnected_fr_L4E', 'desired_connected_proportion_of_invivo_frs', 'desired_connected_fr_L6I', 'desired_connected_fr_L6E', 'desired_unconnected_fr_L23E', 'desired_unconnected_fr_L1I', 'desired_connected_fr_L5E', 'desired_connected_fr_L23I', 'desired_connected_fr_L4E', 'desired_unconnected_fr_L6I', 'desired_unconnected_fr_L5E', 'desired_unconnected_fr_L6E', 'depol_stdev_mean_ratio'}) that are not defined for section: Run\n",
      "Have keys ({'desired_connected_fr_L1I', 'desired_unconnected_fr_L23I', 'desired_connected_fr_L5I', 'desired_unconnected_fr_L5I', 'desired_unconnected_fr_L4I', 'desired_connected_fr_L23E', 'desired_connected_fr_L4I', 'desired_unconnected_fr_L4E', 'desired_connected_proportion_of_invivo_frs', 'desired_connected_fr_L6I', 'desired_connected_fr_L6E', 'desired_unconnected_fr_L23E', 'desired_unconnected_fr_L1I', 'desired_connected_fr_L5E', 'desired_connected_fr_L23I', 'desired_connected_fr_L4E', 'desired_unconnected_fr_L6I', 'desired_unconnected_fr_L5E', 'desired_unconnected_fr_L6E', 'depol_stdev_mean_ratio'}) that are not defined for section: Run\n"
     ]
    }
   ],
   "source": [
    "np.random.seed(0)\n",
    "\n",
    "# analysis_config_file = \"configs/sscx_calibration_mgfix/2-PfrTransfer/2-PfrTransfer-6-3rdConnectionRemaining.yaml\"\n",
    "# sim_ind = 0\n",
    "\n",
    "analysis_config_file = \"../configs/sscx_calibration_mgfix/8-FRDistributionTest/8-FRDistributionTest-0-Test.yaml\"\n",
    "sim_ind = 16\n",
    "\n",
    "analysis_config = load_yaml(analysis_config_file)\n",
    "analysis_config['output'] = analysis_config['output'] + \"/\" + analysis_config['extraction']['target']\n",
    "        \n",
    "a = Analyzer(analysis_config)\n",
    "a.extract_repo()\n",
    "a.calculate_features()\n",
    "\n",
    "a = a.apply_filter()\n",
    "c_etl.create_figure_dirs(a)"
   ]
  },
  {
   "cell_type": "code",
   "execution_count": 4,
   "metadata": {},
   "outputs": [
    {
     "name": "stdout",
     "output_type": "stream",
     "text": [
      "1 1.05 0.2 0.3\n"
     ]
    }
   ],
   "source": [
    "import matplotlib.pyplot as plt\n",
    "# print(a.features.by_gid.df)\n",
    "neuron_class_groups = [['L1_INH'], ['L23_EXC', 'L23_INH'], ['L4_EXC', 'L4_INH'], ['L5_EXC', 'L5_INH'], ['L6_EXC', 'L6_INH']]\n",
    "\n",
    "for _, simulation_row in a.repo.simulations.df.iterrows():\n",
    "    print(simulation_row['simulation_id'], simulation_row['ca'], simulation_row['depol_stdev_mean_ratio'], simulation_row['desired_connected_proportion_of_invivo_frs'])\n",
    "    simulation_features_by_gid = a.features.by_gid.df.reset_index().etl.q(simulation_id=simulation_row['simulation_id'])\n",
    "    \n",
    "#     fig, axes = plt.subplots(1, len(neuron_classes), figsize=(20, 2))\n",
    "    non_zero_MFRs_by_nc = []\n",
    "    MFRs_by_nc = []\n",
    "    class_ind = 0\n",
    "    for nc_class_group in neuron_class_groups:\n",
    "#         a = []\n",
    "#         b = []\n",
    "        for neuron_class in nc_class_group:\n",
    "            class_ind += 1\n",
    "            MFRs = simulation_features_by_gid.etl.q(neuron_class=neuron_class).mean_firing_rates_per_second\n",
    "            non_zero_MFRs = MFRs[MFRs > 0.0]\n",
    "            \n",
    "#             a.append(MFRs)\n",
    "#             b.append(non_zero_MFRs)\n",
    "#         MFRs_by_nc.append(a)\n",
    "#         non_zero_MFRs_by_nc.append(b)\n",
    "            \n",
    "            \n",
    "#             axes[class_ind].hist(non_zero_MFRs, bins=np.arange(0, 5, 0.2))\n",
    "#     plt.show()\n",
    "    break\n",
    "    \n",
    "#     if (simulation_row['simulation_id'] == 0):\n",
    "#         break"
   ]
  },
  {
   "cell_type": "code",
   "execution_count": 6,
   "metadata": {},
   "outputs": [
    {
     "name": "stderr",
     "output_type": "stream",
     "text": [
      "/nvme/isbister/1401358/ipykernel_245651/1131366636.py:6: SettingWithCopyWarning: \n",
      "A value is trying to be set on a copy of a slice from a DataFrame.\n",
      "Try using .loc[row_indexer,col_indexer] = value instead\n",
      "\n",
      "See the caveats in the documentation: https://pandas.pydata.org/pandas-docs/stable/user_guide/indexing.html#returning-a-view-versus-a-copy\n",
      "  filtered_df.loc[:, 'layer'] = filtered_df.apply(lambda row: row['neuron_class'].split('_')[0], axis = 1)\n",
      "/nvme/isbister/1401358/ipykernel_245651/1131366636.py:7: SettingWithCopyWarning: \n",
      "A value is trying to be set on a copy of a slice from a DataFrame.\n",
      "Try using .loc[row_indexer,col_indexer] = value instead\n",
      "\n",
      "See the caveats in the documentation: https://pandas.pydata.org/pandas-docs/stable/user_guide/indexing.html#returning-a-view-versus-a-copy\n",
      "  filtered_df.loc[:, 'neuron_type'] = filtered_df.apply(lambda row: row['neuron_class'].split('_')[1], axis = 1)\n"
     ]
    }
   ],
   "source": [
    "# 'L1_PV', 'L1_SST', 'L1_Htr3a', \n",
    "# 'L1_EXC', \n",
    "neuron_classes = ['L1_INH', 'L23_EXC', 'L23_INH', 'L23_PV', 'L23_SST', 'L23_Htr3a', 'L4_EXC', 'L4_INH', 'L4_PV', 'L4_SST', 'L4_Htr3a', 'L5_EXC', 'L5_INH', 'L5_PV', 'L5_SST', 'L5_Htr3a', 'L6_EXC', 'L6_INH', 'L6_PV', 'L6_SST', 'L6_Htr3a']\n",
    "sim = a.repo.simulations.df.etl.q(ca=1.05, desired_connected_proportion_of_invivo_frs=0.3, depol_stdev_mean_ratio=0.4).iloc[0]\n",
    "filtered_df = a.features.by_gid.df.reset_index().etl.q(neuron_class=neuron_classes, simulation_id=sim['simulation_id'])\n",
    "filtered_df.loc[:, 'layer'] = filtered_df.apply(lambda row: row['neuron_class'].split('_')[0], axis = 1)\n",
    "filtered_df.loc[:, 'neuron_type'] = filtered_df.apply(lambda row: row['neuron_class'].split('_')[1], axis = 1)\n",
    "spiking_filtered_df = filtered_df.drop(filtered_df[filtered_df.mean_firing_rates_per_second == 0.0].index)"
   ]
  },
  {
   "cell_type": "code",
   "execution_count": null,
   "metadata": {},
   "outputs": [],
   "source": [
    "import seaborn as sns\n",
    "bw = .1\n",
    "hue_order= [\"EXC\", \"INH\", \"PV\", \"SST\", \"Htr3a\"]\n",
    "palette = {\"EXC\":c_etl.NEURON_CLASS_LAYERS_AND_SYNAPSE_CLASSES[\"L5_EXC\"]['color'], \n",
    "           \"INH\":c_etl.NEURON_CLASS_LAYERS_AND_SYNAPSE_CLASSES[\"L5_INH\"]['color'], \n",
    "           \"PV\":c_etl.NEURON_CLASS_LAYERS_AND_SYNAPSE_CLASSES[\"L5_PV\"]['color'], \n",
    "           \"SST\": c_etl.NEURON_CLASS_LAYERS_AND_SYNAPSE_CLASSES[\"L5_SST\"]['color'], \n",
    "           \"Htr3a\":c_etl.NEURON_CLASS_LAYERS_AND_SYNAPSE_CLASSES[\"L5_Htr3a\"]['color']}\n",
    "ylabel = 'MFR (spikes/s)'\n",
    "\n",
    "plt.figure(figsize=(10, 3))\n",
    "sns.violinplot(data=filtered_df, x=\"layer\", y=\"mean_firing_rates_per_second\", hue=\"neuron_type\", hue_order=hue_order, palette=palette, scale='width', bw=bw, linewidth=0.01)\n",
    "plt.gca().set_ylim([0.0, 8.0])\n",
    "plt.gca().set_ylabel(ylabel)\n",
    "plt.savefig(str(a.analysis_config['figures']) + \"/MFR-Violin.pdf\")\n",
    "plt.show()\n",
    "\n",
    "plt.figure(figsize=(10, 2))\n",
    "sns.violinplot(data=spiking_filtered_df, x=\"layer\", y=\"mean_firing_rates_per_second\", hue=\"neuron_type\", hue_order=hue_order, palette=palette, scale='width', bw=bw, linewidth=0.01)\n",
    "plt.gca().set_ylim([0.0, 10.0])\n",
    "plt.gca().set_ylabel(ylabel)\n",
    "plt.savefig(str(a.analysis_config['figures']) + \"/MFR-SpikingOnly-Violin.pdf\")\n",
    "plt.show()"
   ]
  },
  {
   "cell_type": "code",
   "execution_count": null,
   "metadata": {},
   "outputs": [],
   "source": [
    "a.repo.neurons.df.etl.q(neuron_class=['L1_PV', 'L1_SST', 'L1_Htr3a'])"
   ]
  },
  {
   "cell_type": "code",
   "execution_count": null,
   "metadata": {},
   "outputs": [],
   "source": []
  }
 ],
 "metadata": {
  "kernelspec": {
   "display_name": "blueetl_jupyter_03_02_23",
   "language": "python",
   "name": "blueetl_jupyter_03_02_23"
  },
  "language_info": {
   "codemirror_mode": {
    "name": "ipython",
    "version": 3
   },
   "file_extension": ".py",
   "mimetype": "text/x-python",
   "name": "python",
   "nbconvert_exporter": "python",
   "pygments_lexer": "ipython3",
   "version": "3.8.3"
  }
 },
 "nbformat": 4,
 "nbformat_minor": 4
}
