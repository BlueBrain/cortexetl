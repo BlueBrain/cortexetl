{
 "cells": [
  {
   "cell_type": "code",
   "execution_count": 2,
   "metadata": {},
   "outputs": [],
   "source": [
    "import sys\n",
    "sys.path.append('../..')\n",
    "import cortexetl as c_etl"
   ]
  },
  {
   "cell_type": "code",
   "execution_count": 3,
   "metadata": {},
   "outputs": [],
   "source": [
    "ma_v1 = c_etl.analysis_initial_processing('/gpfs/bbp.cscs.ch/project/proj83/home/isbister/physiology_2023/cortexetl.configs/3-ThalamicStimuli/3-ThalamicStimuli-MegaScan2Scalings.yaml', loglevel=\"ERROR\")\n",
    "a_hex0_v1 = ma_v1.hex0_spikes\n",
    "\n",
    "ma_v2 = c_etl.analysis_initial_processing('/gpfs/bbp.cscs.ch/project/proj83/home/isbister/physiology_2023/cortexetl.configs/post_physiology_2023/campaigns/schneider_mizell/1_whisker_deflections/1_3_whisker_deflections_scan_16_4_24.yaml', loglevel=\"ERROR\")\n",
    "a_hex0_v2 = ma_v2.hex0_spikes"
   ]
  },
  {
   "cell_type": "code",
   "execution_count": null,
   "metadata": {},
   "outputs": [],
   "source": [
    "c_etl.evoked_processing(a_hex0_v1)\n",
    "c_etl.evoked_processing(a_hex0_v2)"
   ]
  },
  {
   "cell_type": "code",
   "execution_count": 1,
   "metadata": {},
   "outputs": [
    {
     "ename": "NameError",
     "evalue": "name 'a_hex0_v1' is not defined",
     "output_type": "error",
     "traceback": [
      "\u001b[0;31m---------------------------------------------------------------------------\u001b[0m",
      "\u001b[0;31mNameError\u001b[0m                                 Traceback (most recent call last)",
      "Cell \u001b[0;32mIn[1], line 4\u001b[0m\n\u001b[1;32m      1\u001b[0m \u001b[38;5;28;01mimport\u001b[39;00m \u001b[38;5;21;01mpandas\u001b[39;00m \u001b[38;5;28;01mas\u001b[39;00m \u001b[38;5;21;01mpd\u001b[39;00m\n\u001b[1;32m      2\u001b[0m \u001b[38;5;28;01mimport\u001b[39;00m \u001b[38;5;21;01mnumpy\u001b[39;00m \u001b[38;5;28;01mas\u001b[39;00m \u001b[38;5;21;01mnp\u001b[39;00m\n\u001b[0;32m----> 4\u001b[0m merged_s_ratios \u001b[38;5;241m=\u001b[39m pd\u001b[38;5;241m.\u001b[39mmerge(\u001b[43ma_hex0_v1\u001b[49m\u001b[38;5;241m.\u001b[39mcustom[\u001b[38;5;124m'\u001b[39m\u001b[38;5;124ms_ratios\u001b[39m\u001b[38;5;124m'\u001b[39m], a_hex0_v2\u001b[38;5;241m.\u001b[39mcustom[\u001b[38;5;124m'\u001b[39m\u001b[38;5;124ms_ratios\u001b[39m\u001b[38;5;124m'\u001b[39m], on\u001b[38;5;241m=\u001b[39m[\u001b[38;5;124m'\u001b[39m\u001b[38;5;124mca\u001b[39m\u001b[38;5;124m'\u001b[39m, \u001b[38;5;124m'\u001b[39m\u001b[38;5;124mdesired_connected_proportion_of_invivo_frs\u001b[39m\u001b[38;5;124m'\u001b[39m, \u001b[38;5;124m'\u001b[39m\u001b[38;5;124mdepol_stdev_mean_ratio\u001b[39m\u001b[38;5;124m'\u001b[39m, \u001b[38;5;124m'\u001b[39m\u001b[38;5;124mneuron_class\u001b[39m\u001b[38;5;124m'\u001b[39m], suffixes\u001b[38;5;241m=\u001b[39m(\u001b[38;5;124m'\u001b[39m\u001b[38;5;124m_v1\u001b[39m\u001b[38;5;124m'\u001b[39m, \u001b[38;5;124m'\u001b[39m\u001b[38;5;124m_v2\u001b[39m\u001b[38;5;124m'\u001b[39m)) \n\u001b[1;32m      5\u001b[0m merged_s_ratios \u001b[38;5;241m=\u001b[39m merged_s_ratios[np\u001b[38;5;241m.\u001b[39mlogical_and(merged_s_ratios\u001b[38;5;241m.\u001b[39mratio_v1 \u001b[38;5;241m!=\u001b[39m np\u001b[38;5;241m.\u001b[39minf, merged_s_ratios\u001b[38;5;241m.\u001b[39mratio_v2 \u001b[38;5;241m!=\u001b[39m np\u001b[38;5;241m.\u001b[39minf)]\n\u001b[1;32m      6\u001b[0m merged_s_ratios[\u001b[38;5;124m\"\u001b[39m\u001b[38;5;124mratio_diff\u001b[39m\u001b[38;5;124m\"\u001b[39m] \u001b[38;5;241m=\u001b[39m merged_s_ratios[\u001b[38;5;124m'\u001b[39m\u001b[38;5;124mratio_v2\u001b[39m\u001b[38;5;124m'\u001b[39m] \u001b[38;5;241m-\u001b[39m merged_s_ratios[\u001b[38;5;124m'\u001b[39m\u001b[38;5;124mratio_v1\u001b[39m\u001b[38;5;124m'\u001b[39m]\n",
      "\u001b[0;31mNameError\u001b[0m: name 'a_hex0_v1' is not defined"
     ]
    }
   ],
   "source": [
    "import pandas as pd\n",
    "import numpy as np\n",
    "\n",
    "merged_s_ratios = pd.merge(a_hex0_v1.custom['s_ratios'], a_hex0_v2.custom['s_ratios'], on=['ca', 'desired_connected_proportion_of_invivo_frs', 'depol_stdev_mean_ratio', 'neuron_class'], suffixes=('_v1', '_v2')) \n",
    "merged_s_ratios = merged_s_ratios[np.logical_and(merged_s_ratios.ratio_v1 != np.inf, merged_s_ratios.ratio_v2 != np.inf)]\n",
    "merged_s_ratios[\"ratio_diff\"] = merged_s_ratios['ratio_v2'] - merged_s_ratios['ratio_v1']\n",
    "merged_s_ratios[\"ratio_diff_proportion\"] = merged_s_ratios['ratio_v2'] / merged_s_ratios['ratio_v1']\n",
    "merged_s_ratios['c'] = merged_s_ratios.apply(lambda row: c_etl.NEURON_CLASS_LAYERS_AND_SYNAPSE_CLASSES[row['neuron_class']][\"color\"], axis=1)\n",
    "merged_s_ratios['marker'] = merged_s_ratios.apply(lambda row: c_etl.NEURON_CLASS_LAYERS_AND_SYNAPSE_CLASSES[row['neuron_class']][\"marker\"], axis=1)\n",
    "merged_s_ratios[\"synapse_class\"] = merged_s_ratios.apply(lambda row: c_etl.NEURON_CLASS_LAYERS_AND_SYNAPSE_CLASSES[row.neuron_class][\"synapse_class\"], axis=1)\n",
    "\n",
    "merged_timepoints_comp = pd.merge(a_hex0_v1.custom['timepoints_comp_w_mask'], a_hex0_v2.custom['timepoints_comp_w_mask'], on=['ca', 'desired_connected_proportion_of_invivo_frs', 'depol_stdev_mean_ratio', 'neuron_class'], suffixes=('_v1', '_v2')) \n",
    "merged_timepoints_comp = merged_timepoints_comp[np.logical_and(merged_timepoints_comp.SimBad100p50p25pDecayOverlySustained_v1 == False, merged_timepoints_comp.SimBad100p50p25pDecayOverlySustained_v2 == False)]\n",
    "merged_timepoints_comp[\"latency_diff\"] = merged_timepoints_comp.loc[:, \"1.0_v2\"] - merged_timepoints_comp.loc[:, \"1.0_v1\"]\n",
    "merged_timepoints_comp['c'] = merged_timepoints_comp.apply(lambda row: c_etl.NEURON_CLASS_LAYERS_AND_SYNAPSE_CLASSES[row['neuron_class']][\"color\"], axis=1)\n",
    "merged_timepoints_comp['marker'] = merged_timepoints_comp.apply(lambda row: c_etl.NEURON_CLASS_LAYERS_AND_SYNAPSE_CLASSES[row['neuron_class']][\"marker\"], axis=1)\n",
    "merged_timepoints_comp[\"synapse_class\"] = merged_timepoints_comp.apply(lambda row: c_etl.NEURON_CLASS_LAYERS_AND_SYNAPSE_CLASSES[row.neuron_class][\"synapse_class\"], axis=1)"
   ]
  },
  {
   "cell_type": "code",
   "execution_count": 11,
   "metadata": {},
   "outputs": [],
   "source": [
    "import seaborn as sns\n",
    "sns.set(style=\"ticks\", context=\"paper\", font=\"Helvetica Neue\",\n",
    "        rc={\"axes.labelsize\": 7, \"legend.fontsize\": 6, \"axes.linewidth\": 0.6, \"xtick.labelsize\": 6, \"ytick.labelsize\": 6,\n",
    "            \"xtick.major.size\": 2, \"xtick.major.width\": 0.5, \"xtick.minor.size\": 1.5, \"xtick.minor.width\": 0.3,\n",
    "            \"ytick.major.size\": 2, \"ytick.major.width\": 0.5, \"ytick.minor.size\": 1.5, \"ytick.minor.width\": 0.3,\n",
    "            \"axes.titlesize\": 7, \"axes.spines.right\": False, \"axes.spines.top\": False})\n",
    "\n",
    "stat_labels = {\n",
    "    \"ratio_diff\": \"$\\Delta_{v2 - v1}$ evoked ratio\",\n",
    "    \"ratio_diff_proportion\": \"$v2/v1$ evoked ratio\",\n",
    "    \"latency_diff\": \"$\\Delta_{v2 - v1}$ latency\"\n",
    "}\n",
    "stat_units = {\n",
    "    \"ratio_diff\": \"\",\n",
    "    \"ratio_diff_proportion\": \"\",\n",
    "    \"latency_diff\": \"(ms)\"\n",
    "}"
   ]
  },
  {
   "cell_type": "code",
   "execution_count": 8,
   "metadata": {},
   "outputs": [
    {
     "data": {
      "image/png": "[encoded data removed]",
      "text/plain": [
       "<Figure size 640x480 with 1 Axes>"
      ]
     },
     "metadata": {},
     "output_type": "display_data"
    }
   ],
   "source": [
    "import matplotlib.pyplot as plt\n",
    "import numpy as np\n",
    "\n",
    "filtered_merged_s_ratios = merged_s_ratios.etl.q(neuron_class=c_etl.LAYER_EI_NEURON_CLASSES_INH_FIRST)\n",
    "\n",
    "plt.figure()\n",
    "upper_lim = np.nanmax([filtered_merged_s_ratios['ratio_v1'].max(skipna=True), filtered_merged_s_ratios['ratio_v2'].max(skipna=True)])\n",
    "lims = [0, upper_lim]\n",
    "\n",
    "for _, row in filtered_merged_s_ratios.iterrows():\n",
    "    plt.scatter(row['ratio_v1'], row['ratio_v2'], s=1.5, c=row['c'], marker=row['marker'])\n",
    "plt.plot(lims, lims)\n",
    "ax = plt.gca()\n",
    "# ax.set_xlim(lims); ax.set_ylim(lims)\n",
    "ax.set_xscale('log'); ax.set_yscale('log')\n",
    "ax.set_aspect('equal', 'box')\n",
    "plt.show()\n",
    "plt.close()"
   ]
  },
  {
   "cell_type": "code",
   "execution_count": 12,
   "metadata": {},
   "outputs": [
    {
     "name": "stderr",
     "output_type": "stream",
     "text": [
      "/gpfs/bbp.cscs.ch/project/proj83/home/isbister/physiology_2023/cortexetl.notebooks/compare_sscx_v1_v2/../../cortexetl.figures.py:31: UserWarning: \n",
      "The palette list has fewer values (2) than needed (6) and will cycle, which may produce an uninterpretable plot.\n",
      "  sns.boxplot(y=y, x=x, hue=hue, data=data, palette=palette, order=order, orient='h', width=width, linewidth=.2, showfliers=False, gap=gap, dodge=dodge, legend=legend)\n",
      "/gpfs/bbp.cscs.ch/project/proj83/home/isbister/physiology_2023/cortexetl.notebooks/compare_sscx_v1_v2/../../cortexetl.figures.py:33: UserWarning: FixedFormatter should only be used together with FixedLocator\n",
      "  ax.set_yticklabels(labels)\n"
     ]
    },
    {
     "data": {
      "image/png": "[encoded data removed]",
      "text/plain": [
       "<Figure size 250x200 with 1 Axes>"
      ]
     },
     "metadata": {},
     "output_type": "display_data"
    },
    {
     "name": "stderr",
     "output_type": "stream",
     "text": [
      "/gpfs/bbp.cscs.ch/project/proj83/home/isbister/physiology_2023/cortexetl.notebooks/compare_sscx_v1_v2/../../cortexetl.figures.py:31: UserWarning: \n",
      "The palette list has fewer values (2) than needed (6) and will cycle, which may produce an uninterpretable plot.\n",
      "  sns.boxplot(y=y, x=x, hue=hue, data=data, palette=palette, order=order, orient='h', width=width, linewidth=.2, showfliers=False, gap=gap, dodge=dodge, legend=legend)\n",
      "/gpfs/bbp.cscs.ch/project/proj83/home/isbister/physiology_2023/cortexetl.notebooks/compare_sscx_v1_v2/../../cortexetl.figures.py:33: UserWarning: FixedFormatter should only be used together with FixedLocator\n",
      "  ax.set_yticklabels(labels)\n"
     ]
    },
    {
     "data": {
      "image/png": "[encoded data removed]",
      "text/plain": [
       "<Figure size 250x200 with 1 Axes>"
      ]
     },
     "metadata": {},
     "output_type": "display_data"
    },
    {
     "name": "stderr",
     "output_type": "stream",
     "text": [
      "/gpfs/bbp.cscs.ch/project/proj83/home/isbister/physiology_2023/cortexetl.notebooks/compare_sscx_v1_v2/../../cortexetl.figures.py:31: UserWarning: \n",
      "The palette list has fewer values (2) than needed (6) and will cycle, which may produce an uninterpretable plot.\n",
      "  sns.boxplot(y=y, x=x, hue=hue, data=data, palette=palette, order=order, orient='h', width=width, linewidth=.2, showfliers=False, gap=gap, dodge=dodge, legend=legend)\n",
      "/gpfs/bbp.cscs.ch/project/proj83/home/isbister/physiology_2023/cortexetl.notebooks/compare_sscx_v1_v2/../../cortexetl.figures.py:33: UserWarning: FixedFormatter should only be used together with FixedLocator\n",
      "  ax.set_yticklabels(labels)\n"
     ]
    },
    {
     "data": {
      "image/png": "[encoded data removed]",
      "text/plain": [
       "<Figure size 250x200 with 1 Axes>"
      ]
     },
     "metadata": {},
     "output_type": "display_data"
    },
    {
     "name": "stderr",
     "output_type": "stream",
     "text": [
      "/gpfs/bbp.cscs.ch/project/proj83/home/isbister/physiology_2023/cortexetl.notebooks/compare_sscx_v1_v2/../../cortexetl.figures.py:31: UserWarning: \n",
      "The palette list has fewer values (2) than needed (6) and will cycle, which may produce an uninterpretable plot.\n",
      "  sns.boxplot(y=y, x=x, hue=hue, data=data, palette=palette, order=order, orient='h', width=width, linewidth=.2, showfliers=False, gap=gap, dodge=dodge, legend=legend)\n",
      "/gpfs/bbp.cscs.ch/project/proj83/home/isbister/physiology_2023/cortexetl.notebooks/compare_sscx_v1_v2/../../cortexetl.figures.py:33: UserWarning: FixedFormatter should only be used together with FixedLocator\n",
      "  ax.set_yticklabels(labels)\n"
     ]
    },
    {
     "data": {
      "image/png": "[encoded data removed]",
      "text/plain": [
       "<Figure size 250x200 with 1 Axes>"
      ]
     },
     "metadata": {},
     "output_type": "display_data"
    }
   ],
   "source": [
    "figsize=(2.5,2)\n",
    "figdir = \"evoked_comp/\"; import os; os.makedirs(figdir, exist_ok=True)\n",
    "ordered_ncs = c_etl.LAYER_EI_NEURON_CLASSES_INH_FIRST[1:]\n",
    "nc_c = [c_etl.NEURON_CLASS_LAYERS_AND_SYNAPSE_CLASSES[nc][\"color\"] for nc in ordered_ncs]\n",
    "layer_labels = [c_etl.NEURON_CLASS_LAYERS_AND_SYNAPSE_CLASSES[nc][\"layer_string\"] for nc in ordered_ncs]\n",
    "syn_class_colors = [\"blue\", \"red\"]\n",
    "\n",
    "c_etl.horizontal_box_plot(merged_s_ratios, \"neuron_class\", \"ratio_diff\", figsize, ordered_ncs, syn_class_colors, layer_labels, 0, figdir, hue=\"synapse_class\", width=.5, gap=0, stat_labels=stat_labels, stat_units=stat_units)\n",
    "c_etl.horizontal_box_plot(merged_s_ratios, \"neuron_class\", \"ratio_diff_proportion\", figsize, ordered_ncs, syn_class_colors, layer_labels, 1, figdir, hue=\"synapse_class\", stat_labels=stat_labels, stat_units=stat_units)\n",
    "c_etl.horizontal_box_plot(merged_timepoints_comp, \"neuron_class\", \"latency_diff\", figsize, ordered_ncs, syn_class_colors, layer_labels, 0, figdir, hue=\"synapse_class\", width=.5, gap=0, stat_labels=stat_labels, stat_units=stat_units)\n",
    "\n",
    "ordered_ncs = [\"L23_PV\", \"L4_PV\", \"L5_PV\", \"L6_PV\", \"L23_SST\", \"L4_SST\", \"L5_SST\", \"L6_SST\"]\n",
    "nc_c = [c_etl.NEURON_CLASS_LAYERS_AND_SYNAPSE_CLASSES[nc][\"color\"] for nc in ordered_ncs]\n",
    "layer_labels = [c_etl.NEURON_CLASS_LAYERS_AND_SYNAPSE_CLASSES[nc][\"layer_string\"] for nc in ordered_ncs]\n",
    "syn_class_colors = [\"midnightblue\", \"#67b32e\"]\n",
    "c_etl.horizontal_box_plot(merged_timepoints_comp, \"neuron_class\", \"latency_diff\", figsize, ordered_ncs, syn_class_colors, layer_labels, 0, figdir, hue=\"synapse_class\", width=.5, gap=0, stat_labels=stat_labels, stat_units=stat_units, suffix='_subtypes')\n",
    "\n"
   ]
  },
  {
   "cell_type": "code",
   "execution_count": null,
   "metadata": {},
   "outputs": [],
   "source": [
    "import matplotlib.pyplot as plt\n",
    "import seaborn as sns\n",
    "import matplotlib.ticker as ticker\n",
    "import numpy as np\n",
    "def evoked_ratios_line_plot(a, comp_ncs, stat_key='ratio'):\n",
    "    \n",
    "    s_ratios = a.custom['s_ratios']\n",
    "    mean_ratio_over_ncs_by_sim = a.custom['mean_ratio_over_ncs_by_sim']\n",
    "\n",
    "    plt.figure(figsize=(8.2*0.3, 8.2*0.3*0.5))\n",
    "    ax = plt.gca()\n",
    "    ax.set_facecolor('lightgrey')\n",
    "    cmap = sns.color_palette(\"seismic\", as_cmap=True)\n",
    "\n",
    "    max_abs_diff = np.max(np.abs(mean_ratio_over_ncs_by_sim['mean_ratio_over_ncs_by_sim_diff_to_vivo']))\n",
    "    c_range_width = max_abs_diff * 2\n",
    "\n",
    "    for i, simulation_id in enumerate(s_ratios.simulation_id.unique()):\n",
    "\n",
    "        sim_nc_s_ratios = s_ratios.etl.q(simulation_id=simulation_id, neuron_class=comp_ncs)\n",
    "        sim_mean_ratio_over_ncs = mean_ratio_over_ncs_by_sim.etl.q(simulation_id=simulation_id)['mean_ratio_over_ncs_by_sim_diff_to_vivo']\n",
    "        \n",
    "        if stat_key == 'ratio':\n",
    "            c_val = (sim_mean_ratio_over_ncs / c_range_width) + 0.5\n",
    "            c=cmap(c_val)\n",
    "        elif stat_key == 'ratio_normalized':\n",
    "            c='k'\n",
    "\n",
    "        plt.plot(range(len(comp_ncs)), sim_nc_s_ratios[stat_key], c=c, lw=.2)\n",
    "\n",
    "\n",
    "    # if (normalisation_type == \"none\"):\n",
    "    #     plt.plot(range(len(neuron_classes)), vivo_nc_ratios, c='w', lw=1, marker='o', ms=3)\n",
    "    #     plt.plot(range(len(neuron_classes)), silico_mean_ratios_across_sims.etl.q(neuron_class=neuron_classes), c='k', lw=1, marker='o', ms=3)\n",
    "    #     ax.set_ylim([0.0, 200.0])\n",
    "\n",
    "    # elif (normalisation_type == \"mean_normalise\"):\n",
    "    #     plt.plot(range(len(neuron_classes)), mean_normalise(vivo_nc_ratios), c='w', lw=1, marker='o', ms=3)\n",
    "    #     plt.plot(range(len(neuron_classes)), mean_normalise(silico_mean_ratios_across_sims.etl.q(neuron_class=neuron_classes)), c='k', lw=1, marker='o', ms=3)\n",
    "    #     ax.set_ylim([0.0, 5.0])\n",
    "\n",
    "\n",
    "\n",
    "    ax.yaxis.set_major_locator(ticker.MultipleLocator(200))\n",
    "    ax.yaxis.set_minor_locator(ticker.MultipleLocator(50))\n",
    "    ax.set_xticks(range(len(comp_ncs)), labels=[c_etl.neuron_class_label_map[nc] for nc in comp_ncs])\n",
    "    ax.set_ylabel('Evok/spont\\nratio', labelpad=-10.0)\n",
    "\n",
    "    plt.tight_layout()\n",
    "    plt.show()\n",
    "    plt.savefig(str(a.figpaths.evoked) + \"/\" + stat_key + \"_EvokedRatios.pdf\")\n",
    "    plt.close()\n",
    "\n",
    "\n",
    "def evoked_ratios_plots(a, comp_ncs):\n",
    "    silico_mean_ratios_across_sims = None\n",
    "    evoked_ratios_line_plot(a, comp_ncs)\n",
    "    # c_etl.evoked_ratios_line_plot(a, comp_ncs, normalisation_type='mean_normalise')\n",
    "    \n",
    "\n",
    "\"\"\"\n",
    "Entry function\n",
    "\"\"\"\n",
    "def evoked_analysis(a):\n",
    "\n",
    "    comp_ncs, \\\n",
    "    vivo_df, \\\n",
    "    rp_psth_df, \\\n",
    "    svo_psth_df = evoked_processing(a)\n",
    "\n",
    "    evoked_plots(a, comp_ncs, vivo_df, rp_psth_df, svo_psth_df)\n",
    "\n",
    "\n",
    "\"\"\"\n",
    "Processing\n",
    "\"\"\"\n",
    "def evoked_processing(a):\n",
    "\n",
    "    c_etl.create_dirs(a)\n",
    "\n",
    "    vivo_df, rp_psth_df, svo_psth_df = c_etl.preprocess_vivo_dfs()\n",
    "    comp_ncs = c_etl.select_comparison_neuron_classes(a)\n",
    "\n",
    "    c_etl.compare_latencies_and_decay(a, vivo_df)\n",
    "    c_etl.create_sim_mask(a, [\"ALL\"] + comp_ncs)\n",
    "    c_etl.compare_evoked_ratios(a, comp_ncs)\n",
    "    c_etl.merge_comparison_and_mask(a)\n",
    "    c_etl.filter_dfs_by_window(a)\n",
    "\n",
    "    return comp_ncs, vivo_df, rp_psth_df, svo_psth_df\n",
    "\n",
    "\"\"\"\n",
    "Plots\n",
    "\"\"\"\n",
    "def evoked_plots(a, comp_ncs, vivo_df, rp_psth_df, svo_psth_df):\n",
    "    evoked_ratios_plots(a, comp_ncs)\n",
    "    evoked_heatmaps(a)\n",
    "    compare_time_courses(a, vivo_df, silico_bin_size=0.5, silico_sigma=2)\n",
    "    psth_plots(a, comp_ncs, rp_psth_df, svo_psth_df)\n",
    "    \n",
    "a = a_hex0_v2\n",
    "evoked_analysis(a)"
   ]
  },
  {
   "cell_type": "code",
   "execution_count": null,
   "metadata": {},
   "outputs": [],
   "source": [
    "# !grep -r compare_metrics_to_in_vivo_for_neuron_classes ../../cortexetl. "
   ]
  }
 ],
 "metadata": {
  "kernelspec": {
   "display_name": "dec2024",
   "language": "python",
   "name": "dec2024"
  },
  "language_info": {
   "codemirror_mode": {
    "name": "ipython",
    "version": 3
   },
   "file_extension": ".py",
   "mimetype": "text/x-python",
   "name": "python",
   "nbconvert_exporter": "python",
   "pygments_lexer": "ipython3",
   "version": "3.10.8"
  }
 },
 "nbformat": 4,
 "nbformat_minor": 4
}
