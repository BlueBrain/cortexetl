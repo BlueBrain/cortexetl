{
 "cells": [
  {
   "cell_type": "code",
   "execution_count": 1,
   "metadata": {},
   "outputs": [],
   "source": [
    "import h5py\n",
    "filename = \"/gpfs/bbp.cscs.ch/project/proj83/circuits/Bio_M/20200805/sonata/networks/nodes/All/nodes_midrange.h5\"\n",
    "h5 = h5py.File(filename,'r')\n",
    "\n",
    "# dynamics_properties/input_resistance"
   ]
  },
  {
   "cell_type": "code",
   "execution_count": 2,
   "metadata": {},
   "outputs": [
    {
     "name": "stdout",
     "output_type": "stream",
     "text": [
      "<KeysViewHDF5 ['@library', 'dynamics_params', 'etype', 'exc_mini_frequency', 'inh_mini_frequency', 'layer', 'me_combo', 'model_template', 'model_type', 'morph_class', 'morphology', 'mtype', 'orientation_w', 'orientation_x', 'orientation_y', 'orientation_z', 'region', 'synapse_class', 'x', 'y', 'z']>\n"
     ]
    }
   ],
   "source": [
    "print(h5['nodes']['All']['0'].keys())"
   ]
  },
  {
   "cell_type": "code",
   "execution_count": 3,
   "metadata": {},
   "outputs": [],
   "source": [
    "import numpy as np\n",
    "input_resistances = np.asarray(h5['nodes']['All']['0']['dynamics_params']['input_resistance'])"
   ]
  },
  {
   "cell_type": "code",
   "execution_count": 4,
   "metadata": {},
   "outputs": [],
   "source": [
    "import pandas as pd\n",
    "neurons = pd.read_parquet('/gpfs/bbp.cscs.ch/project/proj83/home/isbister/blueetl_ji_output/sscx_calibration_mgfix/3-ThalamicStimuli/3-ThalamicStimuli-MegaScan2Scalings/hex0/repo/neurons.parquet')"
   ]
  },
  {
   "cell_type": "code",
   "execution_count": 6,
   "metadata": {},
   "outputs": [
    {
     "name": "stdout",
     "output_type": "stream",
     "text": [
      "  neuron_class  resting_conductance\n",
      "0       L1_INH             0.003207\n",
      "1      L23_EXC             0.005705\n",
      "2      L23_INH             0.003666\n",
      "3       L4_EXC             0.007038\n",
      "4       L4_INH             0.004137\n",
      "5       L5_EXC             0.014709\n",
      "6       L5_INH             0.004652\n",
      "7       L6_EXC             0.005370\n",
      "8       L6_INH             0.004801\n"
     ]
    }
   ],
   "source": [
    "import blueetl as etl\n",
    "import matplotlib.pyplot as plt\n",
    "import sys\n",
    "sys.path.append('../../cortex_etl')\n",
    "import cortex_etl as c_etl\n",
    "\n",
    "import pandas as pd\n",
    "\n",
    "\n",
    "records = []\n",
    "for neuron_class in c_etl.LAYER_EI_NEURON_CLASSES:\n",
    "    records.append({'neuron_class': neuron_class, \n",
    "                   'resting_conductance': 1.0 / np.mean(input_resistances[neurons.etl.q(neuron_class=neuron_class).gid])})\n",
    "\n",
    "    \n",
    "final_df = pd.DataFrame.from_records(records)\n",
    "final_df.to_parquet('input_conductance_by_neuron_class_EandI.parquet')"
   ]
  },
  {
   "cell_type": "code",
   "execution_count": null,
   "metadata": {},
   "outputs": [],
   "source": []
  }
 ],
 "metadata": {
  "kernelspec": {
   "display_name": "cortex_etl_jupyter_04_01_23",
   "language": "python",
   "name": "cortex_etl_jupyter_04_01_23"
  },
  "language_info": {
   "codemirror_mode": {
    "name": "ipython",
    "version": 3
   },
   "file_extension": ".py",
   "mimetype": "text/x-python",
   "name": "python",
   "nbconvert_exporter": "python",
   "pygments_lexer": "ipython3",
   "version": "3.10.8"
  }
 },
 "nbformat": 4,
 "nbformat_minor": 4
}
