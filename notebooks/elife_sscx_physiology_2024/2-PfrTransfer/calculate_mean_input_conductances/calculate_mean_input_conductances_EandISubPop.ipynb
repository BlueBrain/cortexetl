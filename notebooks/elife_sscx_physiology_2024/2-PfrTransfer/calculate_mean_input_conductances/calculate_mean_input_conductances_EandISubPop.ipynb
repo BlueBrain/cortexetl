{
 "cells": [
  {
   "cell_type": "code",
   "execution_count": 1,
   "metadata": {},
   "outputs": [],
   "source": [
    "import h5py\n",
    "filename = \"/gpfs/bbp.cscs.ch/project/proj83/circuits/Bio_M/20200805-pure-sonata/networks/nodes/All/nodes.h5\"\n",
    "h5 = h5py.File(filename,'r')\n",
    "\n",
    "# dynamics_properties/input_resistance"
   ]
  },
  {
   "cell_type": "code",
   "execution_count": 2,
   "metadata": {},
   "outputs": [
    {
     "name": "stdout",
     "output_type": "stream",
     "text": [
      "<KeysViewHDF5 ['@library', 'dynamics_params', 'etype', 'exc_mini_frequency', 'inh_mini_frequency', 'layer', 'me_combo', 'model_template', 'model_type', 'morph_class', 'morphology', 'mtype', 'orientation_w', 'orientation_x', 'orientation_y', 'orientation_z', 'region', 'synapse_class', 'x', 'y', 'z']>\n"
     ]
    }
   ],
   "source": [
    "print(h5['nodes']['All']['0'].keys())"
   ]
  },
  {
   "cell_type": "code",
   "execution_count": 3,
   "metadata": {},
   "outputs": [],
   "source": [
    "import numpy as np\n",
    "input_resistances = np.asarray(h5['nodes']['All']['0']['dynamics_params']['input_resistance'])"
   ]
  },
  {
   "cell_type": "code",
   "execution_count": 4,
   "metadata": {},
   "outputs": [],
   "source": [
    "import pandas as pd\n",
    "neurons = pd.read_parquet('/gpfs/bbp.cscs.ch/project/proj83/home/isbister/post_physiology_2023/cortex_etl_output/0_InterneuronsCalibration/0_InterneuronsCalibration_1stIteration_28_8_23/hex0_spikes/repo/neurons.parquet')"
   ]
  },
  {
   "cell_type": "code",
   "execution_count": 8,
   "metadata": {},
   "outputs": [
    {
     "name": "stdout",
     "output_type": "stream",
     "text": [
      "   neuron_class  resting_conductance\n",
      "0     L1_5HT3aR             0.003271\n",
      "1       L23_EXC             0.005636\n",
      "2        L23_PV             0.004708\n",
      "3       L23_SST             0.003221\n",
      "4    L23_5HT3aR             0.002989\n",
      "5        L4_EXC             0.007380\n",
      "6         L4_PV             0.006272\n",
      "7        L4_SST             0.003066\n",
      "8     L4_5HT3aR             0.003648\n",
      "9        L5_EXC             0.014962\n",
      "10        L5_PV             0.005803\n",
      "11       L5_SST             0.003211\n",
      "12    L5_5HT3aR             0.004119\n",
      "13       L6_EXC             0.005381\n",
      "14        L6_PV             0.005729\n",
      "15       L6_SST             0.003970\n",
      "16    L6_5HT3aR             0.004017\n"
     ]
    }
   ],
   "source": [
    "import matplotlib.pyplot as plt\n",
    "import sys\n",
    "sys.path.append('../../cortex_etl')\n",
    "import cortex_etl as c_etl\n",
    "\n",
    "import pandas as pd\n",
    "\n",
    "\n",
    "records = []\n",
    "for neuron_class in c_etl.LAYER_E_AND_I_SUB_POP_NEURON_CLASSES:\n",
    "    records.append({'neuron_class': neuron_class, \n",
    "                   'resting_conductance': 1.0 / np.mean(input_resistances[neurons.etl.q(neuron_class=neuron_class).gid])})\n",
    "\n",
    "final_df = pd.DataFrame.from_records(records)\n",
    "print(final_df)\n",
    "# final_df.to_parquet('/gpfs/bbp.cscs.ch/project/proj83/home/isbister/post_physiology_2023/misc/input_conductance_by_neuron_class_EandISubPop.parquet')\n",
    "\n"
   ]
  },
  {
   "cell_type": "code",
   "execution_count": null,
   "metadata": {},
   "outputs": [],
   "source": []
  }
 ],
 "metadata": {
  "kernelspec": {
   "display_name": "cortex_etl_jupyter_04_01_23",
   "language": "python",
   "name": "cortex_etl_jupyter_04_01_23"
  },
  "language_info": {
   "codemirror_mode": {
    "name": "ipython",
    "version": 3
   },
   "file_extension": ".py",
   "mimetype": "text/x-python",
   "name": "python",
   "nbconvert_exporter": "python",
   "pygments_lexer": "ipython3",
   "version": "3.10.8"
  }
 },
 "nbformat": 4,
 "nbformat_minor": 4
}
