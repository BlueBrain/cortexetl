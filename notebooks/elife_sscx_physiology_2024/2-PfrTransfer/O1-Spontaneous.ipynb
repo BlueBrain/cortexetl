{
 "cells": [
  {
   "cell_type": "code",
   "execution_count": 1,
   "metadata": {},
   "outputs": [],
   "source": [
    "import sys\n",
    "sys.path.append('../../..')\n",
    "import cortexetl as c_etl"
   ]
  },
  {
   "cell_type": "code",
   "execution_count": 2,
   "metadata": {},
   "outputs": [
    {
     "name": "stdout",
     "output_type": "stream",
     "text": [
      "\n",
      "----- Custom post analysis -----\n",
      "Custom post analysis:  16\n",
      "Custom post analysis:  19\n",
      "Custom post analysis:  11\n",
      "Custom post analysis:  45\n",
      "Custom post analysis:  1\n",
      "Custom post analysis:  38\n",
      "Custom post analysis:  46\n",
      "Custom post analysis:  21\n",
      "Custom post analysis:  20\n",
      "Custom post analysis:  3\n",
      "Custom post analysis:  37\n",
      "Custom post analysis:  47\n",
      "Custom post analysis:  13\n",
      "Custom post analysis:  48\n",
      "Custom post analysis:  14\n",
      "Custom post analysis:  50\n",
      "Custom post analysis:  8\n",
      "Custom post analysis:  39\n",
      "Custom post analysis:  49\n",
      "Custom post analysis:  22\n",
      "Custom post analysis:  23\n",
      "Custom post analysis:  5\n",
      "Custom post analysis:  41\n",
      "Custom post analysis:  53\n",
      "Custom post analysis:  6\n",
      "Custom post analysis:  40\n",
      "Custom post analysis:  52\n",
      "Custom post analysis:  15\n",
      "Custom post analysis:  51\n",
      "Custom post analysis:  12\n",
      "Custom post analysis:  2\n",
      "Custom post analysis:  36\n",
      "Custom post analysis:  42\n",
      "Custom post analysis:  55\n",
      "Custom post analysis:  17\n",
      "Custom post analysis:  54\n",
      "Custom post analysis:  25\n",
      "Custom post analysis:  28\n",
      "Custom post analysis:  9\n",
      "Custom post analysis:  43\n",
      "Custom post analysis:  56\n",
      "Custom post analysis:  4\n",
      "Custom post analysis:  27\n",
      "Custom post analysis:  24\n",
      "Custom post analysis:  0\n",
      "Custom post analysis:  57\n",
      "Custom post analysis:  26\n",
      "Custom post analysis:  29\n",
      "Custom post analysis:  7\n",
      "Custom post analysis:  44\n",
      "Custom post analysis:  58\n",
      "Custom post analysis:  18\n",
      "Custom post analysis:  59\n",
      "Custom post analysis:  31\n",
      "Custom post analysis:  10\n",
      "Custom post analysis:  33\n",
      "Custom post analysis:  30\n",
      "Custom post analysis:  32\n",
      "Custom post analysis:  34\n",
      "Custom post analysis:  35\n",
      "----- Custom post analysis complete: 33.43s -----\n"
     ]
    }
   ],
   "source": [
    "ma = c_etl.analysis_initial_processing(\"2-PfrTransfer-6-3rdConnectionRemaining.yaml\", loglevel=\"ERROR\")\n",
    "a_hex0 = ma.hex0_spikes\n",
    "a_hexO1 = ma.hex_O1_spikes\n",
    "c_etl.post_analysis(a_hex0)"
   ]
  },
  {
   "cell_type": "code",
   "execution_count": 4,
   "metadata": {},
   "outputs": [],
   "source": [
    "figure_output_path = \"/gpfs/bbp.cscs.ch/project/proj83/home/isbister/data/cortexetl_output/elife_sscx_physiology_2024/collated_manuscript_figures/\"\n",
    "import os\n",
    "os.makedirs(figure_output_path, exist_ok=True)"
   ]
  },
  {
   "cell_type": "markdown",
   "metadata": {},
   "source": [
    "# Fig 4G1"
   ]
  },
  {
   "cell_type": "code",
   "execution_count": 5,
   "metadata": {},
   "outputs": [
    {
     "name": "stdout",
     "output_type": "stream",
     "text": [
      "\n",
      "----- Plot rasters, window: conn_spont -----\n",
      "Raster generated:  2.15 s\n",
      "Raster generated:  0.51 s\n",
      "Raster generated:  0.90 s\n",
      "Raster generated:  0.81 s\n",
      "\n",
      "----- Create raster videos, window: conn_spont -----\n",
      "\n",
      "----- Plot rasters, window: conn_spont -----\n",
      "Raster generated:  8.85 s\n",
      "Raster generated:  0.46 s\n",
      "Raster generated:  0.84 s\n",
      "Raster generated:  0.76 s\n",
      "\n",
      "----- Create raster videos, window: conn_spont -----\n"
     ]
    }
   ],
   "source": [
    "sim_1_dir = figure_output_path + 'Fig4/Fig7A-Sim1'\n",
    "sim_2_dir = figure_output_path + 'Fig4/Fig7A-Sim2'\n",
    "os.makedirs(sim_1_dir, exist_ok=True)\n",
    "os.makedirs(sim_2_dir, exist_ok=True)\n",
    "\n",
    "\n",
    "a_hex0.analysis_config.custom['plot_rasters'] = True\n",
    "c_etl.plot_rasters(a_hex0, custom_file_path=sim_1_dir, simulation_filter={\"ca\":1.05, \"depol_stdev_mean_ratio\": 0.4, \"desired_connected_proportion_of_invivo_frs\": 0.1})\n",
    "c_etl.plot_rasters(a_hex0, custom_file_path=sim_2_dir, simulation_filter={\"ca\":1.1, \"depol_stdev_mean_ratio\": 0.2, \"desired_connected_proportion_of_invivo_frs\": 0.9})"
   ]
  },
  {
   "cell_type": "markdown",
   "metadata": {},
   "source": [
    "# Video"
   ]
  },
  {
   "cell_type": "code",
   "execution_count": 6,
   "metadata": {},
   "outputs": [
    {
     "name": "stdout",
     "output_type": "stream",
     "text": [
      "\n",
      "----- Plot rasters, window: conn_spont -----\n",
      "Raster generated:  13.16 s\n",
      "Raster generated:  8.71 s\n",
      "Raster generated:  3.64 s\n",
      "Raster generated:  11.97 s\n",
      "Raster generated:  14.36 s\n",
      "Raster generated:  13.47 s\n",
      "Raster generated:  9.76 s\n",
      "Raster generated:  5.02 s\n",
      "Raster generated:  6.75 s\n",
      "Raster generated:  8.66 s\n",
      "Raster generated:  15.06 s\n",
      "Raster generated:  14.61 s\n",
      "Raster generated:  3.73 s\n",
      "Raster generated:  12.97 s\n",
      "Raster generated:  16.42 s\n",
      "Raster generated:  15.83 s\n",
      "Raster generated:  16.81 s\n",
      "Raster generated:  5.61 s\n",
      "Raster generated:  9.73 s\n",
      "Raster generated:  16.37 s\n",
      "Raster generated:  15.61 s\n",
      "Raster generated:  11.49 s\n",
      "Raster generated:  6.06 s\n",
      "Raster generated:  3.64 s\n",
      "Raster generated:  13.96 s\n",
      "Raster generated:  11.06 s\n",
      "Raster generated:  6.98 s\n",
      "Raster generated:  8.41 s\n",
      "Raster generated:  10.66 s\n",
      "Raster generated:  5.21 s\n",
      "Raster generated:  14.43 s\n",
      "Raster generated:  2.35 s\n",
      "Raster generated:  8.38 s\n",
      "Raster generated:  10.81 s\n",
      "Raster generated:  17.26 s\n",
      "Raster generated:  5.42 s\n",
      "Raster generated:  4.98 s\n",
      "Raster generated:  7.57 s\n",
      "Raster generated:  6.72 s\n",
      "Raster generated:  11.54 s\n",
      "Raster generated:  10.28 s\n",
      "Raster generated:  8.45 s\n",
      "Raster generated:  4.20 s\n",
      "Raster generated:  4.14 s\n",
      "Raster generated:  3.58 s\n",
      "Raster generated:  12.29 s\n",
      "Raster generated:  6.85 s\n",
      "Raster generated:  6.36 s\n",
      "Raster generated:  9.14 s\n",
      "Raster generated:  4.55 s\n",
      "Raster generated:  10.34 s\n",
      "Raster generated:  13.21 s\n",
      "Raster generated:  13.06 s\n",
      "Raster generated:  10.13 s\n",
      "Raster generated:  10.89 s\n",
      "Raster generated:  11.04 s\n",
      "Raster generated:  5.19 s\n",
      "Raster generated:  19.32 s\n",
      "Raster generated:  11.95 s\n",
      "Raster generated:  11.46 s\n",
      "Raster generated:  0.82 s\n",
      "Raster generated:  0.84 s\n",
      "Raster generated:  0.64 s\n",
      "Raster generated:  0.81 s\n",
      "Raster generated:  0.86 s\n",
      "Raster generated:  0.64 s\n",
      "Raster generated:  0.92 s\n",
      "Raster generated:  0.87 s\n",
      "Raster generated:  0.64 s\n",
      "Raster generated:  0.84 s\n",
      "Raster generated:  0.58 s\n",
      "Raster generated:  0.88 s\n",
      "Raster generated:  0.94 s\n",
      "Raster generated:  0.59 s\n",
      "Raster generated:  0.86 s\n",
      "Raster generated:  0.59 s\n",
      "Raster generated:  0.87 s\n",
      "Raster generated:  0.55 s\n",
      "Raster generated:  0.85 s\n",
      "Raster generated:  0.86 s\n",
      "Raster generated:  0.54 s\n",
      "Raster generated:  0.91 s\n",
      "Raster generated:  0.83 s\n",
      "Raster generated:  0.87 s\n",
      "Raster generated:  0.55 s\n",
      "Raster generated:  0.87 s\n",
      "Raster generated:  0.58 s\n",
      "Raster generated:  0.84 s\n",
      "Raster generated:  0.45 s\n",
      "Raster generated:  0.87 s\n",
      "Raster generated:  0.55 s\n",
      "Raster generated:  0.58 s\n",
      "Raster generated:  0.81 s\n",
      "Raster generated:  0.46 s\n",
      "Raster generated:  0.79 s\n",
      "Raster generated:  0.54 s\n",
      "Raster generated:  0.88 s\n",
      "Raster generated:  0.45 s\n",
      "Raster generated:  0.89 s\n",
      "Raster generated:  0.61 s\n",
      "Raster generated:  0.60 s\n",
      "Raster generated:  0.82 s\n",
      "Raster generated:  0.85 s\n",
      "Raster generated:  0.59 s\n",
      "Raster generated:  0.43 s\n",
      "Raster generated:  0.73 s\n",
      "Raster generated:  1.00 s\n",
      "Raster generated:  0.46 s\n",
      "Raster generated:  0.81 s\n",
      "Raster generated:  0.72 s\n",
      "Raster generated:  0.81 s\n",
      "Raster generated:  0.45 s\n",
      "Raster generated:  0.66 s\n",
      "Raster generated:  0.68 s\n",
      "Raster generated:  0.81 s\n",
      "Raster generated:  0.61 s\n",
      "Raster generated:  0.49 s\n",
      "Raster generated:  0.64 s\n",
      "Raster generated:  0.69 s\n",
      "Raster generated:  0.50 s\n",
      "Raster generated:  1.57 s\n",
      "Raster generated:  1.49 s\n",
      "Raster generated:  1.48 s\n",
      "Raster generated:  1.31 s\n",
      "Raster generated:  1.58 s\n",
      "Raster generated:  1.47 s\n",
      "Raster generated:  1.28 s\n",
      "Raster generated:  1.55 s\n",
      "Raster generated:  1.29 s\n",
      "Raster generated:  1.61 s\n",
      "Raster generated:  1.28 s\n",
      "Raster generated:  1.58 s\n",
      "Raster generated:  1.51 s\n",
      "Raster generated:  1.25 s\n",
      "Raster generated:  1.46 s\n",
      "Raster generated:  1.41 s\n",
      "Raster generated:  1.49 s\n",
      "Raster generated:  1.54 s\n",
      "Raster generated:  1.61 s\n",
      "Raster generated:  1.24 s\n",
      "Raster generated:  1.51 s\n",
      "Raster generated:  1.21 s\n",
      "Raster generated:  1.58 s\n",
      "Raster generated:  1.15 s\n",
      "Raster generated:  1.43 s\n",
      "Raster generated:  1.50 s\n",
      "Raster generated:  1.13 s\n",
      "Raster generated:  1.44 s\n",
      "Raster generated:  1.54 s\n",
      "Raster generated:  1.13 s\n",
      "Raster generated:  1.23 s\n",
      "Raster generated:  1.56 s\n",
      "Raster generated:  1.22 s\n",
      "Raster generated:  1.16 s\n",
      "Raster generated:  1.34 s\n",
      "Raster generated:  1.57 s\n",
      "Raster generated:  1.02 s\n",
      "Raster generated:  1.10 s\n",
      "Raster generated:  1.22 s\n",
      "Raster generated:  1.51 s\n",
      "Raster generated:  1.26 s\n",
      "Raster generated:  1.11 s\n",
      "Raster generated:  1.43 s\n",
      "Raster generated:  0.96 s\n",
      "Raster generated:  1.48 s\n",
      "Raster generated:  1.11 s\n",
      "Raster generated:  1.50 s\n",
      "Raster generated:  1.24 s\n",
      "Raster generated:  0.96 s\n",
      "Raster generated:  1.50 s\n",
      "Raster generated:  0.93 s\n",
      "Raster generated:  1.49 s\n",
      "Raster generated:  0.89 s\n",
      "Raster generated:  1.16 s\n",
      "Raster generated:  1.57 s\n",
      "Raster generated:  1.31 s\n",
      "Raster generated:  0.87 s\n",
      "Raster generated:  0.92 s\n",
      "Raster generated:  0.89 s\n",
      "Raster generated:  0.87 s\n",
      "Raster generated:  1.35 s\n",
      "Raster generated:  1.34 s\n",
      "Raster generated:  1.26 s\n",
      "Raster generated:  1.18 s\n",
      "Raster generated:  1.35 s\n",
      "Raster generated:  1.14 s\n",
      "Raster generated:  1.28 s\n",
      "Raster generated:  1.39 s\n",
      "Raster generated:  1.05 s\n",
      "Raster generated:  1.34 s\n",
      "Raster generated:  1.35 s\n",
      "Raster generated:  1.33 s\n",
      "Raster generated:  1.38 s\n",
      "Raster generated:  1.15 s\n",
      "Raster generated:  1.35 s\n",
      "Raster generated:  1.11 s\n",
      "Raster generated:  1.35 s\n",
      "Raster generated:  1.02 s\n",
      "Raster generated:  1.40 s\n",
      "Raster generated:  1.28 s\n",
      "Raster generated:  1.45 s\n",
      "Raster generated:  1.02 s\n",
      "Raster generated:  1.27 s\n",
      "Raster generated:  1.34 s\n",
      "Raster generated:  0.89 s\n",
      "Raster generated:  1.21 s\n",
      "Raster generated:  1.37 s\n",
      "Raster generated:  0.89 s\n",
      "Raster generated:  1.25 s\n",
      "Raster generated:  1.46 s\n",
      "Raster generated:  1.09 s\n",
      "Raster generated:  0.87 s\n",
      "Raster generated:  1.52 s\n",
      "Raster generated:  1.06 s\n",
      "Raster generated:  1.16 s\n",
      "Raster generated:  1.31 s\n",
      "Raster generated:  1.30 s\n",
      "Raster generated:  0.97 s\n",
      "Raster generated:  1.41 s\n",
      "Raster generated:  0.93 s\n",
      "Raster generated:  1.50 s\n",
      "Raster generated:  0.84 s\n",
      "Raster generated:  1.42 s\n",
      "Raster generated:  1.13 s\n",
      "Raster generated:  0.91 s\n",
      "Raster generated:  1.41 s\n",
      "Raster generated:  1.00 s\n",
      "Raster generated:  0.79 s\n",
      "Raster generated:  1.28 s\n",
      "Raster generated:  0.78 s\n",
      "Raster generated:  1.34 s\n",
      "Raster generated:  1.13 s\n",
      "Raster generated:  0.73 s\n",
      "Raster generated:  0.89 s\n",
      "Raster generated:  1.41 s\n",
      "Raster generated:  0.79 s\n",
      "Raster generated:  1.01 s\n",
      "Raster generated:  1.34 s\n",
      "Raster generated:  0.75 s\n",
      "Raster generated:  1.07 s\n",
      "\n",
      "----- Create raster videos, window: conn_spont -----\n"
     ]
    }
   ],
   "source": [
    "c_etl.plot_rasters(a_hex0)"
   ]
  },
  {
   "cell_type": "markdown",
   "metadata": {},
   "source": [
    "# Fig 4G2"
   ]
  },
  {
   "cell_type": "code",
   "execution_count": 9,
   "metadata": {},
   "outputs": [
    {
     "name": "stdout",
     "output_type": "stream",
     "text": [
      "Create heatmap: ei_corr_rval\n"
     ]
    },
    {
     "data": {
      "image/png": "[encoded data removed]",
      "text/plain": [
       "<Figure size 800x600 with 2 Axes>"
      ]
     },
     "metadata": {},
     "output_type": "display_data"
    }
   ],
   "source": [
    "hm_dims = (a_hex0.analysis_config.custom['heatmap_dims']['hor_key'], \n",
    "           a_hex0.analysis_config.custom['heatmap_dims']['ver_key'], \n",
    "           a_hex0.analysis_config.custom['heatmap_dims']['x_key'], \n",
    "           a_hex0.analysis_config.custom['heatmap_dims']['y_key'])\n",
    "\n",
    "c_etl.heatmap(a_hex0.custom['by_simulation'], \n",
    "              \"ei_corr_rval\", \n",
    "              figure_output_path + \"Fig7B-ei_corr_rval.pdf\", \n",
    "              *hm_dims, \n",
    "              mask_key=\"bursting\", \n",
    "              figsize=(8, 6))"
   ]
  },
  {
   "cell_type": "markdown",
   "metadata": {},
   "source": [
    "# Fig 4I Left"
   ]
  },
  {
   "cell_type": "code",
   "execution_count": 12,
   "metadata": {},
   "outputs": [
    {
     "data": {
      "image/png": "[encoded data removed]",
      "text/plain": [
       "<Figure size 160x225 with 2 Axes>"
      ]
     },
     "metadata": {},
     "output_type": "display_data"
    }
   ],
   "source": [
    "c_etl.plot_sim_stat_lines_all_sims(a_hex0, \n",
    "                                   a_hex0.custom['by_layer_and_simulation'], \n",
    "                                   \"ei_corr_rval\", \n",
    "                                   {\"bursting\": False}, \n",
    "                                   figure_output_path + \"Fig4Ileft-LayerWiseEI_NonBursting\", \n",
    "                                   [c_etl.silico_layer_strings[:0:-1]], \n",
    "                                   ['Greys'], \n",
    "                                   show_in_vivo_FRs=False, \n",
    "                                   custom_x_lims=[-0.2, 1.0], \n",
    "                                   show_colorbar=True,\n",
    "                                  file_types=[\".pdf\"],\n",
    "                                  figsize=(1.6,2.25))"
   ]
  },
  {
   "cell_type": "markdown",
   "metadata": {},
   "source": [
    "# Fig 4H"
   ]
  },
  {
   "cell_type": "code",
   "execution_count": 17,
   "metadata": {},
   "outputs": [
    {
     "name": "stdout",
     "output_type": "stream",
     "text": [
      "0\n"
     ]
    },
    {
     "name": "stderr",
     "output_type": "stream",
     "text": [
      "50it [00:10,  4.99it/s]\n"
     ]
    }
   ],
   "source": [
    "# c_etl.flatspace_videos(a_hexO1)\n",
    "\n",
    "a = a_hexO1\n",
    "\n",
    "\n",
    "import os\n",
    "from blueetl.parallel import call_by_simulation\n",
    "from functools import partial\n",
    "\n",
    "for flatspace_video_key in a.analysis_config.custom['flatspace_videos']:\n",
    "    flatspace_video_opt = a.analysis_config.custom['flatspace_videos'][flatspace_video_key]\n",
    "    flatspace_video_opt['vid_str'] = flatspace_video_opt['window'] + \"_\" + str(flatspace_video_opt['t_step']) + \"_\" + str(flatspace_video_opt['n_spatial_bins']) + \"_\" + str(flatspace_video_opt['temporal_smoothing_sigma'])\n",
    "    flatspace_video_opt['video_output_root'] = str(a.figpaths.flatspace_videos) + \"/\" + flatspace_video_opt['vid_str'] + \"/\"\n",
    "    os.makedirs(flatspace_video_opt['video_output_root'], exist_ok=True)\n",
    "\n",
    "    dataframes={\n",
    "        \"circuits\": a.repo.simulations.df.loc[:, ['circuit', 'circuit_id', 'simulation_id']],\n",
    "        \"spikes\": a.repo.report.df.etl.q(neuron_class=\"ALL\", window=flatspace_video_opt['window']),\n",
    "        \"windows\": a.repo.windows.df.etl.q(window=flatspace_video_opt['window']), \n",
    "        \"neurons\": a.repo.neurons.df.etl.q(neuron_class=\"ALL\")}\n",
    "\n",
    "    gids = a.repo.neurons.df.etl.q(circuit_id=0)['gid']\n",
    "    locations = a.repo.simulations.df.loc[:, ['circuit', 'circuit_id', 'simulation_id']].iloc[0]['circuit'].nodes[None].get(gids, [\"x\", \"y\", \"z\"])\n",
    "    \n",
    "    flat_locations = c_etl.flatten_locations(locations, a.analysis_config.custom[\"flatmap\"])\n",
    "\n",
    "    results = call_by_simulation(a.repo.simulations.df.etl.q(ca=1.1, depol_stdev_mean_ratio=0.2, desired_connected_proportion_of_invivo_frs=0.9), \n",
    "                                    dataframes, \n",
    "                                    func=partial(c_etl.single_flatspace_video, \n",
    "                                                flat_locations=flat_locations, \n",
    "                                                flatspace_video_opt=flatspace_video_opt, \n",
    "                                                analysis_config=a.analysis_config.custom,\n",
    "                                                flatspace_path_pre=figure_output_path + 'Fig7D-correlated_flatspace.mp3', \n",
    "                                                images_dir=figure_output_path + 'Fig7D-correlated_flatspace/'),\n",
    "                                    how='series')"
   ]
  },
  {
   "cell_type": "markdown",
   "metadata": {},
   "source": [
    "# Fig 4G3"
   ]
  },
  {
   "cell_type": "code",
   "execution_count": 19,
   "metadata": {},
   "outputs": [
    {
     "name": "stdout",
     "output_type": "stream",
     "text": [
      "Create heatmap: power\n"
     ]
    },
    {
     "data": {
      "image/png": "[encoded data removed]",
      "text/plain": [
       "<Figure size 370x210 with 7 Axes>"
      ]
     },
     "metadata": {},
     "output_type": "display_data"
    }
   ],
   "source": [
    "import pandas as pd\n",
    "\n",
    "hor_key=\"ca\"; ver_key=\"depol_stdev_mean_ratio\"; x_key=\"freq\"; y_key=\"desired_connected_proportion_of_invivo_frs\"\n",
    "hm_dims = (hor_key, ver_key, x_key, y_key)\n",
    "\n",
    "all_fft_dfs = pd.merge(a_hex0.custom['fft'].reset_index(), a_hex0.custom['by_simulation'].reset_index()[['simulation_id', 'bursting']])\n",
    "c_etl.heatmap(all_fft_dfs, \"power\",  figure_output_path + \"Fig7E-FFT\", *hm_dims, mask_key=\"bursting\", figsize=(3.7, 2.1), show_colorbar=True, override_cmap='Greys')"
   ]
  },
  {
   "cell_type": "code",
   "execution_count": 21,
   "metadata": {},
   "outputs": [
    {
     "name": "stderr",
     "output_type": "stream",
     "text": [
      "/nvme/isbister/2659970/ipykernel_270433/1880729466.py:2: FutureWarning: Dropping invalid columns in DataFrameGroupBy.min is deprecated. In a future version, a TypeError will be raised. Before calling .min, select only columns which should be valid for the function.\n",
      "  min_depol_mean_by_sim = a_hex0.custom['by_neuron_class'].groupby(['simulation_id']).min()['depol_mean']\n",
      "/nvme/isbister/2659970/ipykernel_270433/1880729466.py:3: FutureWarning: Dropping invalid columns in DataFrameGroupBy.max is deprecated. In a future version, a TypeError will be raised. Before calling .max, select only columns which should be valid for the function.\n",
      "  max_depol_mean_by_sim = a_hex0.custom['by_neuron_class'].groupby(['simulation_id']).max()['depol_mean']\n",
      "/nvme/isbister/2659970/ipykernel_270433/1880729466.py:7: FutureWarning: Dropping invalid columns in DataFrameGroupBy.min is deprecated. In a future version, a TypeError will be raised. Before calling .min, select only columns which should be valid for the function.\n",
      "  min_depol_mean_by_neuron_class = a_hex0.custom['by_neuron_class'].groupby(['neuron_class']).min()['depol_mean']\n",
      "/nvme/isbister/2659970/ipykernel_270433/1880729466.py:8: FutureWarning: Dropping invalid columns in DataFrameGroupBy.max is deprecated. In a future version, a TypeError will be raised. Before calling .max, select only columns which should be valid for the function.\n",
      "  max_depol_mean_by_neuron_class = a_hex0.custom['by_neuron_class'].groupby(['neuron_class']).max()['depol_mean']\n"
     ]
    },
    {
     "data": {
      "text/plain": [
       "5.217868306947665"
      ]
     },
     "execution_count": 21,
     "metadata": {},
     "output_type": "execute_result"
    }
   ],
   "source": [
    "a_hex0.custom['by_neuron_class'].columns\n",
    "min_depol_mean_by_sim = a_hex0.custom['by_neuron_class'].groupby(['simulation_id']).min()['depol_mean']\n",
    "max_depol_mean_by_sim = a_hex0.custom['by_neuron_class'].groupby(['simulation_id']).max()['depol_mean']\n",
    "import numpy as np\n",
    "a = np.mean(max_depol_mean_by_sim - min_depol_mean_by_sim)\n",
    "\n",
    "min_depol_mean_by_neuron_class = a_hex0.custom['by_neuron_class'].groupby(['neuron_class']).min()['depol_mean']\n",
    "max_depol_mean_by_neuron_class = a_hex0.custom['by_neuron_class'].groupby(['neuron_class']).max()['depol_mean']\n",
    "b = np.mean(max_depol_mean_by_neuron_class - min_depol_mean_by_neuron_class)\n",
    "\n",
    "a/b\n"
   ]
  }
 ],
 "metadata": {
  "kernelspec": {
   "display_name": "cortex_etl_jupyter_04_01_23",
   "language": "python",
   "name": "cortex_etl_jupyter_04_01_23"
  },
  "language_info": {
   "codemirror_mode": {
    "name": "ipython",
    "version": 3
   },
   "file_extension": ".py",
   "mimetype": "text/x-python",
   "name": "python",
   "nbconvert_exporter": "python",
   "pygments_lexer": "ipython3",
   "version": "3.10.8"
  }
 },
 "nbformat": 4,
 "nbformat_minor": 4
}
