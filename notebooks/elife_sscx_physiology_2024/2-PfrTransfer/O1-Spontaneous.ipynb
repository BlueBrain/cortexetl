{
 "cells": [
  {
   "cell_type": "code",
   "execution_count": null,
   "metadata": {},
   "outputs": [],
   "source": [
    "import sys\n",
    "sys.path.append('../../..')\n",
    "import cortexetl as c_etl"
   ]
  },
  {
   "cell_type": "code",
   "execution_count": null,
   "metadata": {},
   "outputs": [],
   "source": [
    "ma = c_etl.analysis_initial_processing(\"2-PfrTransfer-6-3rdConnectionRemaining.yaml\", loglevel=\"ERROR\")\n",
    "a_hex0 = ma.hex0_spikes\n",
    "a_hexO1 = ma.hex_O1_spikes\n",
    "c_etl.post_analysis(a_hex0)"
   ]
  },
  {
   "cell_type": "code",
   "execution_count": null,
   "metadata": {},
   "outputs": [],
   "source": [
    "figure_output_path = \"/gpfs/bbp.cscs.ch/project/proj83/home/isbister/data/cortexetl_output/elife_sscx_physiology_2024/collated_manuscript_figures/\"\n",
    "import os\n",
    "os.makedirs(figure_output_path, exist_ok=True)"
   ]
  },
  {
   "cell_type": "markdown",
   "metadata": {},
   "source": [
    "# Fig 4G1"
   ]
  },
  {
   "cell_type": "code",
   "execution_count": null,
   "metadata": {},
   "outputs": [],
   "source": [
    "sim_1_dir = figure_output_path + 'Fig4/Fig7A-Sim1'\n",
    "sim_2_dir = figure_output_path + 'Fig4/Fig7A-Sim2'\n",
    "os.makedirs(sim_1_dir, exist_ok=True)\n",
    "os.makedirs(sim_2_dir, exist_ok=True)\n",
    "\n",
    "\n",
    "a_hex0.analysis_config.custom['plot_rasters'] = True\n",
    "c_etl.plot_rasters(a_hex0, custom_file_path=sim_1_dir, simulation_filter={\"ca\":1.05, \"depol_stdev_mean_ratio\": 0.4, \"desired_connected_proportion_of_invivo_frs\": 0.1})\n",
    "c_etl.plot_rasters(a_hex0, custom_file_path=sim_2_dir, simulation_filter={\"ca\":1.1, \"depol_stdev_mean_ratio\": 0.2, \"desired_connected_proportion_of_invivo_frs\": 0.9})"
   ]
  },
  {
   "cell_type": "markdown",
   "metadata": {},
   "source": [
    "# Video"
   ]
  },
  {
   "cell_type": "code",
   "execution_count": null,
   "metadata": {},
   "outputs": [],
   "source": [
    "c_etl.plot_rasters(a_hex0)"
   ]
  },
  {
   "cell_type": "markdown",
   "metadata": {},
   "source": [
    "# Fig 4G2"
   ]
  },
  {
   "cell_type": "code",
   "execution_count": null,
   "metadata": {},
   "outputs": [],
   "source": [
    "hm_dims = (a_hex0.analysis_config.custom['heatmap_dims']['hor_key'], \n",
    "           a_hex0.analysis_config.custom['heatmap_dims']['ver_key'], \n",
    "           a_hex0.analysis_config.custom['heatmap_dims']['x_key'], \n",
    "           a_hex0.analysis_config.custom['heatmap_dims']['y_key'])\n",
    "\n",
    "c_etl.heatmap(a_hex0.custom['by_simulation'], \n",
    "              \"ei_corr_rval\", \n",
    "              figure_output_path + \"Fig7B-ei_corr_rval.pdf\", \n",
    "              *hm_dims, \n",
    "              mask_key=\"bursting\", \n",
    "              figsize=(8, 6))"
   ]
  },
  {
   "cell_type": "markdown",
   "metadata": {},
   "source": [
    "# Fig 4I Left"
   ]
  },
  {
   "cell_type": "code",
   "execution_count": null,
   "metadata": {},
   "outputs": [],
   "source": [
    "c_etl.plot_sim_stat_lines_all_sims(a_hex0, \n",
    "                                   a_hex0.custom['by_layer_and_simulation'], \n",
    "                                   \"ei_corr_rval\", \n",
    "                                   {\"bursting\": False}, \n",
    "                                   figure_output_path + \"Fig4Ileft-LayerWiseEI_NonBursting\", \n",
    "                                   [c_etl.silico_layer_strings[:0:-1]], \n",
    "                                   ['Greys'], \n",
    "                                   show_in_vivo_FRs=False, \n",
    "                                   custom_x_lims=[-0.2, 1.0], \n",
    "                                   show_colorbar=True,\n",
    "                                  file_types=[\".pdf\"],\n",
    "                                  figsize=(1.6,2.25))"
   ]
  },
  {
   "cell_type": "markdown",
   "metadata": {},
   "source": [
    "# Fig 4H"
   ]
  },
  {
   "cell_type": "code",
   "execution_count": null,
   "metadata": {},
   "outputs": [],
   "source": [
    "# c_etl.flatspace_videos(a_hexO1)\n",
    "\n",
    "a = a_hexO1\n",
    "\n",
    "\n",
    "import os\n",
    "from blueetl.parallel import call_by_simulation\n",
    "from functools import partial\n",
    "\n",
    "for flatspace_video_key in a.analysis_config.custom['flatspace_videos']:\n",
    "    flatspace_video_opt = a.analysis_config.custom['flatspace_videos'][flatspace_video_key]\n",
    "    flatspace_video_opt['vid_str'] = flatspace_video_opt['window'] + \"_\" + str(flatspace_video_opt['t_step']) + \"_\" + str(flatspace_video_opt['n_spatial_bins']) + \"_\" + str(flatspace_video_opt['temporal_smoothing_sigma'])\n",
    "    flatspace_video_opt['video_output_root'] = str(a.figpaths.flatspace_videos) + \"/\" + flatspace_video_opt['vid_str'] + \"/\"\n",
    "    os.makedirs(flatspace_video_opt['video_output_root'], exist_ok=True)\n",
    "\n",
    "    dataframes={\n",
    "        \"circuits\": a.repo.simulations.df.loc[:, ['circuit', 'circuit_id', 'simulation_id']],\n",
    "        \"spikes\": a.repo.report.df.etl.q(neuron_class=\"ALL\", window=flatspace_video_opt['window']),\n",
    "        \"windows\": a.repo.windows.df.etl.q(window=flatspace_video_opt['window']), \n",
    "        \"neurons\": a.repo.neurons.df.etl.q(neuron_class=\"ALL\")}\n",
    "\n",
    "    gids = a.repo.neurons.df.etl.q(circuit_id=0)['gid']\n",
    "    locations = a.repo.simulations.df.loc[:, ['circuit', 'circuit_id', 'simulation_id']].iloc[0]['circuit'].nodes[None].get(gids, [\"x\", \"y\", \"z\"])\n",
    "    \n",
    "    flat_locations = c_etl.flatten_locations(locations, a.analysis_config.custom[\"flatmap\"])\n",
    "\n",
    "    results = call_by_simulation(a.repo.simulations.df.etl.q(ca=1.1, depol_stdev_mean_ratio=0.2, desired_connected_proportion_of_invivo_frs=0.9), \n",
    "                                    dataframes, \n",
    "                                    func=partial(c_etl.single_flatspace_video, \n",
    "                                                flat_locations=flat_locations, \n",
    "                                                flatspace_video_opt=flatspace_video_opt, \n",
    "                                                analysis_config=a.analysis_config.custom,\n",
    "                                                flatspace_path_pre=figure_output_path + 'Fig7D-correlated_flatspace.mp3', \n",
    "                                                images_dir=figure_output_path + 'Fig7D-correlated_flatspace/'),\n",
    "                                    how='series')"
   ]
  },
  {
   "cell_type": "markdown",
   "metadata": {},
   "source": [
    "# Fig 4G3"
   ]
  },
  {
   "cell_type": "code",
   "execution_count": null,
   "metadata": {},
   "outputs": [],
   "source": [
    "import pandas as pd\n",
    "\n",
    "hor_key=\"ca\"; ver_key=\"depol_stdev_mean_ratio\"; x_key=\"freq\"; y_key=\"desired_connected_proportion_of_invivo_frs\"\n",
    "hm_dims = (hor_key, ver_key, x_key, y_key)\n",
    "\n",
    "all_fft_dfs = pd.merge(a_hex0.custom['fft'].reset_index(), a_hex0.custom['by_simulation'].reset_index()[['simulation_id', 'bursting']])\n",
    "c_etl.heatmap(all_fft_dfs, \"power\",  figure_output_path + \"Fig7E-FFT\", *hm_dims, mask_key=\"bursting\", figsize=(3.7, 2.1), show_colorbar=True, override_cmap='Greys')"
   ]
  },
  {
   "cell_type": "code",
   "execution_count": null,
   "metadata": {},
   "outputs": [],
   "source": [
    "a_hex0.custom['by_neuron_class'].columns\n",
    "min_depol_mean_by_sim = a_hex0.custom['by_neuron_class'].groupby(['simulation_id']).min()['depol_mean']\n",
    "max_depol_mean_by_sim = a_hex0.custom['by_neuron_class'].groupby(['simulation_id']).max()['depol_mean']\n",
    "import numpy as np\n",
    "a = np.mean(max_depol_mean_by_sim - min_depol_mean_by_sim)\n",
    "\n",
    "min_depol_mean_by_neuron_class = a_hex0.custom['by_neuron_class'].groupby(['neuron_class']).min()['depol_mean']\n",
    "max_depol_mean_by_neuron_class = a_hex0.custom['by_neuron_class'].groupby(['neuron_class']).max()['depol_mean']\n",
    "b = np.mean(max_depol_mean_by_neuron_class - min_depol_mean_by_neuron_class)\n",
    "\n",
    "a/b\n"
   ]
  }
 ],
 "metadata": {
  "kernelspec": {
   "display_name": "spikewarp3_env",
   "language": "python",
   "name": "python3"
  },
  "language_info": {
   "codemirror_mode": {
    "name": "ipython",
    "version": 3
   },
   "file_extension": ".py",
   "mimetype": "text/x-python",
   "name": "python",
   "nbconvert_exporter": "python",
   "pygments_lexer": "ipython3",
   "version": "3.10.8"
  }
 },
 "nbformat": 4,
 "nbformat_minor": 4
}
