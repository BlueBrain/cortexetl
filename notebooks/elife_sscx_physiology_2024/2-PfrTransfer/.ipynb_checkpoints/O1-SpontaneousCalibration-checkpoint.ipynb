{
 "cells": [
  {
   "cell_type": "code",
   "execution_count": 1,
   "metadata": {},
   "outputs": [
    {
     "name": "stdout",
     "output_type": "stream",
     "text": [
      "\n",
      "----- Custom post analysis -----\n",
      "----- Custom post analysis complete: 8.28s -----\n"
     ]
    }
   ],
   "source": [
    "import sys\n",
    "sys.path.append('../..')\n",
    "import cortex_etl as c_etl\n",
    "\n",
    "ma = c_etl.analysis_initial_processing(\"../../configs/1-InitialCombination/1-InitialCombination-5-5thConnection.yaml\", loglevel=\"ERROR\")\n",
    "a_hex0 = ma.hex0_spikes\n",
    "# a_hexO1 = ma.hex_O1_spikes\n",
    "c_etl.post_analysis(a_hex0)"
   ]
  },
  {
   "cell_type": "markdown",
   "metadata": {},
   "source": [
    "# Fig 6C"
   ]
  },
  {
   "cell_type": "code",
   "execution_count": null,
   "metadata": {},
   "outputs": [],
   "source": [
    "# Helper for concatenating dfs for multiple campaigns\n",
    "def concat_dfs_for_multiple_campaigns(analyzers, dataframe_key):\n",
    "\n",
    "    list_of_dfs = [a.custom[dataframe_key] for a in analyzers]\n",
    "    concatenated_dfs = pd.concat(list_of_dfs, axis=0, ignore_index=True)\n",
    "    return concatenated_dfs\n",
    "\n",
    "\n",
    "# Compare metrics for a sequential series of campaigns (e.g. an optimisation)\n",
    "def compare_campaigns(a, a_name):\n",
    "    \n",
    "    print(\"\\n----- Compare campaigns -----\")\n",
    "\n",
    "    # Run post analysis + optional plotting for additional campaigns\n",
    "    analyzers = []\n",
    "    for conf in a.analysis_config.custom['comparison_campaigns']:\n",
    "        print(conf)\n",
    "\n",
    "        ma_for_comparison = c_etl.analysis_initial_processing(conf, loglevel=\"ERROR\")\n",
    "        a_for_comparison = ma_for_comparison.analyzers[a_name]\n",
    "\n",
    "        c_etl.post_analysis(a_for_comparison)\n",
    "        if (a.analysis_config.custom['plot_multi_sim_analysis_for_comparison_campaigns']):\n",
    "            c_etl.plot_multi_sim_analysis(a_for_comparison)      \n",
    "\n",
    "        analyzers.append(a_for_comparison)\n",
    "    analyzers.append(a)\n",
    "\n",
    "\n",
    "    # Add additional columns with campaign information\n",
    "    for analyzer_ind, analyzer in enumerate(analyzers):\n",
    "        analyzer.custom['custom_simulations_post_analysis']['campaign_index'] = analyzer_ind\n",
    "        analyzer.custom['custom_simulations_post_analysis']['campaign_short_name'] = analyzer.analysis_config.custom['campaign_short_name']\n",
    "\n",
    "\n",
    "    # Concatenate campagin dfs\n",
    "    concatenated_custom_simulations_post_analysis = c_etl.concat_dfs_for_multiple_campaigns(analyzers, 'custom_simulations_post_analysis')\n",
    "\n",
    "    # Lineplots\n",
    "    hor_key=\"ca\"; ver_key=\"none\"; x_key=\"desired_connected_proportion_of_invivo_frs\"; colour_var_key=\"campaign_short_name\";\n",
    "    hm_dims = (hor_key, ver_key, x_key, colour_var_key)\n",
    "    file_dir = str(a.figpaths.campaign_comparison) + '/'\n",
    "    c_etl.comparison_lineplots(concatenated_custom_simulations_post_analysis, file_dir, *hm_dims)\n",
    "    \n",
    "compare_campaigns(a_hex0, \"hex0_spikes\")"
   ]
  }
 ],
 "metadata": {
  "kernelspec": {
   "display_name": "cortex_etl_jupyter_04_01_23",
   "language": "python",
   "name": "cortex_etl_jupyter_04_01_23"
  },
  "language_info": {
   "codemirror_mode": {
    "name": "ipython",
    "version": 3
   },
   "file_extension": ".py",
   "mimetype": "text/x-python",
   "name": "python",
   "nbconvert_exporter": "python",
   "pygments_lexer": "ipython3",
   "version": "3.10.8"
  }
 },
 "nbformat": 4,
 "nbformat_minor": 4
}
