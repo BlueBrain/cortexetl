{
 "cells": [
  {
   "cell_type": "code",
   "execution_count": null,
   "metadata": {},
   "outputs": [],
   "source": [
    "import sys\n",
    "sys.path.append('../../..')\n",
    "import cortexetl as c_etl"
   ]
  },
  {
   "cell_type": "code",
   "execution_count": null,
   "metadata": {},
   "outputs": [],
   "source": [
    "# for config_path in [\"1-InitialCombination-1-1stConnection.yaml\", \"1-InitialCombination-2-2ndConnection.yaml\", \"1-InitialCombination-3-3rdConnection.yaml\", \"1-InitialCombination-4-4thConnection.yaml\", \"1-InitialCombination-5-5thConnection.yaml\"]:\n",
    "for config_path in [\"1-InitialCombination-5-5thConnection.yaml\"]:\n",
    "\n",
    "    print(config_path)\n",
    "    \n",
    "    ma = c_etl.analysis_initial_processing(config_path, loglevel=\"ERROR\")\n",
    "    a_hex0 = ma.hex0_spikes\n",
    "    c_etl.post_analysis(a_hex0)\n",
    "    c_etl.plot_multi_sim_analysis(a_hex0)\n",
    "    \n",
    "    if \"comparison_campaigns\" in a_hex0.analysis_config.custom: \n",
    "        \"\"\"\n",
    "        Images for other campaigns must \n",
    "        have been generated previously \n",
    "        for videos to be made\n",
    "        \"\"\"\n",
    "        c_etl.compare_campaigns(a_hex0, \"hex0_spikes\", optimisation_evolution_videos=True)\n"
   ]
  },
  {
   "cell_type": "code",
   "execution_count": null,
   "metadata": {},
   "outputs": [],
   "source": []
  }
 ],
 "metadata": {
  "kernelspec": {
   "display_name": "spikewarp3_env",
   "language": "python",
   "name": "python3"
  },
  "language_info": {
   "codemirror_mode": {
    "name": "ipython",
    "version": 3
   },
   "file_extension": ".py",
   "mimetype": "text/x-python",
   "name": "python",
   "nbconvert_exporter": "python",
   "pygments_lexer": "ipython3",
   "version": "3.10.8"
  }
 },
 "nbformat": 4,
 "nbformat_minor": 4
}
