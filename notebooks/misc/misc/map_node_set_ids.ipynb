{
 "cells": [
  {
   "cell_type": "code",
   "execution_count": 101,
   "metadata": {},
   "outputs": [],
   "source": [
    "import json\n",
    "\n",
    "def open_json(path):\n",
    "    with open(path, 'r') as fd:\n",
    "        contents = json.load(fd)\n",
    "    return contents\n",
    "\n",
    "mapping_dict = open_json(\"/gpfs/bbp.cscs.ch/project/proj83/jira-tickets/NSETM-1948-extract-hex-O1/data/O1_data_physiology/mapping.json\")\n",
    "original_ns = open_json(\"/gpfs/bbp.cscs.ch/project/proj83/home/isbister/data/misc_silico/node_sets_pre_adjustment.json\")\n",
    "\n"
   ]
  },
  {
   "cell_type": "code",
   "execution_count": 105,
   "metadata": {},
   "outputs": [
    {
     "name": "stdout",
     "output_type": "stream",
     "text": [
      "10\n",
      "334\n",
      "15\n",
      "457\n",
      "18\n",
      "473\n",
      "13\n",
      "419\n",
      "14\n",
      "448\n",
      "2\n",
      "118\n",
      "24\n",
      "575\n"
     ]
    }
   ],
   "source": [
    "import copy\n",
    "final_ns = copy.deepcopy(original_ns)\n",
    "old_ids = mapping_dict['S1nonbarrel_neurons']['old_id']\n",
    "new_ids = mapping_dict['S1nonbarrel_neurons']['new_id']\n",
    "\n",
    "# print(np.asarray(old_ids[:10]))\n",
    "# print(np.asarray(new_ids[:10]))\n",
    "\n",
    "import numpy as np\n",
    "for node_set in ['hex0', 'hex1', 'hex2', 'hex3', 'hex4', 'hex5', 'hex6']:\n",
    "\n",
    "    final_ns_ids = []\n",
    "    \n",
    "    node_set_ids = np.sort(original_ns[node_set]['node_id'])\n",
    "    num_new_ids = len(new_ids)\n",
    "    new_id_ind_start = 0\n",
    "    for ns_id in node_set_ids:\n",
    "        for new_id_ind in range(new_id_ind_start, num_new_ids):\n",
    "            new_id_ind_start = new_id_ind\n",
    "            if (new_ids[new_id_ind] == ns_id):\n",
    "                final_ns_ids.append(old_ids[new_id_ind])\n",
    "                break\n",
    "                \n",
    "    final_ns[node_set]['node_id'] = final_ns_ids\n",
    "    \n",
    "    \n",
    "    print(original_ns[node_set]['node_id'][1])\n",
    "    print(final_ns[node_set]['node_id'][1])\n",
    "\n"
   ]
  },
  {
   "cell_type": "code",
   "execution_count": 106,
   "metadata": {},
   "outputs": [],
   "source": [
    "# with open(\"/gpfs/bbp.cscs.ch/project/proj83/circuits/Bio_M/20200805-pure-sonata/node_sets.json\", 'w') as fd:\n",
    "#     json.dump(final_ns, fd, indent=2)"
   ]
  },
  {
   "cell_type": "code",
   "execution_count": null,
   "metadata": {},
   "outputs": [],
   "source": []
  }
 ],
 "metadata": {
  "kernelspec": {
   "display_name": "Python 3",
   "language": "python",
   "name": "python3"
  },
  "language_info": {
   "codemirror_mode": {
    "name": "ipython",
    "version": 3
   },
   "file_extension": ".py",
   "mimetype": "text/x-python",
   "name": "python",
   "nbconvert_exporter": "python",
   "pygments_lexer": "ipython3",
   "version": "3.7.4"
  }
 },
 "nbformat": 4,
 "nbformat_minor": 4
}
