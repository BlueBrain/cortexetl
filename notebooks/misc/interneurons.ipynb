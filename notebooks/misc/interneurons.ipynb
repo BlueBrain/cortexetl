{
 "cells": [
  {
   "cell_type": "code",
   "execution_count": 1,
   "metadata": {},
   "outputs": [],
   "source": [
    "import cortex_etl as c_etl"
   ]
  },
  {
   "cell_type": "code",
   "execution_count": 2,
   "metadata": {},
   "outputs": [],
   "source": [
    "ma = c_etl.analysis_initial_processing(\"configs/post_physiology_2023/0_InterneuronsCalibration/0_InterneuronsCalibration_1stIteration_28_8_23.yaml\", loglevel=\"ERROR\")"
   ]
  },
  {
   "cell_type": "code",
   "execution_count": 3,
   "metadata": {},
   "outputs": [],
   "source": [
    "a_hex0 = ma.hex0_spikes\n",
    "a = a_hex0"
   ]
  },
  {
   "cell_type": "code",
   "execution_count": 4,
   "metadata": {},
   "outputs": [
    {
     "name": "stdout",
     "output_type": "stream",
     "text": [
      "\n",
      "----- Custom post analysis -----\n",
      "----- Custom post analysis complete: 3.18s -----\n"
     ]
    }
   ],
   "source": [
    "c_etl.post_analysis(a)"
   ]
  },
  {
   "cell_type": "code",
   "execution_count": 5,
   "metadata": {},
   "outputs": [
    {
     "name": "stdout",
     "output_type": "stream",
     "text": [
      "<bound method Series.unique of 0       L1_5HT3aR\n",
      "1       L1_5HT3aR\n",
      "2      L23_5HT3aR\n",
      "3      L23_5HT3aR\n",
      "4         L23_EXC\n",
      "          ...    \n",
      "199        L6_EXC\n",
      "200         L6_PV\n",
      "201         L6_PV\n",
      "202        L6_SST\n",
      "203        L6_SST\n",
      "Name: neuron_class, Length: 204, dtype: category\n",
      "Categories (25, object): ['ALL', 'ALL_EXC', 'ALL_INH', 'L1_5HT3aR', ..., 'L6_EXC', 'L6_INH', 'L6_PV', 'L6_SST']>\n"
     ]
    },
    {
     "name": "stderr",
     "output_type": "stream",
     "text": [
      "/nvme/isbister/1685979/ipykernel_195229/1583705592.py:18: MatplotlibDeprecationWarning: The get_cmap function was deprecated in Matplotlib 3.7 and will be removed two minor releases later. Use ``matplotlib.colormaps[name]`` or ``matplotlib.colormaps.get_cmap(obj)`` instead.\n",
      "  cmap = cm.get_cmap('viridis', len(unique_cas))    # n discrete colors\n"
     ]
    },
    {
     "name": "stdout",
     "output_type": "stream",
     "text": [
      "<bound method Series.unique of 0       L1_5HT3aR\n",
      "1       L1_5HT3aR\n",
      "2      L23_5HT3aR\n",
      "3      L23_5HT3aR\n",
      "4         L23_EXC\n",
      "          ...    \n",
      "199        L6_EXC\n",
      "200         L6_PV\n",
      "201         L6_PV\n",
      "202        L6_SST\n",
      "203        L6_SST\n",
      "Name: neuron_class, Length: 204, dtype: category\n",
      "Categories (25, object): ['ALL', 'ALL_EXC', 'ALL_INH', 'L1_5HT3aR', ..., 'L6_EXC', 'L6_INH', 'L6_PV', 'L6_SST']>\n"
     ]
    },
    {
     "name": "stderr",
     "output_type": "stream",
     "text": [
      "/nvme/isbister/1685979/ipykernel_195229/1583705592.py:18: MatplotlibDeprecationWarning: The get_cmap function was deprecated in Matplotlib 3.7 and will be removed two minor releases later. Use ``matplotlib.colormaps[name]`` or ``matplotlib.colormaps.get_cmap(obj)`` instead.\n",
      "  cmap = cm.get_cmap('viridis', len(unique_cas))    # n discrete colors\n"
     ]
    },
    {
     "name": "stdout",
     "output_type": "stream",
     "text": [
      "<bound method Series.unique of 0       L1_5HT3aR\n",
      "1       L1_5HT3aR\n",
      "2      L23_5HT3aR\n",
      "3      L23_5HT3aR\n",
      "4         L23_EXC\n",
      "          ...    \n",
      "199        L6_EXC\n",
      "200         L6_PV\n",
      "201         L6_PV\n",
      "202        L6_SST\n",
      "203        L6_SST\n",
      "Name: neuron_class, Length: 204, dtype: category\n",
      "Categories (25, object): ['ALL', 'ALL_EXC', 'ALL_INH', 'L1_5HT3aR', ..., 'L6_EXC', 'L6_INH', 'L6_PV', 'L6_SST']>\n"
     ]
    },
    {
     "name": "stderr",
     "output_type": "stream",
     "text": [
      "/nvme/isbister/1685979/ipykernel_195229/1583705592.py:18: MatplotlibDeprecationWarning: The get_cmap function was deprecated in Matplotlib 3.7 and will be removed two minor releases later. Use ``matplotlib.colormaps[name]`` or ``matplotlib.colormaps.get_cmap(obj)`` instead.\n",
      "  cmap = cm.get_cmap('viridis', len(unique_cas))    # n discrete colors\n"
     ]
    },
    {
     "name": "stdout",
     "output_type": "stream",
     "text": [
      "<bound method Series.unique of 0       L1_5HT3aR\n",
      "1       L1_5HT3aR\n",
      "2      L23_5HT3aR\n",
      "3      L23_5HT3aR\n",
      "4         L23_EXC\n",
      "          ...    \n",
      "199        L6_EXC\n",
      "200         L6_PV\n",
      "201         L6_PV\n",
      "202        L6_SST\n",
      "203        L6_SST\n",
      "Name: neuron_class, Length: 204, dtype: category\n",
      "Categories (25, object): ['ALL', 'ALL_EXC', 'ALL_INH', 'L1_5HT3aR', ..., 'L6_EXC', 'L6_INH', 'L6_PV', 'L6_SST']>\n"
     ]
    },
    {
     "name": "stderr",
     "output_type": "stream",
     "text": [
      "/nvme/isbister/1685979/ipykernel_195229/1583705592.py:18: MatplotlibDeprecationWarning: The get_cmap function was deprecated in Matplotlib 3.7 and will be removed two minor releases later. Use ``matplotlib.colormaps[name]`` or ``matplotlib.colormaps.get_cmap(obj)`` instead.\n",
      "  cmap = cm.get_cmap('viridis', len(unique_cas))    # n discrete colors\n"
     ]
    },
    {
     "name": "stdout",
     "output_type": "stream",
     "text": [
      "<bound method Series.unique of 0       L1_5HT3aR\n",
      "1       L1_5HT3aR\n",
      "2      L23_5HT3aR\n",
      "3      L23_5HT3aR\n",
      "4         L23_EXC\n",
      "          ...    \n",
      "199        L6_EXC\n",
      "200         L6_PV\n",
      "201         L6_PV\n",
      "202        L6_SST\n",
      "203        L6_SST\n",
      "Name: neuron_class, Length: 204, dtype: category\n",
      "Categories (25, object): ['ALL', 'ALL_EXC', 'ALL_INH', 'L1_5HT3aR', ..., 'L6_EXC', 'L6_INH', 'L6_PV', 'L6_SST']>\n"
     ]
    },
    {
     "name": "stderr",
     "output_type": "stream",
     "text": [
      "/nvme/isbister/1685979/ipykernel_195229/1583705592.py:18: MatplotlibDeprecationWarning: The get_cmap function was deprecated in Matplotlib 3.7 and will be removed two minor releases later. Use ``matplotlib.colormaps[name]`` or ``matplotlib.colormaps.get_cmap(obj)`` instead.\n",
      "  cmap = cm.get_cmap('viridis', len(unique_cas))    # n discrete colors\n"
     ]
    },
    {
     "name": "stdout",
     "output_type": "stream",
     "text": [
      "<bound method Series.unique of 0       L1_5HT3aR\n",
      "1       L1_5HT3aR\n",
      "2      L23_5HT3aR\n",
      "3      L23_5HT3aR\n",
      "4         L23_EXC\n",
      "          ...    \n",
      "199        L6_EXC\n",
      "200         L6_PV\n",
      "201         L6_PV\n",
      "202        L6_SST\n",
      "203        L6_SST\n",
      "Name: neuron_class, Length: 204, dtype: category\n",
      "Categories (25, object): ['ALL', 'ALL_EXC', 'ALL_INH', 'L1_5HT3aR', ..., 'L6_EXC', 'L6_INH', 'L6_PV', 'L6_SST']>\n"
     ]
    },
    {
     "name": "stderr",
     "output_type": "stream",
     "text": [
      "/nvme/isbister/1685979/ipykernel_195229/1583705592.py:18: MatplotlibDeprecationWarning: The get_cmap function was deprecated in Matplotlib 3.7 and will be removed two minor releases later. Use ``matplotlib.colormaps[name]`` or ``matplotlib.colormaps.get_cmap(obj)`` instead.\n",
      "  cmap = cm.get_cmap('viridis', len(unique_cas))    # n discrete colors\n"
     ]
    },
    {
     "name": "stdout",
     "output_type": "stream",
     "text": [
      "<bound method Series.unique of 0       L1_5HT3aR\n",
      "1       L1_5HT3aR\n",
      "2      L23_5HT3aR\n",
      "3      L23_5HT3aR\n",
      "4         L23_EXC\n",
      "          ...    \n",
      "199        L6_EXC\n",
      "200         L6_PV\n",
      "201         L6_PV\n",
      "202        L6_SST\n",
      "203        L6_SST\n",
      "Name: neuron_class, Length: 204, dtype: category\n",
      "Categories (25, object): ['ALL', 'ALL_EXC', 'ALL_INH', 'L1_5HT3aR', ..., 'L6_EXC', 'L6_INH', 'L6_PV', 'L6_SST']>\n"
     ]
    },
    {
     "name": "stderr",
     "output_type": "stream",
     "text": [
      "/nvme/isbister/1685979/ipykernel_195229/1583705592.py:18: MatplotlibDeprecationWarning: The get_cmap function was deprecated in Matplotlib 3.7 and will be removed two minor releases later. Use ``matplotlib.colormaps[name]`` or ``matplotlib.colormaps.get_cmap(obj)`` instead.\n",
      "  cmap = cm.get_cmap('viridis', len(unique_cas))    # n discrete colors\n"
     ]
    },
    {
     "name": "stdout",
     "output_type": "stream",
     "text": [
      "<bound method Series.unique of 0       L1_5HT3aR\n",
      "1       L1_5HT3aR\n",
      "2      L23_5HT3aR\n",
      "3      L23_5HT3aR\n",
      "4         L23_EXC\n",
      "          ...    \n",
      "199        L6_EXC\n",
      "200         L6_PV\n",
      "201         L6_PV\n",
      "202        L6_SST\n",
      "203        L6_SST\n",
      "Name: neuron_class, Length: 204, dtype: category\n",
      "Categories (25, object): ['ALL', 'ALL_EXC', 'ALL_INH', 'L1_5HT3aR', ..., 'L6_EXC', 'L6_INH', 'L6_PV', 'L6_SST']>\n"
     ]
    },
    {
     "name": "stderr",
     "output_type": "stream",
     "text": [
      "/nvme/isbister/1685979/ipykernel_195229/1583705592.py:18: MatplotlibDeprecationWarning: The get_cmap function was deprecated in Matplotlib 3.7 and will be removed two minor releases later. Use ``matplotlib.colormaps[name]`` or ``matplotlib.colormaps.get_cmap(obj)`` instead.\n",
      "  cmap = cm.get_cmap('viridis', len(unique_cas))    # n discrete colors\n"
     ]
    },
    {
     "name": "stdout",
     "output_type": "stream",
     "text": [
      "Custom post analysis:  0\n",
      "Custom post analysis:  2\n",
      "Custom post analysis:  4\n",
      "Custom post analysis:  8\n",
      "Custom post analysis:  6\n",
      "Custom post analysis:  10\n"
     ]
    }
   ],
   "source": [
    "import matplotlib.pyplot as plt\n",
    "from scipy.stats import linregress\n",
    "from matplotlib import cm\n",
    "import numpy as np\n",
    "\n",
    "\n",
    "############################################################################ \n",
    "### Compare two conditons by neuron class\n",
    "############################################################################ \n",
    "def plot_two_conditions_comparison_by_neuron_class(df1, df2, stat_key_1, stat_key_2, colour_key, comparison_pair, fig_path, fit_and_plot_exponential=False, neuron_classes=c_etl.LAYER_EI_NEURON_CLASSES):\n",
    "\n",
    "    df1 = df1.etl.q(depol_stdev_mean_ratio=[0.2, 0.3, 0.4, 0.5])\n",
    "    df2 = df2.etl.q(depol_stdev_mean_ratio=[0.2, 0.3, 0.4, 0.5])\n",
    "\n",
    "    fig, axes = plt.subplots(1, len(neuron_classes), figsize=(24, 2))\n",
    "\n",
    "    unique_cas = df1[colour_key].unique()\n",
    "    cmap = cm.get_cmap('viridis', len(unique_cas))    # n discrete colors\n",
    "\n",
    "    slope_dict = {}\n",
    "    for ax_i, ax, neuron_class in zip(list(range(len(axes))), axes, neuron_classes):\n",
    "        nc_df1 = df1.etl.q(neuron_class=neuron_class)\n",
    "        nc_df2 = df2.etl.q(neuron_class=neuron_class)\n",
    "\n",
    "        limit_filter = False\n",
    "        if (limit_filter):\n",
    "            nc_df2[\"invivo_fr\"] = nc_df2['desired_connected_fr'] / nc_df2['desired_connected_proportion_of_invivo_frs']\n",
    "            where_good = nc_df2['mean_of_mean_firing_rates_per_second'] < nc_df2['invivo_fr'] * 1.05\n",
    "            nc_df2 = nc_df2[where_good]\n",
    "            nc_df1 = nc_df1[where_good]\n",
    "\n",
    "        stat1 = nc_df1[stat_key_1].to_numpy()\n",
    "        stat2 = nc_df2[stat_key_2].to_numpy()\n",
    "\n",
    "        if (len(stat1) & len(stat2)):\n",
    "            if ((not np.all(stat1 == stat1[0])) & (not np.all(stat2 == stat2[0]))):\n",
    "                slope_dict[c_etl.bluepy_neuron_class_map[neuron_class]] = np.around(linregress(stat1, stat2).slope, 3)\n",
    "\n",
    "\n",
    "        ca_x_range_maxes = []\n",
    "        for ca in nc_df1['ca'].unique():\n",
    "\n",
    "            c = cmap(list(unique_cas).index(ca))\n",
    "\n",
    "            ca_nc_df1 = nc_df1.etl.q(ca=ca)\n",
    "            ca_nc_df2 = nc_df2.etl.q(ca=ca)\n",
    "\n",
    "            ca_stat1 = ca_nc_df1[stat_key_1].to_numpy()\n",
    "            ca_stat2 = ca_nc_df2[stat_key_2].to_numpy()\n",
    "\n",
    "            ignore_basline_samples = False\n",
    "            if (ignore_basline_samples):\n",
    "                if (neuron_class in [\"L23_INH\", \"L4_INH\"]):\n",
    "                    if (neuron_class == \"L23_INH\"):\n",
    "                        baseline = 0.2\n",
    "\n",
    "                    if (neuron_class == \"L4_INH\"):\n",
    "                        baseline = 0.16\n",
    "\n",
    "                    where_above = ca_stat2 > baseline\n",
    "                    if (len(ca_stat1[where_above]) > 2):\n",
    "\n",
    "                        ca_stat1 = ca_stat1[where_above]\n",
    "                        ca_stat2 = ca_stat2[where_above]\n",
    "\n",
    "\n",
    "\n",
    "            if (len(ca_stat1) & len(ca_stat2)):\n",
    "\n",
    "                if ((not np.all(ca_stat1 == ca_stat1[0])) & (not np.all(ca_stat2 == ca_stat2[0]))):\n",
    "\n",
    "                    ca_lr = linregress(ca_stat1, ca_stat2)\n",
    "                    ca_lr_slope = np.around(ca_lr.slope, 3)\n",
    "\n",
    "                    ca_x_range = np.arange(start=0.0, stop=ca_stat1.max(), step=0.005, dtype=float)\n",
    "                    ca_y_range = ca_lr_slope * ca_x_range + ca_lr.intercept\n",
    "\n",
    "                    if (fit_and_plot_exponential):\n",
    "                        if (len(ca_stat1) > 2):\n",
    "                            expon, expon_error = c_etl.fit_exponential(ca_stat1, ca_stat2)\n",
    "            \n",
    "                            step = 0.005\n",
    "                            ca_x_range = np.arange(start=step, stop=ca_stat1.max() + step, step=step, dtype=float)\n",
    "                            ca_x_range_maxes.append(np.max(ca_x_range))\n",
    "\n",
    "                            ca_y_range = expon[0] * np.exp(expon[1] * ca_x_range) + expon[2]\n",
    "                            ax.plot(ca_x_range, ca_y_range, color=c, lw=.5)\n",
    "\n",
    "\n",
    "\n",
    "                    ax.set_xlim([0.0, np.max([stat1.max(), stat2.max()])])\n",
    "\n",
    "            ax.scatter(ca_stat1, ca_stat2, color=c, s=2)    \n",
    "        \n",
    "        ax.set_title(neuron_class)\n",
    "\n",
    "        if (len(stat1) > 0):\n",
    "            maxes = [stat1.max(), stat2.max()]\n",
    "            if 'ca_x_range_maxes' in locals():\n",
    "                if (len(ca_x_range_maxes)):\n",
    "                    maxes.append(np.max(ca_x_range_maxes))\n",
    "\n",
    "            lims = [\n",
    "            0.0,  # min of both axes\n",
    "            np.max(maxes),  # max of both axes\n",
    "            ]\n",
    "            lims[1] = lims[1] * 1.1\n",
    "\n",
    "            # now plot both limits against eachother\n",
    "            ax.plot(lims, lims, 'k--', alpha=0.75, zorder=0, lw=0.5, dashes=(5, 5))\n",
    "            ax.set_aspect('equal', 'box')\n",
    "            ax.spines.right.set_visible(False)\n",
    "            ax.spines.top.set_visible(False)\n",
    "            if (lims[0] != lims[1]):\n",
    "                ax.set_xlim(lims)\n",
    "                ax.set_ylim(lims)\n",
    "\n",
    "        ax.set_xlabel(comparison_pair[0] + ' MFR \\n(spikes/s)')\n",
    "        if (ax_i == 0):\n",
    "            ax.set_ylabel(comparison_pair[1] + ' MFR \\n(spikes/s)')\n",
    "\n",
    "    plt.savefig(fig_path, bbox_inches='tight')\n",
    "    plt.close()\n",
    "\n",
    "    return slope_dict\n",
    "\n",
    "def compare_firing_rates_for_condition_pairs_by_neuron_class(a, custom_by_neuron_class_df, stat_filter, fit_and_plot_exponential=False, neuron_classes=c_etl.LAYER_EI_NEURON_CLASSES):\n",
    "\n",
    "    for comparison_pair in a.analysis_config.custom['fr_comparison_pairs']:\n",
    "\n",
    "        if (len(comparison_pair) == 3):\n",
    "            fit_and_plot_exponential = comparison_pair[2]\n",
    "\n",
    "        stat_key_1 = 'mean_of_mean_firing_rates_per_second'; stat_key_2 = 'mean_of_mean_firing_rates_per_second'\n",
    "        window_key_1 = comparison_pair[0]; window_key_2 = comparison_pair[1]\n",
    "\n",
    "        window_key_placeholder = \"conn_spont\"\n",
    "\n",
    "        prespecified_keys = ['predicted_fr', \n",
    "                             'adjusted_unconnected_target_fr', \n",
    "                             'desired_connected_fr', \n",
    "                             'desired_unconnected_fr', \n",
    "                             'connection_fr_increase', \n",
    "                             'connection_fr_error', \n",
    "                             'recorded_proportion_of_in_vivo_FR', \n",
    "                             'desired_connected_proportion_of_invivo_frs']\n",
    "        \n",
    "        if (comparison_pair[0] in prespecified_keys):\n",
    "            stat_key_1 = comparison_pair[0]\n",
    "            window_key_1 = window_key_placeholder\n",
    "        if (comparison_pair[1] in prespecified_keys):\n",
    "            stat_key_2 = comparison_pair[1]\n",
    "            window_key_2 = window_key_placeholder\n",
    "            \n",
    "        df1 = custom_by_neuron_class_df.etl.q(window=window_key_1, neuron_class=neuron_classes)\n",
    "        df2 = custom_by_neuron_class_df.etl.q(window=window_key_2, neuron_class=neuron_classes)\n",
    "\n",
    "        label = ''\n",
    "        if (len(list(stat_filter.keys()))):\n",
    "            df1 = df1.etl.q(stat_filter)\n",
    "            df2 = df2.etl.q(stat_filter)\n",
    "\n",
    "            label = list(stat_filter.keys())[0]\n",
    "            \n",
    "        plt.figure()\n",
    "        plt.scatter(df1[stat_key_1], df2[stat_key_2], c=df1['ca'], s=2.)\n",
    "        fn = 'frs_' + comparison_pair[0] + '_VS_' + comparison_pair[1] + '_' + label + '.pdf'\n",
    "        plt.savefig(str(a.figpaths.fr_condition_comparisons) + '/' + fn, bbox_inches='tight')\n",
    "        plt.close()\n",
    "\n",
    "\n",
    "        slope_dict = plot_two_conditions_comparison_by_neuron_class(df1, \n",
    "                                                    df2, \n",
    "                                                    stat_key_1, \n",
    "                                                    stat_key_2, \n",
    "                                                    'ca',\n",
    "                                                    comparison_pair, \n",
    "                                                    str(a.figpaths.fr_condition_comparisons) + '/' + 'nc_frs_' + comparison_pair[0] + '_VS_' + comparison_pair[1] + '_' + label + '.pdf',\n",
    "                                                    fit_and_plot_exponential=fit_and_plot_exponential,\n",
    "                                                    neuron_classes=neuron_classes)\n",
    "\n",
    "LAYER_E_AND_I_SUB_POP_NEURON_CLASSES = [\"L1_5HT3aR\",\n",
    "                                        \"L23_EXC\",  \"L23_PV\", \"L23_SST\", \"L23_5HT3aR\", \n",
    "                                        \"L4_EXC\", \"L4_PV\", \"L4_SST\", \"L4_5HT3aR\", \n",
    "                                        \"L5_EXC\", \"L5_PV\", \"L5_SST\", \"L5_5HT3aR\", \n",
    "                                        \"L6_EXC\", \"L6_PV\", \"L6_SST\", \"L6_5HT3aR\"]\n",
    "for filter_label, filter_dict in [(\"\", {}), (\"NonBurstingBelowVivoThreshold\", {\"bursting_or_fr_above_threshold\": False})]:\n",
    "    compare_firing_rates_for_condition_pairs_by_neuron_class(a, a.custom['custom_features_by_neuron_class'], filter_dict, neuron_classes=LAYER_E_AND_I_SUB_POP_NEURON_CLASSES)"
   ]
  },
  {
   "cell_type": "code",
   "execution_count": null,
   "metadata": {},
   "outputs": [],
   "source": [
    "c_etl.__dict__['LAYER_EI_NEURON_CLASSES']"
   ]
  },
  {
   "cell_type": "code",
   "execution_count": null,
   "metadata": {},
   "outputs": [],
   "source": []
  },
  {
   "cell_type": "code",
   "execution_count": null,
   "metadata": {},
   "outputs": [],
   "source": []
  }
 ],
 "metadata": {
  "kernelspec": {
   "display_name": "cortex_etl_jupyter_04_01_23",
   "language": "python",
   "name": "cortex_etl_jupyter_04_01_23"
  },
  "language_info": {
   "codemirror_mode": {
    "name": "ipython",
    "version": 3
   },
   "file_extension": ".py",
   "mimetype": "text/x-python",
   "name": "python",
   "nbconvert_exporter": "python",
   "pygments_lexer": "ipython3",
   "version": "3.10.8"
  }
 },
 "nbformat": 4,
 "nbformat_minor": 4
}
