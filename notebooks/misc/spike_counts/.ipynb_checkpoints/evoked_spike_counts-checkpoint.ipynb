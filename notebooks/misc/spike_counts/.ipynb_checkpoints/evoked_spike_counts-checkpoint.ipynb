{
 "cells": [
  {
   "cell_type": "code",
   "execution_count": 1,
   "metadata": {},
   "outputs": [],
   "source": [
    "import matplotlib.pyplot as plt\n",
    "import numpy as np\n",
    "import sys\n",
    "sys.path.append('../..')\n",
    "import cortexetl as c_etl"
   ]
  },
  {
   "cell_type": "code",
   "execution_count": 6,
   "metadata": {},
   "outputs": [
    {
     "name": "stderr",
     "output_type": "stream",
     "text": [
      "2024-08-03 08:31:36,446 INFO blueetl.analysis: MultiAnalyzer configuration: /gpfs/bbp.cscs.ch/project/proj83/home/isbister/physiology_2023/cortexetl/configs/post_physiology_2023/campaigns/spikesorting_stimulus_tests/14_spikesorting_stimulus_SCAN_POM2_VPMHigherFR_neuropixels_2-8-24.yaml\n",
      "2024-08-03 08:31:36,561 INFO blueetl.cache: Loading cached checksums from /gpfs/bbp.cscs.ch/project/proj83/home/isbister/post_physiology_2023/cortex_etl_output/campaigns/spikesorting_stimulus_tests/14_spikesorting_stimulus_SCAN_POM2_VPMHigherFR_neuropixels_2-8-24__8slc_0r_10t_200ms_0/array0/config/checksums.cached.yaml\n",
      "2024-08-03 08:31:36,565 INFO blueetl.cache: Initialize cache\n",
      "2024-08-03 08:31:36,606 INFO blueetl.cache: Loading cached checksums from /gpfs/bbp.cscs.ch/project/proj83/home/isbister/post_physiology_2023/cortex_etl_output/campaigns/spikesorting_stimulus_tests/14_spikesorting_stimulus_SCAN_POM2_VPMHigherFR_neuropixels_2-8-24__8slc_0r_10t_200ms_0/hex0_spikes/config/checksums.cached.yaml\n",
      "2024-08-03 08:31:36,609 INFO blueetl.cache: Initialize cache\n",
      "2024-08-03 08:31:36,627 WARNING bluepy_configfile.configfile: Have keys ({'desired_connected_fr_L4E', 'desired_connected_fr_L6E', 'desired_unconnected_fr_L23E', 'desired_connected_fr_L23I', 'depol_stdev_mean_ratio', 'LFPWeightsPath', 'desired_connected_fr_L23E', 'desired_connected_fr_L6I', 'desired_unconnected_fr_L6I', 'desired_unconnected_fr_L4E', 'desired_connected_fr_L4I', 'desired_connected_fr_L1I', 'desired_connected_proportion_of_invivo_frs', 'desired_unconnected_fr_L23I', 'desired_unconnected_fr_L5E', 'desired_connected_fr_L5E', 'desired_connected_fr_L5I', 'desired_unconnected_fr_L1I', 'desired_unconnected_fr_L6E', 'desired_unconnected_fr_L4I', 'desired_unconnected_fr_L5I'}) that are not defined for section: Run\n",
      "2024-08-03 08:31:36,631 INFO blueetl.extract.simulations: Simulations ignored because missing: 0\n",
      "2024-08-03 08:31:36,631 INFO blueetl.extract.simulations: Simulations ignored because incomplete: 0\n",
      "2024-08-03 08:31:36,632 INFO blueetl.extract.simulations: Simulations filtered out: 0, with query: None\n",
      "2024-08-03 08:31:36,632 INFO blueetl.extract.simulations: Simulations extracted: 1/1, ids: [0]\n",
      "2024-08-03 08:31:36,677 WARNING bluepy_configfile.configfile: Have keys ({'desired_connected_fr_L4E', 'desired_connected_fr_L6E', 'desired_unconnected_fr_L23E', 'desired_connected_fr_L23I', 'depol_stdev_mean_ratio', 'LFPWeightsPath', 'desired_connected_fr_L23E', 'desired_connected_fr_L6I', 'desired_unconnected_fr_L6I', 'desired_unconnected_fr_L4E', 'desired_connected_fr_L4I', 'desired_connected_fr_L1I', 'desired_connected_proportion_of_invivo_frs', 'desired_unconnected_fr_L23I', 'desired_unconnected_fr_L5E', 'desired_connected_fr_L5E', 'desired_connected_fr_L5I', 'desired_unconnected_fr_L1I', 'desired_unconnected_fr_L6E', 'desired_unconnected_fr_L4I', 'desired_unconnected_fr_L5I'}) that are not defined for section: Run\n",
      "2024-08-03 08:31:36,682 INFO blueetl.extract.simulations: Simulations ignored because missing: 0\n",
      "2024-08-03 08:31:36,682 INFO blueetl.extract.simulations: Simulations ignored because incomplete: 0\n",
      "2024-08-03 08:31:36,683 INFO blueetl.extract.simulations: Simulations filtered out: 0, with query: None\n",
      "2024-08-03 08:31:36,683 INFO blueetl.extract.simulations: Simulations extracted: 1/1, ids: [0]\n",
      "2024-08-03 08:31:36,737 INFO blueetl.features: Step 1: grouping features by attributes...\n",
      "2024-08-03 08:31:36,738 INFO blueetl.features: Preprocessing features 1/1 [id=0]\n",
      "2024-08-03 08:31:36,738 INFO blueetl.features: Step 1: grouping features by attributes [DONE in 0.00 seconds]\n",
      "2024-08-03 08:31:36,739 INFO blueetl.features: Step 2: processing cached features...\n",
      "2024-08-03 08:31:37,117 INFO blueetl.features: Calculated features 1/1 [id=0]\n",
      "- by_gid: cached=True, filtered=False\n",
      "- by_gid_and_trial: cached=True, filtered=False\n",
      "- by_neuron_class: cached=True, filtered=False\n",
      "- by_neuron_class_and_trial: cached=True, filtered=False\n",
      "- histograms: cached=True, filtered=False\n",
      "2024-08-03 08:31:37,117 INFO blueetl.features: Step 2: processing cached features [DONE in 0.38 seconds]\n",
      "2024-08-03 08:31:37,118 INFO blueetl.features: Step 3: processing new features...\n",
      "2024-08-03 08:31:37,118 INFO blueetl.features: Step 3: processing new features [DONE in 0.00 seconds]\n",
      "2024-08-03 08:31:37,119 INFO blueetl.features: Features calculation completed\n",
      "2024-08-03 08:31:37,216 INFO blueetl.features: Step 1: grouping features by attributes...\n",
      "2024-08-03 08:31:37,217 INFO blueetl.features: Preprocessing features 1/1 [id=0]\n",
      "2024-08-03 08:31:37,218 INFO blueetl.features: Step 1: grouping features by attributes [DONE in 0.00 seconds]\n",
      "2024-08-03 08:31:37,218 INFO blueetl.features: Step 2: processing cached features...\n",
      "2024-08-03 08:31:37,396 INFO blueetl.features: Calculated features 1/1 [id=0]\n",
      "- by_gid: cached=True, filtered=False\n",
      "- by_gid_and_trial: cached=True, filtered=False\n",
      "- by_neuron_class: cached=True, filtered=False\n",
      "- by_neuron_class_and_trial: cached=True, filtered=False\n",
      "- histograms: cached=True, filtered=False\n",
      "2024-08-03 08:31:37,397 INFO blueetl.features: Step 2: processing cached features [DONE in 0.18 seconds]\n",
      "2024-08-03 08:31:37,397 INFO blueetl.features: Step 3: processing new features...\n",
      "2024-08-03 08:31:37,398 INFO blueetl.features: Step 3: processing new features [DONE in 0.00 seconds]\n",
      "2024-08-03 08:31:37,398 INFO blueetl.features: Features calculation completed\n"
     ]
    }
   ],
   "source": [
    "# Physiology paper scan\n",
    "# config_path = \"/gpfs/bbp.cscs.ch/project/proj83/home/isbister/physiology_2023/cortexetl/configs/3-ThalamicStimuli/3-ThalamicStimuli-MegaScan2Scalings.yaml\"\n",
    "# nc_key = \"hex0_spikes\"\n",
    "# window_key = \"evoked_SOZ_100ms\"\n",
    "# vpm_key = \"vpm_pct\"\n",
    "# shared_y_lim_max = 1000000\n",
    "\n",
    "\n",
    "# # Pizza cut scan, ITI 200ms\n",
    "# config_path = \"/gpfs/bbp.cscs.ch/project/proj83/home/isbister/physiology_2023/cortexetl/configs/post_physiology_2023/campaigns/spikesorting_stimulus_tests/10_spikesorting_stimulus_SCAN_neuropixels_12-6-24__8slc_0r_10t_200ms_0.yaml\"\n",
    "# analyzer_key = \"hex0_spikes\"\n",
    "# nc_key = \"ALL\"\n",
    "# window_key = \"evoked_SOZ_100ms\"\n",
    "# vpm_key = \"vpm_num_fibres\"\n",
    "\n",
    "\n",
    "# # Pizza cut scan, ITI 200ms, 250 repetitions (ORIGINAL, NOT ENOUGH 2ND SPIKES)\n",
    "# config_path = \"/gpfs/bbp.cscs.ch/project/proj83/home/isbister/physiology_2023/cortexetl/configs/post_physiology_2023/campaigns/spikesorting_stimulus_tests/8_spikesorting_stimulus_test_neuropixels_13-4-24__8slc_100f_72r_250t_200ms_0.yaml\"\n",
    "# analyzer_key = \"hex0_spikes\"\n",
    "# nc_key = \"ALL\"\n",
    "# window_key = \"evoked_SOZ_100ms\"\n",
    "# vpm_key = \"vpm_num_fibres\"\n",
    "\n",
    "\n",
    "# # Pizza cut scan, ITI 200ms, 250 repetitions (NEW)\n",
    "# config_path = \"/gpfs/bbp.cscs.ch/project/proj83/home/isbister/physiology_2023/cortexetl/configs/post_physiology_2023/campaigns/spikesorting_stimulus_tests/11_spikesorting_stimulus_test_neuropixels_16-7-24__8slc_100f_72r_250t_200ms_0.yaml\"\n",
    "# analyzer_key = \"hex0_spikes\"\n",
    "# nc_key = \"ALL\"\n",
    "# window_key = \"evoked_SOZ_100ms\"\n",
    "# vpm_key = \"vpm_num_fibres\"\n",
    "\n",
    "\n",
    "# # Pizza cut POM TEST, ITI 200ms,\n",
    "# config_path = \"/gpfs/bbp.cscs.ch/project/proj83/home/isbister/physiology_2023/cortexetl/configs/post_physiology_2023/campaigns/spikesorting_stimulus_tests/12_spikesorting_stimulus_SCAN_POM_neuropixels_2-8-24__8slc_0r_10t_200ms_0.yaml\"\n",
    "# analyzer_key = \"hex0_spikes\"\n",
    "# nc_key = \"ALL\"\n",
    "# window_key = \"evoked_SOZ_100ms\"\n",
    "# vpm_key = \"vpm_num_fibres\"\n",
    "\n",
    "# # Pizza cut POM TEST, ITI 200ms,\n",
    "# config_path = \"/gpfs/bbp.cscs.ch/project/proj83/home/isbister/physiology_2023/cortexetl/configs/post_physiology_2023/campaigns/spikesorting_stimulus_tests/13_spikesorting_stimulus_SCAN_POM2_neuropixels_2-8-24__8slc_0r_10t_200ms_0.yaml\"\n",
    "# analyzer_key = \"hex0_spikes\"\n",
    "# nc_key = \"ALL\"\n",
    "# window_key = \"evoked_SOZ_100ms\"\n",
    "# vpm_key = \"vpm_num_fibres\"\n",
    "\n",
    "# # Pizza cut POM TEST, ITI 200ms,\n",
    "# config_path = \"/gpfs/bbp.cscs.ch/project/proj83/home/isbister/physiology_2023/cortexetl/configs/post_physiology_2023/campaigns/spikesorting_stimulus_tests/14_spikesorting_stimulus_SCAN_POM2_VPMHigherFR_neuropixels_2-8-24.yaml\"\n",
    "# analyzer_key = \"hex0_spikes\"\n",
    "# nc_key = \"ALL\"\n",
    "# window_key = \"evoked_SOZ_100ms\"\n",
    "# vpm_key = \"vpm_num_fibres\"\n",
    "\n",
    "# Pizza cut POM TEST, ITI 200ms,\n",
    "config_path = \"/gpfs/bbp.cscs.ch/project/proj83/home/isbister/physiology_2023/cortexetl/configs/post_physiology_2023/campaigns/spikesorting_stimulus_tests/15_spikesorting_stimulus_SCAN_POMHigherFR_VPMLowerFR_neuropixels_2-8-24/15_spikesorting_stimulus_SCAN_POMHigherFR_VPMLowerFR_neuropixels_2-8-24.yaml\"\n",
    "analyzer_key = \"hex0_spikes\"\n",
    "nc_key = \"ALL\"\n",
    "window_key = \"evoked_SOZ_100ms\"\n",
    "vpm_key = \"vpm_num_fibres\"\n",
    "\n",
    "\n",
    "ma = c_etl.analysis_initial_processing(config_path)\n",
    "a = ma.analyzers[analyzer_key]"
   ]
  },
  {
   "cell_type": "code",
   "execution_count": null,
   "metadata": {},
   "outputs": [],
   "source": [
    "c_etl.plot_rasters(a)"
   ]
  },
  {
   "cell_type": "markdown",
   "metadata": {},
   "source": [
    "# Plot reliabilities"
   ]
  },
  {
   "cell_type": "code",
   "execution_count": null,
   "metadata": {},
   "outputs": [],
   "source": [
    "# reliable_gids = a.features.by_gid.df.etl.q(simulation_id=1, did_spike_reliability={\"ge\": 0.1}).reset_index()['gid']\n",
    "# print(reliable_gids)\n",
    "\n",
    "# simulation_id=0, neuron_class=\"ALL\", window=\"evoked_SOZ_100ms\"\n",
    "# plt.figure()\n",
    "# plt.hist(a.features.by_gid.df.etl.q(did_spike_reliability={\"ge\": 0.1})[\"did_spike_reliability\"])\n",
    "# plt.show()\n",
    "# plt.close()"
   ]
  },
  {
   "cell_type": "code",
   "execution_count": null,
   "metadata": {},
   "outputs": [],
   "source": [
    "log = True\n",
    "# bins = np.arange(-0.1, 10.9, 1.0)\n",
    "bins = np.arange(0.9, 10.9, 1.0)\n",
    "\n",
    "second_over_first_props = []\n",
    "\n",
    "window_by_gid_and_trial = a.features.by_gid_and_trial.df.etl.q(window=window_key, neuron_class=nc_key)\n",
    "for _, simulation_row in a.repo.simulations.df.iterrows():\n",
    "\n",
    "#     print(simulation_row)\n",
    "    \n",
    "    plt.figure(figsize=(2,2))\n",
    "    ax = plt.gca()\n",
    "    counts, _, _ = ax.hist(window_by_gid_and_trial.etl.q(simulation_id=simulation_row['simulation_id'])['count'], color='g', log=log, bins=bins)\n",
    "    second_over_first_prop = counts[1] / counts[0]\n",
    "    rest_over_first_prop = np.sum(counts[1:]) / counts[0]\n",
    "    print(second_over_first_prop, rest_over_first_prop)\n",
    "    second_over_first_props.append(second_over_first_prop)\n",
    "    ax.set_xlabel('Count')\n",
    "    ax.set_title(simulation_row['simulation_string'])\n",
    "    ax.set_xlim([0, 10])\n",
    "#     ax.set_ylim([0, shared_y_lim_max])\n",
    "\n",
    "    plt.tight_layout()\n",
    "#     plt.savefig(outdir + \"spike_counts.pdf\")\n",
    "#     plt.show(); \n",
    "    plt.close()\n",
    "   \n",
    "a.repo.simulations.df['second_over_first_props'] = second_over_first_props\n",
    "print(a.repo.simulations.df['second_over_first_props'])"
   ]
  },
  {
   "cell_type": "code",
   "execution_count": null,
   "metadata": {},
   "outputs": [],
   "source": [
    "# vpm_num_fibres\n",
    "\n",
    "c_etl.heatmap(a.repo.simulations.df, 'second_over_first_props', '', hor_key=\"ca\", ver_key=vpm_key, x_key=\"desired_connected_proportion_of_invivo_frs\", y_key=\"depol_stdev_mean_ratio\")\n"
   ]
  },
  {
   "cell_type": "code",
   "execution_count": null,
   "metadata": {},
   "outputs": [],
   "source": [
    "window_by_gid_and_trial = a.features.by_gid_and_trial.df.etl.q(window=window_key, neuron_class=nc_key)\n",
    "print(window_by_gid_and_trial.columns)\n",
    "\n",
    "window_by_gid_and_trial['more_than_1_spike'] = (window_by_gid_and_trial['count'] > 1).astype(int)\n",
    "\n",
    "bins = np.arange(0.9, 250.9, 10.0)\n",
    "# bins = np.arange(-0.1, 10.9, 1.0)\n",
    "\n",
    "for _, simulation_row in a.repo.simulations.df.iterrows():\n",
    "\n",
    "    print(simulation_row['simulation_string'])\n",
    "    \n",
    "    plt.figure(figsize=(6,6))\n",
    "    ax = plt.gca()\n",
    "\n",
    "    \n",
    "    sim_window_by_gid_and_trial = window_by_gid_and_trial.etl.q(simulation_id=simulation_row['simulation_id'])\n",
    "    \n",
    "    counts_sim_window_by_gid_and_trial = sim_window_by_gid_and_trial.groupby([\"gid\"]).sum()['more_than_1_spike']\n",
    "    print(counts_sim_window_by_gid_and_trial)\n",
    "    \n",
    "    _, _, _ = ax.hist(counts_sim_window_by_gid_and_trial, bins=bins, color='g', log=True)\n",
    "    \n",
    "#     plt.gca().set_ylim([0,4000])\n",
    "    \n",
    "    plt.show()\n",
    "    plt.close()\n",
    "    "
   ]
  },
  {
   "cell_type": "code",
   "execution_count": 8,
   "metadata": {},
   "outputs": [
    {
     "name": "stdout",
     "output_type": "stream",
     "text": [
      "(1.05, 0.3, 0.4, 40)\n",
      "5.089087821306237\n"
     ]
    },
    {
     "data": {
      "image/png": "[encoded data removed]",
      "text/plain": [
       "<Figure size 200x200 with 1 Axes>"
      ]
     },
     "metadata": {},
     "output_type": "display_data"
    }
   ],
   "source": [
    "density = False\n",
    "bin_size = 2\n",
    "\n",
    "greater_than_t = 0\n",
    "# greater_than_t = 20\n",
    "earlier_than_t = 100\n",
    "\n",
    "\n",
    "for _, simulation_row in a.repo.simulations.df.iterrows():\n",
    "\n",
    "    print(simulation_row['simulation_string'])\n",
    "    \n",
    "    plt.figure(figsize=(2,2))\n",
    "    ax = plt.gca()\n",
    "    \n",
    "    reliable_gids = a.features.by_gid.df.etl.q(simulation_id=simulation_row[\"simulation_id\"], window=window_key, neuron_class=nc_key, did_spike_reliability={\"ge\": 0.0}).reset_index()['gid']\n",
    "    \n",
    "    window_by_gid_and_trial = a.features.by_gid_and_trial.df.reset_index().etl.q(simulation_id=simulation_row[\"simulation_id\"], window=window_key, neuron_class=nc_key, gid=reliable_gids).etl.q(count={\"ge\": 1}, first={\"ge\": greater_than_t, \"lt\": earlier_than_t})\n",
    "    first_spikes = window_by_gid_and_trial[\"first\"]\n",
    "    _, _, _ = ax.hist(first_spikes, density=density, histtype=\"step\", color='b', linestyle='--', bins=np.arange(greater_than_t, earlier_than_t, bin_size))\n",
    "    \n",
    "    spikes_df = a.repo.report.df.etl.q(simulation_id=simulation_row[\"simulation_id\"], neuron_class=nc_key, window=window_key, gid=reliable_gids, time={\"ge\": greater_than_t, \"lt\": earlier_than_t})\n",
    "    all_spikes = spikes_df.time\n",
    "    _, _, _ = ax.hist(all_spikes, density=density, histtype=\"step\", color='k', linestyle='-', bins=np.arange(greater_than_t, earlier_than_t, bin_size))\n",
    "    \n",
    "    print(100.0 * (len(all_spikes) - len(first_spikes)) / len(all_spikes))\n",
    "    \n",
    "    plt.show(); plt.close()\n",
    "    "
   ]
  },
  {
   "cell_type": "code",
   "execution_count": 7,
   "metadata": {},
   "outputs": [
    {
     "name": "stdout",
     "output_type": "stream",
     "text": [
      "(1.05, 0.3, 0.4, 40)\n"
     ]
    },
    {
     "data": {
      "image/png": "[encoded data removed]",
      "text/plain": [
       "<Figure size 600x600 with 1 Axes>"
      ]
     },
     "metadata": {},
     "output_type": "display_data"
    }
   ],
   "source": [
    "\n",
    "# print(a.features.by_gid.df)\n",
    "# print(a.repo.report.df)\n",
    "density=False\n",
    "bin_size=5\n",
    "for _, simulation_row in a.repo.simulations.df.iterrows():\n",
    "\n",
    "    print(simulation_row['simulation_string'])\n",
    "    \n",
    "    \n",
    "    \n",
    "    reliable_gids = a.features.by_gid.df.etl.q(simulation_id=simulation_row[\"simulation_id\"], window=window_key, neuron_class=nc_key, did_spike_reliability={\"ge\": 0.0}).reset_index()['gid']\n",
    "    \n",
    "#     window_by_gid_and_trial = a.features.by_gid_and_trial.df.reset_index().etl.q(simulation_id=simulation_row[\"simulation_id\"], window=window_key, neuron_class=nc_key, gid=reliable_gids).etl.q(count={\"ge\": 1}, first={\"ge\": greater_than_t, \"lt\": earlier_than_t})\n",
    "#     first_spikes = window_by_gid_and_trial[\"first\"]\n",
    "#     _, _, _ = ax.hist(first_spikes, density=density, histtype=\"step\", color='b', linestyle='--', bins=np.arange(greater_than_t, earlier_than_t, bin_size))\n",
    "    \n",
    "    spikes_df = a.repo.report.df.etl.q(simulation_id=simulation_row[\"simulation_id\"], neuron_class=nc_key, window=window_key, gid=reliable_gids, time={\"ge\": greater_than_t, \"lt\": earlier_than_t})\n",
    "    spikes_df = spikes_df.sort_values(['gid', 'trial', 'time'])\n",
    "    spikes_df['order'] = np.concatenate([range(i) for i in spikes_df.groupby([\"gid\", \"trial\"])[\"time\"].count()])\n",
    "    \n",
    "    plt.figure(figsize=(6,6))\n",
    "    ax = plt.gca()\n",
    "    hist1, bin_edges = np.histogram(spikes_df.etl.q(order=0)[\"time\"], bins=np.arange(greater_than_t, earlier_than_t, bin_size), density=density)\n",
    "    hist2, bin_edges = np.histogram(spikes_df.etl.q(order=1)[\"time\"], bins=np.arange(greater_than_t, earlier_than_t, bin_size), density=density)\n",
    "    hist3, bin_edges = np.histogram(spikes_df.etl.q(order=2)[\"time\"], bins=np.arange(greater_than_t, earlier_than_t, bin_size), density=density)\n",
    "    hist4, bin_edges = np.histogram(spikes_df.etl.q(order=3)[\"time\"], bins=np.arange(greater_than_t, earlier_than_t, bin_size), density=density)\n",
    "    \n",
    "#     hist1 = hist1 / np.max(hist1)\n",
    "#     hist2 = hist2 / np.max(hist2)\n",
    "#     hist3 = hist3 / np.max(hist3)\n",
    "#     hist4 = hist4 / np.max(hist4)\n",
    "\n",
    "    bin_centers = (bin_edges[:-1] + bin_edges[1:]) / 2\n",
    "    \n",
    "    plt.plot(bin_centers, hist1, c='k')\n",
    "    plt.plot(bin_centers, hist2, c='b')\n",
    "    plt.plot(bin_centers, hist3, c='grey')\n",
    "#     plt.plot(bin_centers, hist4, c='orange')\n",
    "\n",
    "    break\n",
    "\n",
    "    "
   ]
  },
  {
   "cell_type": "code",
   "execution_count": 11,
   "metadata": {},
   "outputs": [
    {
     "data": {
      "image/png": "[encoded data removed]",
      "text/plain": [
       "<Figure size 640x480 with 1 Axes>"
      ]
     },
     "metadata": {},
     "output_type": "display_data"
    }
   ],
   "source": [
    "import numpy as np\n",
    "import matplotlib.pyplot as plt\n",
    "\n",
    "size = 60\n",
    "mu=1.65; sigma=0.22\n",
    "plt.figure()\n",
    "spike_times = np.random.lognormal(mu, sigma, size=size)\n",
    "plt.hist(spike_times, density=False, bins=np.arange(0, 100, 1))\n",
    "plt.gca().set_xlim([0, 100])\n",
    "# plt.show(); plt.close()\n",
    "\n",
    "size = 76*2\n",
    "mu=2.98; sigma=0.32\n",
    "# plt.figure()\n",
    "spike_times = np.random.lognormal(mu, sigma, size=size)\n",
    "plt.hist(spike_times, density=False, bins=np.arange(0, 100, 1))\n",
    "plt.gca().set_xlim([0, 100])\n",
    "plt.show(); plt.close()\n"
   ]
  },
  {
   "cell_type": "code",
   "execution_count": null,
   "metadata": {},
   "outputs": [],
   "source": []
  }
 ],
 "metadata": {
  "kernelspec": {
   "display_name": "cortex_etl_jupyter_04_01_23",
   "language": "python",
   "name": "cortex_etl_jupyter_04_01_23"
  },
  "language_info": {
   "codemirror_mode": {
    "name": "ipython",
    "version": 3
   },
   "file_extension": ".py",
   "mimetype": "text/x-python",
   "name": "python",
   "nbconvert_exporter": "python",
   "pygments_lexer": "ipython3",
   "version": "3.10.8"
  }
 },
 "nbformat": 4,
 "nbformat_minor": 4
}
