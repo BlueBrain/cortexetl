{
 "cells": [
  {
   "cell_type": "code",
   "execution_count": 1,
   "metadata": {},
   "outputs": [],
   "source": [
    "import cortex_etl as c_etl"
   ]
  },
  {
   "cell_type": "code",
   "execution_count": 2,
   "metadata": {},
   "outputs": [],
   "source": [
    "ma = c_etl.analysis_initial_processing(\"configs/2-PfrTransfer/2-PfrTransfer-6-3rdConnectionRemaining-etl3.yaml\", loglevel=\"ERROR\")\n",
    "\n",
    "# a_hex0 = ma.hex0_spikes\n",
    "# a_hexO1 = ma.hex_O1_spikes\n",
    "# c_etl.post_analysis(a_hex0)"
   ]
  },
  {
   "cell_type": "code",
   "execution_count": 14,
   "metadata": {},
   "outputs": [
    {
     "name": "stdout",
     "output_type": "stream",
     "text": [
      "\n",
      "----- Custom post analysis -----\n",
      "----- Custom post analysis complete: 19.40s -----\n"
     ]
    }
   ],
   "source": [
    "c_etl.post_analysis(a_hex0)"
   ]
  },
  {
   "cell_type": "code",
   "execution_count": null,
   "metadata": {},
   "outputs": [],
   "source": [
    "# a.custom['custom_features_by_neuron_class'][\"desired_connected_fr\"] = a.custom['custom_features_by_neuron_class'].apply(lambda row: a.repo.simulations.df.etl.q(simulation_id=row.simulation_id).iloc[0].simulation.__dict__['config'].Run[a.analysis_config.custom['desired_connected_fr_key'] + '_' + c_etl.bluepy_neuron_class_map[row.neuron_class]], axis = 1).astype(float)\n",
    "# KeyError: 'config'"
   ]
  },
  {
   "cell_type": "code",
   "execution_count": 17,
   "metadata": {},
   "outputs": [
    {
     "name": "stdout",
     "output_type": "stream",
     "text": [
      "Custom post analysis:  0\n",
      "Custom post analysis:  10\n",
      "Custom post analysis:  13\n",
      "Custom post analysis:  23\n",
      "Custom post analysis:  32\n",
      "Custom post analysis:  11\n",
      "Custom post analysis:  27\n",
      "Custom post analysis:  36\n",
      "Custom post analysis:  18\n",
      "Custom post analysis:  38\n",
      "Custom post analysis:  34\n",
      "Custom post analysis:  37\n",
      "Custom post analysis:  17\n",
      "Custom post analysis:  39\n",
      "Custom post analysis:  5\n",
      "Custom post analysis:  35\n",
      "Custom post analysis:  12\n",
      "Custom post analysis:  4\n",
      "Custom post analysis:  41\n",
      "Custom post analysis:  29\n",
      "Custom post analysis:  42\n",
      "Custom post analysis:  24\n",
      "Custom post analysis:  40\n",
      "Custom post analysis:  26\n",
      "Custom post analysis:  43\n",
      "Custom post analysis:  21\n",
      "Custom post analysis:  45\n",
      "Custom post analysis:  15\n",
      "Custom post analysis:  44\n",
      "Custom post analysis:  14\n",
      "Custom post analysis:  46\n",
      "Custom post analysis:  2\n",
      "Custom post analysis:  47\n"
     ]
    }
   ],
   "source": [
    "import bluepy\n",
    "a_hex0 = ma.hex0_spikes\n",
    "isinstance(a_hex0.repo.simulations.df.iloc[0].simulation.instance, bluepy.simulation.Simulation)\n",
    "a = a_hex0\n",
    "# a_hex0.repo.simulations.df.iloc[0].simulation.instance.__dict__['config'].Run"
   ]
  },
  {
   "cell_type": "code",
   "execution_count": 25,
   "metadata": {},
   "outputs": [
    {
     "data": {
      "text/plain": [
       "0       0.264\n",
       "1       0.264\n",
       "2       3.886\n",
       "3       3.886\n",
       "4       0.020\n",
       "        ...  \n",
       "1075    2.505\n",
       "1076    1.086\n",
       "1077    1.086\n",
       "1078    1.543\n",
       "1079    1.543\n",
       "Length: 1080, dtype: float64"
      ]
     },
     "execution_count": 25,
     "metadata": {},
     "output_type": "execute_result"
    }
   ],
   "source": [
    "import bluepy\n",
    "import bluepysnap\n",
    "def get_value_from_instance(row, value_key, a):\n",
    "    if isinstance(a.repo.simulations.df.iloc[0].simulation.instance, bluepy.simulation.Simulation):\n",
    "        if value_key == \"desired_connected_fr_key\":\n",
    "            return a.repo.simulations.df.etl.q(simulation_id=row.simulation_id).iloc[0].simulation.instance.config.Run[a.analysis_config.custom['desired_connected_fr_key'] + '_' + c_etl.bluepy_neuron_class_map[row.neuron_class]]\n",
    "        elif value_key == \"desired_unconnected_fr_key\":\n",
    "            return a.repo.simulations.df.etl.q(simulation_id=row.simulation_id).iloc[0].simulation.instance.config.Run[a.analysis_config.custom['desired_unconnected_fr_key'] + '_' + c_etl.bluepy_neuron_class_map[row.neuron_class]]\n",
    "        elif value_key == \"MeanPercent\":\n",
    "            return a.repo.simulations.df.etl.q(simulation_id=row.simulation_id).iloc[0].simulation.instance.config[\"Stimulus_\" + a.analysis_config.custom['depol_bc_key'] + '_' + map_to_use[row.neuron_class]]['MeanPercent']\n",
    "        elif value_key == \"SDPercent\":\n",
    "            return a.repo.simulations.df.etl.q(simulation_id=row.simulation_id).iloc[0].simulation.instance.config[\"Stimulus_\" + a.analysis_config.custom['depol_bc_key'] + '_' + map_to_use[row.neuron_class]]['SDPercent']\n",
    "\n",
    "    if isinstance(a.repo.simulations.df.iloc[0].simulation.instance, bluepysnap.simulation.Simulation):\n",
    "        if value_key == \"desired_connected_fr_key\":\n",
    "            return a.repo.simulations.df.etl.q(simulation_id=row.simulation_id).iloc[0].simulation.instance.config[a.analysis_config.custom['desired_connected_fr_key'] + '_' + c_etl.bluepy_neuron_class_map[row.neuron_class]]\n",
    "        elif value_key == \"desired_unconnected_fr_key\":\n",
    "            return a.repo.simulations.df.etl.q(simulation_id=row.simulation_id).iloc[0].simulation.instance.config[a.analysis_config.custom['desired_unconnected_fr_key'] + '_' + c_etl.bluepy_neuron_class_map[row.neuron_class]]\n",
    "        elif value_key == \"MeanPercent\":\n",
    "            return a.repo.simulations.df.etl.q(simulation_id=row.simulation_id).iloc[0].simulation.instance.config['inputs'][\"Stimulus \" + a.analysis_config.custom['depol_bc_key'] + '_' + map_to_use[row.neuron_class]]['MeanPercent']\n",
    "        elif value_key == \"SDPercent\":\n",
    "            return a.repo.simulations.df.etl.q(simulation_id=row.simulation_id).iloc[0].simulation.instance.config['inputs'][\"Stimulus \" + a.analysis_config.custom['depol_bc_key'] + '_' + map_to_use[row.neuron_class]]['SDPercent']\n",
    "\n",
    "        \n",
    "        \n",
    "# a.custom['custom_features_by_neuron_class'].apply(lambda row: get_value_from_instance(row, \"desired_connected_fr_key\", a), axis = 1).astype(float)\n",
    "# a.custom['custom_features_by_neuron_class'].apply(lambda row: get_value_from_instance(row, \"desired_unconnected_fr_key\", a), axis = 1).astype(float)\n",
    "\n",
    "# a.custom['custom_features_by_neuron_class'].apply(lambda row: get_value_from_instance(row, \"MeanPercent\", a), axis = 1).astype(float)\n",
    "map_to_use = c_etl.bluepy_neuron_class_map_2\n",
    "a.custom['custom_features_by_neuron_class'].apply(lambda row: get_value_from_instance(row, \"SDPercent\", a), axis = 1).astype(float)\n",
    "\n"
   ]
  },
  {
   "cell_type": "code",
   "execution_count": null,
   "metadata": {},
   "outputs": [],
   "source": [
    "a_hex0.repo.simulations.df.iloc[0].simulation.instance.config"
   ]
  },
  {
   "cell_type": "code",
   "execution_count": 2,
   "metadata": {},
   "outputs": [],
   "source": [
    "ma = c_etl.analysis_initial_processing(\"configs/0-UnconnectedScan/ConductanceCallibrationSSCxO1-Campaign1-UnconnectedScan-etl3.yaml\", loglevel=\"ERROR\")\n",
    "a_hex0 = ma.hex0_spikes"
   ]
  },
  {
   "cell_type": "code",
   "execution_count": 20,
   "metadata": {},
   "outputs": [
    {
     "data": {
      "text/plain": [
       "PosixPath('/gpfs/bbp.cscs.ch/project/proj83/home/isbister/physiology_2023/cortex_etl_output-etl3/0-UnconnectedScan/ConductanceCallibrationSSCxO1-Campaign1-UnconnectedScan/hex0_spikes')"
      ]
     },
     "execution_count": 20,
     "metadata": {},
     "output_type": "execute_result"
    }
   ],
   "source": [
    "a_hex0.analysis_config.output"
   ]
  },
  {
   "cell_type": "code",
   "execution_count": 5,
   "metadata": {},
   "outputs": [],
   "source": [
    "import numpy as np\n",
    "\n",
    "ng_and_sn_keys = {\"L1_INH\": \"Stimulus_gExc_L1\",\n",
    "                    \"L1_5HT3aR\": \"Stimulus_gExc_L1\",\n",
    "                  \n",
    "                    \"L23_EXC\": \"Stimulus_gExc_L23E\",\n",
    "                    \"L23_INH\": \"Stimulus_gExc_L23I\",\n",
    "                    \"L23_PV\": \"Stimulus_gExc_L23I\",\n",
    "                    \"L23_SST\": \"Stimulus_gExc_L23I\",\n",
    "                    \"L23_5HT3aR\": \"Stimulus_gExc_L23I\",\n",
    "                  \n",
    "                    \"L4_EXC\": \"Stimulus_gExc_L4E\",\n",
    "                    \"L4_INH\": \"Stimulus_gExc_L4I\",\n",
    "                    \"L4_PV\": \"Stimulus_gExc_L4I\",\n",
    "                    \"L4_SST\": \"Stimulus_gExc_L4I\",\n",
    "                    \"L4_5HT3aR\": \"Stimulus_gExc_L4I\",\n",
    "                  \n",
    "                    \"L5_EXC\": \"Stimulus_gExc_L5E\",\n",
    "                    \"L5_INH\": \"Stimulus_gExc_L5I\",\n",
    "                    \"L5_PV\": \"Stimulus_gExc_L5I\",\n",
    "                    \"L5_SST\": \"Stimulus_gExc_L5I\",\n",
    "                    \"L5_5HT3aR\": \"Stimulus_gExc_L5I\",\n",
    "                  \n",
    "                    \"L6_EXC\": \"Stimulus_gExc_L6E\",\n",
    "                    \"L6_INH\": \"Stimulus_gExc_L6I\",\n",
    "                    \"L6_PV\": \"Stimulus_gExc_L6I\",\n",
    "                    \"L6_SST\": \"Stimulus_gExc_L6I\",\n",
    "                    \"L6_5HT3aR\": \"Stimulus_gExc_L6I\"\n",
    "                 }\n",
    "\n",
    "neuron_classes = [\"L1_INH\", \"L1_5HT3aR\",\n",
    "                  \"L23_EXC\", \"L23_INH\", \"L23_PV\", \"L23_SST\", \"L23_5HT3aR\",\n",
    "                  \"L4_EXC\", \"L4_INH\", \"L4_PV\", \"L4_SST\", \"L4_5HT3aR\", \n",
    "                  \"L5_EXC\", \"L5_INH\", \"L5_PV\", \"L5_SST\", \"L5_5HT3aR\", \n",
    "                  \"L6_EXC\", \"L6_INH\", \"L6_PV\", \"L6_SST\", \"L6_5HT3aR\"]\n",
    "ca_key = \"ca\"; mean_key = \"mean\"; sd_key = \"stdev\"; seed_key = \"seed\"\n",
    "\n",
    "fr_df = a_hex0.features.by_neuron_class.df['mean_of_mean_firing_rates_per_second'].etl.q(window=\"unconn_2nd_half\").droplevel(['window']).reset_index()\n",
    "fr_df = fr_df.rename(columns={\"mean_of_mean_firing_rates_per_second\": \"data\"})\n",
    "\n",
    "fr_df[ca_key] = np.nan; fr_df[mean_key] = np.nan; fr_df[sd_key] = np.nan; fr_df[seed_key] = np.nan\n",
    "\n",
    "for fr_index, fr_row in fr_df.iterrows():\n",
    "    \n",
    "    ng_key = fr_row[\"neuron_class\"]    \n",
    "    if (ng_key in neuron_classes):\n",
    "        sn_key = ng_and_sn_keys[ng_key]\n",
    "\n",
    "        simulation_row = a_hex0.repo.simulations.df.reset_index().etl.q(simulation_id=fr_row['simulation_id']).iloc[0]\n",
    "        fr_df.loc[fr_index, mean_key] = float(simulation_row.simulation.instance.__dict__['config'][sn_key]['MeanPercent'])\n",
    "        fr_df.loc[fr_index, sd_key] = float(simulation_row.simulation.instance.__dict__['config'][sn_key]['SDPercent'])\n",
    "        fr_df.loc[fr_index, ca_key] = float(simulation_row.simulation.instance.__dict__['config']['Run_Default']['ExtracellularCalcium'])\n",
    "        fr_df.loc[fr_index, seed_key] = int(simulation_row.simulation.instance.__dict__['config']['Run_Default']['BaseSeed'])\n",
    "        \n",
    "\n",
    "fr_df = fr_df.etl.q(neuron_class=neuron_classes)\n"
   ]
  },
  {
   "cell_type": "code",
   "execution_count": 37,
   "metadata": {},
   "outputs": [],
   "source": [
    "a_hex0.analysis_config.custom\n",
    "fr_df.to_parquet(a_hex0.figpaths.root / a_hex0.analysis_config.custom['fr_df_name'])"
   ]
  },
  {
   "cell_type": "code",
   "execution_count": 29,
   "metadata": {},
   "outputs": [],
   "source": [
    "import pandas as pd\n",
    "import numpy as np\n",
    "import blueetl\n",
    "import bluepy\n",
    "# import sscx_calib\n",
    "from matplotlib import pyplot as plt\n",
    "from matplotlib import cm\n",
    "from matplotlib.cm import ScalarMappable\n",
    "import sys\n",
    "import seaborn as sns\n",
    "from matplotlib.ticker import MultipleLocator\n",
    "# from mpl_toolkits.axes_grid1 import make_axes_locatable\n",
    "from mpl_toolkits.axes_grid1.inset_locator import inset_axes\n",
    "from scipy.interpolate import griddata\n",
    "from matplotlib.colors import LinearSegmentedColormap\n",
    "from matplotlib.collections import LineCollection\n",
    "import matplotlib.patheffects as mpe\n",
    "\n",
    "data = fr_df\n",
    "\n",
    "neuron_classes = [\"L1_INH\", \"L1_5HT3aR\",\n",
    "                  \"L23_EXC\", \"L23_INH\", \"L23_PV\", \"L23_SST\", \"L23_5HT3aR\",\n",
    "                  \"L4_EXC\", \"L4_INH\", \"L4_PV\", \"L4_SST\", \"L4_5HT3aR\", \n",
    "                  \"L5_EXC\", \"L5_INH\", \"L5_PV\", \"L5_SST\", \"L5_5HT3aR\", \n",
    "                  \"L6_EXC\", \"L6_INH\", \"L6_PV\", \"L6_SST\", \"L6_5HT3aR\"]\n",
    "\n",
    "neuron_class_groups = [[\"\", \"\", \"\", \"L1_5HT3aR\"], \n",
    "                  [\"L23_EXC\", \"L23_PV\", \"L23_SST\", \"L23_5HT3aR\"],\n",
    "                  [\"L4_EXC\", \"L4_PV\", \"L4_SST\", \"L4_5HT3aR\"], \n",
    "                  [\"L5_EXC\", \"L5_PV\", \"L5_SST\", \"L5_5HT3aR\"], \n",
    "                  [\"L6_EXC\", \"L6_PV\", \"L6_SST\", \"L6_5HT3aR\"]]\n",
    "\n",
    "stim_type = \"COND\"\n",
    "\n",
    "in_vivo_neuron_class_map = {\n",
    "                        'L1_INH': 'L1I', 'L1_5HT3aR': 'L1I', \n",
    "    \n",
    "                        'L23_EXC': 'L23E', \n",
    "                        'L23_INH': 'L23I', 'L23_PV': 'L23I', 'L23_SST': 'L23I', 'L23_5HT3aR': 'L23I', \n",
    "    \n",
    "                        'L4_EXC': 'L4E', \n",
    "                        'L4_INH': 'L4I', 'L4_PV': 'L4I', 'L4_SST': 'L4I', 'L4_5HT3aR': 'L4I',\n",
    "                        \n",
    "                        'L5_EXC': 'L5E', \n",
    "                        'L5_INH': 'L5I', 'L5_PV': 'L5I', 'L5_SST': 'L5I', 'L5_5HT3aR': 'L5I',\n",
    "                        \n",
    "                        'L6_EXC': 'L6E', \n",
    "                        'L6_INH': 'L6I', 'L6_PV': 'L6I', 'L6_SST': 'L6I', 'L6_5HT3aR': 'L6I',\n",
    "                        }\n",
    "\n",
    "in_vivo_reference_frs = {\"L1I\": 1.500, \"L23E\": 0.070, \"L23I\": 0.961, \"L4E\": 0.619, \"L4I\": 1.184, \"L5E\": 1.252, \"L5I\": 2.357, \"L6E\": 0.248, \"L6I\": 1.500}\n",
    "\n",
    "mean_label = \"$OU_{\\mu}$\"\n",
    "sd_label = \"$OU_{\\sigma}$\"\n",
    "max_lim = 24.0\n",
    "\n",
    "def shared_axis_processing(ax, stim_type, mean_label, sd_label):\n",
    "    if (stim_type == \"COND\"):\n",
    "        ax.set_xlim([0.0, max_lim + 1.0])\n",
    "        ax.set_ylim([0.0, max_lim + 1.0])\n",
    "        ax.xaxis.set_major_locator(MultipleLocator(max_lim + 1.0))\n",
    "        ax.yaxis.set_major_locator(MultipleLocator(max_lim + 1.0))\n",
    "        ax.xaxis.set_minor_locator(MultipleLocator(5))\n",
    "        ax.yaxis.set_minor_locator(MultipleLocator(5))\n",
    "\n",
    "    ax.yaxis.tick_right()\n",
    "    ax.yaxis.set_label_position(\"right\")\n",
    "    ax.xaxis.labelpad = -9\n",
    "    ax.yaxis.labelpad = -11\n",
    "    ax.set_aspect('equal', 'box')\n",
    "    ax.spines.left.set_visible(False)\n",
    "    ax.spines.top.set_visible(False)\n",
    "\n",
    "    ax.set_xlabel(mean_label); ax.set_ylabel(sd_label)\n",
    "\n",
    "grid_x, grid_y = np.mgrid[1:max_lim:500j, 1:max_lim:500j]\n",
    "\n",
    "cmap = cm.cool\n",
    "\n",
    "data_to_use = data\n",
    "neuron_classes_to_use = neuron_classes\n",
    "\n",
    "fig, axes = plt.subplots(nrows=5, ncols=4, figsize=(3*4, 3*5))\n",
    "\n",
    "max_fr = data_to_use['data'].max()\n",
    "for row_ind, neuron_class_group in enumerate(neuron_class_groups):\n",
    "    \n",
    "    for col_ind, neuron_class in enumerate(neuron_class_group):\n",
    "        \n",
    "        ax = axes[row_ind][col_ind]\n",
    "        \n",
    "        if (neuron_class==''):\n",
    "            ax.axis('off')\n",
    "        else:\n",
    "            ng_data_for_plot = data_to_use.etl.q(ca=1.15, neuron_class=neuron_class)\n",
    "\n",
    "            ng_vivo_fr = in_vivo_reference_frs[in_vivo_neuron_class_map[neuron_class]]\n",
    "            lower_fr_lim = ng_vivo_fr *.01\n",
    "            upper_fr_lim = ng_vivo_fr*1.0\n",
    "            where_good = np.where((ng_data_for_plot[\"data\"] < upper_fr_lim) & (ng_data_for_plot[\"data\"] > lower_fr_lim))\n",
    "            where_out_of_range = np.where((ng_data_for_plot[\"data\"] > upper_fr_lim) | (ng_data_for_plot[\"data\"] < lower_fr_lim))\n",
    "\n",
    "            max_mean = ng_data_for_plot['mean'].max()\n",
    "            max_std = ng_data_for_plot['stdev'].max()\n",
    "\n",
    "            s=35\n",
    "\n",
    "            outside_in_vivo_ng_data =  ng_data_for_plot.iloc[where_out_of_range]\n",
    "            ax.scatter(outside_in_vivo_ng_data['mean'], outside_in_vivo_ng_data['stdev'], c=outside_in_vivo_ng_data['data'], cmap=cmap, s=s, linewidth=0.0, vmin=0.0, vmax=max_fr, alpha=0.5)\n",
    "\n",
    "            in_vivo_ng_data =  ng_data_for_plot.iloc[where_good]\n",
    "            ax.scatter(in_vivo_ng_data['mean'], in_vivo_ng_data['stdev'], c=in_vivo_ng_data['data'], cmap=cmap, s=s, linewidth=1, edgecolor='k', vmin=0.0, vmax=max_fr, alpha=0.5) \n",
    "\n",
    "            ax.set_title(neuron_class, pad=-100)\n",
    "\n",
    "            shared_axis_processing(ax, stim_type, mean_label, sd_label)\n",
    "\n",
    "norm = plt.Normalize(0.0, max_fr)\n",
    "sm =  ScalarMappable(norm=norm, cmap=cmap)\n",
    "sm.set_array([])\n",
    "\n",
    "axins = inset_axes(axes[0][0],\n",
    "            width=\"100%\",  \n",
    "            height=\"5%\",\n",
    "            # loc='center right',\n",
    "            loc='center',\n",
    "            borderpad=-5\n",
    "           )\n",
    "\n",
    "cbar = fig.colorbar(sm, cax=axins, orientation=\"horizontal\")\n",
    "cbar.set_label('FR (spikes/s)') # , rotation=270\n",
    "\n",
    "\n",
    "plt.savefig(a_hex0.afigpaths.root / 'UnconnectedFRGrid_ALL.pdf', bbox_inches='tight')\n",
    "plt.close()"
   ]
  },
  {
   "cell_type": "code",
   "execution_count": null,
   "metadata": {},
   "outputs": [],
   "source": []
  }
 ],
 "metadata": {
  "kernelspec": {
   "display_name": "cortex_etl_jupyter_04_01_23",
   "language": "python",
   "name": "cortex_etl_jupyter_04_01_23"
  },
  "language_info": {
   "codemirror_mode": {
    "name": "ipython",
    "version": 3
   },
   "file_extension": ".py",
   "mimetype": "text/x-python",
   "name": "python",
   "nbconvert_exporter": "python",
   "pygments_lexer": "ipython3",
   "version": "3.10.8"
  }
 },
 "nbformat": 4,
 "nbformat_minor": 4
}
